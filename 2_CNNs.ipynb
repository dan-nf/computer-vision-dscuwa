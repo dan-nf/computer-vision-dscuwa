{
 "cells": [
  {
   "cell_type": "code",
   "execution_count": 1,
   "metadata": {},
   "outputs": [
    {
     "name": "stderr",
     "output_type": "stream",
     "text": [
      "c:\\ProgramData\\miniconda3\\envs\\cv-demo\\lib\\site-packages\\tqdm\\auto.py:21: TqdmWarning: IProgress not found. Please update jupyter and ipywidgets. See https://ipywidgets.readthedocs.io/en/stable/user_install.html\n",
      "  from .autonotebook import tqdm as notebook_tqdm\n"
     ]
    }
   ],
   "source": [
    "import os\n",
    "\n",
    "import numpy as np\n",
    "import pandas as pd\n",
    "import plotly.express as px\n",
    "import plotly.graph_objects as go\n",
    "import shap\n",
    "import torch\n",
    "import torch.nn as nn\n",
    "import torch.nn.functional as F\n",
    "import torchvision\n",
    "import torchvision.transforms.functional as F_tv\n",
    "from plotly.subplots import make_subplots"
   ]
  },
  {
   "cell_type": "markdown",
   "metadata": {},
   "source": [
    "Installing pytorch can sometimes be a pain, depending on what hardware you're using.\n",
    "By default, this project only installs the CPU version of pytorch. To install an appropriate CUDA version (for use on a GPU), see https://pytorch.org/get-started/locally/ for more details.\n",
    "\n",
    "e.g. for windows: `pip3 install --upgrade torch torchvision --index-url https://download.pytorch.org/whl/cu126`"
   ]
  },
  {
   "cell_type": "code",
   "execution_count": 2,
   "metadata": {},
   "outputs": [],
   "source": [
    "# Parameters\n",
    "DEVICE = \"cuda\"  # cuda | cpu  <-- set model running on GPU vs CPU"
   ]
  },
  {
   "cell_type": "code",
   "execution_count": 3,
   "metadata": {},
   "outputs": [
    {
     "data": {
      "text/plain": [
       "(Dataset MNIST\n",
       "     Number of datapoints: 60000\n",
       "     Root location: c:\\Users\\firtd\\Documents\\Projects\\DSC UWA\\computer-vision-dscuwa\n",
       "     Split: Train,\n",
       " Dataset MNIST\n",
       "     Number of datapoints: 10000\n",
       "     Root location: c:\\Users\\firtd\\Documents\\Projects\\DSC UWA\\computer-vision-dscuwa\n",
       "     Split: Test)"
      ]
     },
     "execution_count": 3,
     "metadata": {},
     "output_type": "execute_result"
    }
   ],
   "source": [
    "# Download the MNIST handwritten digits dataset; 64 MB\n",
    "# torchvision.datasets.MNIST(root=os.getcwd(), download=True)\n",
    "\n",
    "# Load the MNIST dataset\n",
    "train_dataset = torchvision.datasets.MNIST(root=os.getcwd(), download=False, train=True)\n",
    "test_dataset = torchvision.datasets.MNIST(root=os.getcwd(), download=False, train=False)\n",
    "train_dataset, test_dataset"
   ]
  },
  {
   "cell_type": "markdown",
   "metadata": {},
   "source": [
    "#### **Data science is applying scientific thinking to problems which require use of large amounts of data.**\n",
    "The following steps form the basis of most data science projects, leaving out other \"soft\" skills like determining the correct problem, stakeholder engagement/communication, integrating the model(s) into the organisation / putting the model(s) into production.\n",
    "\n",
    "### 1. Data Exploration. Look at your data.\n",
    "Understand what trends, relationships, issues, etc. there may be within your dataset."
   ]
  },
  {
   "cell_type": "code",
   "execution_count": 4,
   "metadata": {},
   "outputs": [
    {
     "data": {
      "application/vnd.plotly.v1+json": {
       "config": {
        "plotlyServerURL": "https://plot.ly"
       },
       "data": [
        {
         "coloraxis": "coloraxis",
         "hovertemplate": "x: %{x}<br>y: %{y}<br>color: %{z}<extra></extra>",
         "name": "0",
         "type": "heatmap",
         "xaxis": "x",
         "yaxis": "y",
         "z": {
          "bdata": "AAAAAAAAAAAAAAAAAAAAAAAAAAAAAAAAAAAAAAAAAAAAAAAAAAAAAAAAAAAAAAAAAAAAAAAAAAAAAAAAAAAAAAAAAAAAAAAAAAAAAAAAAAAAAAAAAAAAAAAAAAAAAAAAAAAAAAAAAAAAAAAAAAAAAAAAAAAAAAAAAAAAAAAAAAAAAAAAAAAAAAAAAAAAAAAAAAAAAAAAAAAAAAAAAAAAAAAAAAAAAAAAAAAAAAAAAAAAAAAAAAAAAAAAAAAAAAAAAAAAAAAAAAAAAAAAAAAAAAAAAAAAAAAAAAAAAAAAAAAAAAAAAAAAAAAAAAAAAHl58P3aeXksAAAAAAAAAAAAAAAAAAAAABFruPD9/Pz8/Pz82wAAAAAAAAAAAAAAAAAAS3rm/Pz8/fz8/Pz8/O84AAAAAAAAAAAAAE2B1fT8/Pz8/P38/NH8/PzhAAAAAAAAAAAAAADw/Pz8/Pz81bk1NTVZ/Pz8eAAAAAAAAAAAAAAA8OjGXaRsQhwAAAAAUfz83hgAAAAAAAAAAAAAAEwyAAAAAAAAAAAAAKv882wAAAAAAAAAAAAAAAAAAAAAAAAAAAAAAJDu/HMAAAAAAAAAAAAAAAAAAAAAAAAAAAAAB0bx+IUcAAAAAAAAAAAAAAAAAAAAAAAAAAAAAHn8/KwAAAAAAAAAAAAAAAAAAAAAAAAAAAAAAED//dEVAAAAAAAAAAAAAAAAAAAAAAAAAAAAAA32/c8VAAAAAAAAAAAAAAAAAAAAAAAAAAAAAAqs/NFcAAAAAAAAAAAAAAAAAAAAAAAAAAAAAA2o/PxcAAAAAAAAAAAAAAAAAAAAAAAAAAAAACvQ/PE1AAAAAAAAAAAAAAAAAAAAAAAAAAAAAA+m/Mw+AAAAAAAAAAAAAAAAAAAAAAAAAAAAAA2m878dAAAAAAAAAAAAAAAAAAAAAAAAAAAAAAqo57EAAAAAAAAAAAAAAAAAAAAAAAAAAAAAAAas8TIAAAAAAAAAAAAAAAAAAAAAAAAAAAAAAACxyhMAAAAAAAAAAAAAAAAAAAAAAAAAAA==",
          "dtype": "u1",
          "shape": "28, 28"
         }
        }
       ],
       "layout": {
        "coloraxis": {
         "colorscale": [
          [
           0,
           "#0d0887"
          ],
          [
           0.1111111111111111,
           "#46039f"
          ],
          [
           0.2222222222222222,
           "#7201a8"
          ],
          [
           0.3333333333333333,
           "#9c179e"
          ],
          [
           0.4444444444444444,
           "#bd3786"
          ],
          [
           0.5555555555555556,
           "#d8576b"
          ],
          [
           0.6666666666666666,
           "#ed7953"
          ],
          [
           0.7777777777777778,
           "#fb9f3a"
          ],
          [
           0.8888888888888888,
           "#fdca26"
          ],
          [
           1,
           "#f0f921"
          ]
         ]
        },
        "margin": {
         "t": 60
        },
        "template": {
         "data": {
          "bar": [
           {
            "error_x": {
             "color": "#2a3f5f"
            },
            "error_y": {
             "color": "#2a3f5f"
            },
            "marker": {
             "line": {
              "color": "#E5ECF6",
              "width": 0.5
             },
             "pattern": {
              "fillmode": "overlay",
              "size": 10,
              "solidity": 0.2
             }
            },
            "type": "bar"
           }
          ],
          "barpolar": [
           {
            "marker": {
             "line": {
              "color": "#E5ECF6",
              "width": 0.5
             },
             "pattern": {
              "fillmode": "overlay",
              "size": 10,
              "solidity": 0.2
             }
            },
            "type": "barpolar"
           }
          ],
          "carpet": [
           {
            "aaxis": {
             "endlinecolor": "#2a3f5f",
             "gridcolor": "white",
             "linecolor": "white",
             "minorgridcolor": "white",
             "startlinecolor": "#2a3f5f"
            },
            "baxis": {
             "endlinecolor": "#2a3f5f",
             "gridcolor": "white",
             "linecolor": "white",
             "minorgridcolor": "white",
             "startlinecolor": "#2a3f5f"
            },
            "type": "carpet"
           }
          ],
          "choropleth": [
           {
            "colorbar": {
             "outlinewidth": 0,
             "ticks": ""
            },
            "type": "choropleth"
           }
          ],
          "contour": [
           {
            "colorbar": {
             "outlinewidth": 0,
             "ticks": ""
            },
            "colorscale": [
             [
              0,
              "#0d0887"
             ],
             [
              0.1111111111111111,
              "#46039f"
             ],
             [
              0.2222222222222222,
              "#7201a8"
             ],
             [
              0.3333333333333333,
              "#9c179e"
             ],
             [
              0.4444444444444444,
              "#bd3786"
             ],
             [
              0.5555555555555556,
              "#d8576b"
             ],
             [
              0.6666666666666666,
              "#ed7953"
             ],
             [
              0.7777777777777778,
              "#fb9f3a"
             ],
             [
              0.8888888888888888,
              "#fdca26"
             ],
             [
              1,
              "#f0f921"
             ]
            ],
            "type": "contour"
           }
          ],
          "contourcarpet": [
           {
            "colorbar": {
             "outlinewidth": 0,
             "ticks": ""
            },
            "type": "contourcarpet"
           }
          ],
          "heatmap": [
           {
            "colorbar": {
             "outlinewidth": 0,
             "ticks": ""
            },
            "colorscale": [
             [
              0,
              "#0d0887"
             ],
             [
              0.1111111111111111,
              "#46039f"
             ],
             [
              0.2222222222222222,
              "#7201a8"
             ],
             [
              0.3333333333333333,
              "#9c179e"
             ],
             [
              0.4444444444444444,
              "#bd3786"
             ],
             [
              0.5555555555555556,
              "#d8576b"
             ],
             [
              0.6666666666666666,
              "#ed7953"
             ],
             [
              0.7777777777777778,
              "#fb9f3a"
             ],
             [
              0.8888888888888888,
              "#fdca26"
             ],
             [
              1,
              "#f0f921"
             ]
            ],
            "type": "heatmap"
           }
          ],
          "histogram": [
           {
            "marker": {
             "pattern": {
              "fillmode": "overlay",
              "size": 10,
              "solidity": 0.2
             }
            },
            "type": "histogram"
           }
          ],
          "histogram2d": [
           {
            "colorbar": {
             "outlinewidth": 0,
             "ticks": ""
            },
            "colorscale": [
             [
              0,
              "#0d0887"
             ],
             [
              0.1111111111111111,
              "#46039f"
             ],
             [
              0.2222222222222222,
              "#7201a8"
             ],
             [
              0.3333333333333333,
              "#9c179e"
             ],
             [
              0.4444444444444444,
              "#bd3786"
             ],
             [
              0.5555555555555556,
              "#d8576b"
             ],
             [
              0.6666666666666666,
              "#ed7953"
             ],
             [
              0.7777777777777778,
              "#fb9f3a"
             ],
             [
              0.8888888888888888,
              "#fdca26"
             ],
             [
              1,
              "#f0f921"
             ]
            ],
            "type": "histogram2d"
           }
          ],
          "histogram2dcontour": [
           {
            "colorbar": {
             "outlinewidth": 0,
             "ticks": ""
            },
            "colorscale": [
             [
              0,
              "#0d0887"
             ],
             [
              0.1111111111111111,
              "#46039f"
             ],
             [
              0.2222222222222222,
              "#7201a8"
             ],
             [
              0.3333333333333333,
              "#9c179e"
             ],
             [
              0.4444444444444444,
              "#bd3786"
             ],
             [
              0.5555555555555556,
              "#d8576b"
             ],
             [
              0.6666666666666666,
              "#ed7953"
             ],
             [
              0.7777777777777778,
              "#fb9f3a"
             ],
             [
              0.8888888888888888,
              "#fdca26"
             ],
             [
              1,
              "#f0f921"
             ]
            ],
            "type": "histogram2dcontour"
           }
          ],
          "mesh3d": [
           {
            "colorbar": {
             "outlinewidth": 0,
             "ticks": ""
            },
            "type": "mesh3d"
           }
          ],
          "parcoords": [
           {
            "line": {
             "colorbar": {
              "outlinewidth": 0,
              "ticks": ""
             }
            },
            "type": "parcoords"
           }
          ],
          "pie": [
           {
            "automargin": true,
            "type": "pie"
           }
          ],
          "scatter": [
           {
            "fillpattern": {
             "fillmode": "overlay",
             "size": 10,
             "solidity": 0.2
            },
            "type": "scatter"
           }
          ],
          "scatter3d": [
           {
            "line": {
             "colorbar": {
              "outlinewidth": 0,
              "ticks": ""
             }
            },
            "marker": {
             "colorbar": {
              "outlinewidth": 0,
              "ticks": ""
             }
            },
            "type": "scatter3d"
           }
          ],
          "scattercarpet": [
           {
            "marker": {
             "colorbar": {
              "outlinewidth": 0,
              "ticks": ""
             }
            },
            "type": "scattercarpet"
           }
          ],
          "scattergeo": [
           {
            "marker": {
             "colorbar": {
              "outlinewidth": 0,
              "ticks": ""
             }
            },
            "type": "scattergeo"
           }
          ],
          "scattergl": [
           {
            "marker": {
             "colorbar": {
              "outlinewidth": 0,
              "ticks": ""
             }
            },
            "type": "scattergl"
           }
          ],
          "scattermap": [
           {
            "marker": {
             "colorbar": {
              "outlinewidth": 0,
              "ticks": ""
             }
            },
            "type": "scattermap"
           }
          ],
          "scattermapbox": [
           {
            "marker": {
             "colorbar": {
              "outlinewidth": 0,
              "ticks": ""
             }
            },
            "type": "scattermapbox"
           }
          ],
          "scatterpolar": [
           {
            "marker": {
             "colorbar": {
              "outlinewidth": 0,
              "ticks": ""
             }
            },
            "type": "scatterpolar"
           }
          ],
          "scatterpolargl": [
           {
            "marker": {
             "colorbar": {
              "outlinewidth": 0,
              "ticks": ""
             }
            },
            "type": "scatterpolargl"
           }
          ],
          "scatterternary": [
           {
            "marker": {
             "colorbar": {
              "outlinewidth": 0,
              "ticks": ""
             }
            },
            "type": "scatterternary"
           }
          ],
          "surface": [
           {
            "colorbar": {
             "outlinewidth": 0,
             "ticks": ""
            },
            "colorscale": [
             [
              0,
              "#0d0887"
             ],
             [
              0.1111111111111111,
              "#46039f"
             ],
             [
              0.2222222222222222,
              "#7201a8"
             ],
             [
              0.3333333333333333,
              "#9c179e"
             ],
             [
              0.4444444444444444,
              "#bd3786"
             ],
             [
              0.5555555555555556,
              "#d8576b"
             ],
             [
              0.6666666666666666,
              "#ed7953"
             ],
             [
              0.7777777777777778,
              "#fb9f3a"
             ],
             [
              0.8888888888888888,
              "#fdca26"
             ],
             [
              1,
              "#f0f921"
             ]
            ],
            "type": "surface"
           }
          ],
          "table": [
           {
            "cells": {
             "fill": {
              "color": "#EBF0F8"
             },
             "line": {
              "color": "white"
             }
            },
            "header": {
             "fill": {
              "color": "#C8D4E3"
             },
             "line": {
              "color": "white"
             }
            },
            "type": "table"
           }
          ]
         },
         "layout": {
          "annotationdefaults": {
           "arrowcolor": "#2a3f5f",
           "arrowhead": 0,
           "arrowwidth": 1
          },
          "autotypenumbers": "strict",
          "coloraxis": {
           "colorbar": {
            "outlinewidth": 0,
            "ticks": ""
           }
          },
          "colorscale": {
           "diverging": [
            [
             0,
             "#8e0152"
            ],
            [
             0.1,
             "#c51b7d"
            ],
            [
             0.2,
             "#de77ae"
            ],
            [
             0.3,
             "#f1b6da"
            ],
            [
             0.4,
             "#fde0ef"
            ],
            [
             0.5,
             "#f7f7f7"
            ],
            [
             0.6,
             "#e6f5d0"
            ],
            [
             0.7,
             "#b8e186"
            ],
            [
             0.8,
             "#7fbc41"
            ],
            [
             0.9,
             "#4d9221"
            ],
            [
             1,
             "#276419"
            ]
           ],
           "sequential": [
            [
             0,
             "#0d0887"
            ],
            [
             0.1111111111111111,
             "#46039f"
            ],
            [
             0.2222222222222222,
             "#7201a8"
            ],
            [
             0.3333333333333333,
             "#9c179e"
            ],
            [
             0.4444444444444444,
             "#bd3786"
            ],
            [
             0.5555555555555556,
             "#d8576b"
            ],
            [
             0.6666666666666666,
             "#ed7953"
            ],
            [
             0.7777777777777778,
             "#fb9f3a"
            ],
            [
             0.8888888888888888,
             "#fdca26"
            ],
            [
             1,
             "#f0f921"
            ]
           ],
           "sequentialminus": [
            [
             0,
             "#0d0887"
            ],
            [
             0.1111111111111111,
             "#46039f"
            ],
            [
             0.2222222222222222,
             "#7201a8"
            ],
            [
             0.3333333333333333,
             "#9c179e"
            ],
            [
             0.4444444444444444,
             "#bd3786"
            ],
            [
             0.5555555555555556,
             "#d8576b"
            ],
            [
             0.6666666666666666,
             "#ed7953"
            ],
            [
             0.7777777777777778,
             "#fb9f3a"
            ],
            [
             0.8888888888888888,
             "#fdca26"
            ],
            [
             1,
             "#f0f921"
            ]
           ]
          },
          "colorway": [
           "#636efa",
           "#EF553B",
           "#00cc96",
           "#ab63fa",
           "#FFA15A",
           "#19d3f3",
           "#FF6692",
           "#B6E880",
           "#FF97FF",
           "#FECB52"
          ],
          "font": {
           "color": "#2a3f5f"
          },
          "geo": {
           "bgcolor": "white",
           "lakecolor": "white",
           "landcolor": "#E5ECF6",
           "showlakes": true,
           "showland": true,
           "subunitcolor": "white"
          },
          "hoverlabel": {
           "align": "left"
          },
          "hovermode": "closest",
          "mapbox": {
           "style": "light"
          },
          "paper_bgcolor": "white",
          "plot_bgcolor": "#E5ECF6",
          "polar": {
           "angularaxis": {
            "gridcolor": "white",
            "linecolor": "white",
            "ticks": ""
           },
           "bgcolor": "#E5ECF6",
           "radialaxis": {
            "gridcolor": "white",
            "linecolor": "white",
            "ticks": ""
           }
          },
          "scene": {
           "xaxis": {
            "backgroundcolor": "#E5ECF6",
            "gridcolor": "white",
            "gridwidth": 2,
            "linecolor": "white",
            "showbackground": true,
            "ticks": "",
            "zerolinecolor": "white"
           },
           "yaxis": {
            "backgroundcolor": "#E5ECF6",
            "gridcolor": "white",
            "gridwidth": 2,
            "linecolor": "white",
            "showbackground": true,
            "ticks": "",
            "zerolinecolor": "white"
           },
           "zaxis": {
            "backgroundcolor": "#E5ECF6",
            "gridcolor": "white",
            "gridwidth": 2,
            "linecolor": "white",
            "showbackground": true,
            "ticks": "",
            "zerolinecolor": "white"
           }
          },
          "shapedefaults": {
           "line": {
            "color": "#2a3f5f"
           }
          },
          "ternary": {
           "aaxis": {
            "gridcolor": "white",
            "linecolor": "white",
            "ticks": ""
           },
           "baxis": {
            "gridcolor": "white",
            "linecolor": "white",
            "ticks": ""
           },
           "bgcolor": "#E5ECF6",
           "caxis": {
            "gridcolor": "white",
            "linecolor": "white",
            "ticks": ""
           }
          },
          "title": {
           "x": 0.05
          },
          "xaxis": {
           "automargin": true,
           "gridcolor": "white",
           "linecolor": "white",
           "ticks": "",
           "title": {
            "standoff": 15
           },
           "zerolinecolor": "white",
           "zerolinewidth": 2
          },
          "yaxis": {
           "automargin": true,
           "gridcolor": "white",
           "linecolor": "white",
           "ticks": "",
           "title": {
            "standoff": 15
           },
           "zerolinecolor": "white",
           "zerolinewidth": 2
          }
         }
        },
        "xaxis": {
         "anchor": "y",
         "constrain": "domain",
         "domain": [
          0,
          1
         ],
         "scaleanchor": "y"
        },
        "yaxis": {
         "anchor": "x",
         "autorange": "reversed",
         "constrain": "domain",
         "domain": [
          0,
          1
         ]
        }
       }
      }
     },
     "metadata": {},
     "output_type": "display_data"
    }
   ],
   "source": [
    "# View the images\n",
    "px.imshow(train_dataset[91][0])\n",
    "# px.imshow(train_dataset[100][0])"
   ]
  },
  {
   "cell_type": "code",
   "execution_count": 5,
   "metadata": {},
   "outputs": [
    {
     "data": {
      "application/vnd.plotly.v1+json": {
       "config": {
        "plotlyServerURL": "https://plot.ly"
       },
       "data": [
        {
         "bingroup": "x",
         "hovertemplate": "dataset=train<br>target=%{x}<br>count=%{y}<extra></extra>",
         "legendgroup": "train",
         "marker": {
          "color": "#636efa",
          "opacity": 0.5,
          "pattern": {
           "shape": ""
          }
         },
         "name": "train",
         "orientation": "v",
         "showlegend": true,
         "type": "histogram",
         "x": {
          "bdata": "BQAEAQkCAQMBBAMFAwYBBwIIBgkEAAkBAQIEAwIHAwgGCQAFBgAHBgEIBwkDCQgFCQMDAAcECQgACQQBBAQGAAQFBgEAAAEHAQYDAAIBAQcJAAIGBwgDCQAEBgcEBggABwgDAQUHAQcBAQYDAAIJAwEBAAQJAgAAAgACBwEIBgQBBgMEBQkBAwMIBQQHBwQCCAUIBgcDBAYBCQkGAAMHAggCCQQEBgQJBwAJAgkFAQUJAQIDAgMFCQEHBgIIAgIFAAcECQcIAwIBAQgDBgEAAwEAAAEHAgcDAAQGBQIGBAcBCAkJAwAHAQACAAMFBAYFCAYDBwUIAAkBAAMBAgIDAwYEBwUABgIHCQgFCQIBAQQEBQYEAQIFAwkDCQAFCQYFBwQBAwQABAgABAMGCAcGAAkHBQcCAQEGCAkEAQUCAgkAAwkGBwIAAwUEAwYFCAkFBAcEAgcDBAgJAQkCCAcJAQgHBAEDAQEAAgMJBAkCAQYIBAcHBAQJAgUHAgQEAgEJBwIIBwYJAgIDCAEGBQEBAAIGBAUIAwEFAQkCBwQEBAgBBQgJBQYHCQkDBwAJAAYGAgMJAAcFBAgACQQBAggHAQIGAQADAAEBCAIAAwkEAAUABgEHBwgBCQIABQECAgcDBQQJBwEIAwkGAAMBAQIGAwUHBggDCQUIBQcGAQEDAQcFBQUCBQgHAAkHBwUACQAACAkCBAgBBgEGBQEIAwQABQUIAwYCAwkCAQEFAgEDAggHAwcCBAYJBwIEAggBAQMIBAAGBQkDAAkCBAcBAgkEAgYBCAkABgYHCQkIAAEEBAYHAQUHAAMFCAQHAQIFCQUGBwUJCAgDBgkHAAcFBwEBAAcJAgMHAwIEAQYCBwUFBwQAAgYDBgQABAIGAAAAAAMBBgICAwEEAQUEBgQHAggHCQIABQEEAggDAgQBBQQGAAcJCAQJCAABAQACAgMCBAQFCAYFBwcICAkHBAcDAgAIBggGAQYICQQACQAEAQUEBwUDBwQJCAUIBgMIBgkJAQgDBQgGBQkHAgUACAUBAQAJAQgGBwAJAwAICAkGBwgEBwUJAgYHBAUJAgMBBgMJAgIFBggABwcBCQgHAAkJBAYCCAUBBAEFBQEHAwYEAwIFBgQEAAQEBgcCBAMDCAAAAwICCQgCAwcAAQEAAgMDCAQDBQcGBAcHCAUJBwADAQYCBAMEBAcFCQYJAAcBBAIHAwYHBQgEBQUCBwEBBQYIBQgEAAcJCQIJBwcIBwQCBgkBBwAGBAIFBwAHAQADBwYFAAYBBQEHCAUAAwQHBwUHCAYJAwgGAQAJBwEDAAUGBAQCBAQDAQcHBgADBgAHAQEECQQDBAgCAgEIBwAIAQAHBgMHBwUICAkAAAQBBQICAwkECQUABgcHAQgAAgIABAEBAgcDCQcCCAEJBQgIAQkIAwEGBQcEAgcAAwAEAQEHCQEBCAUHBQAGBgAEAQIDBAQGCAAJBQgHAAMFBAUJBgcBCQYBAwgDCQECBwcHAAIDAQEEAgUGAAkGAggJAgMDBgkBBAMDAAcHAQcHAwYECQUEBAIHCQAJCAQECQECBAkDAAQBBgIGAwcEAgYGBwEICQAEAQQCAQMGBAYHBQgHAAUBBAIIBAcHAwgECQUIBgcDBAYHAQcEAwMJCAgBCAYDAQEDBQIIBAIJBwEECAIJBgQBAwQCBQIFBggABgIECQQJBAUBBQgEBwkFCQUJAQUIAwkJAQgDCAYFAgcCBwYACQcJBAYABQMFBwMJAwYIAwEHBgUFBwYFCAIBBwkCBwMGBwgFAwcHCAQABwMABgMJBwEJBQMGAAkCCAAJAQYAAAEJAAAEAgEHAAMEBAcFCQgCAAAIBgICBwYBAgkCBgkHCQUACAEFAgQDCQQHBQYGBwcGCAUJBwAGAQkCAwMFBAMFCAYDBwIIBAkFAAIBBAIEAwEHAQgACQYIAQkEBAkBCAkGBQUDAwABBAMIAwQCAAcFBQEIBQMEBgAFBwIGBgABAQQHCQAABgYIBgkEBQIEAAcFBgUACQgGAQkHBQcFAQEDAAIAAwgBBgQGAgYECAgBBAQHAQICAwkGBAkFBgIDCQIGAgcEAwYECQcAAgIJBQQFAAEEAwYDAgkHBQMHAAkFCAMCAAEIAwABAgMEAAABBwIJAwkEAgUIBgcHCQgJCQIAAAEEAgQDCQQDBQcGBQcBCAYJAwAEAQICBQMHBAEHBwgBCQIDAgQAAQgEAwYFBgQHCQMBAwACAQEACQkEBgcGAwUFBAQGCQEBAwEBAAUBBAQGBgYAAQIACAICAQEDBwkFAwACAAYCCQAHBgkJAQIJAwQHCQYACQQIBwcJCAYJBQICAgMJCAgIBgQEBAQCBAYABwAHCAIACAgDBggGBggGBQEBCAcIAwYICQUAAAADAgYGBwgDBQEEAwUJBAUEAQEFBAAJBwECBQcJBAADBgEHBwUGAwABAQQCBAMGBAcFBwYJBwIIBAkIAAcBAQIDAwUEBgUABgMHAwgCCQAACQECAgkDCQQGBQIGBgcGCAIJAgAGBwIIBgkACQYAAwEBBAkFCAEABgYHAgMEAgMJAAAEBQAGBAcEAwEJAwkJAwEIBwEHAggJCQYCBwIFAAYHAwkFCQAIBQgECQAFAwIECAcEAQUEBgMHBwkGBgICAQYFBAUDAAUFAgAFCAgEAgYJBwEAAgMBCAcBCAIHAgYDAgMHBggHBQMIBAQJBAYEBQUBAQkDCAYBBAEHBQQABAIHBwUIAAYJBgYIBwIACAgECAQEAgMCAwgCAAUAAAEAAgEDAwQHBQMGAQcGCAMJAAAHAQICBAMHBAEFAAYDBwkIBwkFAAEBCAIGAwMEAwUDBwEIAQkGCAkJBwUABwMABgMIAQYGAQgGBAYBAAcBBgQFAQYHBAgCBQcDCAQBBgMDBAUDAgQFBwECBAAABQgABgEBCQMCAQMEAgQDBAUIBQYHBggJBAAJBAkEBwQBBgEDBwMIAwMCBAQIBwYEAwYIBwAHCQUGBQIDAAQBBAAFBgECBgMECAUJBQACBwUCCQMEBAAFAgUFAgkIAwUCBAQGBwYEBgYHAAkGAQgIBQIBAQUCAAYJBQIDAQQBBwYJAgQGAAEABQUFCQIABAEBAgQDAAQCBQcGAgcHCAMJAAACAQECCAMEBAEFCQYBBwUICQkGAAEBBwIIAwcHCAgICQcGCAIEBwQBCAUABgkCCAUCAAAFBAQDAgEABQgFAQQHAgEECAYDBAgBBwUBAwcBBwkAAAEJBAAECAQIBQEHAQQCBAQJAgcDAgQGCQUBAwIJBAQDAwYJAgAGCAgHBQYGAwgABAQGBgcDBAcHAAYBBgEGAgAJBwMGAQMIAgkCCAcCCQUGAgIGBAkHBgMAAAUAAwEDAAYCAwMFAAAHAwQHBQYEAQQFAgUBCQUIBgAHCQQACQEDAgUDAwQGBQEGBwcHCAQJAwAAAQACAAMGBAYHBQgBCQQACAEJAgYDAQUABgQHCAgHCQYAAQAHAQUABQEAAgIDCAABBgMJBwYIBgYFCQIACQYBBQQCCQcFAwcBBQYGBwcDAwYBAgQHAQgDAgMIBwUDBwkICAYICAgCCAQIAQQFBwECAgEJCQUIAgcJCQcDBwMBAAYHCQUCBAEBAAEDAgkGBAEDBQkAAQEEAgMDAAQCBQMGBAcFAAABAgIHAwcEBwUGBgUHAwgBCQkABwEIAgADBAQDBQEGBwkFCAACAQYDCQMGAgECCQEJAwkJBAQEAgMJCAABBAQIAQICBwkDAAMEAwkGAQIHAAQGBAEBBAgDBwYGAgACCAgBBwgCAgcGBgIHAQACBAUBBAkFBgYABwIHBQUBAwEABAIBAgECBgcAAwYFAwIEAQAEAgQBAwQABgAFCAQHAAMBAQIHBgkFBgADBQMBAAEFBAYJBgMIBQcGAwEFCQACAQECCAMIBAAFBQYFBwcIAAkGAAkBCAIDAwQEAwUFBgUHAQgICQAAAgEGAgcDBwQHBwcIAQkECAYFAQcACQEFCQAICAEDAgUHBAcIAAMIAAACBAEJAAkCAAUICAgICQUIAwMABgQEBAgBAgYJAQYDAwAGAwQGAgkEAwYHBwQFCQIHCAABCQEEBAgEAwkCAgcBBwgJCQUIBwQGCQQECAgJBgYGCQQEAgEJAgAAAwYEAQIBCAYHBAUIAQkBBgMEBQYABQEAAQICAAYFBAYHBQIACAEJAggBAwcICAgBAgQIAwACBwgJAgIHCAkFAwYJAwACAQMCBQMEBAQFCQYFBwkIAwkEAAgBAAICAwkEBQUHBgIHBwgBAAcDBQQEBQMGBAcCCAEJBwYBAAkDAQQHAQkEBAACCAIGBwAABwcIBwcIBwkJAwAEBAAJAwkFBwYABwUBCAIFBwkECAQIBwcJBQAGBgUEAwkIBgEJBgcIAgUJCQICAQICAAkJBAIDBAkHAwMDAQkDBwYFBgACBgEDAgQGAwAIAgQCAgcBAQkDCQcEBAQICAkFAgMJBAUCBgYIBgAHAAQJBwEJAQAABQEBAgkDBQUDBgQJAgAGAQECAAMJBAMFAwYDBwEIBwAAAQECCQMFBAEFCAYDBwMIBwEHAAEBCAUAAwQECAQBAAcAAgYICQcGBAYDBQYEAQQEBAMAAwcBCQMFAQcCAwMBBgQIBAEACAkICQQGAgEBCAADAAgHCAQIBwgFCAgEBAcJBwkBCQkICAAHAAgHCQYDBwMGBQgFCQAGBwEJAAUCBgcFAQADBgkBAQQEAQMBAwIICAcCBQYBAQAFAgAJAQACCAMGBAIFAwYCBwUIAgkIAAYBCQIAAwEBCQUDBgkHCAgBAAEBAwIEAwAEAAUDBggHBwgHCQAGBAQDAgEGCAQABwUFCQUFBAcHAggBCQYCBQkGAwQJBgMDCAgCAgAJCQgIBAAEBQMGAgADAQIACQICBQUDAwUEAwgICAAHAAQFCQQAAwYEAAEJBQYDBAACCAIDAQAEBgcCAAcCAQQBBggHAQgHBAEAAwYIBAQDAgkACAkJBwIGBwcFBAMBAwYBCAkECAEGAggGBQcJAQYJBggAAAAGBwkHBAkJCQkHBgcCCAMGBwkBBwIBBQEDBwcACAYAAwEDAgYDCAQJBQYGAQcDCAIJBAACAQUCCQMCBAQFBwYIBwMIBwkCAAEBCQIHAwYEBgUFBgQHBQgICQcGBQIIBgkFAAQBAgIAAAgAAQIHAAECCAgDBwcAAQEHAQECBAkEAAUGBwYECQkHBwcCCAYDBQUDAgkBCQgAAggGBwIJBgADBgcDBwAFBAQGBwMGBwYAAQEBBAgIBggBAQACAQkIAwkBBQQFAggJBAgCAgkIBAYICQUCBAkHBgYDAQMJBgcDAAEFAggFAAABAwEBAQUCBQYJBwgDAAcJCQACAQYCCQMHBAgFBAYIBwcIAAkHAAUBCQIIAwYECQUIBgkHBQgBCQEAAwEBAgYDBwQFBQYGAgcACAgJAgYEAQYJCQkDCQIECQQIAwQIBQEABAABBgIGBQQABwkJBQEDCQAJBAUJAQEHBwQEBQQDAQMIAQcABgIABAgIAQYIAQIDBgMCCQABCQEBBwIBBQUEBgUEBwQHCAUEAwQAAgIFAgECBgcBAwUBBQQDBAYDBwABAAIECQcCCQYHAggGCAAHAAkABgkDBAEHBwQJAgYGAwMDAwEDAAQCBwYJAAMFAQYDBgQIBwcDAwgFCQgDAwQABwEGAgADCAcECAMJAgAHAwgEAAcBCAAABQEEAgEDBwQHBQEGBQcFCAkJCAUAAQUJBgkABwQBCQACCQgABwUDCQcHBwEHAwQGBwMAAgMAAAkEAAgGCQEDBwcCAAgHAwYECQcGBgcGCQMIAgcDAAgFCQkEAggECAgHBAEIAAEIBgcHBwcFAgkDAgYDBgEEAQYEBAUBBQIABQQDCAEHBwQFCQYCAgMGBgcECAEEAgQECAECBQABAgkIAwUCBwAEAAkCBwkEAwUGBAAJAQgCAQMHBAIFAgYHBwUICAkBAAEBAAIDAwEEBAUABgQHAAgBCQEAAwEDAgMDAwQCBQcGAgcGCAQJAQgGAAcFBwYABgEABggEAAQCAgMJBwYJBwQCBwMBAQkAAQUHBgEFAAQAAQQJAQMHBgUCBwIBCAMIAwgDAwEGBgAJBQcHBAkDBQAIAgUFAQIHBgkAAAgCCQYEBQMEBQcEBggFAQAFBAkDAAkGAwQIBgQIAwEGBAAHAQUCBwICAgIIAAEAAAEDBwYHAgkCBQUJCQgFCQcGAwgBCAkCBwMABggBAAIACQkICAkDBQECCAYIAgYEBQgCBAEGAQUGAAIBAgIAAwkEAgUGBwcIBQAEAQYCBwMDBAAFAwYDBwAIBAkAAAEBBQIJAwAEBAcFCAMBAQYBCAQJBgkBAAcBAAIGBAQEBAMHBwUECQQBBAMABwMECAQHBgUECAACBwEDBwEJBAEIAQkGBgIFAQQDCQgJBgYECQkHBAgCAwQEBAcGBwIFBQIFCAADAgAIAAACBgcICAEIBwMBAwYDBwAGAQgEBwcEAwkCAwYDAQUGCAcABAMABwkJBAcDBwEJCQEHBgAHBQgGAAkBAgIJAwAEAQUGBgEHAAgHCQYACQEGAgkDAgQFBQEGAQcHCAUJAQAEAQQCAwMBBAEFAAYHBwMICQUBAQEJBQkBBwEBBgAICQcAAgUDCQYHCAEABwMCAQIHAwQGAQgBAAkIAAMBAgcAAgkGAAEGBwEJBwYFBQgIAwQECAcDBgQGBgMICAkJBAQABwgBAAABCAUHAQcFBQkJBAIFAwcEBgYAAQABAgQIBQMFAAAGBAMIAwcBBAMJAgIAAwYGBwQDAgIECQEABQIECAIBAAgEBAgABgQBBAkGAwECCQABAAQCCQkEAwgGCQMABgcAAwEEAgMDAAQCBQUGAwcCCAUJAgABAQgCCQMBBAEFBwYEBwcIAwkDAAUBAwIAAwAEAAcECAgJAAABCAcDCQkFBQkGBwgCBAYJCAEGBwkBBgIACQYGAgkBAQIBAwEFAgcIAAEAAggAAgcDBwUFAQgCAgYJAQgHBAAGAAcDAQAGBgAJAwQGBwgJBwMAAAQAAgYHBQQGBAgCAAgHAQcFAQECAgcFBgYHBAIDCQACAAkABAMEBwcAAwYABAMIBggBAwgJAAkACAACCAcIBwkBBwADAQQCAwMIBAkFBgYEBwAIAwkIAAYBCAIFAwIEBQUGBgkHAwgJCQMACAEDAgADAgQJBQkGBAcDCAQJAwYFAgcFCAYCAgcFBQEJBwEBCAgDAwMIAgcCAQUHAwEEBAcHBwIEBgUFCQMFCQMJCAAACAAHBgMAAAADBwcIAAgBCQECAgQBAQYGAAAFBAMJAwEGBwMABQEJAAkHAAUBAgIDAwAEAAUBBgkHAQgJCQYABQECAgEDCQQIBwgICQkHAAMBCQIHAwgEBQUBBgYHBggJCQAGAwAHBwYDBwcBAQkDCAcGCQMHBAQBAAcABgYDCQQFCQYICQcIBQUGAQIFAAMFCQAIAQMABAkAAwUCBgUDAAQCCAcACAYBBAYIBgEEAwIEAwADAQEJAAIBAwcHBwUGAQIHCQIDCAAHCQAFAQUJCAYJBAABBwIFAwgBBgMGBQYDBQQAAQAGAAgIAAAIAgkDBAkJAgIBBgMABQEBAgcDCQUEBgIHAggJCQMAAAEBAgQEAwUDBgkHBQgCCQkAAwEGAgUDBwQBBQIGAQcCCAQJBgAHBwMFBgAGCAUEBwEGCAYIBwEHAwMBAggEAwkHBAkDAwgABgkGBAkEAAAGBwMEAQICCQcIAwcEAgEHBggFCQADBgEBBAkGAwUBAgECAAIGBQYGAQcDCAQHBQUDAQkGAQQBCQUCCQkDAwUFCQMBBgkGBAABAAACAAUABgIECQkIAggHCQQCCQIBBQAHAgICBgMHBgIBCAgJAwYAAwMJBQMAAgABBgABBQYECQAFCQMDCQQEBwUGCAEGAgcEAQYBAwcEAAYBCQIBAwcEAwUIBgMHBwgACQMABAEFAgcDAgQGBQkGAQcGCAYJBgABAQUCCAMABAkFAgYHBwMIBQkBAQgABgQFBQQGCAYDAwAECQQCAgMICQECAAcGAwQHCQEHBwICAwQDAgkBAgcACAkFAwEDCAkJAQAFCQICAwEBCQYFBwcDBgcJCAAEBQADAgkEBgABAgMEAQcBCAUAAgcBAAMGBAkBAwICAgQECAcGBwAHAQgAAgYHBwECAgkABwMJBgUICAQJCQYIBgQCCQgJAQkHAgUDBQIHCQMHBQYABQEDAQQDAQgFBAIJAQQGBQgBBQgFBgcIAgkBAAEBBAICAwgEAwUEBgQHAggHCQEAAAEDAgEDCQQGBQkGCAcICAEABgEHAgcDAgQBBQQGBAcECAEJBQYGBgQDAgQJAgUIBQEHAAcGAwQICQMHCAIFAwADCQkAAwMDBQkAAQcFCQIEAwkBBAYEBwADAQcACAgEBQAAAgEEAAAABwkIBAAGBwMAAwYCCQUDAgIDBAUICAYBAAcFAgcDBQgBAQAJCAUBAQYFBwkCBwkBBwkJAQUCBgYFCAIGBgABBgcDBQAFBgcIAwAFAQADAQUBAgMDCAUBAwAAAQQCBQMDBAMFBwYFBwEICQkDAAIBAAIAAwQEAwUGBgQHBggBCQkABAEGAgIDAAQIBQUGBgcHCAIJAgcGBAQHBgcBAwQJAggCCAADCAEDBQAIBQIIBwgGBwEIBQkCAwYJBAkBAwgFBwYFBwUBAQQICAkEAQADAgYJAwgDBAIGAgcGBAYBBQQFAQMEAwYICQEHBgEFAQYGCAYBAwkGBwgGCAgDAwEHCQkHAAMAAwMEBwQJBwMGAAgCCAAEAQUAAwEAAAcBCAAIBAgHAgkCAgIAAAYDAgkGBQIGAgEJAgkFAAUBAAIHAwQEAQUEBgMIBQkDAAUBBwMJBAYFBAYEBwAIAQkFAAEBAAIHAwcEBgUGBgkHBwgBCQABAQgABgMHAAEDAwUHBAcECQEDBgYHAAQCBgYIBAAIBgQJBQEAAAMHCQYCCAEIAQEFAwkHBAMCBwAABAgEAwACCQMGAAkHAgUCCAEFBwQJAgUFAQMBBQkIBgkACAEECAYEBAYGCAAIBAIIBggDBAIECQgCCAQHAAkJAQAHAwMDBgUFCAAEAQcFBgkCBQIJBwMHAgAFBQkBBQUGAwMAAwECAgcDAQQHBQUGAQcJCAYABgEHBAEHBwAFAQkEBQcECAMJAwYICAMCAQQHBgMIAwYHBgIHAwEHBwgACQIDAgkACAEBBgAFBgEHAgkABQIIAwgECAgCAwEHAgQJAQgHBgQHCAADAAkIBgkHAwAACQAGAAACBggBBQAFBQYFBQEHAAUBBAACCQgEBAUBCQgHBAAAAgkBBgQHBAAJAgYJBwAEAQgBCQUACAEHAgMDBQcICAQAAAEBAggDBQQDBQgGAAgACQcACQEDBwEJAAYGAwADBQkJCQIFAQEIBAECAwUCBAEHBgkCAQQFBwIJBgYDCQcECAYFBgEDAgkGCQYFBwUIAQgJAQQICAMEBwYAAAAAAQMFAwAIBQECAggIAAUEAgMJAQMIBAIFCQMJAAUBAgMGAAUEBwgBAgkFBwcBAQIEBgkACAAIAQQCAQMIBAMFCQYCBwkICQkGAAQBBgIJAwcEBgcDCAUJCAAGAQECBgMHBAgHBggFCQEFBwEFCQEJAgAFCQUABAUDCQkBAAcJAgkCBQMCAwkCAgAGCQUAAAYJAQUHBwUEAAQDBwQABwMGCAYCAwYDBAgGBAgHBQEHAAcICAcJBQkCBwEIAQAECAUDBQEAAgQICAEHAwQHCQMCAAMHBgYEAgEFAgcBBAUHAgUACAQACAIGBwEACQQDBQICAAAABQIIBQAGBwkFAwcGBwMHBgUAAgECAgMDBgQIBgEHAQgBCQIAAQEDAgIDCQQHBQcBAwcBCAQAAgEJAgIDBgEIBwcIAQgEBQUHBwkFBQgABggBAwYFAAQGCAADBAAAAgkBBwABAgkFAggJCAUFBQMCAAIECAQGAQkGBwEBAwUAAgMEBgYJAAMIBwIJCAcIAAYECQgCAwYCAQcEBwIJBwUBAQcFAQIJCAgJAQYGCQUHAAYIBAABAgIDAAEGBAEGAQYHAAIHAwgGAQQBCAIGBAQGBgMFAwAIAgEAAwUFBgIFBAAGAQMCCQEIBwgIBwEHBAIDAgIHCAMCCQcBCQIDAwkCAAEBAQIDAwgECAUFBggHBwgCCQAAAQEEAgIDAQQBBQMGBgcACAMJAQAFAQMCCAMJBAMHCQgICQYABwACAQkAAwEHAgEHAwUGAwkECAQCAAAAAAYICQkGAQYGAgEDBAQGBAQJAAEHBwIJBAUCBwUFBQYJAgYDAQEBBAgEAQAHCQkJAgYCAQMIAQMDAwgHBwMCCQkIAggDBAIHAgcDBgACAQECCQIIAwcCCAkIAwIFAwQJAQAHBwgJCQAIBgAEAgEFAQkCCAgEAgEGAAEDBQEACAEBAgUDBQQIBQAGBQcBCAcJBAAIAQACAQMDBAQFBwYGBwIICAkAAAEBAwIGAwAEBQUJBgUHCQgACQACAQIBBwUGBQQJAAcFCAgBAAEHBAMCBQgEAgEJCAgABgUIAgAHAAIAAwkGAQIJAQIHAAcJCQAJBwEJAgAECAYEBwIHBQUFBAMFBgAGAQYBBAkDCQAIAwADAgQAAgMFBQYGBwEHCAEGBQQABgIABgkEAggGBQQDAwMJAAMDAAcABQUCAgQFAAgJCAEIBgkJBAcDAQQGAgcIAAgDBwABAwEDAwUGAgkJBAUBBgMJCAcHAQYGCQYDBgMCBwEEAgEHCQQBAAAHBgEAAwEAAgADBgQCBQUGAQcACAAJAQAHAwAECAUDBgMHAQgFCQUABwEIAgADCAcHCAYJBwcHBgYACAYGBgIGAgkBAAAAAQEBAwMJAQcHAwcIAAUECAEBBQQBCAcFAwEHAAMBBQYDAAEDBwgHCQMCAgECBwYEBAUIAgIIBwQJBwEBCQgBAAYGAgMDAgMJBwAIBAMHCQQEAwgECQUDAAcAAAIFAAMBBwIBAwUEAAUDBgQHBwgECQAAAAEJAgQDBwQGBwAIBwkAAAYBAgIAAwEHBAgICQcIAAYIBQkACAYGCAYJCQQJAQUJCQAIBAYIBgkBAQEEAgAGBQMFCAQCAAQHBAYBAAMBBgcAAAkGCQgDBwcJBwgIBgAABAgCAQIHBgcIAQQDAQEGAAgAAQcCCAUJAQMHCAYEBAcBAgkDAwYJCQYCBAIFBAkGAQUGBQEBCQMFAwIHAQgIAgUFBwcECQkICQIHAQIDCQADAQECBgMBBAQFAgYGBwEIBAkJAAIBAAICAwcEBgUCBggHCQgBCQYAAgEJAgMECAYDBwYIBwkFAwEIBAAJBwEBCQAHBwkFCAUIBgMJBgADAQEABgAECAgDAQQAAwEBAwAGCQUFAQMCBAMJBwMJBwQGBwkCAgcEAwUEBwcCAQEHBgEEBAkCBAgJCQQBAQYCCQIHAQcDAgIECQEEBwMDCAkCAQIAAgIBBwIICAkGBAUFAQkGBgcJAgIBBAMGBwYFAgkFAwQIBQcBBQQHAQAJBwUEBggBCAgDAQcIBgUJAgkDBAkIBQQBAQgAAAYDBggABgEIAgYDCAQEBgcHAwgJAAEBBAIDAwMEBQUJBgMHBwgGCQgAAAEGAgUDCAUIBgUHCQQBAAIHAgIFCQgEBQIJCQIIAAQDBQcIAQgDAAgDBQUEBAYDAQMGBAkGAQUIAQgHAggDBAAFAwcGAgMDBAYHBgMHCQcHBwEGAwACAQAABgEDBgMFBgMGAQMEBgcHBgMCBAICBQEJAAEEAgQCAgcGCQYHBgkCAgQABQQCCAYHBgACAwcIBgQGBgQBBAQFAAIDAwYDAgMAAgQDCAQBCAMAAQAABgkFAAkBAQIEAwYFBwYABwQIAQAIAQgCAgMCBAAFCAYEBwAIAQADAQUCBgMGBAQFAwYDBwQIAgkHCAQDAwcCAAQBBAcCAwkAAQkCBAYFAwICAAcGAAIBAQUBBQEHBwECBgQEAgkJBgcJAAMAAwcIBQYBAQEIBgYBAAgIAgcHBgQEAAUEBAIABQAAAgMAAQQJBgEFAQQAAAYICQcDAgAACAYDBwkFBgUDCQAGAQkEAQUDBggHAwgDCQcABQEHAggDBgQCBQYGBQcCCAQABwECAgEDBAQBBQgGCQcECAkJBgEJBgUIBgkJCQEACQEIAgEEBQQDAwAHBgQDBAQECQAIAwgIBgcABQUBBwUICAAJAwIFBQQBBgEJBggCAwEDAwMIAgYHBAQJAwIAAAAABwEHBgYCAAUGBQgABgICCAcABAYCCAgBAAcHCQMBBQkDAgUGCAcFBgkGAQgCBwYEAgkCAggBAgMGAwEAAgUBBQYHAQkCBwMABwIDBwcJBwEDAwYGBAcCCAcAAQMJBQEDAwYAAAEBAwIDAwkGCQcJCAAJAQAIAQYCAgMFBAAFAwYFBwUABQEBAggDBQQGBQUGAAcFCAkJBAgBBwUEAQMHCQgIAggEAwgBBQUFCAQCCQcCBAUCAQYDBQcCBQQDBQQGCQQEAQkHAgUCAQMDAAMBBgAJCAYEAwMDBQEHBgMFAwYAAQMJBwMJBwEEBwcHAAQJBgAAAAQDBwcGCQkCBQAAAQcAAAEAAAYEBQAFBAMHBgkHAgIAAQYAAgACAQkDCQIABgECAggDAQQHBQQGBwcGCAcJCQAAAQICBwMGBAUFAwYCBwMIBwAAAQYCCAMABQkGBgcECAcFAQQCCAAHAgQHBwEHAAMICQYIBAgHAwEBCAUECAUCAQcCBAYCBgYFAQYFBwIBBAQFBwUBCAMGCAQGBAcBAggDBwIFBwUIAQMIAwkJAQEDAQYDAwEDAwIEAgEGCQkECQQGAwMDAwgICQEHBgUFAwYICAUBCQkHBwIGBwgGAwMHAAQCBwMAAgkBAAcAAQMDBwIJBQMIAAACBQAGAQgAAwEAAAYEBgAEAQMACQQABwIJBAIHAAQGAAICBgcCCAIJCQMJCAABAQICBQMHBAAFAAYEBwIIAAkJAAkBAgIJAwYECAUIBgMHBwgFCQIABwECAgMDAgQIBQkGAwcHCAAJCAcIBAEDBggFBQYBAQgABQYCCQgDBgUBBgkGAgAEAAAFCQIJBgMCBwgHAAkCAQkIAAIBBwgFCQgDBQIDCAIHAgEABQUGCAIGAwAIBAMACQMGCAABCQAHAwQABwQBBwcEBwkAAgYJAgEJAgUFCAcBAQMHAQEHBgEHAgMAAwMGCAUEBgACCAgGBwYGAQQDCQAICAgJAgQJAQYIBQYFCAkJBQgDBwcIBAUDAQYCAAIAAAYJCQgAAgEDAQQDAAIEAQgABAAAAQcCBwMHBAAFCAYJBwMIBwkJAAEBBQIAAwgEBwUCBgQHAQgACQIAAAEJAgUDBgQDBQYGCQcBCAMJBgAHCQEFBwUDBggJBQgBCQQIBQcIBQgBAQAJAAICAwIGBwIIAAICAAIBBwIJBgIDBQMJBwcDAQMCBgkEBAkCAAYJAQUJAgQIAwIBAAAAAgEIAwgCAAECBwkEAQYBAwIBAAMJCQMBBQcHBgQIAQQHAwEBAgQHAwUGBgkJAAABBwcEBQYEAAQHBwEHBQkJBQkIAAgGBAUJAgAECAkJAggHAAABAwIJBAMFBAYDBwQIBgkBAAgBBgQFBQIGAAcJCAYJBAADAQAEAAcFAAYJAQkIBwQHAAUCAQUAAwAEBwIAAQEBBAYGAAYIBgAFAwIFCAMACQEFBwUGAQIJAQYHBwcGBgIBBwQGCQkGAgcEBAIEAwcFAgEIBAIDAAcBAAIDAwMEBgUABgkHBAgACQEABgEBAgADBAQABQIGBgcICAMJAQABAQACAgMFBAAFCQYBBwEIAAkJBgAFBQkHAwMEBwMHCAQFCAEFBQMCAQMCAAcBCQIFAQkDAQIGBgEFCAMDAAgHCQIDBwUEBQYCBAkABgUGCQgJCAgBCQMFBgMDAQAHAQQEBwQGAgUDBAEAAwACBgcGAgIJAAkGCAMGBwgHAAQIBAUDBAkHAgUIAQkCBgQABQkBBQcDBggCCAkHAwEDBAcACQQCAwIJAAAGBwYCBQEFCQYBAAUHAQUHBwQGCAYGAgEBBgQIBAgBAAABBQIBAwIECAcCCAkJBQABAQICCAMFBAkFBwYIBwQICAkFAAYBAQIAAwMEAwcFCAQJCQECBgQIAgkFCQEABAEIAgYECAQEAwQHAQQHBAQEAwAJAwcIBgcFBQYIBQIJAQkFAQgABQMBAwEEBgYCAwEDAwMEAgkHBAEJAQICAAQAAQQIBAMGBgIABQcFBAAJAgcGCAgBAQIHBwkHAQgJCQIEBggHAwYDBgAIAwcEBAgCBQEFAwcDCQAGBQAFCQgGAAMDBAcDCQMHBQMCBgQHBQgJAAYDAgUEAwkABQEJAgYDBwQGBQYGCQcDCAUJCAACAQUCAAMJBAkFBAYFBwYICAkJAAUBAgIDAwcEAwUEBgEHBggBCQAHAQYABAIDCQAEBgEGBAYICQQACQAIAQcDCAkBBAQFAwcACQMFAQYDCAMJBQEBAwQIBwUBBwUIAwECBAMIAwUFCAkBBAAGBwQGAAEABgQAAgMBBAAGAQgECQYCBwEJBwgEAAUHAgQFCQIHAQgCBgkEAwUJBgIFAgQFAggEBwMEBgcJAQIIAAAGCQIGBggBAQMBBwUCBwQGAAMDBQYEAwIGCQMAAQQCBwQEAwMDAgAJBAICAAcDAAQEBQAACAACAwICAwgAAwYDBAADAQQABAEGBwEBAAMHBQcBAQcAAQYIBQYCCAkBCAAABAkDBwAJAQcCAQMCBwIIBwkJAAcBBQIJAwYHBggJCQMAAgEIAgIDAQQDBQAGBQcICAcJBAcEBAYABwQGAAEBBQcDCQYFCAEEBAgCBAgJCQEEBQMBAQYHCAgAAgcEBwQHAwcDAAYGCQgJAQUHCAUGBAcJAAcGCQgJAgkGCQMFCQEDCQIHAQkHCQQICAkIAQkDAAYDBwMACQkJBgQBAQIAAwMDBwEFBQgACAICAwkJBwEBAgIJBgcEBAIIAwUGAQYEBQcAAQAFAgEIBwEJBgEBCQAGBAMDAgEIBgcBAQkHAAMBAgIJAwgEAAUCBgEHBQgBCQQABgEAAgADCAQFBQEGBwcACAcJBwAGAQUCAAMBBAIFAgYGBwcIAQkACAUGAQUBAAEGAggJCQkEBwEHCQgFCQMEAAIECAgCCQYBCQQGAAMFAgEFBQgHBwYFAAEBCAcEAAUGAQgECQkFAQQCBwAJBAgHBgAABwgBAQQHAgcCAQEDCQIIAQIEBgIIAAkAAwcFCAIEBAYABAkJBgMECAUEBQcJAgMFCAYDAwgGBQkFBgcDBgIFAgQEBAYHCQUAAQIBBQgFAQEHAwQDAAkHBwECAwIBBQMHAAkHCAYCAAEHAwkBCQMHAAUBAwMIBAcFCQYCBwMIAwkBAAIBAAIHAwcECAUDBgUHAAgCAAQBCQIJAwAECAUABgUHBgkHBwUABAUCAggJAQABAQEFBggACAgABwkDAwACAQcECAkECQQBBQIJAQYAAQUABwQHBQUDBAkCBAcDBAQAAgUABAUHAAgBBwMBAgkJBAEIBgUAAQEGAQYICQAGBAcHCQcEBgQDAAUFBgkGAgABBwgDBQUDBAMCAAQDAQcIAgMIBQgGCAUIAgEABgYJBwgBBwICBQQIAAEECQADAggICAMIAAMDBwAGAQgJBwQBBwQHBgQHAgkCCQUDBwAAAwUEBgUHBgMHBQAAAQACCAMHBAYFBQYDBwUACAEHAgIDCQQJBQQGCQcHCAQJAggGBwkHBgAAAQgDBwUJAgUIAgAACQAGBQAECQcBAgEICAAECQMFAgYBAQIGBggFAwYFBwYECAgFAQkIBAAABQgJBgQHAQIJBwIJAQAJCAYJBwgJAwAJBAAGBAEJBwADBQgJCQkGBQMECQYACQUFBwkBCAYIAQcABwkAAwgDBgQBBAQAAwYDAgQFBgQFBAEACQIGAAABBgIDAwUEAQUIBgQHBAgJCQkABwEGAggDBwQGBQAGCQcACAgAAwEIAgUDBwQABQMGAwcICAQJAQcIBAQDBAgBBQEBAQgDCAUGBwEJCQQCCAQBAAQJAQkHAwQHCAcGCQQBAQgJBAkEAQIDBwUFCAgDBQYDBgIFAgMACQUECAMGBAAGBAEAAwMFCAgBBgAHAwgACQQEBwMEBwkBAggJAQEAAgEFBwcAAQAHAAEFBgMHAAMDAwEGAgUBBgkCCQgIBwEGAAQGCQkICAkHBgEJAAUIAwAHAwQHAwgGBAAEAAIECAYJBgkJAgAHAQcBBQMBAgMBBgADAAYBAwIEAwEEAwUBBgUHAggBCQIACQEIAgMDAwQJBQgGBwcCCAQJBgADAQYCAAMABAgFBgYJBwMIAAkHBAkCCAYFBAIHCAUGBAcHCQgHCQgCAwkCAwcJBAMICAECAwABCQQIAQYJAAQBAAADBAQDAwUEAwMIAQADAAYFCQQDAwMFBwMDAAIIBgMBAAUGAAIBBwcBAgEJCAIBAgcAAQUDCAgJBQEBBAIFAAEJBwcDBgEHBAQEAQgGBgcCBQkBBwIGBgEHAAEDCQQIBwACBgIJAgQHCQMJCQYBAgEDBAcJAQkJCAIDAgYFBgMGBwcIAAAEAQQCBgMHBAgFBgYFBwQIAgkFAAcBBgIIAwUEAQUFBgMHBwgICQkAAwEAAgUDAAQDBQEGAQcBCAIJAAIGBQYBCAYHBAcDBgkECQEACAkDBwQBBQYABAMDAwYFAgACBgAAAAEIBwICBQkJBAgFBgAFCQcFAAUABwQBBwgEAgMAAggCBQQBAQMDCAQGBwIHCQcDAgUABgkCCAQFBAYJBAgDBAgCAggIBwMFCAcJCAUBCAEABgUFBAYHAQEEAwkBCAcFCQAABAkDAQgHCAMACAEAAAMHCQABAgYJBAcDBwIBAQIIBQYABAUFAAAFAQUFCQUDBgMFAwABAQECCQMIBAgFBQYABwIIAwkBAAcBBAIGAwcEAAUBBgUHCQkCAAcBBgIBAwAEAwcCCQcEBQcGBgQDBgQAAAIJCQcFAQcJBwMACAgEAwcIAwIABAkECQQBCQEHBAACAQAFBgICBQEHAQIBBgEDBwMCBQQFBwQFAgIBCQMEAwUECAkJBgcDAAMACQcBBQIBCQEIBwcGCQYCBgUIAgICAgUHAgcGBAkABAIABAMCBgMBAwADAwEJAQgGAAkIBQgFCQMHAAUICQMGCQgGAgAHAQkCBAMJBAIFAQYDBwQIAwkAAAgBAQIBAwgECAUCBgUHAwgICQkABAECAgEDAgQHBQgGCAcFCAYJBAMDBAcBBAQIBgQGBQcGAwcDCAIFAQgJAwQABwcDBQQDCQcBCQEIAAEBBAQGBgkACAIICAgCBgUCAgcBAwcJAAACCQAJBgUIAgIFCQcCAAMGBgcJCQgEBwAIBwkFAgUCCAkHCAAGBAQFBAkEAAAAAAUIAQACCAYGAgYJCAEHBQMFCAkAAAMCBgEIBAMBAQkDAwkBAQMJCQAIBwUCCAcDBAADBAEJBwQGAwAHAQICAQMDBAMFAwYCBwcICAkBAAIBBwIBAwcEAAUHBgEHBggGCQcACAEJAgcDBQQABQgHBwgDCQcDCQgAAAIHAgEDAAgHAAYDCQYAAwEAAAAAAwgGAwMEBgMGAQMFAAAFAAUJBAUAAwAEAwcHBgYJBQIDBAQFAQcFAggBAQYFBAUJAQQACQkEAQEIAgUCCQUACAYBBQMAAgMJBgQHAwMCAQEDAgUIBAYJBQYBCQYCBwUCAAEIAwYHCAUGCQUDCQgFBwIFAwcBAAUHAQQECAgIAAUIAAUGBAYDAwgHCQYJCQUJCQQGCAAEBQECAAEGAgYDAAgBBwIHAwIECAUDBgEHAQgFCQgAAQEFAggDBQcCCAAJBwAIAQkCBwMEBAgHCAgICQQGCQkEBgIBAgkICQMJCAQDBAYDBAgDAQAEAgEAAgkFBAAFCQkEAAkFAAYHAQQJBAEBCAgDBwkGBwACCAIBAwgCAgAGBgIDAAgJBAEFAgEFAgQCBQEGBwcBBwMFCAMEAAICAwIJAgAHCQMFBQcCBgEFBAcEAQMAAAYABAgCBQIECAcBCQEIAwcICQQGBwMDAQcHCQkBBgMDCAMFAQAAAQICBggAAQUIBgUGCQgGBwcDBQUBCAIDCAABAQICBgMJAQgFCAYGAAIBCAIDAwEBCAUEBgEHBwgEAAUBBwIJAwEBBAcJBAIIAwEDBQMGBwUEBwkCCQgDBgkDAQMDCAkGCAUIBAcABgkEAQIHCQICCQYBCQUBAQYDAwIDAwUGBwEGAwQGBQkHAAkBAggFAQAECQAABgUBAAIDBgAJAwIJAgcDBwUBBQMACQcHBwcJBgYGAgIJAAQEBwkABgIGAwIEBwADAAYIAQUFAQcDAQcBCQgIBwgFCQAABQkHCAIJCQAABgcFCAYHBwAEAgcCBQAEAwEAAwYFAAMGAAcBAwIGAwEEBwUCBgYHBAgECQQAAAEEAgYDBgQFBQQGCAcECAQJAAAAAQgCBAMABgEHAQgFCQgABwkBCQMIAAkJCAcEBAEJBwMHBAMCAAYAAgcACAACCAACAQgCAAYCAwIDCQcIAwkDBQYFBgQECAkFAQUJAQgCAggAAQMFAggBAAcGAwgBBAMGCQIBAQcIBgcIAwQJAwIBBAQFAAgFAQMCBgkJCQYBAQMIBwIFAggFCQcACAgJAQgEAAgBBwICAwMEAwUDBgcHAAgECQEAAgEJAgYDBwQFBQIGAAcFCAEJCQABAQgCBAMEBAgFAQYGBwUIBwkFAQMCCQYCBQQDBwAFAgAIBwcFAAEDBQYABAcEBQMCBgAHAgIHAwkJAgEJAgUBAgIBCQgGAgACAQQDBgAHAggHCQUFBwkGAAEFCQcAAQYEAAAGAAAIAgkAAwYFAQgFBggCBAQDBgAFAQkFAwQGBAQIBggIBAQFAQcEBQMHAAgFAwQECQgDCAEFBQIJCQUHBAEJAwEICAEBAAIHBgUBCQMGBwkJBAcHAgcHCQYJCAUBCAkDBgQABAQDAwgCBgMCAQAIAQQCBAMABwAIBwkAAwcEAwcHCQQABgEJAgQDAQcGCAIDCAgJBwYBAQABBwEGBQkFAAMBCAAJAAQBBgAGCQkDAAQJBwgGAgkCAgYBAQYHBAMEAwEBAgACCQEHAwgCCQkBAwUCBQEGAgYBBQYCBwgCCAMACAcHAwUEBwIAAwcIBAcGBgMABwUGCAkBCQMEAAgBBAYBBgADBgIGBAAEAQUCAAMEBAkFCQYIBwQICQkFAAIDBwQDBQgGAwcDCAIJBwABAQECAQMCBAcFAAYIBwMICAkIAAQFAgUFBgMFAgAGCQgIBAkBCAYECQEJBwcFAgECAAUAAwIBAgAHBAEHAgYGBgMEAwAHBwMFAwcEBAQHAQQFBQAECQMFAgIDCAkCBwADAAEBBQcABgMDCQIGAQQHAAEGAwQJCQcJBgEBBwQDAAcFBAYHAQIHBwUHBwQCBgcBCQYFBggBAAgBBAIGAwQEBwUDCAgJBQAFAQYCBgMDBAgFCAYHBwAIAgkIAAQBBAIEAwEEBgUGBgkHCAgGCQAIBQYFBQMABgYICAkJAQQHAQMJBQUIAwMAAgQJCAEJBAECBAMACAUGBQcCAAUFBAkABwcEBgAAAQEJBwgACAYGCAEJAwUDBAQHBQkJCAAGBQAHCAABCAcBBwEBAgMJAgYDCAEGBAcCCAAEAAIHBggJBAgGBgQDCQQDCQgDBAEHCQICBQIGBwMGBgUCCAIDBAEGBwkJAAkCAAEJAwcDCAkFBwgIBwcBAgICAgUABwkJCQgBAgYBBwMCAQUDAwABAQECBQMDBAcFAgYBBwgIAQkCAAMBAwIEAwkECQUJBgAHAQgFCQgABwEBAggDBAQBBQgGBgcGCAIJAwUFAAcGCQgBCQcECQEHCQIFCQMBAAIEBggBCQABBQQBAAkFBgEHBQkEAQAGBwIGAQAEAQgHBQAEBgkIBAkCBQEECQcJCQEICQYEAAEIBQECBwEHBQEBAwYCBgMDAQMEBQIDAAIACQcBCAMEBQYBBAAJAgMGCAEEBgcEAgIFAAYBAwAGAQkIBgMDBQIIAgQEAAYHCQAABQIBBQUFCQEHAwMDBAkDBwECBgUHBwYJAwgEAgIBCAMHAQQDCAAIAQcCAAMFBAkHBggFCQUAAAEHAgkDBQcJCAAJAgAGAQUCAQMFBAAFBQYJBwEIAAkBAgEFAAEIBgAECQMBCQYJBwAJCQcHAwEDBgUEBAMBBgQCAwIGAAYABwUJCQYFAAcHAwcCBwIFBAAHAwYJBwQHAwIECAYICQIBCAMDAgcHAQUDBgkIAAUJAQEABwkDAwgIAAMDAQkHAQcGCAQHAwICAQEBCAkGAgECBQQABwECAgYDCAQFBQgGAAgBAAMBBAICAwQEAQUJBgUHBQgBCQQACQQGBQEGAAcGCAMJBgAJBwIAAAcDCAYDAwUGAwcIAwgAAQMEBgkDBgQBCQgBCQUECQEFAggFCAkCCQYFAwQFAwQDBQMBCQAABgEGCQMBBQIBBwQJAQEFAAQGBQIGBAgACAMHCAMJCQUEBgIGBAUHAQgHBAEBBAgGBAkCAQgDAQECBgADBQAJBgYHBgEHAwAIBAIIBgcCBQYFBwIIBwcCAAMBAwICAwYEAAUDBgYHAwgFCQcAAAEHAgMDCQcGCAgJAAACAQACAgMJBwQIAAkHAwAECAEABAYGBQYABwgDAwMBAgUBAwkABAMHCAMBBQEEBQkHAQQBBQAJAQkEAAYAAAQCBwUDAgEBBAcBBQAAAAAJAgcDAgcABgkJBQgCBwgIAAkJAgQCAwkBCQgFAQQCBAgEAgAGAAQICAYIBgAIAwUBAQYHCAAGAwgGAgcJCAcDAAECAwYJCQUDCQkJAgUAAAgECQMEAQkHBgYGAAUBCAICAwQEAQUEBgIHBwgACQAAAQEFAgADBQQABwYIBgkBAAIBBgIBAwcEBQcBCAgJBQYJBAECBQYABAIHCAgHCQUDBgkJAwIIBwIEAAcJBggBAAMAAwEDAAgFBQMABQgDAwgBAAUABgUIBAQDAQQGAQEFBwMFAAIGAAIFBwIBBQEGCAcBBQcFAQADAwgHBQgEBAIHAAYJAAIFBgkHBQECCQEGBAQDBgkCAgMDBwMBBAIABQcDCQcJCAYAAAEEAgADBgQDBQUGBAcBCAUJAAAFAQUCAQMABAUFCQcGCAEJBwACAQACBwMGBwAICQkGBQQCBQgBAQcHBgIABAABAwQHAQAIAwMDBwEIBAQJAwADAgUIBgcHBwAIBgIBBgYBCAEAAgEDBQkACQgBBQcBBggDBAIHBQYDCQgBAwkAAAIGBQcHAQgCBgMHCQkCCQQFBQEDAQcHBQIDCQEICAICCAIFAwIABgIJCQgEBQkIBwgACAACAgQHAQQHCQYJBgICCAIBAQUGBggJBAgGAwUIAwMBBgMHAQAJAAUAAQEGAgkDBQQEBQMGBAcHCAYJAgAJAQICAQMFBwgIBQkGAAUBAAICAwUECAUBBgkHAwgACQcAAggCBwAIAgkBCQcACQEIBAMFCAEGBgcABQUCBgQHCQMICQUJAgMACAQBCAIICQcGBgcDAwADBwQCBwIHAgkAAQEHBAYDAgUBBwUEBQQAAQUDAAEIAQQHAAEDCAgIAQECAQIAAwcBBQMABggHBwMJBAgJAQYJBQYBAwkBCAcBCAEFAgkHBwYICAUIAQQJAggCCAAAAQcCBAMBBAIFAwYCBwEIBAkHAAABAQIFAwQEBAUHBgAHAggIAAcBAAICAwkEBgUBBgMHBAgICQkHAwEGBQEGCQIABQAABQUFBAkCAQAFCAMBAQcDAQMIBQMBCAYHBQEIBwUBAwQJBAIEAQUHBwAECAQFBwACAgUFAwIJBgMACQMACAgBBwcJCQAFBgUDAAAGBAgGBAMGBwQACAEFBAkIBQEEAgQJBgMHAQIIAQQAAgMJBAgECAEGCQUCAgABCQkHAgkJAgEAAAgFCQMFAwMGBQEHAgAFCAADAwMHBgYBAQMFAwUHCQAIAAAACQkABwEEAgcDAwQCBQYGAQcGCAAJBAACAQECBwMGBAgFCAYDBwUIBgkBAAMBBAIJAwkEBAUFBgIHBAgJCQUGAwAFAwkEBgEFBAcABwgABgQECQUGBAAAAQcBCAQHAQcGCQAAAwkJBwgEAwIJBQcIBgUACQEIAggABwABBwMFBQYDAgEEBgIFAQMICAEHAgMCAQYGBggBBQcJAQIDAgMABAkFAgYEAQcIAwIBBQMBBgcCBQEHAgkGCQAEAgMCBwcHAQEDAgcBBAEHAQQICAYJBgIICQMFCQEGBQQGCQgBAwIFBgYDAAgJCAkCAwcBAAECAAgDAwQGBQYGCQcCCAMJCQAJAQUCBgMFCAYABgEIAgYDAgcGCAgJBwkEAAkBCQQJBwIDAgIJCQkABAUIBgYHCAMICQgJBgMFCAUBBwIBCQcGBwcFBQkGBwMEBAcJCQEEAgIJCAMFBAgEAAMAAQgHAQMEBAEJCQYICQcICQEEAQAGBgYDCAYCBggGBAMIAgABAAEBBQIFAwQEAQcCCAkJCAADAQMCBQMABAEFAQYJBwYIAQkDAAQBAQMBBAIHAQgCCQMIBQYCBQEABwYICAcJCQQHAQgJCAAGBAcIBQkEAQcEBwABAgcBCQUIBAQABgcDBgkABgEFBwYAAwYBCAYEBQcECQQIAQYFAAMIAQEBBwEHBgEIAwMCAwMBAQcEAgIAAAAAAgcHCAgEAQYICQMDAAgGBAcHAgIBBQQGBAMCBgIJAwYIAwcCAwIBBAkGBQAIBQYFAwEEAwMDAAkABwIICAcHAgMHBQkGCAACAAEGAwgBAQMFAAABBwIFAwcECQcHCAMJAwAGAQkCAwMFBAQFCAYIBwYICQkGAAgBBQIGAwYHCAgBCQQHAQcJAAIDCQEDCAgJCAgEBgAFAgQGBwcDAwEACQIBAAQCBQQFAgYIAAUBCQMHBgIEAQgJCQAIBAUBAgMBCAACBQcGBAYGAwEDBAMDAQEHAQIFAgIHBAIIAwIGAwgEBQcBAwQHCQYAAQYDCAgIAwAFAwkJBQQEAwgHAAEHBwMGCQkFBAACBwkDCQMEAAkDBAYAAwcDAQYDAAACAQUCBwMJBwYICQkIAAcBAwIDAwcECAcACAgJCAAFAQcCBwMCBwIIAAkBAAcABgcJBQMFBwMEBwAIAQYGBgkEBQYBAwMIBAgGAwkABAEFBAYEAQcHAwEBBwEGCQQBAQICAQIDBQkBAgcHAwcECQUJAgAEBAAFAAkIAQABAwUACQIBAAMFBAMDAQEECQABBAACBwIHBgAHAQECBwMEBAUFAwcECAIJBQAFAQgCAAMGBAgHBQgCCQAAAgMFBAYHAwgGCQgJBwcAAAQJAQABAQYFBQgGCAIACQkEAwECBgcFCAEECQYIBAIFBAMJCQUEAwMEBAUCAwADBQUAAQEDBgQJBAMIAggJBQECBggABAEAAQUIBQAJBAgHBgcBBgADCQYDAAYBCAMHBQMEAwIGAQEBBAgFAwkFAwYABwEFBgIIAAkGCAcCAQECAQUJCAgBBgkIAwkIAwIECAUICQcCAQYHCAkEAgkABAEHAgkDCAQJBwEIAQkJAAMBAwIHAwUEBwcJCAUJBwAAAQYCBAMFBAMHBAkABQQABQgEAwQFAQQBCAMDAwAIAgkBCAAHAgYIAwQIBAABBwYEAQcDAwAFAwEGCAkCAwYHAwQJCQUHBgAHCQcEAQgIAgEHCAcDBQEHBgEHCQgFAwIEBAkICQkABgcJAwcBBgIEAAECAgQGBAEBAQkHBAIGAwEGAQQJCAkJBAYDBAcGBAUEAAECBgEGAAgFAgAHAQIBBQcBCAUEAgMIAgQHBAkBAwkJAwADAQMCBgMCBAUFBAcHCAUJBAAIAQQCAQMABAAGBAcJCAEJBAABAQQCBwMIBAgFCAYEBwAICQkBBwcHAQEDAwAHBAUJAgcIBAAJBwYFBgkBBgEAAwkIBAIDCQIGAwYIBAMHAgMFBwMECQIECAEICQECBQEHCQAGCQcECQAAAwQGBgYBAgcCAwIIAAkDBgcIBwMBCQYBBAAECQYDCQMEBgACBwUGAwEEAQABAQYCCAMFBAkFAgYHBwQIBQkEAAYBBgIEAwcEAAUIBgkHAwgCCQAACAEBAgkDAwQHBQAGCAcGCAgJAAQGAgQACQIGBQcJBgQJAgEGCAUHCQYDCAUCAAcHBQECAQkFBgMHAAUHAQkBBgABBAYBBwQEBQkBBQQHAgkGCAEFAgYEAgQEBwgCAQAFAgkAAggCAggDAAYGAAQCAwEDCQECAgAEBQECBQYIAwkIAwMEBAAFAwYJAwAFAgEHAQECAQYAAgcBBgMHAQYIAAMGBQkABAMIAQQAAwEDCAcCCAYBBAAJBAUDAgAGBgEIBAMEBwgIBgUBBwEIAgAHAQcCAAMFBAYFBgYEBwgIBgAIAQUCBQMGBAcFCAYJBwEIBgkCAAcBAQIEAwUEBQcICAIAAQgJAwYJCAUDBgkIAQQCCQYBAwcHAQICCAMEBQEJBwYFCQgBBwEHAQACCAkFBQUIBAEGAgAAAwcGBwYFBggIAgQJBAgFCQEAAQQFBgkHCAEBAwIEBQUJBgIAAAMABggIAQcFAAcEAQkFAwgHAgUBBAQDAAQBAgQIAQEHBQQBBwIJBAcDBAAJAAUACQUEBwIAAQYFBAYIAwgBBgIDAwkGCQcIBwIGBwAHAQEDAAIBAQIGAwUECQUJBgcHCQgECQkAAAECAgEDBAQABQgGBggECQgABAEDAgADAwQABQQGBQgEBwkABQQJAAQGAAQGBwkGAwIIAwcECAgCBwIICQYDAwkIAwICAgIIBAQEBQEACAIIAAMBBwEAAgYJBAYBCAABCAICAQEACQYJCQYHBgUIAwUJBgMJBwcBAggEAwkICAcBAgkBBQkJBQkFBgAGAQcBBAkICAACCAAGBAAFBwYJBQQABAMJBwQJBgkHAwcACQMIAQMACQQJCQIFAAQDBwcJCQcBAAEBCAICAwMEAQUDBgYHCAgCCQUAAgEFAgcDCQQGBQEGAQcACAMJCAABAQMCAgMBBAUHBwgDCQMCBwIHBwkGBQQHBwMDCQUBBAABBwgAAAYFAwIJBwcCBAMGBgICAQEEBwgHAAkJCQMBAgIEBAAGAQcIBwkFBwQABQEABQkICQEIBAAIAgAABwMABQQBAggIBgYEAQYGAAcGAQQAAwkJAQMDAAIAAwUAAgkFAggFCAUJAAQFAwEEAQIJCAIFAwUHBwgBBAMGBgEJAwQHAQMDBwgFBwAGAgkDAwkDAgcBBAYBCQkDAQQABAADAQgCCQMCBAgFBgcACAAJAAABAQACAwMDBAEFBQYFBwkIBAACAQkCBAQEBQEGAAcGCAkIBAkICQYABwEIAgcEBQcBBAAABgMECAYIAQIBAQAHAAMEBQUIAAUABQIJBwIEBQEBAwEBBgECCQEBAwEIAAYFBAUJAwQECQMCAwAGAAkEAQQIBgkACAIFCAIABgYBCAQBCQcGCQkBCQkIAgEGAgcCBgAGAQgFBAUJBwIAAQEDBQAHBQUFAQgJAAADCAcHCQUHAQAJAgQHCAMGBgQHAwgEAAgDBgUGAAIBCQIIAwAEBgUJBwMICAAHAQYCAwMCBAMHBQgDCQAACAEJAgMDAgQDBwQICQkJBwAHBwAHAwMBAwgJCQcCBgEGCAYGAQUDBAEHBwMEBAUBBggABgQJAgEGBAkFAwABAQUDAAYJBAcIAgkGCAUFCQIJAQIAAwcFBgYGBgMHAwIDAwEEBwMCBwIBAwMGCAgHBQUBBgQICQAACAYFCAUIAwAHCAcCBQQAAwQHBAEGBwYGAwkBBAUCCAkBCQUCBQABBAIJBAQEAAYHAQEJAwQCBwkEAAEBBQIHAwYECQUFBgIHBwgFCQMAAQEDAgIDAQQHBQIGAQcACAUJCAAIAQYCBgMCBAIFCAYFBwMIBQkEBwAGAQQEAAEFBggAAAAHCQMGBQQEAwMCBgACBQECBwEHCQkECQEBAwIEBAQGAgcBBwEFBgQGBQcAAwkICQgIAAABAgkAAwMABQEGAAECCAkGCQQGBgQACAkCAggGBwQHAwkJBQMHAAgAAAUJAgAFBQgHCAAICQkBBAgDAggACAIFBAUFBwABAQMJBggJAwQBAQYHAQYACQEDAgMEBwcEBQEBCQcBCQAABgcACAEBAgIDBgQHBQMGCAcACAQJBwAFAQQCAQMFBAYFAgYABwYIAAkCAAkBCAICAwkEBgUEBgUHBwgFCQMABggGAwAJCAUJBQgCBgYBCAAECQkJAQAHAwEDAgADBwUBCQAGBQkJAQIBBQEGAggJAwUABgYIAgEJAgEAAAcABwAFAQgJAgcJAQgCCQAABgQIBwgDBAQABQAGBwACAwEGCQgCBwQABwQJAgEHAAQFAwAHCQUIBAYDAQQJAgMIAwEHBQQBBwIHAAUCBgUBBgUEAgMAAAUACQAFAwgDAwUFBwUAAAYFBAIIAwgBBgQDAQkCCQUIAgIFBwEHBgEBAAABAAIHAwgEAAUJCAcJCQAGAQECBQMEBAAFAgYIBwAICAkJAAQBCQIBAwUEBQUGBggHAwgECQYBBgQFBQYEAwIGAwEDAQAGCQkFAAQDAwcABQgCBAYABgcIBwABCQYFCQUBBAIFCQcDBwYFAgQDAAQABggIAwUBBwgCAgMICAkBAgIHCQcFBQgBCAUHBAECBwUBAQEHAAkDAQQJAgQGAQQABwgEAQIBBwgEAQIDCQQJBgICCAMGBAEJAAkGAAgHBQUFAQADBQQDAgUICQYHCAgBBQQJCQYACQgABAYFAwYABgUJCAAJCQEBCAcBBgYJAAUABgEEAgEDBgQDBQYGBgcGCAcJAgAHAQkCAwMGBAkFBAYAAAQBAQIEAwQECQUFBgkHBQgDCQEBCQQIBQUDCQMIAAcJBAUFBAEDBwAJCAcEAwYDBwIABwcJBwQBAQYECQQBAAICCQIDAAYFAgkDBAQDBgkHAAIEAwcIBAEJAgUJAggJCAYHAQEEBwMBBwEJAAIDBgQGAgkGAAQEBwcEAQIIBwEEBwIFCQkCBwcHAgMICQYHAQYAAQYGBQMBCAMJBQEJAAcIBAQIAQkFBgMJBAMBAAgACAYHAwMACQUJAQMICAEJBgQABwAIAQUCCQMDBAcFAgYBBwcIAAkFAAABAQIEAwcEAwYJBwcIBwAIAQkCCAMCBAYHAAgACQcDAgQDAQUEAwYCBgkHAgMBAwICAgEJCQIEAgcJAwcFAgQBCQMBBAEJAAQBBwQEBgMACAIBAQUHAAUGAAAABAIGAAIGBAgDAgYJBAIHAwMHAgYHCQEICQcACAYJAgIIAgkJAggCBggEAgQFBAUABwAFCAEAAwgDBgIGAwgJBQAHAgAHAwkGAQcHCAgDCQEFAwcJAgUDCQYJBAUHAAgHCAIHBwAEBQMHAQUACAEJAgYDBQQHBQAGAQcDCAAAAwECAggDAwQIBwQIAAkCAAMBBQIIAwAEBAUJBgkICAkAAQkABwYIAwQEBAQBAgYIAAEIAAAGAwQICQUHAwIBAwEDCQkBAgQABgkJAwEDAAkIAQkFBwIEAwkBCQYEBwYDAQcDCAIECAAEAgUEBQAHAggHAAgEAAMHBAAIBgkJBgMDAgcEAggGBgEAAgEJAAMIBQEDBggHAQIACQYHBwkEBQIIAQkIBgQFCQIDBgYCBQgCAQkHAwUJBQQHBgMBBQMAAQEFAwYIBgQBCQgEAAUAAQkICQYGCAEJCQABAQkCAgMHBAQFAQYACQMAAwEAAgEDAgQBBQUGBwcICAUJAgAJAQcCAwMBCQMIAgEIAAUJCAUCBwEFAAEBCAUGBgkEAAYEAQEJCQMDCAgIBAQHAgABAQUJBgIJCAkHBQgECQMGAAACBgQFAAUAAwgDBgMDCQIIAwAGBgQBAwAIAAQGAAICAQQBCQMIAggHAgcECAEIBQcGAAcCCQAGAwgBAQMBBwICBQQHCQYEBwMBBgYFAgMGAgEFAgUCCQUEAwEJBwQCAgYDBQAABgEJAgUDBgQDBQkGAgcCCAgJCAAHAQECAQMDBAUFAQYHBwAIAAkBAAEBCQIGAwQEAAUDBgAHBggHCQEIAQkDBQEHBAADAwYBAwYICAgECQEIBwMGBQUDBggECAIGBwUIBgEGAwQEAAcEAgIACQUEAAABAwkIAgcDAwIEAwMFAwUJBwcICQQCCQEJAQcDAQkBAgcDCAEDBgQDCAUGBAMICAgACQkCBgECBQABAQEABQYFAgMDBQgICQYAAAcJAgEDBwQJBQYFAwIBCAQFBgQHBgMGBwYABwUJBAEBCAMCBQECAgAGBwUAAwQEBQcACQYEBAABAAIFBQkDAAgBCAIDAwgEAQUGBgEHBggECQYACQEJAgQDAwQABQgGCAcACAYJBwADAQcCAgMEBAMFAgYGBwEHCQYFBAQDAQAJBgUGBgYACQcAAAAJAQADBQkBBAEFAgcGCQMFAAYECAEJCQEAAwIICAUHBwcIAwEGBAEIBwUBCAcBAQAGBwgGCAEGBgcAAgMFBAYGAwgJCQECBgEDBwQECAUGAgIHAgUFAgQCAgkBAwQJAgIGAgAFBwgDBwEEBwcHAQMIAwACCQQGAQgBAQcBBAUHBwUGCAMGBQQEAQIICQMAAQQEBwIEAgMAAgAJCQIDAAcDCQQHBQgAAgADAwACAggFAwUAAAECAgYDCQQABQIGAAcFCAUJAQABAQgCBQMABAkFBgYCBwEIAwkHAAEBAAIIAwMEAwUDBgAHBQgECQkIAQkDAgIGAAEABwUGAwMABQMEAAgAAgkGAQQABwMCBwMFBAAFAgkFAgEAAgMCCQAHBAMECQkDBAgIBwIEAwQICQAIAwUHCAQCBwYCCQIFBwMCBgYFBQcBAAECBgMJAQgDAwICBwgDBgEBAQcHAQAHCAcFCAEHCAYCAwEBAwkHAwACCAkHAwIGBAgEBwgFAAABBAUBAQIEAQYEAAkFAgEGBgUGCQkHAAIHBgYGAQABAAAEAQYCCQMEBAgFAAYFBwIICQkCAAcBBAIBAwIEAgUABgIHAggFCQYABQEDAgQDBwQBBQUGBAcHCAgJBAEEAwYFBwkFBAYBCQcJBwYCBAEABAUIAgMGCAYCBAkGAwYIAwUDBAgJCQcJBQAECQMBCQICBAUBBwQEBAEAAgkDBwUICQABBgYFAAcBBAABAAACBggFBwQCBgUGAQQBCQgIBQEGAwQAAAYEBAcDAwQGAQgBAAMDAwcDBAIAAAYFCQECAAYIBQEIAwYECQAAAQQDAAUGAQEDCQICAQADCQQFAQEEAwQGAAkDBAMIAwMBBwYHAAYCAwQAAwUHBgcCBQIHAAMBAgIEAwUEAwUEBgIHBQgACQUAAgEAAgADCQQHBQgGAgcDCAgJAgAEAQECBgMCBAkFBgYCBwkICQkHAgYECQEJBQcGAwEHAQQHBAgCBQUDAgQBBgkHCQACAwMCCQkICAEGAwgCCQMJBgcFBwICBwEIAQQCCQgGAAAGAgUJAwgIAAEDAwUGAQAGBAMIAQkIBwECAQcDAQkICQIGAQUHAwcCAwUCAgQGBgEFBQkABAICAggAAgMFAwEAAAYFBgABBgkCAwMHBgEJAAACAQcCCQMCBAMFAgYDBwYIBAkFAAkBAQIHAwIEAAUJBgYHBggECQUACAEFAgADBQQIBQQGAgcCCAYJAgQIBwAICAYIAwAECQAGCQcHBQEDCQADCAgFBAkHBwMJAAMJCAkDBggBBwQBBQEECQYJAgcACQYJAgcBAAEHAQcBBwcAAgUEAgICCQYEAAUACAMEAgIBBwQAAwACBwAFBQcFBgYGAgYJCAkCBwUEAgUCAQcEBwQEAwAJAgMEAQIBAwIDBwMEAQcIBgkGBgUBBQAABQAJBAYACQgIAAACAwAAAgkGBgkDAQAHAQQCCQMDBAEFAQYBBwMIBQkEAAMBAQMBBAQHBAgICQIAAwEBAgMDCAQDBwcIAgkBCQQJBQgFBQAAAQcJBwIFBAcGCQMJAgQIBwcABwQIAQcEAwQBBwkFAwgEAQcEAgkGCAkEAgEFCAIGAQYGBAQFBQMIAwcFBAIEBQkHAwIEBQEABAgBAwcABAgGBwIEAAkDBQYABAAIAAIEBwYJAgIHBAYGCAYDAgEFCAIDBwEBAAQDAQYAAgAABQEAAgEDAQQABQkGBQcECAYJAQAAAQQCBwMJBgQHAwAEAQkCAwMEBAkFBQYIBwkIBQkCAQYACQYEAwIEBgQBAgYIBQEAAAMGAAcCAgQDBgMGCQUDBAMICQIBAwUDAgUDBQEFBgMHBwMCBwAIBQQBAAQCAAcHCAUABgcIAAkGAAkEAwQCAwQJCAQGAQACBQkHCQUIAQQAAQYHBwICAQkHBwEJAgUFBgkFBgIIBggCAQgGAQAHBAUGBQUHCQMHBQEABgEAAQYDBwgEBAYJCQQBBQUBAQgBBgIICQkCAAcBAAIHAwIEBQUBBgcHBggACQcAAgEHAgADAgQABQEGCQcBCAMJAQAJAQICCQMGBAMFBgYABwAIAQkBAAUIBQcCCAgJAQkBAAIBAAQIBQYBAAYGBwUDBgIDCQkABwUBBgAHAQMCCQQJBgMDCAgJBAYEBwEFBAYIAwAFBAAGBQcEBgAEAwIEBAcCBwMEAgMHAgcBCAUFBQgABwUBAAQICQQCBgIHAwADAgIJAgMBBAAEAQgBAQICAgIJAwABAwMIBgYHCAMHBAEJAgEACQkICAUFAAcCBwgGBgcGAwgIAgIIAgQJBAgCAAIJCAgABwAEAQYCCQMJBAAFAgYACAYJCAACAQMCAQMABAQFAAYGBwkIAwABAQEEAAUCBgcHAQgDCQUIBgcEBAQHAAcDAwUJAQgCCAcDCQEGBQkCAAcEBAECBwYIAQEFCAIGBAQFCAUHCAIGBAQGBAUEAwEBCAMHBAUABQkBAQgCCQMBBwMCBgkDBQMGAgcCCAYJBQYFAQMBAwMIBgEHBgcFAAYFCAEBBgkGBwcGCQgFAwkHAgQEBwQABAkEAAkAAQMIBwYJBAMIAAEBBwADAQgAAwQIAAEBAwAEBAEHAgkFAgkACAYBAgMGAwIFAgQJCAkCAAUBBwIFAwMEAQUBBgMHBggBCQgABwEGAgYDBgQHBQAGAgkJAAgBAgIAAwkECAUABgAHAQgFBQcHBwABCAUEBgABAggBCAAHAgEIBAUIBAIEAwEIBgYBBQMJBggJBQMIBwgEBwkEBwUECAgFAwgCBwcBBwkJCAUGBwUGAAUIAggEAggBCQAGCAkCBwEGAgEEBgYBBAcJAgMDBAYEBgMGAwIBAQIABQUBAAYBCQIAAQAHBQgIAQkEBQkFAwUJAgAIAQgCBwMEBAEFAQYHBwAIBAkHAAkBBQIFAwkEBQcJCAEJAwAGAQgCCAMCBAYFBQYHBwMICQkBBgIABAMIBAIBAAQHAAcIBAYGBAQFAAQGAAgHAQgABwQHAgkBAAEEAAkECQUHBgQJAgYABgUFCAUFAwkECAkIBQQCAAQHBgEEAwgFAgYGBQEDBAgBBwADBAEHBgUIBAUDCQgCBQIHAAgJCQIHBAcGBgUFAgQBBgMEBgcGAwIIAQcCBgYHAAkHAwQEBwIIAgkGAgUJAwUHAQAIAwMJBQUGBQgJAAEABgkJCQUDCQEIAQcAAAEBAgYDBwQBBQIGBgcICAIJCQAGAQICAwMGBAcFBwYABwEIBgkFAAIBAwIHAwIEBwcICAUJBQADBwMAAgcJCAEDAwABAAUFAgUAAwYIBQgEAQUECQYHAQAIAQACAggHBgMBCQEEAAEFAgMFAQkJCAMJCQUFBAEDBQAJAwQDCQQABwABAQIDAQgAAQYCAgQDBggGCQcFBAYFBgEHAQEFBAAGAgIFCQUBBgUGBQAFBQMIAQcEAggEBgUDAAcCAAkJBwUIBgkHAgEBAwQCBgYBAgMGCAcICAcHAQAFAQQCCQMHBAAFAgYBBwMIAAkJAAQBAgIFAwkECAUIBgUHCQgHCQIAAgECAgYDBAQBBQcGAAcICAMJBgYEBAACAgYBBAcHAwUHBQgECAcCCAQJCQIFCQYDAgkJAwcIAwIFAAEJAAgGAAQFAAYBAAkBBAABBAcCAQYJBQcDAgUCAwUIAQADAAUFCAQIAwgEBAECBQIDBAABCAIDAQYFAggHAwEIAQEIBwEHBwMBAwMGCAAFCAACCQQHCQYGBwgEBgEJBgUIAQQFBwcFBAEDAgkGBQcCAQYJBwgAAAgGBAkJBAMJAgkHBgUCAwMCBwEBCQkAAgYCAQUDAwYHAQgGAAIBBwIJAwUECAUHBgIHCAgGCQQACQEDAgUDBQQHBQgGBAcHCAQJAwAGAQACCQMEBAQFAAYDAQcDBAUDCQYEAQECBwQBAwQECAQDCQgEAgYJAQMACAUICAkHBwQFBQkAAgEFBQcDBAEBBQIFAwQFAwkDAQQBBgAIAAACAAgDBwEFAwEDAQMIAgUHBgcEAQABAwgABwMFBwEGBAkGAgcGBwYDCQAAAgQGAAUGCAEJAAMJBQUIAQIDBQcIBgcJAwcIAwIACQUIBgECBQIGAAIBBAIHAwEEBgUABgMHAAADAQMCAgMDBgkHBAgGCQgBAgAHAQECCQMBBAQFBgYABwkIAAMJAQICBgEGCQUCBQQJAAkJCAkHAwcHBQcECQkBAAQDAgQHBQIHBQIIBgYDAAYEAwAEAwMICAEBAAkDBwAEBAcHAgQHCQcCAgkGAQkCCAUDBwgBAQcJAQcGAgcHAwUDBgYIBQEGAgcDBggICQgEAgYJCQUJAwgHCAQCAwQAAQQFBgMGAgkFAAYBAgEJAwYCAQEBAAEABQECAgEDAAQGBwAIBAkHAAgBBAIFAwcECAcGCAgJBQAHAQgCBQMEBAcFAwYCBwAIAQgDAAcFCQYIBgEAAggHAAkCAAMABwcJBwQJBwABBQcBAQkEAQAFAAUECAECBwIFBgcCAQUDAgMEAwkBAQYICQcHBAQCAwMABgICBgYACQgECQgEAQMGBQQECAgDAQMFBgkAAAUGAwQBAwMGAgMHAwIIBQECBAIHBAUBBwYCBgIIAAEABAEFBwEHBwkHBQUJBAgBCQgGAAgHCAYCAQMCBgEBAAIACQIIAAUBAgMGCAIFBAAIAAUJAAIBBQIEAwMEAwYABwQIAgAHAQQCBwMHBAMFAQgFCQAABAEAAgkDAQQJBQEGAwcFCAUJBAAJAQkHAQkJBQQBAQgICQcEAQMBAQYHCQgHAgAECQMGBgkJBgkIBQAICAYJBgEIBQIABgcDAQkCAwECAgEBBwQEAAgECAIJBwAEAwADBwkEAAcFAQIJCQMEBQECAAQDCAcGBwgHBAgIAggJAgcABQAFBwEDAgYGAwMDBgEGAgADAgEICQEJBgQBBAABBAEDBAEHBgcBBwkBAAUBBgIHAwgECAUGBgMHBQgACQUABAECAgYDAAQDBwUIBgkEAAYBBgIDAwYEBwUBBgQHAwgBCQgHAgcBBwcDBwEHCAgHCQYCAAICBwYGCAUDCAICCAIBAAEEBwICBQAHBwQBAwYAAAkEBAYDBAMEBAUFCAQABAYEAggDBAEFAwUGBAgBBAUABwcBBQYIAAgDAwMHCQgACQkCBAYCAgMFCQMGAQgHAQMICQQBCAkCCQUGBwABAwIJCQIICAABCAQIAwkFBAIICQECAwkBAQYGAgUBCAgJAAQJAgMFAwAHAQQCAAMEBAIFAwYJBwcIAQkAAAYBBwIBAwAEBwUGBgIHCAgBCQEACAEDAgUDAgQEBQEGBgcGCAUJAAYDBAcCBwYBBAEHBQUGBQgECAcBCAAJBgIHCQkDBgkJAwQIBAIEAAUJAAgIAAAFBwYBAAQBAwAIBAUCCQYCBQADBAUCAwEIAQMIBAABBgUGAwcAAQgGAwkAAQYBAgQHBQECAQcICQEBBwEBBwMDCAAFBwIAAAYJCAcFBgUHBAQJAQEGAggJBAMHCAUEAQgCBAYEBwIJBQgBAAQGBwkJBAEGBwIFAwIHAAEICQICAAIGBQcDAQcCCAkAAgEJAgQDAwEDBQEGAAcICAgAAgEEAgMDBwQIBQQGBQcJCAIJBQAIAQICBgMCBAAFBwYFBwgIAAkDCAUJAwIIBgcBAQcFBgEDBAUEBAEIBgIHBgQEBgcEAgIDCAQFBQkJAAIBAAMDAgkJBAYJBgcJAwcJBAMGCAkHAAEJBAUJBAgCBQQIBAIJBgEJBAUEAwIGCAUAAgUFBgcEAgYDCAEDAwACCAcAAwEBCQkCAAEBAQcJAAMICAUJBgAIBwICAQUDBAUBAAUHAwAGCAIHAQIIBAUEAwgGAAEBAwUHAQABAgYAAAcAAQQECQUIAQUIAQMGBgYEAAEHCAYFAQIBBwAEAQECBwMEBAcFAQYIBwYIAQkDAAIBBwIHAwkEAQUABgcHAAgDCQEACQEEAgkDBwQFBwYIAAkCAAUHAQgEBAQBBAgHCAkBAgMEAQEIBgMHBwEJBAMHBAgHCQgJBAEHBAgDCQMDBAEFBAcGCAUABgQHAwcBAQkGAgQHCQYCBgkBAwIFAAMCBgEAAgADAgMEBwIABwUEAAkBBQUBBAIBAwAGBgEJCAEDAwgAAAUDBAAFBgQBBgYHCQUFCAkBBAcFAggIBgAHAAEHAQgHCAAIAQQCBgMCBAMFBwYEBwEIBwkCAAMBBwICAwMEBgUFBgUHCAgFCQcACAEFAgYDBQQIBQAGAAcJCAAJAgcDBwMHBgMHAAcDAAEJCAUHCQYFBAkFAQYBAAQCBwYICAcDCQIDCAQBBwEIBwYCBQABBwUBCAYFAAEEBAYJBAkEBQUGCAkAAQYCAggDBgEGAwQGAwUEAQUICAQIAAMHAQUBCAIIAwMFBwEIAwkDAgcGBgIHBQIDBAEGBwIDBAkBAQAJAAkGBgEAAAkGAwEHAQAEBAMFBQAFCQgCAQgFAQUEAwMABQkCCQkHBAcACQIDCQIBCQYFBQAIBwkHBAUCAQUFAAQBCAIEAwgEAQUGBgkHAAgACQAAAAEEAgcDAQQDBwcIBwkJAAkBAgQJBQMGBQcECAUDAAQIAQQEAAYABgkHBwMDAwAEAQMCBQkACQEGBAUGBwADAgIIBQICBQkCBAEJBwAAAgIGAAYGCQYCCQEIBAkHAgcCAwkFCQgFAwQABAUABQAGCAcGAQYDCAkFBgMGCAYFAQABAwYGBgcGCAUDCQEGAwUJAQUAAQYFAwUIAAkHBgMBAQAHCQYJAAkBCQIFAwIEAAUABgkHBwgBAQcCAwMEBQYGAgcEAAQBBQIJAwUEBQUCBgYIBgEIAAECAwEEBQYGBQEJAQMHBggBBQQBCAYGBwcAAQMCAwQAAAIEBgkJAQgGBQkICAYCCAYJAwkHBwYBCAIDAQkBBQECAgMIBAAEBQMHAwYFBQMDAQgJAQcDAgYEAAkEBwgFCQUEBQcGAgEHCAEECAYCCQEEBwUHBQMJAgMAAQQHBgcGAQgGBQAJAQgJAgYFCAEEAAAFBgACAwIECAMCCQIGBAIFBQIACQYHCQMAAgEFAgYDBAQGBQAGAgcICAMJCAAIAQcCBgMIBAMFBQYDBwUICQkHAAABAgICAwMEAwUBBgEHBQgDCQQHBQcIBwMDAAAHAwYBAggIBwAGAwQBBQAGCQADAgcGBQgEAwICBwgDAQEBCQcHAgUABgcHAQQGCAAIBAkGBgQGBAIFAQgBAAgGBwIBAwIDAAYIBQIBBAgGBQIJBgQEAAIHAQUICAkIBAMGBwEIBQkEAgAGAAIJBQMDBwEJBwMDAAkJAQAJBwkABgUACQkJBAYDAgcIAAcEBQUEAAkJBQIECAMBBQQJAwQFBgIFCQMEAwAHAgYJBwECBgQFAQgHCQUEBwIGBQkABAEJAggDAQQGBQEGBwcFCAYJAgABAQUCAwMABgIHBggIAAYBBgIDAwEHBggICQkBCAgJBgIHBgEBAQYEBwMHBwEHCQgFCQIDBQYFAAADBwYBBAEIBgMAAQQBAgUICQMABQQFAQkHBgkIBQIBAQEECQkIAQYBBgMACAECCAEICAMDAgEABAkFBwQEBQUECAYDCAUACAIFBwQEBwcHAwcFAQEFCQMBAAABCAIJAwgEAwUEBgAHAwgGCQQABgEAAgADCAQHBQUGBAcBCAgJAgAJAQkCAAMJBQgGAggCAQEECAUJBAkCAwMGAwEAAgUDBAEDBwAICAAGAgcDAAUHBgcHAQMGAgkJAgcDBwYAAgMDCQYFCAIFBAIBAwcIAgECAgYJAgUHCAQIBgcAAQEHBgEAAQYACAMDBAMCBQYEBwcEBAIFBwkEBQIJCQICCQcICQMCBggBBgYBAAADBgEIAgUHBQEAAgUJAwEFAgcGBAYIAQUECQMGAQkIAwAAAwABBggDBQAABQcICAkFAQYIAQEHBgkABgAEAQUCCAMFBAMFAAYGBwAICAkAAAABAQIAAwkEAQUGBgUHCQAJAQQCCAMGBAQFAQYCBwgIBwkDBgQEAwIJBgkECAcCBQIFBQcACAYJAgIICQEDBgkHAgAAAQkECAUABgUGBgcABQEBAAUCAAYFBQgDAwUFAwQIAgAGAAkFAgQCAwAEBgEJBQYDAgAACAkGCQIFBwEBAgECCAkBAAcCAQADBwgCBQIEAQIEAAMJAwcFBgAHAwQIAQIGAAgEBAYHBwUFAQUCBgYBBwgBBQkACAQJBwQDCQIJBwYIAgUDAQcGAQcJAwIGAgQFAwMHBwAIBwACAQACBAMHBAYFAQYDBwgIAQkJAAgBAwIBAwcEBQcBCAAJAQAEAQQCBAMBBAcFBQYIBwIIAgkFAAEJCAUIAAMJBAgCCQgEAgEABwIHBgMJBQABAQAHAAEHCAAAAQMCBgIDAwgHBQMIAwIGCQYFAQAAAgkBAAIBAwcFBgMDAgIGAwQBCAkCAQYHAQYECAkEAwMJAQQEAgAJBQIDBgYGCQcBBgcJBQAEBwQHBwMCAAIHBwYJAwUHCAkJCQgJAAIBBAIIAwUEAQUBBwkABgECAgIDBwYHAQUCCAMFBAkFAgYCCQEJCQYEBQUJCQIEAwMBAwIAAQECAQEGAwYCCAYEBQUDAwAABgcEAgAGBQUJAQkFCAABAAcEBAQHAwAHAQQGAgMBBwMJAwAGCQIFCQMJCAYIAgcAAQMEBgACAwcJAgADBwcCAwEHCQIBCQUCAQIHBAIJAQEGAggGCAgAAAEBAgIDAAQJBQkGBwgJCQgABwEEAggDCAQBBQQGAQcJCAIJAwAJAQYCAAMHBAYFBQYHBwMIBAkHAAUJBQQHAggEAwEGBQgGCQEJAQcHCAgIBQcDAQQEBgAHBwAHAwMCAAYGCQgIBQUICAEGAAgHCQMJBAcIBwcCBwEAAQEBBAIECAAHAwYEBQADAwgEAQQDAQYFAAgEAAgFCQUEAgkCBwgJAQUJAgUHCQEHCAYCAgEGBwAHAgMAAgIABQQHBgYGBAkJBAECCQgBAgQFAQEBAAAFBgAHAwAEAQMCCQkGBQcHAwcEAAMEAAIGBAkBAAMBAQIIAwcEAgUGBggHBAgFCQYABgECAgIDBwQABQYGBAABAQkCBgMFBAMFCQYFBwcICAkBAgABCAIEAQkDCQkBCQgDAgcAAAMHCAcBBQIHAgkCCQYEAgcHAAYBAwQIBAIHAAUBCAIBBwQBCQkIAAQBAQEIBAYBBgMEBQYDAAUFCQUJAwMDAgUCAgcFAAcAAgMFAgkFBgIJAgIABgkCBAEBAgIAAAgHAwEIBgMEAAgICQcEBAQJBwUDAAEJBgcBAAIABgQACQkBBQYBAgIHCAYFCAgDAwUJAggBAQgIBgkBBQAAAwUBBwQIAAIBCQICAwUEAwUFBgEHAwgGCQUABgECAggDAwQBBQkGBAcGCAAAAgEDAgADBQEABQAGCQcDCAEHCQAJBgQAAAcFAwgIBQYCBwYBBgMEBwMJCQcJBAcAAAICBQAAAwYJBAQJBAUABgQFCAIDCQgIAwUFAQgJAQgBAwAEAQAIBQQEAggGBggDBAQCCAUACAYGBAAIBQEHAwEEBAAHAQEJAQIIAwMHCQEHAgUHAwIJCAAHBwACAQAJBgYHBAYJBgIEAQcCAgMHBwkAAgIBAQUDBgQJBwYCBAUDCAkBBAYBCAQFBgYJAAYIBQkJBAQJBgIJBgUABQEEAgADBAQGBQkGBwcBCAcJAwAAAQICBwMHBAkFBwYCBwcIBgkBAAgBAQIEAwUEAQUFBgEHCAgICQUAAwQHAAIBCQcJCQYFBgEIBAICAggHCQAEAAMIAQcHBggEAgYEBgQEAwYDCAYICQAJAwUBCAUGCQcBAAgGBggHAgUGAwMBCQEIAAYIAQIHAAQFCAkIAwkJAAYDBgMDCQUABwkIBAYBBQAAAwkHBgUDCAIHCAcACAICCAkHBwEBAQIDBgYEBAIIAwEGBAYJAAYCBwgAAQAGAAEDAAEEAAMDAQEGBgECCQEAAQEJAgADAgQCBQUGBwcGCAcJBQAIAQMCBAMBBAcFBAYCBwYIAgkFAAYBAQIHAwIGCAcFCAAJBggIAQEAAAcGBQMBCAgABgEECQEACQYDBAgDBAUEAgcBAAUBBwkJAgcIAgcGCAMCBAUICQQGAgAABgQFAgUFAwIDBwMCCAkBCAQBAAYGAAEBAAcABQYEAgYBBAEHAwkCBwgHCAcHAAAFAwQGAggCCQcJAgIFBAUJCQQJAwMGCAIJAgYFCAMEAggFBgUBCQcBAAYJBQUAAQEDAgADBAQGBQIHAAgEAAABBQICAwEEAgUFAAEBCAIJAwAEBQUJBgECCAEJAgEBAQMICQgJAwgGAwEHBQAABwMHAgUJBwkJBQkBBAgHCAAFAwQECQEIBwAFBAgIAQkEBgkGCAYECAEHCAMGAAYFAAIDCQUFBQMHBgkIBggJBAIJBgkCCAEFAgIACAgJAwMIBwMHAAIIAAcIBAgJBAUIAAIJBwAFAAQECAYHAAcJAQEGBgQCAgYBCAMDBgEECAADAwEJAAkDBwECBAEAAgEDAgUDAAQEBQgGBAcECAEJAAAFAQMCBQMDBAYFAQYIBwEICAkHAAEBCQIBAwIECQUDBgcHBwgDCQkIAwkIBQUHBQACAwIBBQYJCAEECQEHBwcGCQUGBgkHAggAAQcEBAAIBQUACQEFCQYCAwMFAgMDBAUIBQYHAAgDBAAJBgkEBwABBwEACQYIBwMFBAAIAAYJAwYIAAABCQMGCQIIAQUACQECAAUGBwIAAwEIBAkAAAgHBgIJAwEEAQgHBQEEBwYABgcGBAcECQABAQIHAQcCBgYABQMDBgQFBwMJAgQAAAcACQUACQMAAAEBAgcDBAQJBQAGAAcJCAgJAgAAAQICCQQDBQMGBwcCCAcJAQAHAQECAAMBBAUFBgYDBwQIAQkFCAkGBAUAAAQGAQgCCQYEBAEJCQYFAQMEAAAEAAgACQQBBgUABQUCBAEIBAAACQcHBgQAAQEECAQJBwQCBwgGAQAECAMBCAcEBwMBAwICAwABBQQIAgYABgACBwIIAQgGBAcHCAIDBQQGAgMDBgYEAgYFBQMBBwMCCQgCAQUJBwIJAAgBAgEBAwMJAQIDAAAIAQgCBgQABQYGBAcECAQJBwAFAQICCAMIBAAFAAYFBwkIBQAHAQICAAMCBAgFCQYCBwYIBwkABwICAAkJBAECBAkECAEEBQUACAkIBAAHAwYFBQQHAwQDBgQGBgIFAAEGBwYICQQIBQgHAgMHBQQCBQMEBgQGBwcIBwMHCQYFAAcBCQABAQEGBAUDBQQCBAkJAwkBBwQBCAUIBgcFBgYCBgIBCQUGAwUJCQABBwIFAgQHCQkIBwAJAAgECQQHCQAFBQYACQMCCAkEBQYDAQQECAAHAwUGBQIDAAMBBAMHAQEAAgkCAAcBBAIFAwQFBQYABwcIBAkFAAABBgQCBwIIAAkDAAkBBQQEBwYIBAkHAQYHAQkHBQkBAwkEAQMHBwgGAgEDBgYDCQEJAQUJCAkGBwcHAAEGCAgCAwQJAAgJBgcBAwcDCQYEBAEHAAkDBQgCBwQHBwgFBwkGBgYIAgUIBQECBgABBgAIBAMDBQEABgUBAwkIAAQBAgICAwAEBwUDBgIHBAgBCQMAAwEGAgIDAgQABQUGAwkFAAABAwIIAwIJCQAICQEAAgkBAwYCBAcJCAUEBgYIAQcAAgQCAAMFAQAGAQMDBQIECQMBCQYBAAYBCQEBCAEABgQGBwcHAAYBAwAGCAAEBwcEBgQAAQgIBAMBBwYBBAkGAwkIBAAHAQcCBgMBBAAFBAYBBwcICQkDAAkBAQIAAwEEBQUBCAAJAAAHAQMCAgMGBAYFBAgICQEIAAMIBAEHAAgIBgcDBgQDAAMJAwcHAQUJBwMECAgEAQcEAwEABAkFBgUBAwQDBQcEBQYHAgEABwYJAgQBAAEHAQMBAwcJAgcEBgcGBQQCCAkABAgFCAgEBAkCCAAGBQkBAgEGBwAGCQYCBgIIBwIGBQACAwICBwkHCQQDAAECAQQBAgAFAQAIAwIDCQMHAQAIAAkDBgABBQAGBQkJBQgDBQMIBQUBBQkIAQAFAwgABwgIAwgJAgYEAwAABgEHAgEDBwcACAEJAAAGAQcCBgMJBAUHCAgJCQYABQEEAggDBwQEBwYIAwkJAQQABgEFAggHAAcFAwACAQIFAwYJAgEIBwAJCQUJBwcCBwkEBgEBCAMBBwUDCAkGCAkIAggBCAYIBQQCBwcCAgEECQcIAwcECAUICAAABwEJBAUEAAEGBwgHAgkGAQAFAQgCAgMFBAMFBgYABwIIBgkIAAABBAIEAwEEAgUCBgkHAggECQcAAQEGAgcDAQQBBQEGAAcJCAUJAAAFCQEJBggGCQIICQQGAQIHAwcDAwkFBgEDAAcACAIIBwQHCQgDAgcABAEAAgcGBwMHAwUHAAMGAwQEAQYJBggGAgQDCQkBCQUJAAAJBAgJAgAABAACAQkHBQYGAwcCAwEHBwIEAgYHAwIBCAMACQQBCAcDBgEIBgQCAwABCQACCQMGCQEJBwMFAgQHBAUHBwIGCAIEAwgJCAkEAwgJCQYIBwAGAQACBAMCBAYFBwYABwIICQkIAAkBAgIGAwkEAgUGBgYHBggDCQIAAAEEAgIDCQQJBQkGAgcFCAgJBAEBAAkEAQUBBgYGBQMCBAgEBQIBCAQBCAACBggEBAkGBwICBgMCAwQJBAIEAAgJAQMFAwEJBQEHBQYCAQMEAQkGBwcIAwYHBQgBBAkABwIABAUABgIABAMHBwgBAAEHCQAJBgcJAAMGAgcEBAAGBQEHAwUDAQgAAQgGAQIGAgcDAgIJAQcFCQcFAwgDCQcGBwUAAggGAQIHCAYBAgcJBQQFBQcFAwEFCAACAQkBAAMFCAIEAAkFBAgFAwEICAQGAQgGCQMAAwEGAgEDBAQEBQYHAgkBAAgBBwIHAwcEAgUCBgkHCQgHCQUACAEABAEHBQgJCQQIAgEJAAIJAwUHBwQIBgYECQMABgQAAQQJAAMGCAkEAQQIBwQACQEJCQkCAQgDBwAIAwkJBgEAAgYCBQIFBgMAAwcDBQQHCQgEBAABBggBCQAAAAEGBwIDAQABCAMJAgUHAgcFCAcGAAAHAgEACQMABgYICAcGAQcFBgkFCQIDCQcGAgUEBAkJBAYDBQYGAgAECAEBBwICBQAJAQQCCAMBBAUFAwYJBwIICAkJAAEBBQIGAwYHAAgDCQIAAQEBAgEDBwQBBQAGBQcICAYJAQAICQcFBQYCBAgBCAkAAwkIAAQFBAEHCQAEAQQJCQIFCAcHAQgIBQkJAgYEAAYGBQMFAwEDAAkFCQIIAAEJBAIABwYJAQEABgABBgICBwEJAQQDCAIHBwEHAQcCAAgHAAAJAwcGBwgJAgUEAwkBBAcDAAYEBQgFBAkFBAEBAgcFAAkBAwIAAwEEBQUEBgQHCAgFCQgAAwEEAgMDAwQCBQkGBAcHCAIABgEAAggDAAQFBQgGAAcBCAkGAwIEBwgBAwUABgICAQUFAAEFBgQAAgMAAggCAAcBAgIEAwYEAAUFBgQHCQgBBwgBCAcJBwEABAEDBAgEBwQDBQIHAwQHCQQHBQIBBgcDBwkDBAMJCQAGCAEHBgkEAAcGAQMEAAMEBQYGAwYHBQgBCQcDAwEECAgEAwIACQYIAgIDCAYGBwUCAgUGBgkIBgkABgMABggDBAECAgMFAgABAwEHBQYGAQcFBQUJCQYICAACCQQAAgEDAgIDBAQGBwYIBwkJAAcBAwIFAAcBBgUCAQcDBAkFAAIJBwcJAQUDCAYICQYCCAQHBwYHAAQBAwMIAwMDBwgBBAEHBwgJBQMGCQgBAgYHBAkDBQkDCAQBBgAGAQUCCAMIBAEFAQgBCQUACAEFAgQDBAQABQEIBQkBAAkBAwIEAwcEAgUHBgkHCAgCCQcDBgIACQgDBwIEAQgECQUFBQkCBwMHAgkBAAMICQkHAAIFAQkJCQEHCAEIAQcHCAIBCQAGAAQGBAcBBQEACQYDAQEBBAICBQkACQcICAcEAgQFAQkIAgUGCQEACQMGBwUBBwYAAggGAQYHAQcDBwgBCQkJAQUJCQYDBQcCBQEGAQIJAgMACAkEBAkABQEFAgYDAQQDBQYGAgcCCAMJAwEHBAEHCAACAQgCBgMFBAIFAQYFBwQICQkDAwEHBwEEAAcHBgUIBQYGBwEGAAIAAggIAwQECQMIAQQJAgUCAwUEBwkIAwQJAQIABAEFBQEDBgMECAkHBAYJBQQBAQQCBgUFCAABCQIJCQkEAQMICAUCCAIIAQUCBgEEAQADBAkFAwAIBAcBAAAHCQQICAcIAwUEAAgGBAYDAwgHBgYHCQcJBAQECAkBAAAFAQUCBQMBBAYFAgYABwIIAgkHAAkBBQIFAwEHAAgACQQACAEFAgIDBAcHCAMJBAEGCAQGAAcEAQQBBwQDAwMHCQcFCAUJAgMBBggABwMABgIEBQcCBQgGBwAGAwEICAMGAQYBBAUDCQcABAkGBgYCCAEBBwUJAgkHCAUGCQYFCAkIBAICBgcDAAIICQQAAAMDBQQIAgMHBQMIBAUCBwUHAgAHAQECAAMIBAYFCQYBBwQIBAkGAAMBCQICAwYEBQUFBgEHBAgDCQEAAQEAAgEDBAQJBQUGBwcFCAkJCAEFCAkGAQcJAgUHBwEJAQkEBgMFBwkIAwkBAwkGAgAEAwUEAAgIBAEFBQcJBQMACAMGCQgCAQgCAwkBBAEDBQcJAgQDAwMAAgQIAAcJAgYHCQMCBgICAQEHBAkDBQEBBAECCQgIAAYICQQABwABAAYBBAgIBAcIAQgBAgMGCAMIAgEJAwIBBAUAAwkFAAADAQcEBAYFCAgJAwUFAggCBQQEAAcIBgQFAAIGAgQCAAcBBwEACQUBAQEFBwMBAAcBCAIGBQUGAAcJCAEJBAAEAQQCAQMABAUFAAYFBwYIAAAGAQQCBwMFBAcFAwYDBwIIBgkJAggBBQcFAgQFBwACCAcAAwIBBwUIBQgJAwcACAYGAAcCBAcCBgEGAgEIAggIAggDBwMHBQQJBwIHAwMCBwMEBgUBBAcDAwMACAkEBgUJBAUBCQECCQMHAAQFAwUHAwMAAwYABgIGBQUFBwYFAwEBCQUAAgEFCAkJCQcIAQQFAQgABQYCAAcJAwYJCAYIBgUHBgcBCAECCQAIBQkFAgYDBgUBBQUJCAQEAgMBCAkCBAgJBAEIAwQJAAICAAYGCAADBAUAAwYCAAMBCAIEAwAEBAYDCAgBAQIAAwcEAQUJBgIHBwkFAQECBgMFBAQFBAYABwIIBAYFBgEABwIAAwkHAwQBBwIBAgkAAQkHBAEIBAYABgAFAQIHCAUGBwkBAAMJAwgDAQEHBgEJAQcGBAcDCQADAgUGCQAHCAkJCQQGAwEFCQQCCAcBBgUHAAgGAgYJAwYDAggIAQYEAwcGBQMHAAIIAgAAAAAFBwcHAQkDBQgJAwgACQgGCQgJAgEDBAYGAQcCCAkDAgEFBwIDAgUEBggFBAIGAwUDAAMBBgICAwYEAQUJBgIHCAgACQMAAQEIAgMDBgQGBQYGCAcICAYJAAAFAQUCAQMHBAkFAwYGBwYIAgkHBgQCAAcCAQQFCAYIAgYFAAADBQcEAQIBAAIIAgEBBwIBAggJAwYIBgcHAQQHAQcBAAABAwQGBAAEAgUBBwEECQQHCQkHAwIHBgAFBQMBCQAECQMDCQAACAgIBwYJCQACBgIDCAAHBAEGAgMHBwAACQEBBAYIAggJAQICAwkBAwEBAAgDBAcCCAkFCAgCBAgFBgMGAgkJAgAJBQYEAAUFBQMBAwkGAAMAAQkCBwUJAAADAwcGAQAFCQUECQIICQAACQkABgEFAgQDBgQBBQEGCAcGCAIJAwAIAQcCBAMHBAkHBQgCCQAABQECAgEDCQQABQcGBAcJCAEJBAkGBwMEBgEEBQQIBQgBAAYJAAMBAgIHCQgIAQUGAgEDAAQEBwUAAwUJAQQHAwkECQIHAAIFCQABAQEDCQIBCQUBAAYJAAgBBwEICAgAAAQABwEHAQYBAwMGCQAFBwcDBwUGBAMCAgQBAQEIBQMJBwgBBAABBgcHAwEGAgYFAggBAQAJAwMBCAUCBggICAYHAQEBBwgJAQIAAAcBAwIHAwkEBgUIBgQHAQgACQYABgECAggDAAQFBQAGAQcDAAUBBwIEAwEEAwUABggHAQgGCAYHAAQHBwIHBQMHCQMIAAEABQAIAgIGBwkECAIGBgYEBAUEBQEIAQYGBAUEBgQDAQMICAcGBQQFCQEACAEJBwMGBgEDBgMDAgkCAwYBCQUJAQYFBQYFCQMAAwkIBwEEBgcFBwYCCAUBAwkEBwEGBAgFAwEHCAQEBwAACQkCAAEAAQMEBwEJAQMHAAECBwACAQgAAgEIAAAEAgAFAQcACAQCBwkJAQICAAIGBQIGBgMCCQICCQUJBAAGAQECBAMHBAkFBAYCBwQIBAkDAAYBBAIGAwYEAAUFBgcHCQAEAQYCCQMJBAUFAQYBBwMICQkDBwMECQMJCAgFCQEICAMFAQIACAgGCAEGCQkCAwQHAAYJBAkGAwcHBwEBCAgEAgQJAgUHCAUGCAYFBAMDAggCCQAEBQEIAwYHAAIEBwAHAwcIAwEBAAADBAAABAEHBAQDCQECBQkJAQkCAAEFBwEBBwYEBwADBQMCBgMCBAgEBwYGBAQICQUIBAgDAggJBAYBBQAFAgkDBQYDBwcABAYDAQYHAAQAAQQEBgUGAgkEAAYBAQECAwACAQEJAAgACQEHAgQDBQQIBwQIBgkDAAcBAwIFAwMEBQUJBgkHAAgGCQIABgEDAgcDCQQBBQQHBwgBCQQIBQYBBQMAAQYBCAYJAAQAAQMJCAUEAwYAAwQECAgJBwEIBAAAAQUIBQgECQAGBwMGBQAJAQAHAgADBgYIAgkABQkECAcABgkAAQgDAQIHAQcFAQADAAIHAwkBAwQHAgEACAAGBAQJCQMGCAgEBwcFAgUFAgYHAwMGBQkGBgkDBQIEAgcEAgYCBQQFAwEHAwQDBAkFBwgIAAcIAgECAQUHBwEJAQgBAgEBAwMAAQYDCQAHAQMCAgMJBAYFAwYDBwQICAkJAAYBBwICAwMEAQcDCAQJCAACAQQCAgMGBAEHCQgCCQIHBwcHBwQDCAAAAwQBBQgABwAGCQQCAAICCQYCCAkDBgEAAQEHBAcDAQUGAQAFBAUGBwQJBAEABgYIAgUDBAEJAwQGAAgHBQkJAAQIAAkHAgUCCAgIBwMDBwMICAkIAgYFAgMIAQkHCQMBCQYBCQkFCQYGBwAECQQEBgMABwQAAAQAAQYEBQMDBQMEAwAFAggBBggICQcEBgAIAQMCBwMBBAMFAAYABwMICQkFAAEBCQIEAwIEBwUBBggHAAgBCQkACAEEAgEDBAQEBQIGBwcCCAUJAAICAgIHBwYFBAIACAUHCAYACQcIAwIFBAQGAQQIAQAHBQUCCQcFAgADCQECBwAHBgkGCQYBAgIJBAQGCAcABwkFBwQABQgAAQEAAQcJBwAGAgYACAMDBQcGBAECCAgGAwQABggAAQYJBAYDAwkEAwMACAADBQICBwUACAcIAQgHCQQEBAIICAcIBgUABQAHBQEAAwEGAQkJBAgBBAMJBwcGBQkCAwIDCQcFBAEBAgkJAQcAAgYDAAYBBQIGAwMEAQcACAIJAQABAQMCAwMDBwYIAgkGAAYBAAIGAwMHAAgCCQcBCQgHBgMHBQIHBwgBAgEEBAMDBgcJBwcIBQkJAwgGBgAGAwcGBwEACAAEAwUDAwAJAwICCAUDCAECAQIFAwkAAAcECAQDAAgJAwYECQQCAgIGAQQHBAkBBQQBCAEFCQEICQYIBgIJCAAHAAcABgEBCAQEAQYECAkIAwIJBgEDCAIBCQACBQkDAAgDBQcEBAQFBggIAwYFCQgIBQkECQcBBgMFBAIDAgkHBQcJAAYFCAUJAwMAAgECAgEDAAQCBQUGBAcDCAIJAwAFAQgCCAMBBAkFCQYHBwUIAQkJAAUBBwIJAwYEBgYDBwgIAgkABgMCBQcIAQgFBwYHAgYACQgBAQYHAQECCAkDBQgHBwIBAQcJBwkAAgEIBAQEAQcFBAkEBgkABwYCCQYCBQgDCAkHBAcDCAkCAAgIAQcHCQUACAMEAAEEAQYEAwUHBwABAQkECQgBCAEBAwIACQIDCQgICQIIAwIJCAYGAAUDAgcGBgIIBggABQUIAwgDBQYBAwACAQcJBgAFAwkACAUAAAkDAAkBCQIIAwAEAgUEBgkHBQgJCQMACAECAgIDAQQIBQQGBQcHCAIJAgABAQICAgMFBAEFCQYIBwMIAgkECQIIBwYDBQIJBAICAwYEBAMECAYFAAEHBQQCBgMDAAYBCQIDAQUDBAIBBgMFBQMJAAcHBAQDBgkEBgAEBQkJAwkACAkDBwECBwYEAgcGBgYFAwAGBgEGBQICAAkGAgMGBwUHAwQFBAgDCAkEAgEIBgkCBggAAQkIBQMDAggBCAQHBAEEBAcAAAQICAEFBQIBAwMJBQAFBwECBgEACQYBAQUCAQIHCQQACAkGAgEIAgABBAYHCAgIBQAEAQQCBwMGBAAHBggECQUAAQEJAgkDBwQDBwgIAgkGAAIBAwIAAwUHAQgDCQIBCQEBBwQECAgDAQkFAQcHAgkIAwYCAwkDBwgJBgEJBQEFBwQCBQEBBQgBAAMEAgECBQMAAAIGBAQBAwcHBAYFCQMABgQGAQgEAQAABgMBAQIIBgkJBAIJAgcDAQAHBwYCAgkCAgMDCAQFAAkABQgGBwYIBAAHCQcIAgkJAAQCCAADAQACBAMCBAIFAQYDBwUIAAkDAAkBAQICAwcEAQUABgcHAwgDCQkACAEDAgMDCQQEBQAGAQcGCAMJBwUECAMHAwQBBwEHCQMBCAcIAwMGAQYFAwgFAgIHAwYICAYGBwQDBAQEAQEGCAQIAQkHAQECCQIBBgUJCAkCBgUFAwUAAwYDBggFCAABAwkEBwQGBQgCAwAHAAQHBwIAAwkBAwIHAAkHAwUAAgIBAAQBAwAAAQQABgQJAAcBAgAJBAUHCQkCAgAABgYGAgQGAwICAgMJCQkHAAEBAAIFAwgECAUABgEHAAgGCQQABgEAAgEDCQQGBQcGCAcJCAYJBgEFAAAJAAUDBwAFBAEGCAQGBwkBAAIECQEICQgDBQgGBAIECAcBAAgBAAIEBwAIBQIJBQgJBwYBAAMGAwUBBQADAgMJAwMJBggGAQkEAwAABgQBAQAEAAkGAQIGAQQBAgMHAgkHBQcECAcIBgcGCAgEAgYEAAkHAQAFAwcGAQcFAQQFBgMDBwICAwQDCQkEAQMCBgQCBgIGBQMDCQkJBAABAwcBAgIFBAAFAQECBgMBBAMFCAYGBwcIAwAIAQQCCAMCBAgFAAYABwcICAkBAAMBBAIGAwgEBAUDBgkHCAAHBwYABAcECAYDAgAAAAIFBQUHAwcIAAgDAQMIBgQBCQIGAAEJCAcACQIGBwkDAgkIAggFBwkGBQIEAwAIAwADCQQFBwUJAQADAQgJBgEGAgAHAQkJAQMAAwYJAgcECAACAwkFBQYJBgIFCAYGBwYBAgQJBAMCAwYJAgMJAAEFBQcFAAUEAwEBCAQBCAIGCQMJBwEAAQkBBQIGCAcAAQUDAggJAgEGBQIDBgMEAwIHBwcIAAcHAQIABgEAAgkDBwQHBQMGBwcHCAQJCQABAQICAAMCBAkFBAYGBwcIAwkIAAYBCQIHAwQECAUJBgkHAAgECQQJBAcDBQQCCAkEAAUBAwUECAYIBAAICQQDBAIHBwYIBwQFBgcBAQADBAUFBAMDCQgABQUGAAUBBwYACQMDAQECBgUACAEAAQYIAQAGBAQHCQcHBgQDAQUABgIGBgMEAQMICAMHBQAGCQcGBQYCAAcEAQcBAAkIAgQIAwgCAwkDBQAFAQcCBAMDBAcFBAYGBwQICQkEAAcBBQIBAwYECQUABgQHBQgBCQkABgECAgADCQQBBQEGBAcICAEJBgAJAAQHAgIHBAQCCQYHBQMFAQMBBwAIAAYGBgkECQMBAgUGAQMECAcAAwEEBAcFCQYABAEHBggGAAEDAgEFBQUECQEDCQIBAgIJBwQAAAEFAwcICQIACQgHBQkFBAACCQUDCAEGCAUEBQYJBwkJAQQIBgIACQUBCQMHBAUDBQEEAAEJAgYAAwkGBQgHBwEABwEBAAkFBAgDAgUHBwcEAAkBBAIHAwUEAQUABgAHAAgDCQIABgEDAgYDCAQGBQcGCAcECAAJBQAGAQMCAQMEBAgFAgYFBwMICQkBBQgHBwcCBwYAAQQAAAgDAgEBCAAJBAIEAQQIBgYFBQQEBQcDAwAECAEHCAgGBwkIAQUEBgUCBQQGCQAEAQkDCAYEBAQICQkCCAEFAwIGAQcABQcAAgIFCAUGBgcGBgYCAwQDCAMIAQAHBgIDAgIHCQIFAwYGBAgCBQcBAwQACQUAAQUDAAQGAQgGCAcABQgIAggDBQkHBAcDBwcAAQYHAgYICQYEBQIICQEJAAIJAAYIAQUAAAQEBgkBBAcABgcFAQMDBQIHCQkABgEFAgEDCAQHBQgGAQcACAYJCAAJAQkCCAMEBAYFBwYABwIIAgkAAAUBAwIIAwcGAgcJCAMJAQgGBAIACAADBwACBwQIAgkGAAUCBQkDBQcGCAEGAAYFBAEDBQIHBgIGCQQBBAYDAwgCCAcDBQAJAQkEAQcHCAEACQMEAQkJAgAEBQQEAgEICQMBAAICBwQABwEBAwIICQIECQcCBgcBBwQJBwkIAAQEAgIGBQIIBQYIBQkFAwkBCQABBgECBQQHCQYFCAUCAQkEAQEDAQIFAwYEAgMDAQEJCQAGCQgFCAYHAwEGAQgCBwMABgEJAAkFBggAAgMHBQcBAAkBCQIHAwUEBwUFBgUHBAgECQgABAEDAgIDBQQJBQcGAAcICAgJBwAHAQECBAMIBwkIAQkEAAUJAQUDBQIGCAkDCAkJBAgIBwMHAwMJBQEBBgAGAgQCBwcFCAkCCAABAQQCAAYFAwkDBQcDAwcDCAQCBgMGBAYIAQUFAQAICAMCAwABAQAHBgYBAwgCAQEIBwMDCQEGAwIJBwECBwUGBggABAYDAAEFBAYDBgYBCQIGBgEGBAgCCQIDBwYJBAUDBAAIBggGBAIJAwAECAQJAwgJAAUDBAQCBQUGCAcDCAYJAwEBAAcBAQIGAwQEAgcHCAUJBAADAQkCBQMGBAgFAwYIBwkIAgkCAAgICQcECAEJAwkGAAYBCQQGBQgBCAYGAgcJBgYJBwEDBgkFCQIDAwgFAQQCAwkGBgQDAwUJAAEFBQQAAwEEAgcEBwYJBAEHBAgDCAcJBgcCAwEIBQAFBAACBQUAAggCBAcGAwcJAAICCAQJCAABCAIIAgUDAgEGAwgGAgQFCQQGAAUDAQgJCAgIAQIBAwUJAAMCAwcFCAkGBgYDCAcCAQgCBAIECAIEAgQIBwAEAAkBBwIGAwIEAAUHBgAACAECAgQDAQQJBQgGAwcCCAQABAECAgkGBwcJCAMJBgAGAgQBBQYHBQUJAAMHBQUAAgcEAQEBAwUCAwIAAwcFCQYGAwECBgUHBQQJCQIFBQcFCQQIBwUBBggCBwQDCAUBCAUCCQcCAQIECAEACAYDBAEDAwMIAQICAgQEAQMJAgYECQADCAQCAAQDAQkDAAkCAAcDAQIBBQAJBwYGAgIBAggHAQYGAAAGBQkJBAcIAAQJAwMDAwcHCAIABQUDCAkDCAAHBgAICAMEBwAIAQUDAQgIBAAGAQUCAQMDBAEHAggECQAABQEBAgADAwQJBQUGAAcJCAMJAAACAQcCCQMCBAgHBwgJCQgHCAIICQAJAQgHBAMABgMABQMEBAMDAwIEBAYBBgYFAgUIAQgHAggABAEFBwcFAwAFCQIEAwEGBQYCBwcHBQACAQQABQEABgQDAwEFBAUHAAMACAQGAwIBAgUFCQkIAQgHBgkFBwcJBwkCAQEABAgDCQYDAwgGBAUGAwEHBAcAAAMCBgkEAwgIAQMDAAEEAAIJAQAHAQgCAQMDBQcGCQgJCQEAAQEDAgIDAwQABwEIAAkIAAABCAIEAwcECAcCCQYCAAIABwEGAgQJAAEIAAAGBQcCBAcEAgYDBQYHAgMBBgcIBwEJBwkJAQACAgQEBggHAQcHBQkEBgUCAAcBBgEJCQYCBwACAwUBAgQAAAgGCQQJAwYJBAMAAAEAAwUFAgAICQgDCAIIAgUEBQgHBwECBAIBCQMGCAMJBwMFBwgEAgEHAQcAAAYAAAYBAAICAwAECAUGBgMHCQgCCQQAAgEAAgADAwQEBwUICAkAAAIBCAIHAwgEAgcECAYJCQAGAAgBAQAAAQEFAwMEBAICBgQDBAYABwADBgkJBwYHBgQFBgcGAwUCAQIAAwAEBQQJCQEBAgQHAAAHBgcCBQMGBwIFAwcBAQQABAkAAAkFAQQIAwMFAwcHBwMHCQkIBQgFBAUHAgcGBgYCBAEBCQUIAgcECAEIBAIBAwcJBQMHAwQFBAUCAAYHCQkDBQQABQYHBAYBBwEGAgYIAAEJBQUABAEGAgcDBgQIBQIGAQcCCAAJBgAEAQcCAQMGBAkFAwYGBwcIBgkCAAIBCQIFAwUEAAUCBgMJBAYEBAcEBgMFBgACCAMBBAgIAQcGCAQGBgkCCAEDBgIEAgAIAgQFAgMAAAEFAQYCCAkIBgcIAQEJAgQAAgYBBQgCAQcCBQADCAkGAwAHBgEGAwgIAQEJCQcFBgABAQEBAQkHAgkGBgAGBAgFBgYBBQEAAAMFAQAIAQYBCQADBAAEAQQABwQHBwcDBQIIBgUFBgQBBwQJAwcBAAQBAQIBAwIEAQUHBgMHAQgACQIACAEFAgYDBwQJBQEGBwcBAAIBCQIFAwgEBAUBBgEAAAcGBQYAAwgBBAYBBwgICAABBQMFAQgJBwAJBAMEBQAIBwUCBQkFCAAHBAICBAcHBAgFCQUDBQEEBAkGBgICAggHBggGBgAECQkFAgcJAgMEBQUDBQYABgAAAQIBAgQHAwQHCQkFBgEFAgkGAQEBCAADBwUJAAIABgYAAQUGAQkIBgkHAAEFAQQHAwEDAgQEAQUCBgAHAQgFCQcABgEDAggDAQQHBQkGCAcACAAJCQABAQMCBgMFBAcFCQYFBwEIAAkJAQIDAwUBCQcECAEGBwYHAgIEAQcEAggFAgcJBgMFCAIFAAQDCAEIAAkHAwQJBwIABQUHBgQEAQECAgMBCQUBCAYEAAcBBwIBCAgFCAECAQUIAAUEBgYEBgcIAwEGAggFAAgDAQcIBAQAAAYGCQgCCQYDBQIGAgkFAAcEAwADBgUBBAkDAgUAAwkEBQcBCQMIBwAGBwkBBAcHBAcCBgADAQAJBQUGBQIGAgQABQEIBwUIAAkIAAkBAgIHAwgEBgUEBgIABwEECAEJAwgHBAEBAQgECAYBAwMEAQMIBgMDAwkABwkGBAMJCQgCBwYIAgECBwcIAQcHBQkBAQYCBQIABAkHBQAACQICAQkIBgAHAAMBAgYABgQHBwEAAQEHAAAHAQQCBwMHBAkFAwYIBwgIAQkCAAEBBAIEAwcEAQUGBgcHAggIAAgBCQIGAwMEAQUIBgEHAwgECQYHBQADBAIABQYDBAMDBQMEBAYIBQcJCAMGAQkDCAgDCAICAgkIBwQBAgYAAAEFAQECAgkGBgkIAgECAgkBCQAFBggJBgMEBwMBBAgGAwcICQEACQEFAgkGCAACBAYGAAUEAgUGAAUDAgEECAAGAwcABQYJAgkFAwEACQMAAQgEAwQIAAcEBwkEAgYGBwUHBAIHBgkGBwEACAEIAwEEAQUEBgUHBwgGAAUBAgICAwkEAQcDCAYJBwACAQQCAQMEBAQHAAgIAAcFAwYHCAcDBgkGAAgCBAMAAwEDAgkGCQAFBgYCBAYEAgIIBwAABwMICQEGAQgGBwcDAAQBAAEEAwEEBgkHBggFBAAJCAYFBQgGAwYEBwYIBwgCAQYIBAMCBwUHAQEEBQYAAgUFAgMEBAMFAQkIAgIACQUJBwUJAgYGCAQCBAUBCAcGAQgEAQMACQkHCAEDAgEGCAAEBwUDAQAJAQYCBQMCBAkFAAYCBwgICQkFAAEBBAICAwcEBAUABgYHAAgHCQUAAAEGAgYDAgQBBQQGBQcCCAMJBAcHBAUABgQIAAkBBwcECQkFBwEBBAcCAQgECQEEAQMBAQUHBAgBAgUEAAMDBgEJAAkCBQUICQYJBwcAAgYECAcCCQYEAwIJAQMIAgkIAAYIAQgHAAQICAYIAAkJAAcDAwMACQEAAAUGAgAFBgAGCQQEBAEEAAkDCQcCBQEICQcGBwEICQIACQgHCQEIAgAGBQQIAgQFBwIEAwcGAwYEBQIAAQADBwIFBAIJCAkBAwYCAQUACQQDAwMBAgYAAQcJAAABAQkCBAMFBAkFAgYDBwQICQkCAAYBBAIAAwYEAwUABgUHCQgHCQkACAEAAgcDCQQIBQYGAwcDCAIFAwABBggIBQkBBAcBAwkAAAIEBggCCQEBAwQAAAkFAwEIBQUEAgAEBwMGCQABAQMHCQAGBgcIAQkBBQgECQcDBgEAAggJAQQHAQcAAQADAwIAAwABBQACAAIHCAgEBAcJBgMICAAECAcBAgcFCAYDAwQGAQkABAIGBAkBAAACAwUIBQMBAAMGAwUJAQcCCAQHAgIHAggFCQcICQMCAgEJAwYAAQEIAgUDCQQABQUGCAcBCAUJBAAAAQUCAAMFBAUFBQYABwIIBQkJAAQBBQIBAwMEAQUBBgEHBAgACQgIBQkJBQcHAAABAwkBBQYGCAgEBQEIBwcGAwUIBgEECQIJBwQIBQEGAwYCAAAABQAAAgEHCQgCCQMBAgIDAQUBBQcHBAkICQQHAwEHAQYJAAACBwMDBwQACAIGAQMFCAIACAYEAgIBAQADAQkAAwYIAgADCAgECQcABAcHAgIDAAQGBQkFCQIECAEFCAQJBggGAQYBBwUJCAEBCAACAgEFAgQGCAUCAwAEBAcDCQQEBwAFAAkFBgkBAAABBQIDAwcEAAUBBggHBQgBCQIAAAEDAgcDAgUABgEHAggHCQcAAAEBAgcDBAQEBQAGBgcHCAQJBAAEBwAABwcGCAADAQAJAAgFAwUDAwUIAAgAAQkIAAQFCQkGAgEICAEABgIAAwYJAAQAAQQCBQUJCQEICAkDBAkDCQAGAwgDBwQBBwAAAQEECQIBAAIABwgJBQEJAAkGBgIEAAADBwgACQYEBwIFBQEGBQYBBQQGBgcHAQIEAQQIAgIGBwIHCQkBAwMCAQcEAQgDBgMDBwcCAAAJBAUGBgAHCAEAAwQIAwIHBggCCAYAAgAHAggABwIABQEEAgQDAAQHBQUGBQcHCAEJCQAHAQQCCQMJBAQHAwgACQAACQEEAgMDAQcICAEJBwAIBQUGBwkFAAMDAQMGCQAJCAUDBgYEAAQEAgIJBwYDCAEHBwkJAQcFBwIGBgEDBQQDAAkEBwEGBgkEAgkDBgUFAgEGAgMGAgYABwUIBAgDAQQIBgMCBwgHBgECAAYAAgUBAgMIAwQDAwQBAwgCAgAJCQkABQMCBwYCBAYIBgICBQQEBAcBAQQCCQYBAAAAAgEGAgMDAwQCBQUGCAcJCAAJAgAJAQMCBwMFBgYHAQgICQAABgEIAgUDCQQBBQQGAwcBCAkJBwUJBAQIBQcGBAUHBAcBAwcJAggFCAADAQEBBQEICAIHBwQEBQIIBggEBwUHBQEIAQYCBAMEAwQBAQgIBwcHBQAFAwEFCAUDAgYHAwEDAAIFAggGAwkGCQUGCAUABQkDCQMECAcBAQYJBQcGBQgAAQAJAgcHBgkIAgMBBwgEBwcBAAYJCQABAAkDBAcICQcDAgAIAgIAAwEAAAcBBQABBAYAAwECAAQEAwcHCQUCBAAABgQCAQYAAggCCQkICQMAAQEGAgEDAwQFBQIGBwcGCAkAAQEBAggDAQQCBQAGCQcDCAYAAQEDAgIDBQQDBQcGAQEEBwQEAwAHBgEEBQEABAEDAwYIAgUDAwQECAIHCQgDBggJAQgEAwICBAIGCAEEAggABQgGAwUFAAUCAgAEAQUBAQIBCQkGBggBAQkCBgECAAQGBAUJAgMJCAEFBQcDAgkEAwkHAwEACAkDBQgGAQQJBAUHBQcABAEAAQUJCAgEAgAGCQAJBAcFCAYDBQYAAAMHAQAICQYGBwcFCAkEAwQACQMFAQIEAQAIBAIJAgcJAwYCBwYBBQgEBQcECQQHAAAJAQECCAMABAMGAgcJCAkACAEEAgADCAQABQkGCAcICAYJAwAAAQUCBgMFBAEFBwYBBwUICAkABgAEBgcJBAcDBAYHAgYDBgQHCAcJCQIIAgIIBwUFAAYCBgAEAQcBCQIGCQgGBQgCAQQCBQEBAAMGBgUCAggJBAcBBQcDAQkAAwUIBwMCCAcBAQkHBQYFBwAGAQEBBwkACAkCAgYFAAIGBgUCAAEDBgEJCAYGCQcCBQUJBwkBAwIAAAMAAQIAAgQCCQAHBAMHAgkGCAUJBAYHBwkFBwUABgMABAAFBQYHBwkIBwkCAAEBCQIHAwAHAgAEAwYHBggCCQAGAAAEBAMAAAgBBgcICQcCBwAJBQABBAAJAAkDBwYEAgAAAwEFAAUFAwEICAkIAgICBgAFCQMHAAMGAQYDAAYHBggCAQECAgkGAQAEAgMCBggACQkFAwECBgQIBgAEAAEABwEHAgYDAQQEBQIGAgcFCAgAAgEIAgcDBwQBBQMGAgcJCAQJAgAFAQYCAAMBBwMIBwkFBAYJCQkICAADBgUJBAIDAQMCBgEGBwUFBQEBAQcECAcEBwUABwEDBgUCAgEDCAYGBgUHCAcDAAEBAAAHAQgGCQkIAwUBBAQABwYDBAgEBggCBAIFCQcBBgUACQMBCAIJAgEHCAkBBwUJBwkAAQMABQgACQAHAAAFAwAICAEDBAQABQMHBgMCAAAGAQEDAQEGAAkJAAAEAQcCCAMGBAcFAQYHBwIIBAkGAAIBBQQCBQUGBgcECAQJBQAJAQQCBgMGBAcFAQYABwcIBwkCBgMICQcCCAIGCAAEAQQHCAUDAgQBBAcGAwEAAgUBAQkGBgUJAQMCAwABAgYDAQQBCAUDBQMABggFBwkHCQgDAgMJBwAJBQMEBAMBBgcEAwYJAQYFCQcABgkJBgIABAYFAQYIAgUEAQAABQEAAAEJBgUBCQQAAwIDAQEEAQkGBgIIAgkDAgEABAEJAgYDBwQEBQYGAwcBCAcJAAABAQICAQMEBAgFBQYEBwcIBgkGAAIBAAIIAwEEBAUBBgYHBwgBCQABAQYCCAMJBQkEAAEBBwIGBAEEAgMJBwcEAAQJBAUABwMECAkFBQgCAgUBBgcJAwEFAggJBQQFCAkBAgEFBwEDAQkGBAICAQMDBQEHCAYGBgQDCQUECQkCAgEABgAEBAgEAwYIAgcAAQIBCAcACAYACAAHAgkCAQcJBAIJBgYHAwYBBgEIBwcEBAgJBwIAAQEDBAMBAAUFCQUCCAkAAwMDBwEJCAcHAAcCBgcCCQMBBgMABggHBAgGAAMDAAUJAwMGCQACAQcCCAMBBAAFAQYIBwkIBQkFAAgBAwIEAwkEAwUFBgkHAggECQgAAQEHAgADAgQDBQIGCQcHCAcJAwYJAAYIAQACAgYDBgcHCQYEAgcAAQYJBgEBBwMBAAQBAAEAAwQCAQYHCQUBBwgBBAMHAwcDBwECBggJAwcDBAkDBAAIAgMFCQIABggACQgACQUEBgMEBQgEAggBAQUACQYDBAADBQYDAwYDCQgBAQAEAwcIBQEHAAIEAgUAAQACAQIHBwcDCQQFAQkHCAcJAAYHCAkIBAIEAwQGCQECAgIJBQgICQEFCQIHBQUCAAYBAgIEBAgBBAUGAgUFAQYCAAMJBAQIAQAGAQcCBwMJBAAFCQYABwgIAgkHAAYBBQIAAwkEBwUBBgQICAkGBQgABQMFAQIGBggDBAkBAAcBBgEFCAYHBAECBQcHCAcDBgQBAwEECQcFAgcFAwADAQUJCQIBAwgCAAMABQAFBgcGCAIEAAkJCQEHAQEECQcIBwMIBAIIAgYDAwgIBQYJAAQBAQAABgYCCQMBCAIJBgAJBwECCAMBBAMFAQUJAgcICQUBBAUGAgYJBgMHBwkGAQIIAwIEAQICCAYJBQcDAQQHBwkJAAQFBQUJBgAFAQICCQMJBAIFBgYFBwQICAkBAAgBBwIBAwEEAwUFBgcHBwgCCQIABgEBAgUDBwQABQAGAAcACAQIAQcEBwIACAEFAwkHAQUAAgAIAwAEBwkFCQkBCQcGBwAHCQUEAgEIAQAFBQgIBQAIAQYJAwcCBwEAAgQDAwgFAwgCBAYCBQgGAQgCAgYHCQQFCAYBAQAIBQgDAgkEBAgBBgkBAgkBAAkHBggHAgkJBgYBAAcCAwgICQcBAgQJAAYCBQcIBAcABQIDBQkDAAUFBQcAAQQGAQEEAAcJBAMAAwgEBwQHAAcGAQQGAgcDAgQDAAkABwIHAAkBAwIBAwkEAgcECAIJBAAAAQgCBAMHBAkFBwYCBwgIAQAFAQkCAwMCBgcJAQYAAQUJAQkECQYEBAEJAgAFBQACAAgGCQAICAEBBwAICQgBCQIJAgMCAQUJAgcBAQQABwMBCAcDCQYGAwMDAwUBBgADAAIFAgYIBgYICQACAQcCAwMBBAIFAgYDBwUIBgkIAAkBBgICAwQEAwUEBgIHBggDCQUAAwEBAgUDBgQBBgcHBggAAAIFBQABCAgACAIGCQMEBgcIAQkJAgEIBwEBCAQEAAMAAwQBAQgHAAUEBwcBBAMJAwEDAgEJBgcJBAcCBAgDAQAHAgUGAAgHAQYFBQkJAAgGCAYDAwUDBAgDAQgEAAcDAgQCAwAHAAUBCQcABwMIAAkJBggIBQgDAgADBwIECQcICAUEAgkGAgIBBAkIAgQCBgMFAQAEAQMCAAMFBAkFAwYBBwUICQkFAAQBBAIGAwQECQUHBgEHBggGCQcAAAMCBAkFAgYHBwMICAkCCQAHAAUHAgMJCAADAQMFAwgHCAMABQkDAwkCBQcBCAAEBQQCBQcJAwYIAQQAAwQBBQgDAAkHBAICCAAFBQEACQEIBgMJAgMDAgAJBgEFBgYAAAEIAQYIBAAEBAAHBAcDBgkABwcBAwcFCAQCAgIEAQEDCAEDBAUGBggHBQAJBgIHAgEBAgUFBggIAQkJAgMFCAMCAQgICAEHAgEHBwgJAQIHAAYBAQIHAwcEBwUJBgIHBwgECQAABQEEAggDBwQCBQcGAwcHCAcJBgAIAQcCCQMCBAYFBAYHBwUIAAkBAgcFCAEFBgcECQMACQYJAAAGCQEHAwECBgUEAgMCBgMCBgIFAAEAAQgDAgIFBAkFCAMGAQUDBwYACAADBAABBwcABAMDAwIJAgEEAwcBBgIEBQcBBwMHAwIHAAYJAQgJBQgGBQQFAwUICQICCAQDBggHCQgFCAgJAAcFBAQIBwgBAAMIAQUHBwkJBgICCAAJCQMBAAcAAwgIBQADAwYJAgEFBgEEBgMFAgIBAQgIBgYBBwUGBQgGAgUGAAYBCQIHAwQEAAUEBggHBAgACQQABAEBAgcDBgQEBQAGBAcHCAIAAgEEAgQDBQQGBQIGAwcGCAUCCQUBAQMGCAQDAwkJAAkBAAMJBgcDAQMGAgQFAwYGBQIGAgEABwgEAggFCAkGCAUGCAUEAAMEAQEABwEEBwMABAEBBQMJBwYEBwcIBwYAAAkDCAQFCQYGBAkDBAgGAgYIAQMFCAkJBgUICAQEAwMCAQMHAQkFBgICAQcFAwcDBQkAAQUEAwMBCQkICAIBAQkIAgYHBAcFBgEHBQYFAgYBBQkABAEJAgMDAgQFBwYICAkCAAgBCQIEAwAEAQUFBgcHAggBCQgACAECAgIDAgUFBgQHBwgJCQkDBgUDAwkCAQkCAwgCAgEIBAUDAAIHAQkDBwkGBwgCCQEHAggIAwkEAQQIBggBBwcABgAJBwkHCQgDBwcGBwEEBAgGAAEEAgUFCAAGAAMDCAgFBAEECQEDCAQGBwUICQAAAwACAAkDCAcJAQEGAgIABgMGAQAJBAEFCAQCAQcDCQgCBgIDBwkACQgFAwcFCAkFCQYBBAUHCQYFAgMCCQAICQkECQAAAQMCAwMBBAEHAAgHCQkAAQEJAgcDBAQCBQgGAwcACAcABwEGBwQIBgkIBgkJAAYGAQcJBgkJCQQIBAECBAIBAAIACQIFBAMGAAkEBQkBAQQHAwEGCAkHCAYBAAgIBAEBAAYJAAEGAgMFAQQDBwIHAwIIBwMFBQIHAQUECQQHAwEABwADCAUFAgQGBwcICAgDBwgJBwYIAwkBAAcCCQMGBAMDAwcCCAYBAAgGCAgGAAgBAAIBAwcECQUDBgYHAQgBCQQAAgEJAgkDBAQJBQkGBgcDCAEACQEHAgIDBgQHBQcGBAcGCAIJBQUEAgAIAAEIBwgCAgQAAQAEAwEDBAQJCAYBCAEEBQUEAwEHAggGBAIDAgMBBQgGCAcDAAAGAgEGBggIBwcBAAABCQUGBgQAAgAGBgMBCQUECAAEBgIJAwMJBAcGBgQJBgEICQIAAgYBBwEBAQIAAwIJCQIHBAMFBgUJAwQHAwEFCAcCBgIJAwcACQIJCQUEBQkDBwYAAgACAgMHAQQGCQEJAgIDCAYJCQEBCAcDCAgJAwMGCAcGAAEEAAAJAAYBAQIDAwgEBgUDBgQHBAgDCQcABwEAAgUDAwQFBQEGCAcJCAUJAgACAQUCBAMGBAcFAgYDBwUIBQkDAQcACAQHBgADAgQDBAECBwgEAQQACAYJBAcJBwcDAgEDBAMDCQECCQAHCQUDAQMACQABBwUFAgcDCAEHBgcHBwMIBwAIAwQBAAQCCQQHAAcCCQQEBwMIAAAJBwYACAYACQMDBwICBAAICAYJAAQFAQcIBQcBAQADCAQBBQYEBwgCBwkFBwYJBAUBBgEFCAIIBgACBwgAAQUHBQUGBQQHCQMCBQUACAEJAQEDAQgDBAgJBAQGBQABBAgABgEIAAkIAAABBQIHAwIEBAUIBgMHAggACQYAAQEHAgYDAAQGBQcGBQcFCAIJBgAAAQkCCAMABAUFBgYHBwIIBQQJCQMEAAIACQEEBwUHCAkACQMJBQMFAgEBBwAIBgQBBQIHAAIEAwEGBQcFBwgHBgYFAAgBBgAFBgcFBQUJAgkJAAMCAQUEBwgIBwcDAAgHAgQGAAUAAgMHBAkFBwkJAQEFAAQIAAkBBwgABwUGAAADCAgBBAkGCAIJAAkEAQEDAwkBCQAECQcAAgEAAgIDBAQDBQcGBQcHCAcJBQAIAQcEBAUFBgkHBQgFCQYAAgEJBAUFBwYEBwgICQkJBwIABgYHAAQHAAMECAkGBQcBAQgDBQcHCQgHBQQCAAgGCQQGCQEFAQYEBQkCAQkBCAQFAwEBBQcDAQkDBAYFBQYHAwgEBQgHAAIGBQQICAIBBgMBBAkABQEECQcCAAMJBwMCBAUIAQUHBwIICAAHBwAJAQQJAAYHBAUJBQIJAQECAQMGBwgACQIJAQMDBgUBAwIEAgcIAgQFBwgGAQgGAwgIBQAGBwAICAUJCQQICQUCAAYAAAIBBQIFAwIEBgUBBgkHCQAAAQQCAwMABAYFCAYCBwUIAAkDAAUBCAIHAwQECQUJBgkHBwgBCQQHAQcHAAAEBwAIAwMBBAgHCQgCAQECCAgGBAUFBAQHAgMABAEBBQgGBgUJBgEABAkFBAAJAQQDAQYJBAkIAwkGCAUCBAEBAAUHBwIDBQYFAwYDBgIGCAMDAwYDAAEEBwQCBQIBBwgCAAMBBgUIBgUEAQgEBgkBAAkFAgAJBgcIAwgHAAQIBAIBAwkJBgQIAwMHBAECBwUGAwkGBAMCAgkFCQICAgACCAkEAAkIBAIABQcCAQMDAQIGCQkAAQEHAgYDAggJCQcAAAEAAgkDBQQHBQQGAwcDCAMAAAEEAgIDAwYGBwIIAgkIAAADAgkABQQGAAgHBAIJBQEABwMBAQIJAwAFAQkHBgYJCQEFAggABwcIAgYJAggCCQcAAwcFAQQDAwAAAwYGAwgFBwIEAgkCBwUFBwgAAQcFAgECAgEAAAIGBAMDBgAFAAYAAQMHBQgHAAYHCQUJCQgHAgEHBQcFAQQAAAEGAgADAQUHBgQHBggDCQEABgEEAgUDBAQGBQIGBwcBCAQJCAAEAQYGBQcCCAMJAQAEBQcGBwgAAwEDBwMFCQUJBwUABgMEAwQGBwUABwMCCQYGBQkHAQMFBgIJBgYGAwcCCAYBAwYDBwgIAggBAQcICQMDBwMBCAICBwYBAQUGAAQJAggEAwABCAgHBAABCAQGAwkJAQcIAQkAAwcCAwkABgEDAggDCQQIBQMGAgcFCAQJBwAAAQQCBQMABAEFAwYDBwMICAkEAAYBBwIIAwAEBgQEBQEGCQYDAwAECQIDCAABAQAFBggEAwkHBwQCBQMBAwkJAwkEAwEDAgkEAQMFCAIJAwgBBwYHBwUDCQcACAMEAQACAgEEAwAJAgUECQcACAIABAcDAAIGAAkIAwcCBgQDCAMGAgADAQYAAQgEAQMGCQcIAgIJBQcFCQgFBAgDCQIGCAUIAgUGCQIFCAkBBQcIBQgFAQcDAwIAAgEAAQYDBAgGBAQJCAUCAQkIBQkBAQQCBwECBQYGBAcIAAMBAAIJAwMFCAYEBwAACAEIAgIDAAEBBQIGAAcICQMIAgcBAAgCBwMJBAQDBggGBQgBAwUHAgEDAQACAQkCAgYEAwEACQcAAgEGAAEHAAgFCQkECQYIAQMCAQkHCQQIBwIEBAABAAcGAgYBAgcGAgMEBwAHAgQBBAUDAwgJCQkGAwADCQMFBgMHAQcDCAcCAgcBBQkGAQAFAgECBwYEAwgJBgUBBAIHAQUGCAAEAQACAgMIBwYIAgkEAAMBBAIDBgcHAwgDCQMABAEBAgADCQcJBQQHBQcIBwcDAQEHCQICBAEABgkFBgcEAQcICQYBCQUBAwADAQYDBQYHCAAJBAUBAgYBCAcHBQEGCQYDBgEDAgECBwgCBgIEAwgIAgEIAAMGBAgECAQAAQgJAgEDAwkFBAMDBwcCAQgHAQkBBAgCBwkCCQcHAgEBAwgJBgAHAQECBwMDBAkHCQgCCQIABQEAAgADAwcJCAUJAQABBAMFCQYGBwUIBAkJAgkCCAcFBgQEAQcAAwgFAAQBAQkICAAHBwECAAIIAQgHAwcECQMJBwQFBgEHCQcCBQUECAUDAAEJBAAHAgUDCAUGBgQBAggEBgYABgYCCAgIAAgCBAQDBwgDAQIDAAYACQIEAQEFBwYGBwkDAwcDCAcABAYBAQkAAQAABgYDAAkBAAIFAwgEAQUDBgQHBQAEAQcCAgMHBAEFAQYEBwkIBQkIAAMBBgIAAwIEAAUJBgkHAAgBCQQBAwcIBAgIAwEIBQIGAQUHBwACAQgBBgUDBgMGCAgGBAUDBAMABgkGAQIHAQIFCQIBAwMEAgECBQMCAAYGAAQAAwQHAwYECQMACQgCAQUECQAGBgABCAICBgMJBgIDAgYDAAUBBQMBCQAABwIHBQkFBgUECAcIAAcCAgMEBAQABgAACAcIBggDBQcBBwMFBwcEBAkGCAcICAkDAAAJAggICQkACQIBBgMFBAYGBwcHAwUGBAIBAAMGAAYBBwIHAwIEAwUCBgEHCQgFCQMABgEJAgIDAgQEBQkGBAcBCAUJAQAHAQACBAMIBAYFBAYDBwgIAAkJAwcEAAEABAYABwgEBggECAUCBAkACAcECAUHBwcACQUACAQJBwEEAQIJAAQFBggECAEICAQAAAQHCQEJAwYFBAMFAQAGAAUJAwgIAAcHAwABBQYACAkFAgkHAgMCBwADCQECAQQGBgQFAwIBBwQDAwEDAwcGAAYFAggBCQIABgkACAcHBwgEBQcBBAMIBAkEAgcJBQUAAQQFAAgGAwMFAwYIAAcJAwkCAwIBBQEBAAMBBAIEAwUEAAgHCQEAAwEBAgEDBwQCBQgGAAcJAAUBBwIAAwEEAgcJCAQJAAAHBQIGBQgJAwkJAgAEAgIDAAMIAwEJAwkIBQUGAAQGBAUCCAUABAQHAQAGAwgJCQYCCAYHBQkGAQUFAQICBgYDBAQIAAYECAECBggFCQEAAgQGAAYJBwEICAgBAQkIBAMFBwcBBgIIBwQABAcAAAgBCAUAAAgFCQIGCAQAAgQDCQQIBAMAAQUICAICCQUJBgUBBAcIBgICBQgHAQEJBAgDAAkJBwQBBQICBgkACAcFAAMBAgIIAwUGCQcACAgBCAIAAwEEBwcGCAIJAAAHAQcCAAMABAgFCQYHBwcIBwkAAQgCAAYDBQEDCQAEAgEIAAcFAAcDBQYEBAgBBgQBAwgGBgcBAgEDAgkCAQICBwEBAgEJAgYEAAcBCQMCAAcCBQUEBwICBQkCAQYJBwAJBgcAAQYCAAECCAAEBgUBAwUECAUEBwMGAAIBCQQACAUICAQGBQIHCAUCBwQIAQMIBAUIAAgEBQUCCAkABwQBCAMECAkBBAAEBwEFAQkCBgAJAAQFBwEHAwkCCQMFBggBAwcEBwQFAwQCAAAAAQcCBgMCBAMFAQYBBwAIAQAJAQgCAQMABAkHAQgHCQYAAAECAgQDBQQFBgcHBgAICAAHAwgDCQUBBgQGBQEBBgYIBwEDAQIFCQEAAgUGBgAHBgMJCQYJAgMICAcBAAIFAwAFBgAGBQAECAAAAwAECAcGBwAJAQQGAwUHAwYIAgQBAQUHCAgEAgYDBwgAAwIBCQQDAwQCBAYIBQEFAgICBAMCAQcHCAMJBAEFBwEICQgICAEAAQUACQIEBwcGBggGAgQIBwQHBAACBgIBCAIAAQAIAQYCBQMJBAIFAwYDBwcIAgAHAQMCBwMEBAQFAgYCBwIIAAkDAAMBBQIFAwAEAwUFBggHCAgGCQEABwUBAwEJBQAIAgIDAgMDAwgJAgkIBQkGCQQHAgEDAQkBBgQIAwcDCQQBBwUDAgIGAgMABAEABgQAAQcGBwQBCQAGAgUEAQICCQYABgAHBQgDAQAIAwMIBwgBCAIEBwEBAAUGAAAFAwIECQMICAMEAQAIAgkABQECAwYJBAQICQIFBQEEBgEGBwEBBgQCAwIJAQEAAgkGAQAGBwYDAQAGAQcCAwMCBAcGBgcGCAAJBAAAAQMCAAMABAYFBAYFBwEIBQkDAAkBAwIGAwIEBwUFBgUHAQgHCQUABQgFBwAIAgkGCQUAAQEJBAMFCQEDBgkHAQMIAgQJCAAIBQIGCAcJAwgJBwkCAwAIAQEHAgEJAQYCAwAFBgAJBQUEAgACAwgEAQcDBwYJBQEIBAUDBQcIBgUCAwEIBQMFBQAGBQIACQgBBAYGCAICCAUBAwIFAgkDAAEHAwYEAQUCAQEJBwgCAQMBAQUEAAECBAcICAUGBggCAgcIAAQDBAUCBAIECAEAAQAAAQgCCQMGBgIHCQgDAAEBCQIBAwUEBAUHBgYHBggECQUACAEIAgMDBgQEBQIGCQcBCAMJBQEHCAYGBAEGBAMJBgMIBwUHBwkHAQcIBwQIBwgCBwIIAAEFBggGBgIBBAAHBAcHAQEAAgkBBQYFBwADCAMIBgAFBwYHAgkICAcGBgkIBgkCCQgFCAMDBwcAAAYHCQQAAwEAAQIDAAIJAQEACQAGAQcCCAMEBAAFBAYABwQICAkIAAcBAAICAwUEBAUABgIHCQgJCQEABwEFAgEDCQQBBQIGBAcHCAkJAgcCBQcFBAEBCQgJAwcFAQYAAwkBAAAFAgcJAQAHBgIGAggDBAYACAQABAgJAwICAgAICQcAAwYDAQkHAQUHCAQDCAQEBwQGAQYCAwACAwMBBAYICQgCBwIBAwAGCAYHBAcJBQYJBQIACAMFAgMCBAUGAwEGAQAEBgUBBQYACAQFCAQHAgQGCQgCCQMDBgkEAQIDBAgBAwUGBAUCBAAHBAgIBQYEAQAJAAMHAgQAAgAHAgUFAwYICQYDBwYAAwQGAAAFAQQCAQMCBAQFBwYHBwEIAQkBAAIBAgIBAwQEAQUEBggHAggCCQQAAwEDAgkDBAQABQcGBgYICAQCAwMDBwIICQYCBgQIAQAFAQQHAgEBBwQDBAAJAgACCAAJAgAFAQQCAQYGCAUAAQgCBAAJAgIDCAQACAcDBAgIBQcDBQYJBQYJBggFAQAHBQkAAwkEBAEJBwUDCAkGBgEHBgQECQIDAQAACQAGBQAEBgcBAAAHBQkICQcGAgcFAgEDAAMBBgAGCQkEBgUABwIAAwIFAQQJBwYBBwgECQgGCAgFBAADAQECAwMIBAAFBwYCBwAABwEFAgMDCAQCBQgGBAcGCAcAAgECAgMDAwQIBQYGCQcECAcJBgAABwkAAQcDCAcDCAAEAAQFAwUIAwcIAggGAQAIBgQDCQIGCQEICAQACAIJBwYDBwQEAQkCBwUDCQYIBQkGBQYEAAMEAwIEBAcDCQAABgEDCQgBAwIFBwkJCQEDAAAGBgIFBAUACQMJBAIGAgYIBQUGCAcAAQcEAAQJAgUGBAIICQEBBAUBAwUBBwQECAUGBgMBBwEABgUHBgMHBAEFAwcIBAIHBgQCCQYCBAYCCQcECAQHCQABAQICAQMBBAMFCAYBBwcAAgEHAgEDBgQABQMHCQgCCQQAAwEDAgIDBAQJBQkGBAEHBgIABwEFAgcEAgcBBAYEAAQEAAkDBQgJBwQFBAgDAgcBAwcJAwIFBAUCCQcBBAIHAQYDCQgDBgQEAQkGBAMJAQIJAAcAAAQIBAMGAwIGBQcFBgACAgkGBQgCAQYBBQkFAgEGCAcIBgUGBAgIBwMDBwMHAAYFBQcIAAYCAQcCBwQIAgABAwQFAwMDBgYAAAEIAgIDBAcFCAkAAgEFAgQDBgQCBQMGAAAJAQgCBwMBBwcJAwEABwgECQgJAQUGAQMHAwQGBQUDCQQBBAMCAwAABQYBBAMDAgcCBgQJAggDAQIECAAEBgcGCAkGAgcCCQMHAAEHAwIFAgIDAQQEAAEAAAgFBQkBBAMABwEEBwkACAYIAAkAAAMJAAgJCQMAAwIBBgMHBQQIBwcFBwAAAQECAgMIBAYFAwYEBwYIAQkJAAIBCAIAAwUECQUEBggHAAgAAAIBAQIDAwMECAUBBgMIBgMJBAMHCAgABgADAQQAAAMJAgcFAQMJBwMACAMEAQcGAwcACAkFCQAGAQECBAAFBgQGBgUCAwAFBgABBwEJAQUHAQIHBwgFAQIACQcEAAUDCAMEAQIECQEHCQAJAAMHAQUAAQYBBAcIBgUGAwYDCAICAwIHBwgHAgQGAAECCAQFAgYFBQACAwkDAgMGAQgIAQEJAAcFAwkGBgMJAggCBQYIBwAFAwkACQgJAwkJBQAHAQICBQMGBAQFAQYGBwIIAQkFBwkIAwkIAAIBAAQIBQEGCQcFCAYJAQQEAgcGAAEFAQgHBggGBQADAAcIAAEABQIBBgcJBAgJCAQJCAkGBwQHBwIDAQUBAwAJCAkJAwIFAQMHCAIJAAAGCAgCBQIABwMDBAEDBwkBBgAAAAYCCQEAAwEFAgEDCQQBBQEGAgcHCAgJCAAAAQYCBgMBBAgFBQYIBwUIAwAJAQICBwMEBAMFAwYFCQMFCQAFBggIBwkBBAcBBQkDBQUDAgAECAMJAQEFBAUABQUEBQkHBAYHAAkBBwYECAIJCAUBBAUHCQYEAAkIAAEGBwAHBAEIAwUCBQMJAQMECQIHAAcACQQHBggEAwkDAwAICQQEBwgCBwUFBgIDCQYICQEGAAMGAgACAgQCBgACAgUFBQEBBQMCAwIJBQIBBQkHAAkGCAgCBwEIAwMBBwMDAAYBBwIFAwgECAUDBgYHCAgBCQIACQEGAgEDBQQJBQcGAAcECAEACQECAgQDAQQHBQMGBwcDCAkJAAIEAgEHAQYJBAMAAQUGCAEABQcFAwAFAwQJAQYIAQAJBQcCAgcGAgMDAgYCAgcBBAcFBwAJAwEFAgYGAQcEBQIEAwAEAQQBCQkDCAMABQIAAAADCQUHBgYBAggBBgMEAwYGAAEJAAICBgcEBwMECQkDBwAJAAgFBQIEBQAIBAgDCAYJBgQFAwgEBQIDCAQIAQUABQkHBAEAAwAGAgkJBAEDBggABwcGCAkAAwgDBwcIBAQBAgkIAQEABgYFAAEBBwIHAwEEAAUABggHBggJCQQABgEJAgYDCQQEBQYGAQcCCAYJBwAJAQYCCAMGBAkFCAYIBwgIBgkBBwYACQYHAAkHAQMGCAQGAQcFAQMDBQcJCQYHAwQBAAQCBAUAAAEGBgQHCQQGBQIGCQgICAUJAwgJCAgIAwQEAwAJBQQEAQgABgEDAgAIBgADBQQJAAMBAAkDAgMDAwcECQIBBgIBBQcBCQcJAgIIAQcHAAABCAkABgYEBwkIAgkBBQIFAwcHAAAIAgMBAwUBAwYECAcGAggBCAYGCAcFBgAECAQJAwIDBgIAAQEGAgUDAAQDBQgGCQcICAMJAAADAQQCBQMJBAUFBQYABwEIAAkDAAUBAgIDAwEEAwUIBgAHCAgCCQEHBQAABgEACQcHAwEIAwcFAQIDBwcDCQMHBwQDAAcCBwUJAAkGBAQACQcICAUBAQUFAQMGAwEEBQAJBQgEAwgJBgQDBgQFCAUAAAYHBAYIBQMEBAAACQEHCQcCCAcACQIBCAIEBQIBAgcFAgkIBQcJAAcBBAkHBgMEAQkCAgABAgIAAwEHBQAEAgcBCQMAAQYCAgUBCAMBBAYCCAYFAgYEAAgICAkDBAAJBwIJAAgBAAIJAwgECAUACAcJAgAFAQACCQMCBAgFAQYIBwMIBgkJAAMBCQIEAwAEAgUFCAEFBQICAQkHBgIBBAYBAAQGAQYEBQkGBggIBgQBBQUDCAcECAEEBgMGAwcFBAAGBgcBBgYFCAgHAAAAAQEFCAYEAAAIAgUCAAMGAQEHBQUIAQQABwQGAwkIAQUJBwcGAQcCBgMDBAIFAgUBAwMHAQMAAQkIAwIFAggDBAIABwkEAgkICQQCBwgHAQkIBAMICAIDBQYCBwIACQQDAAMABwEHAgUDAgQIBQgGBwcCCAkJAgAAAQkCCQMCBAkFBwYIBwUIBQkFAAMBAQIAAwYEBQUGBgUHCQgFCQEBCAgHBgcHBwEJAQUEAgMABwkJAAMGBgIAAgMJBgYEAAgHBgMAAgEAAQEFCQkDBAYDAQACBAEGBAkEAQUHAQkABQkBBgEECQgIAAYBBgYJBwgGCAcIBwIABwcEBgUJCAcDCAUGBAYHAwYHBQkCAgIIAggHBQcDAQkABwEGAgEDBAQBBQcGAwcACAUJAQAAAQYCBgMDBAYFAwYHBwAIAwkEAAMBAQIFAwEEAAUDBgIHAwgCCQADCAIHCQADAwIHAQQEAwUHBQICCAMAAgcBBwMICQQHBwIAAQcBAAgICAEHCQgIAQIABAAJBgkHAAcEBQQAAwYJAQcBCQIDBQUACQcAAAQEAQQFAQAIAwYEAAgAAQAHAwIHBgEHBgcEBQIHBgQECAUHBAkBBwMFCAcGAgMDCQgJBgUECQIDBwcICAMFAAYBBAEHBAYDAgICAQAACQUEBwAIAQUCCQMIBAEFBwYJBwMIBQkEAAABAAIGAwMECQUIBggHBwgICQcACQEEAggDBwQFBQcGBwcECAgJAAEBCAEGCQcJAQMBBwQJAwQHBwcBCAgJAAMCBgIAAgMIBgYEAwgIBAAFAAcDBQYGBQAHAwIJCQIICAgDBgEJAQEFAQkFBAIDBQADBAIEBAAICQMGBAkIAgMCBgEFBwkJBwUJAQABBAkACAcGBwYFCQUABwAIAAcBBwgABAYGBAgACAkCCQYCAwcCCAQIAAQJCAADAwkHAAQEBQIIBQMHBQcIAAUEBAAHBgYCAgcCBAcFBwUABQUEAQYFAQMEAAMBBgIFAwQEBwUGBgMHAQgFCQgABAECAgYDBgQABQYGBgcGCAgJCAAFAQICBwMABAgFAQYDBwkIAQUAAgEIBgEIBwkCBQQGAQIECAEHBAQJBgYCCAcFAwMABwAIAQMJAwkFAwYGBwAABgYEAQgGAwgIBwAABQEFBQcGBQAHCAcFCAACBgYBCAUJCAYECQIGAwAJAwcFBgcJBgECCQcAAwYDBwYBAQICAwEJAAIBBAIFCQUBAwEHBwUHAwUBAQgBAgcCBgMFAAkCCAkDBAIJCQcJAAcACAIJBwkEAQkGCQACBAgGAQQFAQYCCQUICAMCCAMDAAYGBwQABgQFAAYAAgEJAgcDBwQABQMGAgcJCAUJAgAHAQQCCQMIBAIFAgYGBwYIAQkIAAgBAQIFAwYEBAUABgIHBAADBgkEBgcFBAQDBgYCAgYDAgQHCAMHCQgBBgQJAQgJAwUCCAIEBAEIAgUGBgkFCAAGAgUAAgEFAQECBQYICAIBAQIHAAgGAwkAAwIJBQMFBwcBAwgJAwEIAAUDAAYBBAECCQEIAgIGAAMEBQUFBQkAAwMFAQcIBgYHCQIAAgMJAQQAAwQABwQFBQQABwAJAAcIAAcBAAIBAwQHCQgJCQUACAEDAggDBQQFBQcGBwcECAcJCAAAAQQCAgMGBAUFAQYIBwgIAQACBwUFAQADCAAEBAEDCAIIAQEEAwgBCAgBAwkHBgkHAwcAAwkGBAIEBgAEBwUECQIBCAMHAQIJBAMHCQgECQMDCAEFBAEGCAUJAgcCAAIEBQgGBAcICAMHBQUHAQIGAAQACQkCBwkCAwcFBQMABgUGBwADAAYCAQUGBgIEBwkHAggHAwQCCQkFAQADAgQCBQMABgkBAQgJAwAIAwAFAwEFCAABAAAGCAEHBgYJAQUBAwkJBgQABQYIAgYIBwgBBAEGBwEACAEBAgEDBQQBBwgIBwkJAAMBAwIGAwYEAwAFAQUCBwMEBwAIAwkCAQEFBQkHBgAJBAMABQIAAwABBwkJBAYCAQIGBwcJBwYJAgIABAYIBAgDAAcGAwQHAQMCBQgFBwEBBwEHAAkHAAYJAAIBAgIFAwUEBgUHBgYHBAgACQABBgICAwUEBgUJBgcHCAgBAAQBAgIAAwAECQUJBgEHCQgACQMIAgQBAAQAAQcIAgMGAQUHBQkDBAcBBgUGBQQBAwkCAwYEBgAEAQQIAwYIBQgJAwAACAEIBAAFCAYDBAMHBwgJAAgDBAEFCQAABQkCAQACAAcHAAkBBQMJCAcCBQkBAgAHBgcJCQEEBAIEBQQIAwYIBQAJCQkCAQEBAQcFBgIJAQECAwkCBgMBBAMDBgEBCQQDAwYFCAgHAQADAQAACAUCCAQCAwcJBwIAAgEGAgQDAQQBBQYGAgcECAYJAAAIAQMCBgMHBAAFAgYEBwEIAwkEAAEBBQIBAwIEBQUHBgkHAwgHCQgIAAcGBAUHAwcJAwcJBggHCAcDAgEHBQEIBgIIBwEECQIGBgYBCQUABQkIAgYGBAYEBgQAAQQIBwcABQcFAQEECAYJCAEJAwUGBgMGAwkCAgICBgEJAAkJBgAFBgUBAwQDBAgHAQkGBAgCAQkJBgcEBgIIBgMBBwcEAwcIAAcJAAAGAAQDAgcECQcDBQAFAggAAQEBAAkBBgABBAEABgEAAAIECAcCCQMCCQAGBgQCBwYJAgECBQkECQEAAgEEAgIDCAQDBQcGAQcHCAkABgEDAgYDBwQEBQIGBQcGCAMAAwECAgADAAgDBwMEBAcFBwQJAQgJAwkBAAUJCAAECAIGBgIEAAQHAQcIBAcHBQEFAwEGCQcBCAMEBgcDBwMGAgQCAQYHCQIJCAYABQYFCQMJAwIIBQEFBwEGAggCAwcHBgQDBwUAAwkCAAUACQICBwAJBgEIAAMBAgAJBAMAAwEGAAEEBwcFCQMCCAAABgICAAYEAgICBwkGCQkACAEBAgQDAQQGBQYGCAcICAMABwEBAgUDAQQCBQQGAQcGCAEJCAAHAQECCAMIBAIFBQYCBwgIBQkDCAEDBgQJBwYIBQYBAwYEBAADCQMHBwEACQADCAgABAMHAgMDAAIJCAQGBQkECAYHAggAAgYEAgcBBQEHAQMBCAcFAgMEAwIGCQAECAUCCAEEBgIECQEHBwADAAQHBwUFAQgHAQYIBgIGCQgBAgAFAQIBAgkHCQcFBAIACAIABAQCAgMIAwADAQEDCAkJBQYDAQUABAUFCQIGAQkHCAQFCAgHBQYFCQgCAAcDAgAECAEGCAMDAAUBAgIIAwgEBwYFBwEIBQAHAQMCBgMDBAgGCAcFCAAAAAEFAgUDAAQJBggHBAgCCAQBAwcCAgEECQEEBAkBBgQICQUGCQgDBAMHAQgBBAcDCQMBBggHBQAABgEBAQYBCAMHCAAIAQcACQgEBQEACQYGAQUFCQgJBAECCAMHCQAHBwYJCQIABgYEAwIDBAcGBQYDBwEHCAgCCQIIAwcABQIDCQgECQkDBwQAAAAHAgQHAwQCCQIJBQIACAUBBwUJBgQJCQgDAwIICAMEBgAHBQAIBAUAAAAEAQcCAQMFBAEFAQYIBwEIBQkGAAYBAgIJAwEEAAUBBgMHBwgGCQcAAgEJAgADBAQBCQABBQAAAAUDAwYAAQQEBAMCAgcJCQEHAgMBAwIECQAAAwEEAwkAAgYCAgcJAQEJCQYACAADAAABBgAFAQUEAwUFBwYIBwMIBAYHAAEEAQUAAgcABQIJAQkJBAgHCQUACAQDAQQEBAQDAAIJAwQEAAUIBggHBQEBAAUBBgIDAwQEBwUDBgMHAQgIAAMBBwIEAwIECQUBBgIHAAACCQgFCAAHCQIIAwkGCAEECAECBwAHBgMEBQkBCQAGAAAABQEGAgMGCQMEAwcHCQQFBgMGCAYDBAMJAAEECQMFBQgDAgUACAAEAQYHCAYEAwMCAwEGBwUDCQEBAwQJBQEHBwQGAQgGBAIDAQEHBAcACQUEAwUGBAkHBgUBAgcDBAAEBQcIAgUCCAUFBwIJBgUIBAIIBggEBAIAAggICQEIAQAHAQICAAMIBAQFCQYABwkICQkAAAgBAwIFAwIEBwUFBgkHCQgHCQMABgECAgQDAwQBBQMGBQcCCAMJAwcBAggJCAQFAgAJCQgEBAMFAggCCAEAAgMBBQkEBgMIAwMFBAECBwkIBwQEBQcHAgIIBgQGCQcBBwgHCQAIAQAAAgEBBgUFBQUGAgAJBQMBAQgEBAgJCAUHAAMBCAYCBAkFAQECBQYGBQYJBwEEAgcCAwcGCQEHBQkDCQgBBAAHCQgHBAAHBQgAAgMICAcECQYBAQgEAwMCBgICAAAJBAIIBwEEAwIBBgAACQEABAEGAgQDAQQIBQEGAgcECAQJAAAGAQUCBQMABAIFAAYBBwAIAAkAAAMBAAIFAwcEBQUJBgkJCAgDBAcAAwADBwcCCQQBAgUGCAUCBQQDCQcFCAEGAAYCBAcDBAIEBgUGAAMICAkIBQMFAAABCAQDBAAHAAMDBQMEBgEDCQcBBQIJAQMDCAkGAggHCQcJCQgEBAIFBQQICQYJBQIFCAkICQIBAwEDBQkHBwYGCQEBBwMDAgkDAgEACQgAAwkGAQMAAgUFCAECBwcJBwcAAAEAAgcDAAQCBQQGBwcECAcJCAAFAQYCAwMCBAQFCAYCBwgICQkDAAUBCQIJAwcEBgUHBgkHBAgEBQICCAgBAQkHAgIJBAYBAwQHAQgECAkBBgUIBwQGBQgDCAcHCAYECAMGAwUFBgYGBwMAAQYHAQAGCAgHBwIACQEGBQgGAwAFCAAFBAABBgIBAgUDCAkEBQIDAwMJBgcBBgcJAwEFCQIABAYJBwgBAwIAAwcJBAIHBAgFBQUAAwIHBgUAAwIBBAgDAgYCCQMFAAMCAgkIBAEJCQACAgYHAgQACQMJBAICCAABAgUGBgkJCAgCAwEIAQMIBggEBgACAAgBAAIAAwQEBgUIBgcHBQgACQYABwEEAgQDBwQBBQkGAQcJCAEJBgAAAQgCBwMDBAUFAwYABwMIAgYEAAQDAAQBAQEEBgAECAIGBwQBBQMEAgABBwMIAQcCBwUJAwAFBAIJCAkEBwIEAgIBAAMFBggABQQJAQgFCAcEAAADBwcBAgMHBQIBAAMIAQYFCAMHCAYHCAMFAQAGCQgBBQkJBQIAAgAAAwkGAgkEBwYDBQMCBQcDAwcBAwMHBgkGBwIHAQECCQYJAAgCAQIIBwIBBwMDBwUECAcFBAMIBgkGAgIJAQUJAQEFBAYJCAkDBAUIBgkICAAIAAUJAAkGAwUBBwEAAAYBCAIBAwMEBgUABgMHCAgICQQABgEHAgQDCAQHBQUGAAcHCAYJAwAEAQYCCAMIBAMFAwYGBwEICQkEBwUFBAUCAQIJBwkCBwIBCAAECQcAAAcBAQMHBwMJBgMICQADCAMDAQIEAAgJAgABBgQBAQcDBQMICAMABAMHBwYHAwMCCQMHCAQJBQQDCAQIBQcBAQIAAggCBwcHAgkAAgkDAgQEBgMBBQEFBAQFAwUDAAEEAQgGBwIEBwkCAgIDAwYABAYBAAICBAABAAUABAQCAQAHBAYIAAYBAQQJBQMGAgAAAgAAAgIFAgYICQADCAYCAwkGBAACAQMCAwMJBAUHAQACAwUECAcBAAkBAQIEAwUEBwUIBgEHAwgHBwMCAgQIAQMEAAEFBAUJBAYCCAMEBwUFAwgHBAgIBAAGAgcIAAUGAwEFBgUIBAcFAAcAAAAJBgEBBgUIAgMDCAkCBwgGBAkJAQcJBwABBgUHAwIBBQMDAgEAAgADCQAIAgUJCAQECQYHAwAEAAECCAcEBAAJAwkFAgYJAQgGAwYGCAcIAAQECAADAAABAgIHAwEEAwYCBwUIAgABAQACAwMHBAMFAAYFBwUIAwkJAAYBCQICAwkEBAUFBgcHAQgHAQcEBwQHAgcDCQMHAAYJBAUCBAkDAwADCAUEAAYGBwkAAwcIBwkBCAYECQkBCAIACQgDBgYEAgYDAQQBBgMICAcFAgEDAAgGAQgCAgkEBQYIBQgGBwYBAgcCAQcBAgAEAwcECAIFBgIEAgcDBAgCAwcGBAMCCQkCAgUHBAkFAgcIBQYBAQcACAYCCAEFCQUGAAIFBgMBBQgJAQcHBAkIAAkHBgAJBQMIAAYAAAYIAwQABQUBCAgJBwEICAcBCAYGAAcAAAEEAgQDCAQBBQAGAAcDCAQJCQAFAQIDAAQCBQEGAgcBCAMJBgACAQQCBAMFBAEFAgYEBwgIBAkDAQMEAQQEAwUDBwAHCQAFBgQCAwAABQgBBAIABgcJBwAGCAkJAQYCBwkFAwMGAQIGAwcEAQYFBQYCCAMFCAUBAAIACQAFAggJCAAHAAEBBwUBBAEEAwYEBwQEBwcEBQIIBwMCBQkIAggHAwkFAgcIBwYHAQUIBwUJBQYABgUFAwgFCQkHBwkEAwgDCQMGBwkBAAcAAwYAAwcAAwUECAcJBwEJCAUBAQABAAIBBQICAwkEBgUHBgQHBwgGAAQBAQICAwIECAUEBggHBggECQIAAgEHAgQDAwQDBgQHBQgACAYCBwYHCQQGAwEJCQkJBQkBBAAECAMDCAABBgQIAQACBgUDAAEJAQQECQkBBQcIBAgEBwEICAkHCAYGAAgICAEACAACBgYDAgQACAkBAQkCBgUDBAkFAQYABwkDCAAJAgQCAAIEBwYFAgAAAwAFBwIGAQUECAQEAwIAAAAACAQFAQQDBwQJAgcDCAgIAwcHCQkGAgMIAQUHAQkFBgEDAQMFAQYABQIHBgMABQUJBgMIBQcEAwYFAQgGAwcAAwEFAgcDAAQGBQcGAwcGCAgJCAAIAQECBgMIBAQFBAYJBwkIAgkBAAEBBAIIAwkEBQUDBgYHBQgHCQUAAAgCBwQIBAkJCQIABQEGBAAFBgEHBgQHAAMBAgkJAgAFBQAGBwcDAwEJBwkJAwgIBwEJAgMJBAYCBwMFAwYIAwEFBAADBQMEBQAIAwcECQcFBwEJAAQAAwUHBwYEAgYBBQUGBQIABQUFAAIGAwcHAAcCAQkAAwQEAwQHCAQBAwIHAgYDCQEIAwYGBAcIAwQJAgYCBQQBBgkFCAMBAwEEBQMACAIJBwIIAwYEBgkIBQQCBAYCAAIBCAQACQAGAQICAwMBCAUJCAADAQMCAQQDBQUGAQcJCAEJBgAFAQgCBwMHBAUFBwYFBwUIAgkHAwYFAQMBAgAJBwMFAggBBwQEBQkFBwIHAwgCCAEEAwcJBwcJAgQBCAIECAcJAgEJCAkIBAcHCAYBAgAJAAIGBAcFBwEHBwUBBgUBCQUCBwQBAAIIBQUABgcHCQMJAwABAwAIBAQGCAQEBgEECAkGAgUJCQAABwAGAAMDCQcCAQgGBgQAAgAGCQYIAAYEBAUGBAIBBAMBCAgGBwMDCQUJBQUDCQUDAQcGBgkCBQIJAAcABwECAgUDAQQDBQkGBgcDCAAJCQAGAQkCBAMFBAAFCAYBBwgIAAkEAAMBBQICAwcEBAUJCQcBBwMEBQEJBAQCAQgHCAcDAggBCQQHCAgDAggJAgQJCQMFCAEFBQQCCAUIBAkABAQDCAkDAgEFAQcEBAABBAIBAwEFAgkGAQUGBwAJAQQAAAAHAgcIBgcFAgAFBAEFAQUIBQUCBgEEBAAIBAQHBwMBBggIAAAHAwcHAgQIAAMGBAkIAgAGBAUJCAcGCAkJAAcEBwADBgQBAAkHAggACAkHBQMBAAMHBwQGCQkABAYIAwMABwQHAAYBAwkAAAUHBgkCCQIFAAEBBwIDAwUECQUJBgcHBAgJCQMAAQEDAgkDBAQCBQcGCAcDCAEJAgAHAQACAgMEBQcGBgcACAMIBgkDBQAHBAAHAwgBAQQCAQcHCAYHBQYGBAQGAgUHAAgCAQgDBgQEAwUHBgIABQEAAwEBCQMCCQMGAgEDBQUHBQIHBggIBAQJAgkIBwEBBwEACQAAAQcCCAIDAwgJBgQDCQgDAAAJCAYFAgYBCQAIAQcABwYEAgEDBAgECQcABwcDAgEDBQQBBQAFAgIFCAEFBwQIBgAGBAYGBwcJAgEJCAACAQEJAgYGBwUBAwQEBAcJCQAEBgAJAAgFBQkBAAgBBgIFAwcEAAUJBgEHAwgFCQEABgEDAgQDCQQBBQYGBQcBCAIJAwAHAQQCCQMCBAEFAAYBBwQIAQkJAAMAAAEHAAUBBAIFBwkFBgMJBAcCBgQHBAkABAAFBgcJBAYBBgUFBwcHAwQCAwIHAwIEBAQHCQYBBwQBAAEHBQkGBwgFBwYHAgIDBwEFBAYEBAAICQUJBgYCAQgIAAMBAwgHCAMCCQYIBwgBCQkGBAgHCAUIBwQIBwkHBQYHAgEBBgkJCAAHAQgBCAAHBgIGAgcDAgkHAwIDBQAJBwcJAwUGBgUFAAAABgkBBAUJAAAECAEAAQgCBAgBAgUGBgEDBQAABAEGAgMDCAQIBQEGBQcACAEJBgAFAQcCAwMJBAIFAAgEAAMBCQIJAwYEBgUBBgMHCQgACAEGCQUEAAUGCAgHCQAEBgEICQMACAQHCAEJBwEJBAkACAUDAQEECAAIBwAGBwAAAQgHCQAHBgQIBwkIBQQHCAkCCAUGCAAACAEBAgcHBwkBBAMCAgUDCAEHBAICBAAIAAgHAAgGBAUGBAQFCQIDBQgHBAUHBgIGAwIGBAkEBgkDBwIJAgAEBQYGCQEAAAIIBQMFBQEBAwMDCAkABwcIBQcFAgQCAAkHCAECAQEDAwcBBgMIAAABBwIJAwQECAUIBgAHCAgGCQEAAQEEAgYDBAQHBQUGBQcJCAgJBQAFAQgCCQMFBAEFAAYGBwUICQkGAAIIAwMBCQEFAgUBAgkGCAgDBAcJBwECBwcBAAIJAwcFCQkABgAJAwEFAQgBAwIDCQEFAwYGCAgBCAIFAAEHCAcABQQIBQIICQcIAwcCAQEDAgQHBQYGCAAHAwgGBAgABwIABgQBAgAHAgcEBQQEBwMJBAcCAQgHAQQFAAEHAgIEAAMIAAIAAwACAwEDAwUIBwkAAAYBCAEGBwMCBAEGAAkECQMIAwIJBwEHCQEIAAEBBgIBAwIECQcCCAIJCAAJAQECBgMHBAEFBQYBBwQIAwkFAAMBAwIJAwIHBQgECQgHAAkDBQYAAwgAAwIFBgQCCAcCBwECAAYCBQUHCAYIAQEGBgIBAwMEAAcDBQYECQgDBwcABAQJBwcAAAQJBwcEBwcJAQUGBwcGAAQHCAgJBwYFCQMEBwEHAgIABwYGAQgHBAIDBAAGAgQJBgIFAwAIAgMBBwAIAQICAgEDBwUIAwEBAggICAICBwYJAgMCCQIABAECAgADCQQJBQgGAAcBAAcBCAIAAwcHAggGCQIAAwEFBwgICAkIAgkFBwEJBgcECAMDCQAJAQAABAkDBAYHAAIACAgDCQAIBwcEAAQABAQFAQQEAQECAwcGAAQBBwQHAgAJCQAICQQDAwgIAQMBCAYFCQgABAcBAwcCCQYCBgAGCQABAwcGAwMIBQAGAwgIBwEJBgEEAQMJBgABCQUDBQIGBwUJAAkBAAIIAwYEAwUDBgIHAAAFAQUCAQMFBAMFAAYFBwgABwEBAggDAQQHBQIHBAQGAAQEBgAFAQYHBQUJAQMEBwIGBAQDAwEHBwMICAIDBAkEAgMCAwkGAAYHBwMAAQICBgQDAgkJAwgCBQgFAQIHAQACAwICAAkDBAAACAMDBwgHAAcFBwIBAgEDAgQGAgQEAgQDBQYFBgQFAQcEBQMCBggCAQcGAQEAAAIEAgMBAQcGBAEDCQIABwEHAgUDCAQJBQgGAwcCCAYABwEBAgIDAAQJBQkGAQcGCAAJAAAGAQQCCAMBBAgFAgYIBwIIAgEJAAAEAAUFBgcGAgMIBAMEBgEBAAkGAQQICQIHAAIDAwQDAgkIAgEAAAkJAwcDAwkBAQMFAwIJAwcBBwYHBwkDAgcIBAACAgQHCAAHAAYJAwIGAAUHBQEACAEGBwIJBwkFCAkGBQIGAggBBwUFBwMFAAEBAwgECQQFAQgGCAkAAQIDBAUGBwgJAAECAwQFBgcICQABAgMEBwgJBwEFBgIFBAgBBwEIAwgHAQcHAAEEBAQEBAkHAgYFBAMIBwkABgQGAwcAAQQICAECCQMBCAQCCQkCCQYABQMDBgMBAgUAAwcGAQUFCQkAAQIDBAUGBwgJAAECAwQFBgcICQABAgMEBQYHCAkGCAIDBwQGCAYGCAABBwEHAwUAAgIAAgUEAQUBAgMECAMDBgUJCQMIAQMHCQMEAQcDCQYHBAkHAAkGAAYBAAUIBQABAAkEBQkHAQkGCAkCCAUAAQIDBAUGBwgJAAECAwQFBgcICQABAgMECQAFBggDCQACAwMDCQUGBAQCBQQDCQYIBwkBBQIGAwQEAQYECQYFAQIGBgcICAEIAwcBAgcABwUAAAEFAAAECAMBCAIJCQUCBgQIAgUEAQcBBAMJBwECBgAHAwABAgMEBwgJAAECAwQFBgcICQABAgMEBQYHCAkHAAYABwMHAwcJBwQAAgYFBgUCCQUDCQgDBAAFBAYDBAgABgQIAQMEAAEJAgMHCQECBQEHAggHAAEJBgQBAgMHAAIBAwEHAgEGCAAICQEGAAECAwQFBgcICQABAgMEBwgJAAECAwQFBgcIBgQCBgQHBQUEBwgJAgkDCQMIAgAFAAcABAIGBQMFAwgAAAMEAQUDAAgDAAYCBwEBCAEHAQMICQcGBwQBBgcFAQcBCQgABgkECQkDBwEJAgIFAwcIAgMEBQYHCAkAAQIDBAUGBwABAgMEBQYHCAkIAQAFBQEJAAQBCQMIBAcHCAUABgUFAwMDCQgBBAAGAQAABgIBAQMCCAgHCAQGAAIAAwYIBwEFCQkDAgQJBAYFAwIFBQkEAQYFAAECAwQFBgcICQABAgMEBQYHCAkAAQIDBAUGBwgJBgQCBgQHBQUEBwgJAgkDCQMIAgAJCAAFBgABAAQCBgUFBQQDBAEFAwAIAwAGAgcBAQgBBwEDCAUEAgAJBwYHBAEGCAQHBQECBgcBCQgABgkECQkGAgMHAQkCAgUDBwgAAQIDBAUGBwgAAQIDBAUGBwgAAQIDBAUGBwgJAgECAQMJCQgFAwcABwcFBwkJBAcAAwQBBAQHBQgBBAgEAQgGBgQGAwUHAgUJAgYCAQIACAMIAwAIBwQJBQAJBwQJAQYCBwYBCAYBAAMGAgEEAAECAwQHCAkAAQIDBAcICQABAgMEBQYHCAcEAwEIBgEJAgQACQkDBwcJAQgEBwUIBQMCAgAFCAYAAwgBAAMABAcECQIJAQIBBwEGBwMDBgIIBwYECQgIAgkGBQUJBQMHBAcGAAAEBgYJAAEBAwIBAAABAgMEBQYHCAkAAQIDBAUGBwgJAAECAwQFBgcICQQCAAIBBQkGBQkDBQAHAQEFAwAHCQYBBgcECQUHCQgFBgIECAkCAggABgQDAwECBAEFCAkGCQMEAAMJAAIHAQEABwYCAgcGAAYJBAgEAwMHCAEABAUIAwAGCAMHCAUHCAIDBAYHCAkAAQIFBgcICQABAgMEBQYIBwUHAwMIBgUEAAkDAgIDAAYEAwcGCQICAwUFAAcCAwQAAAUBCAkACAkGBQYHBQMFAwABAgMEBQYHCAkAAQIDBAUGBwkAAQIDBAUGBwgJAQMFCQQBBwcCAQQIAwgCCQMIBQQICAkHBQQDCQIFBwQBAgMGAAEAAAIIBwIFAQEIBQYEAAQHAwYIAAMHBgkCBgUIBgkABAAGAQkCAAkFAQMHBgkECAMHBwYDAAUGAgIAAQIDBAUGBwgJAAECAwQFBgcICQABAgMEBQYHCAkFBgYACAMHCQQHAQkBBwEEAQcFBwEDAwEGCQcEAwACBQIGAAgECAEFAAYGAwQHBQcCAgAAAQcHCQUJCAkGCAMGAQIJBQIFAgYCBAgEBgUAAQIDBAUGBwgJAAECAwQFBgcICQABAgQFBgcIAAQAAQcFAQQCCAQDAQcIAgQDAwYJCQUIBgcABgIGAwkBBwQICAkAAwAFAgkEAQADBwUIBwcIAgkFBQECBgQCBQIDBgAABwUCCAEGAQAEAwEGAQkAAQIDBAUGBwABAgMEBgcIAAECAwQHCAkCAgQABwMFBAEIAAUCBwIDBgIBBwcJAgQGBwcFCQkBCAYEBgAJAgYEAwkACAgJBAcBAwYJBAEHBgkDAwcEAQkBAAYAAQIEBQYHCAkAAQIDBAUGBwgJAAECAwQFBgcICQMCCQMCAQQFBQIDAgEDCQcCAQIICQEICAcABgcHCAcFAAYBBQcEBgECBwkJAAMIBAQBCAYFAAADBwEGBAIGBgAEBQQBAwgGAwkJBQkDBgQHBgICAAkEAAECAwQFBgcICQABAgMECAkAAQIDBAUGBwgJBgADBAEEAAcIBwcJAAQJBAAFCAUJCAgEAAcBAwUDAQYFAwgHAwEGCAUJAgIACQIEBgcDAQMGBgIBAgYABwgJAgkFAQgDBQYI",
          "dtype": "i1"
         },
         "xaxis": "x",
         "yaxis": "y"
        },
        {
         "bingroup": "x",
         "hovertemplate": "dataset=test<br>target=%{x}<br>count=%{y}<extra></extra>",
         "legendgroup": "test",
         "marker": {
          "color": "#EF553B",
          "opacity": 0.5,
          "pattern": {
           "shape": ""
          }
         },
         "name": "test",
         "orientation": "v",
         "showlegend": true,
         "type": "histogram",
         "x": {
          "bdata": "BwIBAAQBBAkFCQAGCQABBQkHAwQJBgYFBAAHBAABAwEDBAcCBwECAQEHBAIDBQECBAQGAwUFBgAEAQkFBwgJAwcEBgQDAAcAAgkBBwMCCQcHBgIHCAQHAwYBAwYJAwEEAQcGCQYABQQJCQIBCQQIBwMJBwQEBAkCBQQHBgcJAAUIBQYGBQcIAQABBgQGBwMBBwEIAgACCQkFBQEFBgADBAQGBQQGBQQFAQQEBwIDAgcBCAEIAQgFAAgJAgUAAQEBAAkAAwEGBAIDBgEBAQMJBQIJBAUJAwkAAwYFBQcCAgcBAggEAQcDAwgIBwkCAgQBBQkIBwIDAAQEAgQBCQUHBwIIAgYIBQcHCQEIAQgAAwABCQkEAQgCAQIJBwUJAgYEAQUIAgkCAAQAAAIIBAcBAgQAAgcEAwMAAAMBCQYFAgUJAgkDAAQCAAcBAQIBBQMDCQcIBgUGAQMIAQAFAQMBBQUGAQgFAQcJBAYCAgUABgUGAwcCAAgIBQQBAQQAAwMHBgEGAgEJAggGAQkFAgUEBAIIAwgCBAUAAwEHBwUHCQcBCQIBBAIJAgAECQEECAEIBAUJCAgDBwYAAAMAAgYGBAkDAwMCAwkBAgYIAAUGBgYDCAgCBwUICQYBCAQBAgUJAQkHBQQACAkJAQAFAgMHCAkEAAYDCQUCAQMBAwYFBwQCAgYDAgYFBAgJBwEDAAMIAwEJAwQEBgQCAQgCBQQICAQAAAIDAgcHAAgHBAQHCQYJAAkIAAQGAAYDBQQIAwMJAwMDBwgACAIBBwAGBQQDCAAJBgMIAAkJBggGCAUHCAYAAgQAAgIDAQkHBQEACAQGAgYHCQMCCQgCAgkCBwMFCQEIAAIABQIBAwcGBwECBQgAAwcCBAAJAQgGBwcEAwQJAQkFAQcDCQcGCQEDBwgDAwYHAggFCAUBAQQEAwEABwcABwkEBAgFBQQACAIBAAgEBQAEAAYBBwMCBgcCBgkDAQQGAgUEAgAGAgEHAwQBAAUEAwEBBwQJCQQIBAACBAUBAQYEBwEJBAIEAQUFAwgDAQQFBggJBAEFAwgAAwIFAQIIAwQEAAgIAwMBBwMFCQYDAgYBAwYABwIBBwEEAgQCAQcJBgEBAgQIAQcHBAgABwMBAwEABwcAAwUFAgcGBgkCCAMFAgIFBgAIAgkCCAgICAcECQMABgYDAgEDAgIJAwAABQcIAQQEBgACCQEEBwQHAwkICAQHAQIBAgIDAgMCAwkBBwQAAwUFCAYDAgYHBgYDAgcIAQEHBQYECQUBAwMEBwgJAQEGCQEEBAUEAAYCAgMBBQECAAMIAQIGBwEGAgMJAAECAgAICQkAAgUBCQcIAQAEAQcJBgQCBggBAwcFBAQBCAEDCAECBQgABgIBAQcBBQMEBgkFAAkCAgQIAgEHAgQJBAQAAwkCAgMDCAMFBwMFCAECBAQGBAkFAQAGCQUJBQkHAwgAAwcBAwYHCAUJBwkGCQYDBwQEBQMFBAcIBwgABwYICAcDAwEJBQIHAwUBAQIBBAcEBwUEBQQACAMGCQYAAgcEBAQEBgYEBwkDBAUFCAcDBwIHAAIEAQEGBgkCCAcCAAEFAAkBBwAGAAgGCAEIAAMDBwIDBgIBBgEBAwcJAAgABQQAAggHAgkIBAAJBQgFAQIBAwEHBAUHAgAJCAgGAgUEAQkCAQUIBwACBAQDBggIAgQABQAEBAcJAwQBBQkHAwUICAAFAwMGBgABBgADBQQEAQIJAQQGCQkDCQgEBAMBAwEICAcJBAgIBwkHAQQFBgAFAgICAQUFAgQJBgIHBwICAQECCAMHAgQBBwEHBgcIAgcDAQcFCAIGAgIFBgUACQIEAwMJBwYGCAAEAQUIAgkBCAAGBwIBAAUFAgACAgACBAkIAAkJBAYFBAkBCAMECQkBAgIIAQkGBAAJBAgDCAYAAgUBCQYCCQQACQYABgIFBAIDCAQFBQADCAUDBQgGBQcGAwMJBgEBAgkABAMDBgkFBwMHBwcIBwkIAwAHAgcJBAUECQMCAQQAAgMHBQcICAUAAQEECAMJAAAABgYCAwcIBAcHCQIEAQQFAgQJCQEIBAAJCAQIBwcABwgIBgAECAgCBAcGBgYEBwEICAIDBgMAAAMHBgkHCQkFBAMDBgECAwcDAwIAAwMIBAMGAwUAAgAJAAcEBgkDBQEJBgEEBQQFAAUJBQIBAgkBCQkEAAgEBQIJAgECAQcDBggIBAkBCQgFBwUBAQgGBQIEBAMCAwUGCAgGAgMBAAUICQIJBgcABAgHAQcEAQAJBwIAAAkBBwgHCAQHAgAEBgADAQEDAwkGBwQBBQMACAcDCQYJAwUAAgcEBQEHBQgACAgBBQADAAMBBAADBwIHAQgABwAEAwEJCAcHAQQJCQMCAQcJAAIAAwMHBgkCAwMHBwAABwUCCQgHBAQCBgYBCQYIAgkACAMBAQYDBQEBAQMBAgMAAgABAwUFBwQICQYJBggDBgYIBQEEAgQEBQEBCQACBAkFBwEICAUGCQgHAQEGBwYDAgIACAkCBQEACAEJBQcJBgkABgEFBQgDCAIGBQAHBAYBAwQHAwIDBAIFAgcBBwIGBAEFBwgGAAEIAgUHBwYJAwUIBAIEAAgIAwQJAgcFCAYFBgAIBgcDBgQJBAYGAwIEAQABBAYCCQEBAAYDCQUGBQYFCAQGBAMJAQMEAQkBBwEBCQMFBAAHAwYBBwUFAwMAAQUHBQgGBQEABAIDBAYHCQgBCAQJAggGAgcAAAYHBQgGAAkDBwEDBQQDAwUFBgMAAgMEAgMACQkEBwIIBAcABgIIBQIIBQcDAAgCAwIIAgUFBwYEBggECAIHBAUCAAMJBAYHAgUGAQECAwYHCAcGBAgJBAgGAwgDAQAGAgIFBgkFCAEEAQcIBAYBCAQDAQIIAAgFCQEEAgACBwAJAAIFBwYHCQQCBgIEBAgABAQFCAAGCAkIBQYJAAQIBwEDBAUIAAkBAwMGCQgHAQAFBwEHBQIHCQEIBQIECQQHAgIDBAkBCQIBBwkEBAEGBwIHCAgBCQcBAQcFAwMFAQMHBgEDCAcFCQkAAAIICAIDBwEDAAMEBAMICQIDCQcBAQcABAkGBQkBBwACAAAEBgcABwEEBgQFBAkJAQcJBQMDCAIDBgICAQEBAQEGCQgEAwcBBgQFAAQHBAIEAAcAAQkICAYAAAQJBggCAgMIBAgCAgEHBQQEAAQDCQcDAQABAgUJAgEAAQgJAQYIAwgJAwYCCAMCAgEABAIJAgQDBwkBBQIECQADCAUDBgAJBAYCBQACBwQGBggGBggGCQEHAgUJCQAHAgcGBwAGBQIEBwIACQkCAgkEBAIDAwIBBwAHBgQBAwgHBAUJAgUBCAcDBwEFBQAJAQQABgMDBgAECQcFAQYICQUFBwkDCAMIAQUDBQAFBQMIBgcHBwMHAAUJAAIFBQMBBwcIBgUJAwgJBQMHCQEHAAADBwIFCAEIBgIJBQcFBwgGAgUBBAgEBQgDAAYCBwMDAgEABwMEAAMJAwIICQADCAAHBgUEBwMJAAgGAgUGAQAABAQAAQIDAgcHCAUCBQcGCQEEAQYEAgQDBQQDCQUAAQUDCAkBCQcJBQUCBwQGAAEBAQAEBAcGAwAABAMABgEJBgEDCAECBQYCBwMGAAEJBwYGCAkCCQUIAwEAAAcGBgIBBgkDAQgGCQAGAAAABgMFCQMEBQUIBQMABAACCQYIAgMBAgEBBQYJCAAGBgUFAwgGAgEEBQQDBwgFAAkDBQEBAAQEBwABBwABBgEEBQYGBQcIBAQHAgUDBwAHBwkGBAIIBQcIAwkFCAkJCAYCCAkCAwYBAQgJAwQABwkGBAEEAQMECQMBBAcHBAcCCQMACAgIBAAEBAEFAggDBAkFAggBBQMHCQQCBQYDBQkDBQkDAQkFAwAGCQgEAAQJAgkAAQADAQYFCAEFAwMAAwUFCQIIBwAECQEJBwcFBQIACQEIBgIDCQYCAQkBAwUFAAMIAwMHBgYAAQQABgkIAQIJCQUJBwMHCAABAwAEBgEAAgUIBAQBAQUEBgYABgkCBgIHAQcJBAAAAwgCAgMBBgAFBwcJAgYHCQcIBggIBAYIBAECCAEDCQQAAwcDAgMDBwMEAAYCAAgBBQMFBAEHAQUHBQcDAgIHAwcDBwgFBAUCBQYFAwYHBAEHAQUCAwYDAQQCBgcEAwgABgIBBgUDCQEJAwIBCAQEBgUIBgkHBwgGCQcDCQQABQQGBAECAwAAAgYGBQcACAYEBwkABwMEAgEICAUJAgcBCAgIAgcGAAECBwEACAMGAAUDBgIIBwABBAIBAQQEBAQHAQYCCQkAAAEICAQDBAIABgEGAQICAgECAwcIAQAAAgEGBgABBgIFAQcECAIBBAMIAwkJBAgDBAcCBwUHAAQDAwIGBwYAAAYHBwAFBQgBAAcAAggBBQAICAADAgcHAgYEBwUFBQIJAggEBggGBQAACAcGAQcBAQIHBAAABwcGAwgGBAIACQQABQcIAgcEBwEBAwYGAgkBCQQIAwYJBQkGAgQGBwcABgYJBAgDBQMECQAABQIFAAcBAQEGBwYHCQYGBAEEAwEBAgIEAQAIBwYDBAAABgMDAAcBBwEBAwEACQkHBQQBBAgJBQMFAQkIAgMDCQkAAQACCQMJAwMGAgQJCAMHBAAEBwgECQgJCQcFCQIIAgIAAgIDCAQGCAYIAgQGBwkDAwkEAwEEBAcABQkGAAQEBAQGAQIDAwYEBQkGCAUGBQgGBAEIBgUCCAQFBQQHBwAHCAICAwcAAQgABwEJCAcFBQkBBwUECQECAgEGBgcBAQQABwQCBAAGBAcGCQUDBAYFAAEICAIIAwUHCAAIBQcBAQABAwcIBQAHAQEAAQEEBQIHBgIDAAIIBQkGCQcCAQMGBAEIAgQABQEAAgIGBAQDCQYBBgUHCQIAAgYAAQQDBQIICAAICAkACQYHBgMJAwQHBwcECQAGBAgEAgcCCAEAAAcIAwMDAQMHBgEDAQYGBQcEBwUJBQgECQkBBgUAAQMHAAMECAICAAIFAQUBBAgICQECAQMFAQAJBAQIAwIFCQcGBgIAAAAFCAcBBQIDCAUBCAIABAkJBgIDAwUGBAgACQIIAwYHBQcCCQQJAQIIBgAHAAkBAQYHBQkJAQkFCQIFAAQBAAgJAAgJCAkEAgUHCQgJCAAJCQYICQkFCQgFAQADAwUCAQYFAAIIAQUGAgMAAgIGBAMFBQEHAgEGCQEJCQUFAQYCAggGBwEEBgAEAAMDAgIDBggJCAUDCAUEBQIABQYDAggDCQkFBwkEBgcBAwcDBgYACQABCQkCCAgAAQYJBwUDBAcECQkEAwYDAQEHBgkBCAQBAQkJBAMGCAEGAAQBAwcHBAkFAQAAAQEGAgEJCAQAAwYECQAHAQYFBwUCBQEIBQQHAAYHAAIFCAEABAUHAQgFAQkAAAYABwMBCAMJBwAACAkFCQgDAgcCCQcCAQEDBwUDAQkIAgICCAgFBwMICQgIBggCAwkHBQYCCQIICAEGCAgHCQEIAAEHAgAHBQEJAAIACQgGAgMJAwgAAgEBAQEEAgkHAgUBAQIBCQkJAQACAAIBAQQGBAEFBAkHBwEFBgICAggABgkGAQkHBwEECAUDBAMECQcFAAcECAgBBQMJBQkHBgkAAwYDCQgCAgECCAYIBQUDCQQJAgUBBQEEBAEEBAMFCQECAgMDAAIJAAAJCQYACQMCCAQBCQkHAgcJCQUJBQEBCAMFAQkFAwUECQUJAwEJAAkHBQQJAgABAAUBBAkDAwYBBQIFAgIACQIGBgABAgADAAIFBQcJBQUACAkFAAMCBQkACAgEBQgIBAUECAUECQICAQIGCAgHAAMGBgQDCAgHAgIAAAkDCQkBCQgGBgQCBgkCCAUEBQcJCQkCAQgDBAAHCAMJAwQGBQYCAwkCBgAABgECCAcJCAIABAcHBQAFBgQGBwQDAAcFAAcEAgAICQkEAgQGBwgHBgkEAQMHAwAICAcGCQMJAgIJAgEIAwIJBggEAAECCAQFAgcIAQEDAAMFBwADAQkDBgMBBwcDAAgECAIGBQIJBwMJAAkJBgQCCQcCAQEGBwQHBQkGCAIBBAQFBwYBAwIFCQkDBgEBBAYJBwIBBQEEBgMIAQEAAwEGCAQJAAcDAAIJAAYGBgMGBwcCCAYACAMAAgkIAwIFAwgIAAABCQUBAwkGAAEEAQcBAgMHCQcECQkDCQIIAgcBCAAJAQABBwcJBgkJCQIBBgEDBQcBCQcGBAUHBgYJCQYDBgIJCAECAgUFAgMHAgEAAQAEBQIIAggDBQEHCAEBAgkHCAQAAwAHCAgEBwcIBQgECQgBAwgAAwEHCQUFAQYFBwQJAwUEBwECAAgBBgAHAwQHAwkGAAgGBAgHBwkDCAYJBwIDBAACAQgDBQUHAgQGBwIIAwAIBwgJAAgEBAUIBQYGAwAJAwcGCAkDBAkFCAkBAggIBggBAwcJAAEBBAcACAEHBAUHAQIBAQMJBgIBAggABwYGCQMHAAUCCAAFBAMIBAYGAgcJBQEDAgQDBgEJBAQHBgUEAQkJAgcIAAEDBgEDBAEBAQUGAAcABwIDAgUCAgkECQgBAgEGAQIHCAAAAAgCAgkCAgcJCQIHBQEDBAkEAQgFBgIIAwECCAQJCQMHAAcHAgMCBAADCQkIBAEABgAJBggGAQEJCAkCAwUFCQQCAQkEAwkGAAQABgABAgMEBwgJAAECAwQHCAkAAQIDBAUGBwgJCAMEBwgGAwQACQcBCQMIBAcDAAkBBAUEBgIABgIBAQEBBwIEBwUCCQQFCAQCCQcAAAcFAQEHBgYGCAICBwcEAAIEAgEICQYBAAUJBgkIAAMACAMJBgMAAQIDBAUGBwABAgMEBQYHCAkAAQIDBAUGBwgFBAgHBAcHAwkICAMBBQgCBwQCAQUEBQUIBgQEBAEIBwUFAQgJAQMGAwMCAgYJCQYFBQMDCAEGBQYIAQkHBggDBwQHAAkAAAMHCQMAAgABAAEABAABAAQHCQYCBgICCQkAAQIDBAUGBwgJAAECAwQFBgcICQABAgMEBQYHCAkIAAUGBgAIAAIDBwkEBwEJAQcBBAAABAEHBQcBAwMDAQYJBwQDAAIFAgYACAkEAwUECAEFCQAGBAMGAwMIAQQHBQcCAgAAAQcHCQUJCAkGCAgCAwYBAgkICQUCBgIECAQGBQABBQYHCAkAAQIDBAUGBwgJAAECAwQFBgcICQcEAgAJAAEFCAgAAgcIBAQGAQAEBQMJBAIABQABAwIJAQYAAQEIAAQHBwYDBgAHAwUEAgQBCAMFBgcABgcBAgUIAQkDCAIIBwYHAQQGAgkDAAECAwQFBgcAAQIDBAUAAQIICQEEAAkFAAgABwcBAQIJAwYHAgMIAQIJCAgHAQcBAQADBAIGBAcEAgcECQEABggFBQUDBQkHBAgFCQYJAwADCAkBCAEGAAABAgMEBQYHCAkAAQIDBAUGBwgJAAECAwQFBgcICQMFAwIJAwIBBAUFAgMCAQMJBwIBAggJAQgIBwgBAAAHBwgHBQAGAQUHBAYBAgUABwkJAAMIBAQIAQgGBQkAAAADBwEGBAIGBgAEBQQBAwgGAwkJBQkDBwgFBgQHBgICAAkEAAECAwQFBgcICQABAgMFBgABAgMEBQYIBwEDAggABwUJCQYACQQBAwIBAgMIAwIGBQYIAgcECAEIAAUDCQQBCQIBCQYHCQAEBgEHAwgHAgkGBQgDCQAFBwEGAQAJAwMEBAAGAgUEAgMEBgAAAgABBAUGBwgJAAECAwQFBgcIAAECAwQFBgcICQgHAQMHBQIIAAcFCQkACQEBBQgIBgMCAQgDAgYFBgcEAQAFAwEJAgEJBgAEBgEHAwgHAgkGBQgDBQcBBgEACQYCBQQCAwQEBgAAAgABAgMEBQYHCAkAAQIDBAUGBwgJAAECAwQFBgcICQgGBQAGCAkEAQkFAwAECAkBBAAFBQIBBQQABwYAAQcABggJBQEHCQgGAAgBBwcBAwIDAQQCAAAHCAQGBAkDCAQHAgUGAwYJBgMCAgQGCQACBQUBAwMJBwgHAgIFBwkIAgEDAQMAAQIDBAUGBwgJAAECAwQFBgcICQABAgMEBQYHCAkBAgYFAwAHAAQBBAMGBwIDAQIBAgkGAAEDAAIHBQcGAgkBCQAGAAYAAgAGAQUIBAMAAQUEBAgFBwUHCAMECAgFAgkHAQMIAQAHBQkGCQQHBwkJAwQEAwgGAgABAgMEBQYHCAkAAQIDBAUGBwgJAAECAwQFBgcICQAIAwkFBQIGCAQJAQcBAgMFCQYJAQEBAgkFBggBAgAHBwUIAgkICQAEBgcBAwQFBgADBggHAAQCBwQHBQQDBAIIAQUBAgACBQYEAwAAAAMDBQcABgQICAYDBAYJCQgCBwcBAAECAwQFBgcICQABAgMEBQYHCAABAgMEBQYHCAIBBwIFAAgAAgcICAMGAAIHBgYBAggIBwcEBwcDBwQFBAMDCAQBAQkHBAMHAwMAAgUFBgYDBQIFCQkIBAEABgAJBggIBQYBAQkICQIDBQUJBAIBCQMJAgAGAAQAAAECAwQHCAkAAQIDBwgJAAECAwQHCAkHAwADAQgHBgQAAgYIAwIIAQIABwEABAQFCAAGAgMBBQEIBQkEAAcFCAgDCAkCBgIFAwEHAwkBCQkGAAMJAggBBAMFAgkCBQgJBQABAgQFBgABAgMEBQYHAQIDBAUBAAQFBgYDBAQCCAEABgQJBwIDAwkCAAkDAwkBBQIDBwcIBAACBAACBAcIAAcABgkDAggGAAUHBQEACAEGBwIJBwkFCAYCBgIIAQcFAAEBAwgECQEIBggJAAECAwQFBgcICQABAgMEBwgJAAEHCAkJCAkIBAEHBwMDBwYGBgEJAAEHBgMCAQcBAwkBBwYIBAEEAwYJBgEEBAcCBAQAAQIDBAUGBwgJAAECAwQFBgkAAQIDBAcIAQMFAQcHAgEECAMEBAMJBwQBAgMFCQEGAAEAAAIIBwEBBAAEBwMGCAADBwQABgkCBgUIBgkABAAGAQkCAAkFAQMHBgkDAAICAAECAwQFBgcICQABAgMEBQYHCAkAAQIDBAUGBwgJAgEHAgUACAACBwgIAwAGAAIHBgYBAggIBwcEBwcDBwQFBAMDCAQFBAEBCQcEAwcDAwACBQUGAwEFAgUJCQgEAQAGAAkGCAgFBgEBCQgJAgMFBQkEAgEJBAkBAwkCAAYABAAGAAECAwQFBgcICQABAgMEBQYHCAkAAQIDBAUGBwgJAwgABwEABwUFBgkAAQAACAMEAwEFAAAJBQMECQMHBgkCBAUHAgYECQQJBAECAgUIAQMCCQQDCAICAQIIBgUBBgcCAQMJAwgHBQcABwQICAUABgYDBwYJCQQIBAEABgYAAQIDBAUGBwgJAAECAwQFBgcICQABAgMEBQYHCAkHBAAEAAEHCQUBBAIICQQDBwgCBAQDAwYJCQUIBgcABggCBgMJAwIIBgEHBAgICQADAwkABQIJBAEAAwcFCAcHCAIJBwECBgQCBQIDBgYFAAACCAEGAQAEAwEGAQkAAQQFBgcICQECAwQFBgcAAQIDBAUGBwgJCAQAAAcCBAMIBgYDAgYDAwABBAcIAAMBCQABCQECBwABAwgCCQIHBgUFCQkIAgkBAwIDBAMBCQAJAwYIBwABAAUIAgcHAAECAwQFBgcICQABAgMEBQYHCAkAAQIDBAUGBwgJAQcECAEFBgUHAggGAwMIBgUEAAkBBwIJAQUBAwICAwAGBAMHBgkABAgBBAAGAQIGCQICAwUFAQAHBwkGAgkEBwACAwQAAAgICAUBAwcECQgICQAJCAkAAgYFBgcEBwUEAQMFAwECAwQFBgECAwQGAAECBAUGBwgBBwIEAQQBBAkGCAQFAwcIBAMDBQYHAAYBBggHAAEFAAgFAAEFCAQCAwkHBgkBCQAGBwECAwkCBAUFAwcFAwEIAgIDAAIJBAkHAAIHBAkJAgUJCAMIBgcAAAECAwQFBgcICQABAgMEBQYHCAkAAQIDBAUGBwgJAAAHAgYFBQMHCAYGBgYEAwgIAwABCQAFBAEJAQIHAAEDCAIJAgcEAgYFBQkJAQEFBwYIAgkEAwEJAAkDBggHAAEABQgCBwcAAQIDBAUGBwgJAAECAwQFCAkAAQIDBAUGBwgJAgECAQMJCQgFAwcABwcFBwkJBAcAAwQBBQgBBAgEAQgGBgQGAAUFAwMFBwIFCQYJAgYCAQIACAMIAwAIBwQJBQAJBwAABAYACQEGAgcGCAMFAgEIAwgGAQACAQQAAQIDBAUGBwgJAAECAwQFBgcICQABAgMEBQYHCAkHBgQHBgIDBAgHCAYJCAMCAggECAUGBQACAAEBAgkGCAIBAAYFAgkHBQMJAwcBCAMIAQkFBQABAQkIAgYABAUAAwEIBgcFCQkDAAMBBAQABAkAAQIDBQYHCAABAgMFBgcICQABAgMFBgcICQkHAAkAAQUICAAJAwIHCAQGAQAECQQCAAUAAQYJAwIJAQYAAQEIBwcGAwYABwIEAQcABgcBAgUIAQgCCAcGCAcBBgIJAwABAgMEBQYHCAkAAQIDBAUGBwgJAAECAwQFBgcICQgJBQcAAwEGCAQBBQYEAgcIAQMEAwQHAgAFAAEJAgMCAwUFBwgECQkHAQEJAAcIAwQIBgMIAAkGAgEAAQAGAgMICQAHAgMEBQUCCAUEBgYGBwkBCAIBBQMEBwkEAAAAAQIDBAUGBwgJAAECAwQFBgcICQABAgMEBQYJAAEDAQUBAgQJAgQGCAABAQkCBgYIBwQCCQcAAgEAAwYAAQIDBAUGBwgJAAECAwQFBgcICQABAgMEBQYHCAkIBgUJBwACAwQDCAUBBQIDAAECAQMCBgUDAAcCBwQGBAAFCQkICQUDAQcEBwYFBAAABgYCAAYDBwcEBAMJAggJBgAJBQMICAcBBAAECAUCAwkAAQkBBQEHBAgGAgEGCAgAAQIDBAcICQABAgMEBgcICQABAgMEBwgJAQQFAwMACQUEAwAIBAYHAAcHAQYJAQMGAgMIAgMICQUICAcBBwEBAAMEAgYEBwQCBwQCCQIHCQIBAAYFAwQIBQkGCQAGAwAIAQYAAAECAwQFBgcAAQIDBAcICQABAgMEBwIFAQYEAwkJAAkHAQYEAwYCAAkIBgUHAAABBwQDAgQBAwcGBAcHBwkIBAMIAggDBQgABQQHAQMBBwkGAgAJAQcDAwkBBgQDCQgCAQgGBAEFBQYFAAECAwQFBgcICQABAgMEBQYHCAkAAQIDBAUGBwgJBgkHAAIDBAMIBQEDAAECAQMCAAcCBgQABQkJCAkFAwEHBAcAAAYGBgMHBAIICQgHAQQABAgFAgMJAAEJAQUBBwYBAgEGCAABAgMEBQYHCAkAAQIDBAUGBwgAAQIDBQYHCAEABAUGBgMEBAIIAQAGBAkHAgkCAAkDAwkBBQIDAQYHAwcIBAACBAACBAcIAAcABgkDAgQIBgAFBwUBAAgBBgcCCQcJBQYFAgYCCAEHBQUHAwUAAQEDCAQJBAUBCAYICQABAgMEBQYHCAkAAQIDBAUGBwgJAAECAwQFBgcICQMFAwIJAwIBBAUFAgMCAQMJBwIBAggJAQgIBwgBAAAGBwcIBwUABgEFBwQGAQIFAAcJCQADBAQIBAEIBgUJAAAAAwcBBgQGAAQFBAEDCAYDCQkFCQMHCAUGBAcGAgIACQQAAQIDBAUGBwgJAAECAwQFBgcICQABAgMEBQYHCAkGBAIGBAcFBQQHAgkDCQMIAgAJBQYAAQAGBQMFAwgAAAMEAQUDAAgDAAYCBwgBBwEDCAUEAgAJBwYHBAEGAgYHAQkIAAYJBAkJBgIDBwEJAgIFAwcIAAECAwQHCAkAAQIDBAcICQABBwgJCAkCBgEDBQQIAgYEAwQFCQIAAwkECQcDCAcEBAkIBQgCBgYCAwEDAgcDAQkAAQEDBQAHCAEFAQQGAAAECQEGBgkABwYBAQABAgMEBwIDBAUGBwABAgcIBgMJBwEJAwkGAQcCBAQFBwAAAQYGCAIHBwIEAgEGAQAGCQgDCQYDAAECAwQFBgcICQABAgMEBQYHCAkAAQIDBAUGBwgJAQYICQkAAQIEBAMHBAQEAAMIBwUIAgEHBQMIBQIFAQEGAgEDCAYEAgYCBQUAAggABggBBwkBCQIGBwYGCAcECQIBAwMABQUIAAMHCQcAAgcJAQcIAAMFAwYAAQIDBAUGBwgJAAECAwQFBgcICQABAgMEBwgJBgQCBgQHCAkCCQMJAwAAAQAEAgYDBQMAAwQBBQMACAMABgEHCAAJAgYHAQkGCQQJCQYHAQIFAwcIAAECBAUGBwgJAAEDBAUGBwgAAQMEBwgJBwUFAQkJBwEAAAUJBwEHAgIDBggDAgAABgEHBQgGAgkECAgHAQAIBwcFCAUDBAYBAQUFAAcCAwYEAQIEAQUEAgAECAYBCQACBQYJAwYDBgABAgMEBQYHCAkAAQIDBAUGBwgJAAECAwUGBwgBAAkFBwUBCAYJAAQBCQMIBAQHAAEJAggHCAIFCQYABgUFAwMDCQgBAQAGAQAABgIBAQMCBwcICAcIBAYAAgAHAAMGCAcBBQkJAwcCBAkEAwYCAgUDAgUFCQQBBwIAAQIDBAUGBwgJAAECAwQFBgcICQABAgMEBQYHCAkBAAECBwUDBAQAAAYJBgYFBwIDBAQJAQQABwkFBwIDAQQEAAkJBgEIAwMHAwkICAQHBwYCAQkIBwgIBwICAwkDAwUFAAcJBQYFAQQBAQIIAgYBBQABAgMEBQYHCAkAAQIDBAUGBwgJAAECAwQFBgcICAAGAAACAwcJBAcBCQEHAQQAAAEHBQcBAwMDAQYJBwEDAAIGAAgJBAMFBAgBBQkABgYDCAEEBwUCAAABBwgJBggIAgMGAQIJBQIAAQIDBAUGBwgJAAECAwQFBgcICQABAgMEBQYHCAkHBAYBBAAJCQMHCAQHBQgFAwICAAUIBgADCAEAAwAEBwQJAgkFBwEHAQYGBQYCCAcGBAkJBQMHBAMABAYGAQEDAgEAAAECAwQHCAkAAQIDBAUGBwgAAQIDBAcICQAIAwkFBQIGCAQBBwECAwUGCQEBAQIBAgAHBwUIAgkIBgcDBAYIBwAEAgcHBQQDBAIIAQUBAAIDAwUHAAYIBgMJCQgCBwcBAAEHCAkAAQIDBAUGBwgAAQIDBAcICQcIBgQBCQMIBAQHAAEJAggHCAIGAAYFAwMDCQEEAAYBAAAGAgEBBwcIBAYABwADBggHAQUCBAkEAwYEAQcCBgUAAQIDBAUGBwgJAAECAwQFBg==",
          "dtype": "i1"
         },
         "xaxis": "x",
         "yaxis": "y"
        }
       ],
       "layout": {
        "bargap": 0.1,
        "barmode": "overlay",
        "legend": {
         "title": {
          "text": "dataset"
         },
         "tracegroupgap": 0
        },
        "margin": {
         "t": 60
        },
        "template": {
         "data": {
          "bar": [
           {
            "error_x": {
             "color": "#2a3f5f"
            },
            "error_y": {
             "color": "#2a3f5f"
            },
            "marker": {
             "line": {
              "color": "#E5ECF6",
              "width": 0.5
             },
             "pattern": {
              "fillmode": "overlay",
              "size": 10,
              "solidity": 0.2
             }
            },
            "type": "bar"
           }
          ],
          "barpolar": [
           {
            "marker": {
             "line": {
              "color": "#E5ECF6",
              "width": 0.5
             },
             "pattern": {
              "fillmode": "overlay",
              "size": 10,
              "solidity": 0.2
             }
            },
            "type": "barpolar"
           }
          ],
          "carpet": [
           {
            "aaxis": {
             "endlinecolor": "#2a3f5f",
             "gridcolor": "white",
             "linecolor": "white",
             "minorgridcolor": "white",
             "startlinecolor": "#2a3f5f"
            },
            "baxis": {
             "endlinecolor": "#2a3f5f",
             "gridcolor": "white",
             "linecolor": "white",
             "minorgridcolor": "white",
             "startlinecolor": "#2a3f5f"
            },
            "type": "carpet"
           }
          ],
          "choropleth": [
           {
            "colorbar": {
             "outlinewidth": 0,
             "ticks": ""
            },
            "type": "choropleth"
           }
          ],
          "contour": [
           {
            "colorbar": {
             "outlinewidth": 0,
             "ticks": ""
            },
            "colorscale": [
             [
              0,
              "#0d0887"
             ],
             [
              0.1111111111111111,
              "#46039f"
             ],
             [
              0.2222222222222222,
              "#7201a8"
             ],
             [
              0.3333333333333333,
              "#9c179e"
             ],
             [
              0.4444444444444444,
              "#bd3786"
             ],
             [
              0.5555555555555556,
              "#d8576b"
             ],
             [
              0.6666666666666666,
              "#ed7953"
             ],
             [
              0.7777777777777778,
              "#fb9f3a"
             ],
             [
              0.8888888888888888,
              "#fdca26"
             ],
             [
              1,
              "#f0f921"
             ]
            ],
            "type": "contour"
           }
          ],
          "contourcarpet": [
           {
            "colorbar": {
             "outlinewidth": 0,
             "ticks": ""
            },
            "type": "contourcarpet"
           }
          ],
          "heatmap": [
           {
            "colorbar": {
             "outlinewidth": 0,
             "ticks": ""
            },
            "colorscale": [
             [
              0,
              "#0d0887"
             ],
             [
              0.1111111111111111,
              "#46039f"
             ],
             [
              0.2222222222222222,
              "#7201a8"
             ],
             [
              0.3333333333333333,
              "#9c179e"
             ],
             [
              0.4444444444444444,
              "#bd3786"
             ],
             [
              0.5555555555555556,
              "#d8576b"
             ],
             [
              0.6666666666666666,
              "#ed7953"
             ],
             [
              0.7777777777777778,
              "#fb9f3a"
             ],
             [
              0.8888888888888888,
              "#fdca26"
             ],
             [
              1,
              "#f0f921"
             ]
            ],
            "type": "heatmap"
           }
          ],
          "histogram": [
           {
            "marker": {
             "pattern": {
              "fillmode": "overlay",
              "size": 10,
              "solidity": 0.2
             }
            },
            "type": "histogram"
           }
          ],
          "histogram2d": [
           {
            "colorbar": {
             "outlinewidth": 0,
             "ticks": ""
            },
            "colorscale": [
             [
              0,
              "#0d0887"
             ],
             [
              0.1111111111111111,
              "#46039f"
             ],
             [
              0.2222222222222222,
              "#7201a8"
             ],
             [
              0.3333333333333333,
              "#9c179e"
             ],
             [
              0.4444444444444444,
              "#bd3786"
             ],
             [
              0.5555555555555556,
              "#d8576b"
             ],
             [
              0.6666666666666666,
              "#ed7953"
             ],
             [
              0.7777777777777778,
              "#fb9f3a"
             ],
             [
              0.8888888888888888,
              "#fdca26"
             ],
             [
              1,
              "#f0f921"
             ]
            ],
            "type": "histogram2d"
           }
          ],
          "histogram2dcontour": [
           {
            "colorbar": {
             "outlinewidth": 0,
             "ticks": ""
            },
            "colorscale": [
             [
              0,
              "#0d0887"
             ],
             [
              0.1111111111111111,
              "#46039f"
             ],
             [
              0.2222222222222222,
              "#7201a8"
             ],
             [
              0.3333333333333333,
              "#9c179e"
             ],
             [
              0.4444444444444444,
              "#bd3786"
             ],
             [
              0.5555555555555556,
              "#d8576b"
             ],
             [
              0.6666666666666666,
              "#ed7953"
             ],
             [
              0.7777777777777778,
              "#fb9f3a"
             ],
             [
              0.8888888888888888,
              "#fdca26"
             ],
             [
              1,
              "#f0f921"
             ]
            ],
            "type": "histogram2dcontour"
           }
          ],
          "mesh3d": [
           {
            "colorbar": {
             "outlinewidth": 0,
             "ticks": ""
            },
            "type": "mesh3d"
           }
          ],
          "parcoords": [
           {
            "line": {
             "colorbar": {
              "outlinewidth": 0,
              "ticks": ""
             }
            },
            "type": "parcoords"
           }
          ],
          "pie": [
           {
            "automargin": true,
            "type": "pie"
           }
          ],
          "scatter": [
           {
            "fillpattern": {
             "fillmode": "overlay",
             "size": 10,
             "solidity": 0.2
            },
            "type": "scatter"
           }
          ],
          "scatter3d": [
           {
            "line": {
             "colorbar": {
              "outlinewidth": 0,
              "ticks": ""
             }
            },
            "marker": {
             "colorbar": {
              "outlinewidth": 0,
              "ticks": ""
             }
            },
            "type": "scatter3d"
           }
          ],
          "scattercarpet": [
           {
            "marker": {
             "colorbar": {
              "outlinewidth": 0,
              "ticks": ""
             }
            },
            "type": "scattercarpet"
           }
          ],
          "scattergeo": [
           {
            "marker": {
             "colorbar": {
              "outlinewidth": 0,
              "ticks": ""
             }
            },
            "type": "scattergeo"
           }
          ],
          "scattergl": [
           {
            "marker": {
             "colorbar": {
              "outlinewidth": 0,
              "ticks": ""
             }
            },
            "type": "scattergl"
           }
          ],
          "scattermap": [
           {
            "marker": {
             "colorbar": {
              "outlinewidth": 0,
              "ticks": ""
             }
            },
            "type": "scattermap"
           }
          ],
          "scattermapbox": [
           {
            "marker": {
             "colorbar": {
              "outlinewidth": 0,
              "ticks": ""
             }
            },
            "type": "scattermapbox"
           }
          ],
          "scatterpolar": [
           {
            "marker": {
             "colorbar": {
              "outlinewidth": 0,
              "ticks": ""
             }
            },
            "type": "scatterpolar"
           }
          ],
          "scatterpolargl": [
           {
            "marker": {
             "colorbar": {
              "outlinewidth": 0,
              "ticks": ""
             }
            },
            "type": "scatterpolargl"
           }
          ],
          "scatterternary": [
           {
            "marker": {
             "colorbar": {
              "outlinewidth": 0,
              "ticks": ""
             }
            },
            "type": "scatterternary"
           }
          ],
          "surface": [
           {
            "colorbar": {
             "outlinewidth": 0,
             "ticks": ""
            },
            "colorscale": [
             [
              0,
              "#0d0887"
             ],
             [
              0.1111111111111111,
              "#46039f"
             ],
             [
              0.2222222222222222,
              "#7201a8"
             ],
             [
              0.3333333333333333,
              "#9c179e"
             ],
             [
              0.4444444444444444,
              "#bd3786"
             ],
             [
              0.5555555555555556,
              "#d8576b"
             ],
             [
              0.6666666666666666,
              "#ed7953"
             ],
             [
              0.7777777777777778,
              "#fb9f3a"
             ],
             [
              0.8888888888888888,
              "#fdca26"
             ],
             [
              1,
              "#f0f921"
             ]
            ],
            "type": "surface"
           }
          ],
          "table": [
           {
            "cells": {
             "fill": {
              "color": "#EBF0F8"
             },
             "line": {
              "color": "white"
             }
            },
            "header": {
             "fill": {
              "color": "#C8D4E3"
             },
             "line": {
              "color": "white"
             }
            },
            "type": "table"
           }
          ]
         },
         "layout": {
          "annotationdefaults": {
           "arrowcolor": "#2a3f5f",
           "arrowhead": 0,
           "arrowwidth": 1
          },
          "autotypenumbers": "strict",
          "coloraxis": {
           "colorbar": {
            "outlinewidth": 0,
            "ticks": ""
           }
          },
          "colorscale": {
           "diverging": [
            [
             0,
             "#8e0152"
            ],
            [
             0.1,
             "#c51b7d"
            ],
            [
             0.2,
             "#de77ae"
            ],
            [
             0.3,
             "#f1b6da"
            ],
            [
             0.4,
             "#fde0ef"
            ],
            [
             0.5,
             "#f7f7f7"
            ],
            [
             0.6,
             "#e6f5d0"
            ],
            [
             0.7,
             "#b8e186"
            ],
            [
             0.8,
             "#7fbc41"
            ],
            [
             0.9,
             "#4d9221"
            ],
            [
             1,
             "#276419"
            ]
           ],
           "sequential": [
            [
             0,
             "#0d0887"
            ],
            [
             0.1111111111111111,
             "#46039f"
            ],
            [
             0.2222222222222222,
             "#7201a8"
            ],
            [
             0.3333333333333333,
             "#9c179e"
            ],
            [
             0.4444444444444444,
             "#bd3786"
            ],
            [
             0.5555555555555556,
             "#d8576b"
            ],
            [
             0.6666666666666666,
             "#ed7953"
            ],
            [
             0.7777777777777778,
             "#fb9f3a"
            ],
            [
             0.8888888888888888,
             "#fdca26"
            ],
            [
             1,
             "#f0f921"
            ]
           ],
           "sequentialminus": [
            [
             0,
             "#0d0887"
            ],
            [
             0.1111111111111111,
             "#46039f"
            ],
            [
             0.2222222222222222,
             "#7201a8"
            ],
            [
             0.3333333333333333,
             "#9c179e"
            ],
            [
             0.4444444444444444,
             "#bd3786"
            ],
            [
             0.5555555555555556,
             "#d8576b"
            ],
            [
             0.6666666666666666,
             "#ed7953"
            ],
            [
             0.7777777777777778,
             "#fb9f3a"
            ],
            [
             0.8888888888888888,
             "#fdca26"
            ],
            [
             1,
             "#f0f921"
            ]
           ]
          },
          "colorway": [
           "#636efa",
           "#EF553B",
           "#00cc96",
           "#ab63fa",
           "#FFA15A",
           "#19d3f3",
           "#FF6692",
           "#B6E880",
           "#FF97FF",
           "#FECB52"
          ],
          "font": {
           "color": "#2a3f5f"
          },
          "geo": {
           "bgcolor": "white",
           "lakecolor": "white",
           "landcolor": "#E5ECF6",
           "showlakes": true,
           "showland": true,
           "subunitcolor": "white"
          },
          "hoverlabel": {
           "align": "left"
          },
          "hovermode": "closest",
          "mapbox": {
           "style": "light"
          },
          "paper_bgcolor": "white",
          "plot_bgcolor": "#E5ECF6",
          "polar": {
           "angularaxis": {
            "gridcolor": "white",
            "linecolor": "white",
            "ticks": ""
           },
           "bgcolor": "#E5ECF6",
           "radialaxis": {
            "gridcolor": "white",
            "linecolor": "white",
            "ticks": ""
           }
          },
          "scene": {
           "xaxis": {
            "backgroundcolor": "#E5ECF6",
            "gridcolor": "white",
            "gridwidth": 2,
            "linecolor": "white",
            "showbackground": true,
            "ticks": "",
            "zerolinecolor": "white"
           },
           "yaxis": {
            "backgroundcolor": "#E5ECF6",
            "gridcolor": "white",
            "gridwidth": 2,
            "linecolor": "white",
            "showbackground": true,
            "ticks": "",
            "zerolinecolor": "white"
           },
           "zaxis": {
            "backgroundcolor": "#E5ECF6",
            "gridcolor": "white",
            "gridwidth": 2,
            "linecolor": "white",
            "showbackground": true,
            "ticks": "",
            "zerolinecolor": "white"
           }
          },
          "shapedefaults": {
           "line": {
            "color": "#2a3f5f"
           }
          },
          "ternary": {
           "aaxis": {
            "gridcolor": "white",
            "linecolor": "white",
            "ticks": ""
           },
           "baxis": {
            "gridcolor": "white",
            "linecolor": "white",
            "ticks": ""
           },
           "bgcolor": "#E5ECF6",
           "caxis": {
            "gridcolor": "white",
            "linecolor": "white",
            "ticks": ""
           }
          },
          "title": {
           "x": 0.05
          },
          "xaxis": {
           "automargin": true,
           "gridcolor": "white",
           "linecolor": "white",
           "ticks": "",
           "title": {
            "standoff": 15
           },
           "zerolinecolor": "white",
           "zerolinewidth": 2
          },
          "yaxis": {
           "automargin": true,
           "gridcolor": "white",
           "linecolor": "white",
           "ticks": "",
           "title": {
            "standoff": 15
           },
           "zerolinecolor": "white",
           "zerolinewidth": 2
          }
         }
        },
        "xaxis": {
         "anchor": "y",
         "domain": [
          0,
          1
         ],
         "dtick": 1,
         "title": {
          "text": "target"
         }
        },
        "yaxis": {
         "anchor": "x",
         "domain": [
          0,
          1
         ],
         "title": {
          "text": "count"
         }
        }
       }
      }
     },
     "metadata": {},
     "output_type": "display_data"
    }
   ],
   "source": [
    "# View the target variables\n",
    "train_target_vars = [{\"target\":i[1], \"dataset\": \"train\"} for i in train_dataset]\n",
    "test_target_vars = [{\"target\":i[1], \"dataset\": \"test\"} for i in test_dataset]\n",
    "target_vars = [*train_target_vars, *test_target_vars]\n",
    "target_df = pd.DataFrame.from_records(target_vars)\n",
    "\n",
    "fig = px.histogram(target_df, x=\"target\", color=\"dataset\", barmode=\"overlay\")\n",
    "fig.update_layout(bargap=0.1, xaxis_dtick=1)"
   ]
  },
  {
   "cell_type": "markdown",
   "metadata": {},
   "source": [
    "### 2. Data cleaning + feature engineering\n",
    "Skipped for the sake of time.\n",
    "The MNIST dataset is already pretty clean (no noise in images, mislabelled images etc.).\n",
    "Feature engineering will be mainly done by our CNN. For non-computer vision / image problems, you should think carefully about what features/inputs you will use for your model:\n",
    "* Are they reliable? Can you get the data consistently in the same format, at the same quality?\n",
    "* Are they useful? Do they correlate with your target variable?\n",
    "* Are they independent from each other? Remove features which are double-ups!\n",
    "* ..."
   ]
  },
  {
   "cell_type": "code",
   "execution_count": 6,
   "metadata": {},
   "outputs": [
    {
     "data": {
      "application/vnd.plotly.v1+json": {
       "config": {
        "plotlyServerURL": "https://plot.ly"
       },
       "data": [
        {
         "coloraxis": "coloraxis",
         "hovertemplate": "x: %{x}<br>y: %{y}<br>color: %{z}<extra></extra>",
         "name": "0",
         "type": "heatmap",
         "xaxis": "x",
         "yaxis": "y",
         "z": {
          "bdata": "cTLZvnEy2b5xMtm+cTLZvnEy2b5xMtm+cTLZvnEy2b5xMtm+cTLZvnEy2b5xMtm+cTLZvnEy2b5xMtm+cTLZvnEy2b5xMtm+cTLZvnEy2b5xMtm+cTLZvnEy2b5xMtm+cTLZvnEy2b5xMtm+cTLZvnEy2b5xMtm+cTLZvnEy2b5xMtm+cTLZvnEy2b5xMtm+cTLZvnEy2b5xMtm+cTLZvnEy2b5xMtm+cTLZvnEy2b5xMtm+cTLZvnEy2b5xMtm+cTLZvnEy2b5xMtm+cTLZvnEy2b5xMtm+cTLZvnEy2b5xMtm+cTLZvnEy2b5xMtm+cTLZvnEy2b5xMtm+cTLZvnEy2b5xMtm+cTLZvnEy2b5xMtm+cTLZvnEy2b5xMtm+cTLZvnEy2b5xMtm+cTLZvnEy2b5xMtm+cTLZvnEy2b5xMtm+cTLZvnEy2b5xMtm+cTLZvnEy2b5xMtm+cTLZvnEy2b5xMtm+cTLZvnEy2b5xMtm+cTLZvnEy2b5xMtm+cTLZvnEy2b5xMtm+cTLZvnEy2b5xMtm+cTLZvnEy2b5xMtm+cTLZvnEy2b5xMtm+cTLZvnEy2b5xMtm+cTLZvnEy2b5xMtm+cTLZvnEy2b5xMtm+cTLZvnEy2b5xMtm+cTLZvnEy2b5xMtm+cTLZvnEy2b5xMtm+cTLZvnEy2b5xMtm+cTLZvnEy2b5xMtm+cTLZvnEy2b5xMtm+cTLZvnEy2b5xMtm+cTLZvnEy2b5xMtm+cTLZvnEy2b5xMtm+cTLZvnEy2b5xMtm+cTLZvnEy2b5xMtm+cTLZvnEy2b5xMtm+cTLZvnEy2b5xMtm+cTLZvnEy2b5xMtm+cTLZvnEy2b5xMtm+cTLZvnEy2b5xMtm+cTLZvnEy2b5xMtm+cTLZvnEy2b5xMtm+cTLZvnEy2b5xMtm+cTLZvnEy2b5xMtm+cTLZvnEy2b5xMtm+cTLZvtApzL6KyUe+GyglPhtGpz8bRqc/Tp0rQD2TNECwKylAAQVjP3Ey2b5xMtm+cTLZvnEy2b5xMtm+cTLZvnEy2b5xMtm+cTLZvnEy2b5xMtm+cTLZvnEy2b5xMtm+cTLZvnEy2b5xMtm+b+NuvpexRT87Q9M/KfIyQCnyMkAp8jJAKfIyQBK6JkBIbxZAuwcLQGpJrjxxMtm+cTLZvnEy2b5xMtm+cTLZvnEy2b5xMtm+cTLZvnEy2b5xMtm+cTLZvnEy2b5xMtm+cTLZvnEy2b5xMtm+cTLZvrYgnz8p8jJAKfIyQCnyMkAp8jJAiOklQJPFB0CEQ5o+cTLZvnEy2b5xMtm+cTLZvnEy2b5xMtm+cTLZvnEy2b5xMtm+cTLZvnEy2b5xMtm+cTLZvnEy2b5xMtm+cTLZvnEy2b5xMtm+cTLZvpo6xj9iPi1AKfIyQOwOLkDKT3M/C2bOPnofGD5xMtm+cTLZvnEy2b5xMtm+cTLZvnEy2b5xMtm+cTLZvnEy2b5xMtm+cTLZvnEy2b5xMtm+cTLZvnEy2b5xMtm+cTLZvnEy2b5xMtm+cTLZvnEy2b5ZeQ1AKfIyQCnyMkDBNSBAcTLZvnEy2b5xMtm+cTLZvnEy2b5xMtm+cTLZvnEy2b5xMtm+cTLZvnEy2b5xMtm+cTLZvnEy2b5xMtm+cTLZvnEy2b5xMtm+cTLZvnEy2b5xMtm+cTLZvnEy2b5xMtm+wnzJPynyMkAp8jJAPFqVP3Ey2b5xMtm+cTLZvnEy2b5xMtm+cTLZvnEy2b5xMtm+cTLZvnEy2b5xMtm+cTLZvnEy2b5xMtm+cTLZvnEy2b5xMtm+cTLZvnEy2b5xMtm+cTLZvnEy2b5xMtm+cTLZvs1mNT8p8jJAi4AwQIRDmj5xMtm+cTLZvnEy2b5xMtm+cTLZvnEy2b5xMtm+cTLZvnEy2b5xMtm+cTLZvnEy2b5xMtm+cTLZvnEy2b5xMtm+cTLZvnEy2b5xMtm+cTLZvnEy2b5xMtm+cTLZvnEy2b7NZjU/KfIyQOwOLkBxMtm+cTLZvnEy2b5xMtm+cTLZvnEy2b5xMtm+cTLZvnEy2b5xMtm+cTLZvnEy2b5xMtm+cTLZvnEy2b5xMtm+cTLZvnEy2b5xMtm+cTLZvnEy2b5xMtm+cTLZvnEy2b5xMtm+zWY1PynyMkDsDi5AcTLZvnEy2b5xMtm+cTLZvnEy2b5xMtm+cTLZvnEy2b5xMtm+cTLZvnEy2b5xMtm+cTLZvnEy2b5xMtm+cTLZvnEy2b5xMtm+cTLZvnEy2b5xMtm+cTLZvnEy2b5xMtm+cTLZvs1mNT8p8jJA7A4uQHEy2b5xMtm+cTLZvnEy2b5xMtm+cTLZvnEy2b5xMtm+cTLZvnEy2b5xMtm+cTLZvnEy2b5xMtm+cTLZvnEy2b5xMtm+cTLZvnEy2b5xMtm+cTLZvnEy2b5xMtm+cTLZvnEy2b6mryC+SwYhQACwL0DBCAw8cTLZvnEy2b5xMtm+cTLZvnEy2b5xMtm+cTLZvnEy2b5xMtm+cTLZvnEy2b5xMtm+cTLZvnEy2b5xMtm+cTLZvnEy2b5xMtm+cTLZvnEy2b5xMtm+cTLZvnEy2b5xMtm+cTLZvg8jHEAp8jJASwYhQJZcEkCWXBJAExiSP8zaYb5xMtm+cTLZvnEy2b5xMtm+cTLZvnEy2b5xMtm+cTLZvnEy2b5xMtm+cTLZvnEy2b5xMtm+cTLZvnEy2b5xMtm+cTLZvnEy2b5xMtm+cTLZvnEy2b7x7OE/KfIyQCnyMkAp8jJAKfIyQCnyMkBcQP8/aF3BPnEy2b5xMtm+cTLZvnEy2b5xMtm+cTLZvnEy2b5xMtm+cTLZvnEy2b5xMtm+cTLZvnEy2b5xMtm+cTLZvnEy2b5xMtm+cTLZvnEy2b5xMtm+0CnMvoawhj9ABPw+KLmTP20aD0Ap8jJAKfIyQIBrrz9xMtm+cTLZvnEy2b5xMtm+cTLZvnEy2b5xMtm+cTLZvnEy2b5xMtm+cTLZvnEy2b5xMtm+cTLZvnEy2b5xMtm+cTLZvnEy2b5xMtm+cTLZvnEy2b5xMtm+cTLZvnEy2b5CGtm90j8XQCnyMkDPqAxAf6XFvnEy2b5xMtm+cTLZvnEy2b5xMtm+cTLZvnEy2b5xMtm+cTLZvnEy2b5xMtm+cTLZvnEy2b5xMtm+cTLZvnEy2b5xMtm+cTLZvnEy2b5xMtm+cTLZvnEy2b5xMtm+cTLZvilHZj9iPi1AKfIyQN6cuL5xMtm+cTLZvnEy2b5xMtm+cTLZvnEy2b5xMtm+cTLZvnEy2b5xMtm+cTLZvnEy2b5xMtm+cTLZvnEy2b5xMtm+cTLZvnEy2b5xMtm+cTLZvnEy2b5xMtm+cTLZvnEy2b5xMtm+llwSQCnyMkDenLi+cTLZvnEy2b5xMtm+cTLZvnEy2b5xMtm+cTLZvnEy2b5xMtm+cTLZvnEy2b5xMtm+cTLZvnEy2b5xMtm+cTLZvnEy2b5xMtm+cTLZvnEy2b5xMtm+cTLZvnEy2b5xMtm+/wi/vZnzHEAp8jJA3py4vnEy2b5xMtm+cTLZvnEy2b5xMtm+cTLZvnEy2b5xMtm+cTLZvnEy2b5xMtm+cTLZvnEy2b5xMtm+cTLZvnEy2b5xMtm+cTLZvnEy2b5xMtm+cTLZvnEy2b5xMtm+cTLZvsvBoD8p8jJAbRoPQH+lxb5xMtm+cTLZvnEy2b5xMtm+cTLZvnEy2b5xMtm+cTLZvnEy2b5xMtm+cTLZvnEy2b5xMtm+cTLZvnEy2b5xMtm+cTLZvnEy2b5xMtm+cTLZvnEy2b5xMtm+cTLZvnEy2b4SjxE/KfIyQFSgKz9xMtm+cTLZvnEy2b5xMtm+cTLZvnEy2b5xMtm+cTLZvnEy2b5xMtm+cTLZvnEy2b5xMtm+cTLZvnEy2b5xMtm+cTLZvnEy2b5xMtm+cTLZvnEy2b5xMtm+cTLZvnEy2b5xMtm+cTLZvnEy2b5xMtm+cTLZvnEy2b5xMtm+cTLZvnEy2b5xMtm+cTLZvnEy2b5xMtm+cTLZvnEy2b5xMtm+cTLZvnEy2b5xMtm+cTLZvnEy2b5xMtm+cTLZvnEy2b5xMtm+cTLZvnEy2b5xMtm+cTLZvnEy2b5xMtm+cTLZvnEy2b5xMtm+cTLZvnEy2b5xMtm+cTLZvnEy2b5xMtm+cTLZvg==",
          "dtype": "f4",
          "shape": "28, 28"
         }
        }
       ],
       "layout": {
        "coloraxis": {
         "colorscale": [
          [
           0,
           "#0d0887"
          ],
          [
           0.1111111111111111,
           "#46039f"
          ],
          [
           0.2222222222222222,
           "#7201a8"
          ],
          [
           0.3333333333333333,
           "#9c179e"
          ],
          [
           0.4444444444444444,
           "#bd3786"
          ],
          [
           0.5555555555555556,
           "#d8576b"
          ],
          [
           0.6666666666666666,
           "#ed7953"
          ],
          [
           0.7777777777777778,
           "#fb9f3a"
          ],
          [
           0.8888888888888888,
           "#fdca26"
          ],
          [
           1,
           "#f0f921"
          ]
         ]
        },
        "margin": {
         "t": 60
        },
        "template": {
         "data": {
          "bar": [
           {
            "error_x": {
             "color": "#2a3f5f"
            },
            "error_y": {
             "color": "#2a3f5f"
            },
            "marker": {
             "line": {
              "color": "#E5ECF6",
              "width": 0.5
             },
             "pattern": {
              "fillmode": "overlay",
              "size": 10,
              "solidity": 0.2
             }
            },
            "type": "bar"
           }
          ],
          "barpolar": [
           {
            "marker": {
             "line": {
              "color": "#E5ECF6",
              "width": 0.5
             },
             "pattern": {
              "fillmode": "overlay",
              "size": 10,
              "solidity": 0.2
             }
            },
            "type": "barpolar"
           }
          ],
          "carpet": [
           {
            "aaxis": {
             "endlinecolor": "#2a3f5f",
             "gridcolor": "white",
             "linecolor": "white",
             "minorgridcolor": "white",
             "startlinecolor": "#2a3f5f"
            },
            "baxis": {
             "endlinecolor": "#2a3f5f",
             "gridcolor": "white",
             "linecolor": "white",
             "minorgridcolor": "white",
             "startlinecolor": "#2a3f5f"
            },
            "type": "carpet"
           }
          ],
          "choropleth": [
           {
            "colorbar": {
             "outlinewidth": 0,
             "ticks": ""
            },
            "type": "choropleth"
           }
          ],
          "contour": [
           {
            "colorbar": {
             "outlinewidth": 0,
             "ticks": ""
            },
            "colorscale": [
             [
              0,
              "#0d0887"
             ],
             [
              0.1111111111111111,
              "#46039f"
             ],
             [
              0.2222222222222222,
              "#7201a8"
             ],
             [
              0.3333333333333333,
              "#9c179e"
             ],
             [
              0.4444444444444444,
              "#bd3786"
             ],
             [
              0.5555555555555556,
              "#d8576b"
             ],
             [
              0.6666666666666666,
              "#ed7953"
             ],
             [
              0.7777777777777778,
              "#fb9f3a"
             ],
             [
              0.8888888888888888,
              "#fdca26"
             ],
             [
              1,
              "#f0f921"
             ]
            ],
            "type": "contour"
           }
          ],
          "contourcarpet": [
           {
            "colorbar": {
             "outlinewidth": 0,
             "ticks": ""
            },
            "type": "contourcarpet"
           }
          ],
          "heatmap": [
           {
            "colorbar": {
             "outlinewidth": 0,
             "ticks": ""
            },
            "colorscale": [
             [
              0,
              "#0d0887"
             ],
             [
              0.1111111111111111,
              "#46039f"
             ],
             [
              0.2222222222222222,
              "#7201a8"
             ],
             [
              0.3333333333333333,
              "#9c179e"
             ],
             [
              0.4444444444444444,
              "#bd3786"
             ],
             [
              0.5555555555555556,
              "#d8576b"
             ],
             [
              0.6666666666666666,
              "#ed7953"
             ],
             [
              0.7777777777777778,
              "#fb9f3a"
             ],
             [
              0.8888888888888888,
              "#fdca26"
             ],
             [
              1,
              "#f0f921"
             ]
            ],
            "type": "heatmap"
           }
          ],
          "histogram": [
           {
            "marker": {
             "pattern": {
              "fillmode": "overlay",
              "size": 10,
              "solidity": 0.2
             }
            },
            "type": "histogram"
           }
          ],
          "histogram2d": [
           {
            "colorbar": {
             "outlinewidth": 0,
             "ticks": ""
            },
            "colorscale": [
             [
              0,
              "#0d0887"
             ],
             [
              0.1111111111111111,
              "#46039f"
             ],
             [
              0.2222222222222222,
              "#7201a8"
             ],
             [
              0.3333333333333333,
              "#9c179e"
             ],
             [
              0.4444444444444444,
              "#bd3786"
             ],
             [
              0.5555555555555556,
              "#d8576b"
             ],
             [
              0.6666666666666666,
              "#ed7953"
             ],
             [
              0.7777777777777778,
              "#fb9f3a"
             ],
             [
              0.8888888888888888,
              "#fdca26"
             ],
             [
              1,
              "#f0f921"
             ]
            ],
            "type": "histogram2d"
           }
          ],
          "histogram2dcontour": [
           {
            "colorbar": {
             "outlinewidth": 0,
             "ticks": ""
            },
            "colorscale": [
             [
              0,
              "#0d0887"
             ],
             [
              0.1111111111111111,
              "#46039f"
             ],
             [
              0.2222222222222222,
              "#7201a8"
             ],
             [
              0.3333333333333333,
              "#9c179e"
             ],
             [
              0.4444444444444444,
              "#bd3786"
             ],
             [
              0.5555555555555556,
              "#d8576b"
             ],
             [
              0.6666666666666666,
              "#ed7953"
             ],
             [
              0.7777777777777778,
              "#fb9f3a"
             ],
             [
              0.8888888888888888,
              "#fdca26"
             ],
             [
              1,
              "#f0f921"
             ]
            ],
            "type": "histogram2dcontour"
           }
          ],
          "mesh3d": [
           {
            "colorbar": {
             "outlinewidth": 0,
             "ticks": ""
            },
            "type": "mesh3d"
           }
          ],
          "parcoords": [
           {
            "line": {
             "colorbar": {
              "outlinewidth": 0,
              "ticks": ""
             }
            },
            "type": "parcoords"
           }
          ],
          "pie": [
           {
            "automargin": true,
            "type": "pie"
           }
          ],
          "scatter": [
           {
            "fillpattern": {
             "fillmode": "overlay",
             "size": 10,
             "solidity": 0.2
            },
            "type": "scatter"
           }
          ],
          "scatter3d": [
           {
            "line": {
             "colorbar": {
              "outlinewidth": 0,
              "ticks": ""
             }
            },
            "marker": {
             "colorbar": {
              "outlinewidth": 0,
              "ticks": ""
             }
            },
            "type": "scatter3d"
           }
          ],
          "scattercarpet": [
           {
            "marker": {
             "colorbar": {
              "outlinewidth": 0,
              "ticks": ""
             }
            },
            "type": "scattercarpet"
           }
          ],
          "scattergeo": [
           {
            "marker": {
             "colorbar": {
              "outlinewidth": 0,
              "ticks": ""
             }
            },
            "type": "scattergeo"
           }
          ],
          "scattergl": [
           {
            "marker": {
             "colorbar": {
              "outlinewidth": 0,
              "ticks": ""
             }
            },
            "type": "scattergl"
           }
          ],
          "scattermap": [
           {
            "marker": {
             "colorbar": {
              "outlinewidth": 0,
              "ticks": ""
             }
            },
            "type": "scattermap"
           }
          ],
          "scattermapbox": [
           {
            "marker": {
             "colorbar": {
              "outlinewidth": 0,
              "ticks": ""
             }
            },
            "type": "scattermapbox"
           }
          ],
          "scatterpolar": [
           {
            "marker": {
             "colorbar": {
              "outlinewidth": 0,
              "ticks": ""
             }
            },
            "type": "scatterpolar"
           }
          ],
          "scatterpolargl": [
           {
            "marker": {
             "colorbar": {
              "outlinewidth": 0,
              "ticks": ""
             }
            },
            "type": "scatterpolargl"
           }
          ],
          "scatterternary": [
           {
            "marker": {
             "colorbar": {
              "outlinewidth": 0,
              "ticks": ""
             }
            },
            "type": "scatterternary"
           }
          ],
          "surface": [
           {
            "colorbar": {
             "outlinewidth": 0,
             "ticks": ""
            },
            "colorscale": [
             [
              0,
              "#0d0887"
             ],
             [
              0.1111111111111111,
              "#46039f"
             ],
             [
              0.2222222222222222,
              "#7201a8"
             ],
             [
              0.3333333333333333,
              "#9c179e"
             ],
             [
              0.4444444444444444,
              "#bd3786"
             ],
             [
              0.5555555555555556,
              "#d8576b"
             ],
             [
              0.6666666666666666,
              "#ed7953"
             ],
             [
              0.7777777777777778,
              "#fb9f3a"
             ],
             [
              0.8888888888888888,
              "#fdca26"
             ],
             [
              1,
              "#f0f921"
             ]
            ],
            "type": "surface"
           }
          ],
          "table": [
           {
            "cells": {
             "fill": {
              "color": "#EBF0F8"
             },
             "line": {
              "color": "white"
             }
            },
            "header": {
             "fill": {
              "color": "#C8D4E3"
             },
             "line": {
              "color": "white"
             }
            },
            "type": "table"
           }
          ]
         },
         "layout": {
          "annotationdefaults": {
           "arrowcolor": "#2a3f5f",
           "arrowhead": 0,
           "arrowwidth": 1
          },
          "autotypenumbers": "strict",
          "coloraxis": {
           "colorbar": {
            "outlinewidth": 0,
            "ticks": ""
           }
          },
          "colorscale": {
           "diverging": [
            [
             0,
             "#8e0152"
            ],
            [
             0.1,
             "#c51b7d"
            ],
            [
             0.2,
             "#de77ae"
            ],
            [
             0.3,
             "#f1b6da"
            ],
            [
             0.4,
             "#fde0ef"
            ],
            [
             0.5,
             "#f7f7f7"
            ],
            [
             0.6,
             "#e6f5d0"
            ],
            [
             0.7,
             "#b8e186"
            ],
            [
             0.8,
             "#7fbc41"
            ],
            [
             0.9,
             "#4d9221"
            ],
            [
             1,
             "#276419"
            ]
           ],
           "sequential": [
            [
             0,
             "#0d0887"
            ],
            [
             0.1111111111111111,
             "#46039f"
            ],
            [
             0.2222222222222222,
             "#7201a8"
            ],
            [
             0.3333333333333333,
             "#9c179e"
            ],
            [
             0.4444444444444444,
             "#bd3786"
            ],
            [
             0.5555555555555556,
             "#d8576b"
            ],
            [
             0.6666666666666666,
             "#ed7953"
            ],
            [
             0.7777777777777778,
             "#fb9f3a"
            ],
            [
             0.8888888888888888,
             "#fdca26"
            ],
            [
             1,
             "#f0f921"
            ]
           ],
           "sequentialminus": [
            [
             0,
             "#0d0887"
            ],
            [
             0.1111111111111111,
             "#46039f"
            ],
            [
             0.2222222222222222,
             "#7201a8"
            ],
            [
             0.3333333333333333,
             "#9c179e"
            ],
            [
             0.4444444444444444,
             "#bd3786"
            ],
            [
             0.5555555555555556,
             "#d8576b"
            ],
            [
             0.6666666666666666,
             "#ed7953"
            ],
            [
             0.7777777777777778,
             "#fb9f3a"
            ],
            [
             0.8888888888888888,
             "#fdca26"
            ],
            [
             1,
             "#f0f921"
            ]
           ]
          },
          "colorway": [
           "#636efa",
           "#EF553B",
           "#00cc96",
           "#ab63fa",
           "#FFA15A",
           "#19d3f3",
           "#FF6692",
           "#B6E880",
           "#FF97FF",
           "#FECB52"
          ],
          "font": {
           "color": "#2a3f5f"
          },
          "geo": {
           "bgcolor": "white",
           "lakecolor": "white",
           "landcolor": "#E5ECF6",
           "showlakes": true,
           "showland": true,
           "subunitcolor": "white"
          },
          "hoverlabel": {
           "align": "left"
          },
          "hovermode": "closest",
          "mapbox": {
           "style": "light"
          },
          "paper_bgcolor": "white",
          "plot_bgcolor": "#E5ECF6",
          "polar": {
           "angularaxis": {
            "gridcolor": "white",
            "linecolor": "white",
            "ticks": ""
           },
           "bgcolor": "#E5ECF6",
           "radialaxis": {
            "gridcolor": "white",
            "linecolor": "white",
            "ticks": ""
           }
          },
          "scene": {
           "xaxis": {
            "backgroundcolor": "#E5ECF6",
            "gridcolor": "white",
            "gridwidth": 2,
            "linecolor": "white",
            "showbackground": true,
            "ticks": "",
            "zerolinecolor": "white"
           },
           "yaxis": {
            "backgroundcolor": "#E5ECF6",
            "gridcolor": "white",
            "gridwidth": 2,
            "linecolor": "white",
            "showbackground": true,
            "ticks": "",
            "zerolinecolor": "white"
           },
           "zaxis": {
            "backgroundcolor": "#E5ECF6",
            "gridcolor": "white",
            "gridwidth": 2,
            "linecolor": "white",
            "showbackground": true,
            "ticks": "",
            "zerolinecolor": "white"
           }
          },
          "shapedefaults": {
           "line": {
            "color": "#2a3f5f"
           }
          },
          "ternary": {
           "aaxis": {
            "gridcolor": "white",
            "linecolor": "white",
            "ticks": ""
           },
           "baxis": {
            "gridcolor": "white",
            "linecolor": "white",
            "ticks": ""
           },
           "bgcolor": "#E5ECF6",
           "caxis": {
            "gridcolor": "white",
            "linecolor": "white",
            "ticks": ""
           }
          },
          "title": {
           "x": 0.05
          },
          "xaxis": {
           "automargin": true,
           "gridcolor": "white",
           "linecolor": "white",
           "ticks": "",
           "title": {
            "standoff": 15
           },
           "zerolinecolor": "white",
           "zerolinewidth": 2
          },
          "yaxis": {
           "automargin": true,
           "gridcolor": "white",
           "linecolor": "white",
           "ticks": "",
           "title": {
            "standoff": 15
           },
           "zerolinecolor": "white",
           "zerolinewidth": 2
          }
         }
        },
        "xaxis": {
         "anchor": "y",
         "constrain": "domain",
         "domain": [
          0,
          1
         ],
         "scaleanchor": "y"
        },
        "yaxis": {
         "anchor": "x",
         "autorange": "reversed",
         "constrain": "domain",
         "domain": [
          0,
          1
         ]
        }
       }
      }
     },
     "metadata": {},
     "output_type": "display_data"
    }
   ],
   "source": [
    "# Convert data into the correct format and normalise (subtract mean, divide by std)\n",
    "## Compute mean\n",
    "mean_train = torch.tensor([0], dtype=float)\n",
    "count = len(train_dataset) * 28 * 28  # number images * image size ** 2\n",
    "for i in range(len(train_dataset)):\n",
    "    mean_train += torch.sum(F_tv.pil_to_tensor(train_dataset[i][0]))\n",
    "mean_train = float(mean_train)\n",
    "mean_train /= count\n",
    "\n",
    "## Compute std\n",
    "std_train = torch.tensor([0], dtype=float)\n",
    "for i in range(len(train_dataset)):\n",
    "    std_train += torch.sum((F_tv.pil_to_tensor(train_dataset[i][0]) - mean_train) ** 2)\n",
    "std_train = float(std_train)\n",
    "std_train /= count\n",
    "\n",
    "## Set up a cleaning pipeline\n",
    "### Note: Pytorch's transforms pipelines are okay for simple cases like this, but in general my preference is to\n",
    "### use a more generic pipeline framework, like Kedro.\n",
    "transform = torchvision.transforms.Compose([\n",
    "    torchvision.transforms.ToTensor(),\n",
    "    torchvision.transforms.Normalize((0.1307,), (0.3081,))\n",
    "])\n",
    "\n",
    "## Pass data through transformations cleaned train/test data\n",
    "train_clean = torchvision.datasets.MNIST(root=os.getcwd(), download=False, train=True, transform=transform)\n",
    "test_clean = torchvision.datasets.MNIST(root=os.getcwd(), download=False, train=False, transform=transform)\n",
    "px.imshow(train_clean[100][0][0].cpu())"
   ]
  },
  {
   "cell_type": "markdown",
   "metadata": {},
   "source": [
    "### 3. Model training"
   ]
  },
  {
   "cell_type": "code",
   "execution_count": 7,
   "metadata": {},
   "outputs": [],
   "source": [
    "def train_epoch(data, model, optimizer, epoch):\n",
    "    model.train()\n",
    "    for batch_idx, (img, target) in enumerate(data):\n",
    "        # Put data on GPU/CPU\n",
    "        img, target = img.to(DEVICE), target.to(DEVICE)\n",
    "\n",
    "        # Reset optimiser's gradients to 0\n",
    "        optimizer.zero_grad()\n",
    "        \n",
    "        # Run the image through the model\n",
    "        output = model(img)\n",
    "\n",
    "        # Score the predicted output\n",
    "        loss = F.nll_loss(output, target)\n",
    "\n",
    "        # Calculate gradients\n",
    "        loss.backward()\n",
    "\n",
    "        # Update model parameters\n",
    "        optimizer.step()\n",
    "\n",
    "    print(f\"Train Epoch: {epoch} ({100. * batch_idx / len(data):.0f}%)\\tLoss: {loss.item():.6f}\")\n",
    "\n",
    "\n",
    "def test_epoch(data, model):\n",
    "    pass\n",
    "\n",
    "\n",
    "def train(train_data, model, optimizer, lr_scheduler, epochs):\n",
    "\n",
    "    for epoch in range(1, epochs + 1):\n",
    "        train_epoch(train_data, model, optimizer, epoch)\n",
    "        # test_epoch(test_data, model)\n",
    "        lr_scheduler.step()"
   ]
  },
  {
   "cell_type": "markdown",
   "metadata": {},
   "source": [
    "### 4. Model testing\n",
    "Should be done at the end. Have included a \"validation\" score at the end of each epoch.\n",
    "\n",
    "Sometimes this validation set is used to tune parameters/update the model. In this case, your test set should be completely independent from your training and validation sets."
   ]
  },
  {
   "cell_type": "markdown",
   "metadata": {},
   "source": [
    "### 5. Experiment, iterate, and test repeatedly\n",
    "This is typically done rapidly in a proof-of-concept phase of the project. Sense check the outputs of the model:\n",
    "* Where is it succeeding and failing? Are these results what you expected?\n",
    "* Which features/aspects of your data contribute the most to the model's performance? Are these results what you expected?\n",
    "* Does your model generalise?\n",
    "* Is your model biased?"
   ]
  },
  {
   "cell_type": "code",
   "execution_count": 8,
   "metadata": {},
   "outputs": [
    {
     "name": "stdout",
     "output_type": "stream",
     "text": [
      "Train Epoch: 1 (100%)\tLoss: 0.016965\n",
      "Train Epoch: 2 (100%)\tLoss: 0.008882\n",
      "Train Epoch: 3 (100%)\tLoss: 0.019224\n",
      "Train Epoch: 4 (100%)\tLoss: 0.014866\n",
      "Train Epoch: 5 (100%)\tLoss: 0.001876\n",
      "Train Epoch: 6 (100%)\tLoss: 0.006772\n",
      "Train Epoch: 7 (100%)\tLoss: 0.000536\n",
      "Train Epoch: 8 (100%)\tLoss: 0.000745\n",
      "Train Epoch: 9 (100%)\tLoss: 0.005401\n",
      "Train Epoch: 10 (100%)\tLoss: 0.000143\n"
     ]
    }
   ],
   "source": [
    "# Train a standard CNN and check its performance\n",
    "class SimpleCNN(nn.Module):\n",
    "    def __init__(self) -> None:\n",
    "        super().__init__()\n",
    "        self.conv1 = nn.Conv2d(1, 32, 3, 1)  # input channels, output channels, channel size, stride\n",
    "        self.conv2 = nn.Conv2d(32, 64, 3, 1)\n",
    "        self.dropout1 = nn.Dropout(0.25)  # dropout probability\n",
    "        self.dropout2 = nn.Dropout(0.5)\n",
    "        self.fc1 = nn.Linear(9216, 128)  # input size, output size\n",
    "        self.fc2 = nn.Linear(128, 10)\n",
    "\n",
    "    def forward(self, x):\n",
    "        x = self.conv1(x)\n",
    "        x = F.relu(x)\n",
    "        x = self.conv2(x)\n",
    "        x = F.relu(x)\n",
    "        x = F.max_pool2d(x, 2)\n",
    "        x = self.dropout1(x)\n",
    "        x = torch.flatten(x, 1)\n",
    "        x = self.fc1(x)\n",
    "        x = F.relu(x)\n",
    "        x = self.dropout2(x)\n",
    "        x = self.fc2(x)\n",
    "        output = F.log_softmax(x, dim=1)\n",
    "        return output\n",
    "\n",
    "\n",
    "# Create the dataset iterator, model, and optimiser\n",
    "## Specify model parameters\n",
    "learning_rate = 1.0\n",
    "lr_step_size = 1\n",
    "lr_gamma = 0.7\n",
    "batch_size = 64\n",
    "n_epochs = 10\n",
    "\n",
    "## Load data, passing it through our cleaning pipeline\n",
    "train_clean_loader = torch.utils.data.DataLoader(train_clean, batch_size=batch_size)\n",
    "test_clean_loader = torch.utils.data.DataLoader(test_clean, batch_size=batch_size)\n",
    "\n",
    "simpleCNN_model = SimpleCNN().to(device=DEVICE)\n",
    "optimizer = torch.optim.Adadelta(simpleCNN_model.parameters(), lr=learning_rate)\n",
    "lr_scheduler = torch.optim.lr_scheduler.StepLR(optimizer, step_size=lr_step_size, gamma=lr_gamma)\n",
    "\n",
    "# Train the model\n",
    "train(\n",
    "    train_data=train_clean_loader,\n",
    "    model=simpleCNN_model,\n",
    "    optimizer=optimizer,\n",
    "    lr_scheduler=lr_scheduler,\n",
    "    epochs=n_epochs,\n",
    ")\n",
    "\n",
    "# Save the model\n",
    "torch.save(simpleCNN_model.state_dict(), \"simpleCNN_model.pt\")"
   ]
  },
  {
   "cell_type": "code",
   "execution_count": 9,
   "metadata": {},
   "outputs": [
    {
     "data": {
      "application/vnd.plotly.v1+json": {
       "config": {
        "plotlyServerURL": "https://plot.ly"
       },
       "data": [
        {
         "coloraxis": "coloraxis",
         "hovertemplate": "x: %{x}<br>y: %{y}<br>color: %{z}<extra></extra>",
         "name": "0",
         "type": "heatmap",
         "xaxis": "x",
         "yaxis": "y",
         "z": {
          "bdata": "cTLZvnEy2b5xMtm+cTLZvnEy2b5xMtm+cTLZvnEy2b5xMtm+cTLZvnEy2b5xMtm+cTLZvnEy2b5xMtm+cTLZvnEy2b5xMtm+cTLZvnEy2b5xMtm+cTLZvnEy2b5xMtm+cTLZvnEy2b5xMtm+cTLZvnEy2b5xMtm+cTLZvnEy2b5xMtm+cTLZvnEy2b5xMtm+cTLZvnEy2b5xMtm+cTLZvnEy2b5xMtm+cTLZvnEy2b5xMtm+cTLZvnEy2b5xMtm+cTLZvnEy2b5xMtm+cTLZvnEy2b5xMtm+cTLZvnEy2b5xMtm+cTLZvnEy2b5xMtm+cTLZvnEy2b5xMtm+cTLZvnEy2b5xMtm+cTLZvnEy2b5xMtm+cTLZvnEy2b5xMtm+cTLZvnEy2b5xMtm+cTLZvnEy2b5xMtm+cTLZvnEy2b5xMtm+cTLZvnEy2b5xMtm+cTLZvnEy2b5xMtm+cTLZvnEy2b5xMtm+cTLZvnEy2b5xMtm+cTLZvnEy2b5xMtm+cTLZvnEy2b5xMtm+cTLZvnEy2b5xMtm+cTLZvnEy2b5xMtm+cTLZvnEy2b5xMtm+cTLZvnEy2b5xMtm+cTLZvnEy2b5xMtm+cTLZvnEy2b5xMtm+cTLZvnEy2b5xMtm+cTLZvnEy2b5xMtm+cTLZvnEy2b5xMtm+cTLZvnEy2b5xMtm+cTLZvnEy2b5xMtm+cTLZvnEy2b5xMtm+cTLZvnEy2b5xMtm+cTLZvnEy2b5xMtm+cTLZvnEy2b5xMtm+cTLZvnEy2b5xMtm+cTLZvnEy2b4FpxO+QkEBQPMDpD+0hYq8cTLZvnEy2b5xMtm+cTLZvnEy2b5xMtm+cTLZvnEy2b5v426+6UwOP96cuL5xMtm+cTLZvnEy2b5xMtm+cTLZvnEy2b5xMtm+cTLZvnEy2b5xMtm+cTLZvnEy2b4r0lS+c0gkQIuAMEC0Cd0/cTLZvnEy2b5xMtm+cTLZvnEy2b5xMtm+cTLZvnEy2b5v426+XBAYQLArKUC/aT89cTLZvnEy2b5xMtm+cTLZvnEy2b5xMtm+cTLZvnEy2b5xMtm+cTLZvnEy2b5HuC2+R5/9PynyMkD5Mbk/cTLZvnEy2b5xMtm+cTLZvnEy2b5xMtm+cTLZvnEy2b5xMtm+WCmsPynyMkCIPlk/cTLZvnEy2b5xMtm+cTLZvnEy2b5xMtm+cTLZvnEy2b5xMtm+cTLZvnEy2b5xMtm+nvvuPinyMkAp8jJApq8gvnEy2b5xMtm+cTLZvnEy2b5xMtm+cTLZvnEy2b5xMtm+bxz8PbPCM0AFjuM/WXqEvnEy2b5xMtm+cTLZvnEy2b5xMtm+cTLZvnEy2b5xMtm+cTLZvnEy2b5xMtm+BacTvnL4wj8p8jJA5zVMP3Ey2b5xMtm+cTLZvnEy2b5xMtm+cTLZvnEy2b5xMtm+bxz8PUsGIUCzwjNARi0/P3Ey2b5xMtm+cTLZvnEy2b5xMtm+cTLZvnEy2b5xMtm+cTLZvnEy2b5xMtm+cTLZvjtD0z89kzRAuwcLQPqCkb5xMtm+cTLZvnEy2b5xMtm+cTLZvnEy2b5xMtm+cTLZvilHZj+zwjNA1x3LP3Ey2b5xMtm+cTLZvnEy2b5xMtm+cTLZvnEy2b5xMtm+cTLZvnEy2b5xMtm+cTLZvnEy2b4notE/KfIyQGqz6z/enLi+cTLZvnEy2b5xMtm+cTLZvnEy2b5xMtm+m4uevrYgnz+I6SVAKfIyQHEy2b5xMtm+cTLZvnEy2b5xMtm+cTLZvnEy2b5xMtm+cTLZvnEy2b5xMtm+cTLZvnEy2b5xMtm+J6LRPynyMkAp8jJAuHAAQC3Q5j+e++4+nvvuPp777j6e++4+32KiP/RTBUAp8jJAKfIyQLQJ3T9xMtm+cTLZvnEy2b5xMtm+cTLZvnEy2b5xMtm+cTLZvnEy2b5xMtm+cTLZvnEy2b5xMtm+cTLZvkFTZj6tlB5AKfIyQCnyMkCzwjNAKfIyQCnyMkAp8jJAKfIyQLPCM0Ap8jJAKfIyQNI/F0BqSa48cTLZvnEy2b5xMtm+cTLZvnEy2b5xMtm+cTLZvnEy2b5xMtm+cTLZvnEy2b5xMtm+cTLZvnEy2b5xMtm+K9JUvgtmzj4v56g/s8IzQNXWIUAv56g/L+eoPy/nqD/ZFgs+KfIyQCnyMkATAdA/cTLZvnEy2b5xMtm+cTLZvnEy2b5xMtm+cTLZvnEy2b5xMtm+cTLZvnEy2b5xMtm+cTLZvnEy2b5xMtm+cTLZvnEy2b5xMtm+cTLZvnEy2b5xMtm+cTLZvnEy2b5xMtm+wQgMPLPCM0DPqAxApq8gvnEy2b5xMtm+cTLZvnEy2b5xMtm+cTLZvnEy2b5xMtm+cTLZvnEy2b5xMtm+cTLZvnEy2b5xMtm+cTLZvnEy2b5xMtm+cTLZvnEy2b5xMtm+cTLZvnEy2b5xMtm+cTLZvv9fzj8p8jJATnfoPnEy2b5xMtm+cTLZvnEy2b5xMtm+cTLZvnEy2b5xMtm+cTLZvnEy2b5xMtm+cTLZvnEy2b5xMtm+cTLZvnEy2b5xMtm+cTLZvnEy2b5xMtm+cTLZvnEy2b5xMtm+cTLZvixeKD+zwjNAsCspQKBKWT5xMtm+cTLZvnEy2b5xMtm+cTLZvnEy2b5xMtm+cTLZvnEy2b5xMtm+cTLZvnEy2b5xMtm+cTLZvnEy2b5xMtm+cTLZvnEy2b5xMtm+cTLZvnEy2b5xMtm+cTLZvnEy2b7XHcs/s8IzQGSF1j9xMtm+cTLZvnEy2b5xMtm+cTLZvnEy2b5xMtm+cTLZvnEy2b5xMtm+cTLZvnEy2b5xMtm+cTLZvnEy2b5xMtm+cTLZvnEy2b5xMtm+cTLZvnEy2b5xMtm+cTLZvnEy2b5xMtm+SwYhQE6dK0CgSlk+cTLZvnEy2b5xMtm+cTLZvnEy2b5xMtm+cTLZvnEy2b5xMtm+cTLZvnEy2b5xMtm+cTLZvnEy2b5xMtm+cTLZvnEy2b5xMtm+cTLZvnEy2b5xMtm+cTLZvnEy2b5xMtm+KUdmP7PCM0DV1iFAcTLZvnEy2b5xMtm+cTLZvnEy2b5xMtm+cTLZvnEy2b5xMtm+cTLZvnEy2b5xMtm+cTLZvnEy2b5xMtm+cTLZvnEy2b5xMtm+cTLZvnEy2b5xMtm+cTLZvnEy2b5xMtm+cTLZvuNJDkAp8jJAwnzJP3Ey2b5ZeoS+6octvXEy2b5xMtm+cTLZvnEy2b5xMtm+cTLZvnEy2b5xMtm+cTLZvnEy2b5xMtm+cTLZvnEy2b5xMtm+cTLZvnEy2b5xMtm+cTLZvnEy2b5xMtm+cTLZvnEy2b7jSQ5AKfIyQIaZxD8e6zs/uwcLQBMB0D9xMtm+cTLZvnEy2b5xMtm+cTLZvnEy2b5xMtm+cTLZvnEy2b5xMtm+cTLZvnEy2b5xMtm+cTLZvnEy2b5xMtm+cTLZvnEy2b5xMtm+cTLZvnEy2b5xMtm+40kOQCnyMkCzwjNAKfIyQIaZxD9vqmG9cTLZvnEy2b5xMtm+cTLZvnEy2b5xMtm+cTLZvnEy2b5xMtm+cTLZvnEy2b5xMtm+cTLZvnEy2b5xMtm+cTLZvnEy2b5xMtm+cTLZvnEy2b5xMtm+cTLZvsdUtD5cQP8/ej2aP2OeBr6NGLK+cTLZvnEy2b5xMtm+cTLZvnEy2b5xMtm+cTLZvnEy2b5xMtm+cTLZvnEy2b5xMtm+cTLZvnEy2b5xMtm+cTLZvnEy2b5xMtm+cTLZvnEy2b5xMtm+cTLZvnEy2b5xMtm+cTLZvnEy2b5xMtm+cTLZvnEy2b5xMtm+cTLZvnEy2b5xMtm+cTLZvnEy2b5xMtm+cTLZvnEy2b5xMtm+cTLZvnEy2b5xMtm+cTLZvnEy2b5xMtm+cTLZvnEy2b5xMtm+cTLZvnEy2b5xMtm+cTLZvnEy2b5xMtm+cTLZvnEy2b5xMtm+cTLZvnEy2b5xMtm+cTLZvnEy2b5xMtm+cTLZvnEy2b5xMtm+cTLZvnEy2b5xMtm+cTLZvnEy2b5xMtm+cTLZvnEy2b5xMtm+cTLZvnEy2b5xMtm+cTLZvnEy2b5xMtm+cTLZvnEy2b5xMtm+cTLZvnEy2b5xMtm+cTLZvnEy2b5xMtm+cTLZvnEy2b5xMtm+cTLZvg==",
          "dtype": "f4",
          "shape": "28, 28"
         }
        },
        {
         "hovertemplate": "variable=0<br>index=%{x}<br>value=%{y}<extra></extra>",
         "legendgroup": "0",
         "marker": {
          "color": "#636efa",
          "pattern": {
           "shape": ""
          }
         },
         "name": "0",
         "orientation": "v",
         "showlegend": true,
         "textposition": "auto",
         "type": "bar",
         "x": {
          "bdata": "AAECAwQFBgcICQ==",
          "dtype": "i1"
         },
         "xaxis": "x2",
         "y": {
          "bdata": "nguZLit2LTGGlI8sItAoMQrufD9kNhsyYgjgLAdfrzF7wr04IQJDPA==",
          "dtype": "f4"
         },
         "yaxis": "y2"
        }
       ],
       "layout": {
        "coloraxis": {
         "colorscale": [
          [
           0,
           "#0d0887"
          ],
          [
           0.1111111111111111,
           "#46039f"
          ],
          [
           0.2222222222222222,
           "#7201a8"
          ],
          [
           0.3333333333333333,
           "#9c179e"
          ],
          [
           0.4444444444444444,
           "#bd3786"
          ],
          [
           0.5555555555555556,
           "#d8576b"
          ],
          [
           0.6666666666666666,
           "#ed7953"
          ],
          [
           0.7777777777777778,
           "#fb9f3a"
          ],
          [
           0.8888888888888888,
           "#fdca26"
          ],
          [
           1,
           "#f0f921"
          ]
         ]
        },
        "height": 400,
        "template": {
         "data": {
          "bar": [
           {
            "error_x": {
             "color": "#2a3f5f"
            },
            "error_y": {
             "color": "#2a3f5f"
            },
            "marker": {
             "line": {
              "color": "#E5ECF6",
              "width": 0.5
             },
             "pattern": {
              "fillmode": "overlay",
              "size": 10,
              "solidity": 0.2
             }
            },
            "type": "bar"
           }
          ],
          "barpolar": [
           {
            "marker": {
             "line": {
              "color": "#E5ECF6",
              "width": 0.5
             },
             "pattern": {
              "fillmode": "overlay",
              "size": 10,
              "solidity": 0.2
             }
            },
            "type": "barpolar"
           }
          ],
          "carpet": [
           {
            "aaxis": {
             "endlinecolor": "#2a3f5f",
             "gridcolor": "white",
             "linecolor": "white",
             "minorgridcolor": "white",
             "startlinecolor": "#2a3f5f"
            },
            "baxis": {
             "endlinecolor": "#2a3f5f",
             "gridcolor": "white",
             "linecolor": "white",
             "minorgridcolor": "white",
             "startlinecolor": "#2a3f5f"
            },
            "type": "carpet"
           }
          ],
          "choropleth": [
           {
            "colorbar": {
             "outlinewidth": 0,
             "ticks": ""
            },
            "type": "choropleth"
           }
          ],
          "contour": [
           {
            "colorbar": {
             "outlinewidth": 0,
             "ticks": ""
            },
            "colorscale": [
             [
              0,
              "#0d0887"
             ],
             [
              0.1111111111111111,
              "#46039f"
             ],
             [
              0.2222222222222222,
              "#7201a8"
             ],
             [
              0.3333333333333333,
              "#9c179e"
             ],
             [
              0.4444444444444444,
              "#bd3786"
             ],
             [
              0.5555555555555556,
              "#d8576b"
             ],
             [
              0.6666666666666666,
              "#ed7953"
             ],
             [
              0.7777777777777778,
              "#fb9f3a"
             ],
             [
              0.8888888888888888,
              "#fdca26"
             ],
             [
              1,
              "#f0f921"
             ]
            ],
            "type": "contour"
           }
          ],
          "contourcarpet": [
           {
            "colorbar": {
             "outlinewidth": 0,
             "ticks": ""
            },
            "type": "contourcarpet"
           }
          ],
          "heatmap": [
           {
            "colorbar": {
             "outlinewidth": 0,
             "ticks": ""
            },
            "colorscale": [
             [
              0,
              "#0d0887"
             ],
             [
              0.1111111111111111,
              "#46039f"
             ],
             [
              0.2222222222222222,
              "#7201a8"
             ],
             [
              0.3333333333333333,
              "#9c179e"
             ],
             [
              0.4444444444444444,
              "#bd3786"
             ],
             [
              0.5555555555555556,
              "#d8576b"
             ],
             [
              0.6666666666666666,
              "#ed7953"
             ],
             [
              0.7777777777777778,
              "#fb9f3a"
             ],
             [
              0.8888888888888888,
              "#fdca26"
             ],
             [
              1,
              "#f0f921"
             ]
            ],
            "type": "heatmap"
           }
          ],
          "histogram": [
           {
            "marker": {
             "pattern": {
              "fillmode": "overlay",
              "size": 10,
              "solidity": 0.2
             }
            },
            "type": "histogram"
           }
          ],
          "histogram2d": [
           {
            "colorbar": {
             "outlinewidth": 0,
             "ticks": ""
            },
            "colorscale": [
             [
              0,
              "#0d0887"
             ],
             [
              0.1111111111111111,
              "#46039f"
             ],
             [
              0.2222222222222222,
              "#7201a8"
             ],
             [
              0.3333333333333333,
              "#9c179e"
             ],
             [
              0.4444444444444444,
              "#bd3786"
             ],
             [
              0.5555555555555556,
              "#d8576b"
             ],
             [
              0.6666666666666666,
              "#ed7953"
             ],
             [
              0.7777777777777778,
              "#fb9f3a"
             ],
             [
              0.8888888888888888,
              "#fdca26"
             ],
             [
              1,
              "#f0f921"
             ]
            ],
            "type": "histogram2d"
           }
          ],
          "histogram2dcontour": [
           {
            "colorbar": {
             "outlinewidth": 0,
             "ticks": ""
            },
            "colorscale": [
             [
              0,
              "#0d0887"
             ],
             [
              0.1111111111111111,
              "#46039f"
             ],
             [
              0.2222222222222222,
              "#7201a8"
             ],
             [
              0.3333333333333333,
              "#9c179e"
             ],
             [
              0.4444444444444444,
              "#bd3786"
             ],
             [
              0.5555555555555556,
              "#d8576b"
             ],
             [
              0.6666666666666666,
              "#ed7953"
             ],
             [
              0.7777777777777778,
              "#fb9f3a"
             ],
             [
              0.8888888888888888,
              "#fdca26"
             ],
             [
              1,
              "#f0f921"
             ]
            ],
            "type": "histogram2dcontour"
           }
          ],
          "mesh3d": [
           {
            "colorbar": {
             "outlinewidth": 0,
             "ticks": ""
            },
            "type": "mesh3d"
           }
          ],
          "parcoords": [
           {
            "line": {
             "colorbar": {
              "outlinewidth": 0,
              "ticks": ""
             }
            },
            "type": "parcoords"
           }
          ],
          "pie": [
           {
            "automargin": true,
            "type": "pie"
           }
          ],
          "scatter": [
           {
            "fillpattern": {
             "fillmode": "overlay",
             "size": 10,
             "solidity": 0.2
            },
            "type": "scatter"
           }
          ],
          "scatter3d": [
           {
            "line": {
             "colorbar": {
              "outlinewidth": 0,
              "ticks": ""
             }
            },
            "marker": {
             "colorbar": {
              "outlinewidth": 0,
              "ticks": ""
             }
            },
            "type": "scatter3d"
           }
          ],
          "scattercarpet": [
           {
            "marker": {
             "colorbar": {
              "outlinewidth": 0,
              "ticks": ""
             }
            },
            "type": "scattercarpet"
           }
          ],
          "scattergeo": [
           {
            "marker": {
             "colorbar": {
              "outlinewidth": 0,
              "ticks": ""
             }
            },
            "type": "scattergeo"
           }
          ],
          "scattergl": [
           {
            "marker": {
             "colorbar": {
              "outlinewidth": 0,
              "ticks": ""
             }
            },
            "type": "scattergl"
           }
          ],
          "scattermap": [
           {
            "marker": {
             "colorbar": {
              "outlinewidth": 0,
              "ticks": ""
             }
            },
            "type": "scattermap"
           }
          ],
          "scattermapbox": [
           {
            "marker": {
             "colorbar": {
              "outlinewidth": 0,
              "ticks": ""
             }
            },
            "type": "scattermapbox"
           }
          ],
          "scatterpolar": [
           {
            "marker": {
             "colorbar": {
              "outlinewidth": 0,
              "ticks": ""
             }
            },
            "type": "scatterpolar"
           }
          ],
          "scatterpolargl": [
           {
            "marker": {
             "colorbar": {
              "outlinewidth": 0,
              "ticks": ""
             }
            },
            "type": "scatterpolargl"
           }
          ],
          "scatterternary": [
           {
            "marker": {
             "colorbar": {
              "outlinewidth": 0,
              "ticks": ""
             }
            },
            "type": "scatterternary"
           }
          ],
          "surface": [
           {
            "colorbar": {
             "outlinewidth": 0,
             "ticks": ""
            },
            "colorscale": [
             [
              0,
              "#0d0887"
             ],
             [
              0.1111111111111111,
              "#46039f"
             ],
             [
              0.2222222222222222,
              "#7201a8"
             ],
             [
              0.3333333333333333,
              "#9c179e"
             ],
             [
              0.4444444444444444,
              "#bd3786"
             ],
             [
              0.5555555555555556,
              "#d8576b"
             ],
             [
              0.6666666666666666,
              "#ed7953"
             ],
             [
              0.7777777777777778,
              "#fb9f3a"
             ],
             [
              0.8888888888888888,
              "#fdca26"
             ],
             [
              1,
              "#f0f921"
             ]
            ],
            "type": "surface"
           }
          ],
          "table": [
           {
            "cells": {
             "fill": {
              "color": "#EBF0F8"
             },
             "line": {
              "color": "white"
             }
            },
            "header": {
             "fill": {
              "color": "#C8D4E3"
             },
             "line": {
              "color": "white"
             }
            },
            "type": "table"
           }
          ]
         },
         "layout": {
          "annotationdefaults": {
           "arrowcolor": "#2a3f5f",
           "arrowhead": 0,
           "arrowwidth": 1
          },
          "autotypenumbers": "strict",
          "coloraxis": {
           "colorbar": {
            "outlinewidth": 0,
            "ticks": ""
           }
          },
          "colorscale": {
           "diverging": [
            [
             0,
             "#8e0152"
            ],
            [
             0.1,
             "#c51b7d"
            ],
            [
             0.2,
             "#de77ae"
            ],
            [
             0.3,
             "#f1b6da"
            ],
            [
             0.4,
             "#fde0ef"
            ],
            [
             0.5,
             "#f7f7f7"
            ],
            [
             0.6,
             "#e6f5d0"
            ],
            [
             0.7,
             "#b8e186"
            ],
            [
             0.8,
             "#7fbc41"
            ],
            [
             0.9,
             "#4d9221"
            ],
            [
             1,
             "#276419"
            ]
           ],
           "sequential": [
            [
             0,
             "#0d0887"
            ],
            [
             0.1111111111111111,
             "#46039f"
            ],
            [
             0.2222222222222222,
             "#7201a8"
            ],
            [
             0.3333333333333333,
             "#9c179e"
            ],
            [
             0.4444444444444444,
             "#bd3786"
            ],
            [
             0.5555555555555556,
             "#d8576b"
            ],
            [
             0.6666666666666666,
             "#ed7953"
            ],
            [
             0.7777777777777778,
             "#fb9f3a"
            ],
            [
             0.8888888888888888,
             "#fdca26"
            ],
            [
             1,
             "#f0f921"
            ]
           ],
           "sequentialminus": [
            [
             0,
             "#0d0887"
            ],
            [
             0.1111111111111111,
             "#46039f"
            ],
            [
             0.2222222222222222,
             "#7201a8"
            ],
            [
             0.3333333333333333,
             "#9c179e"
            ],
            [
             0.4444444444444444,
             "#bd3786"
            ],
            [
             0.5555555555555556,
             "#d8576b"
            ],
            [
             0.6666666666666666,
             "#ed7953"
            ],
            [
             0.7777777777777778,
             "#fb9f3a"
            ],
            [
             0.8888888888888888,
             "#fdca26"
            ],
            [
             1,
             "#f0f921"
            ]
           ]
          },
          "colorway": [
           "#636efa",
           "#EF553B",
           "#00cc96",
           "#ab63fa",
           "#FFA15A",
           "#19d3f3",
           "#FF6692",
           "#B6E880",
           "#FF97FF",
           "#FECB52"
          ],
          "font": {
           "color": "#2a3f5f"
          },
          "geo": {
           "bgcolor": "white",
           "lakecolor": "white",
           "landcolor": "#E5ECF6",
           "showlakes": true,
           "showland": true,
           "subunitcolor": "white"
          },
          "hoverlabel": {
           "align": "left"
          },
          "hovermode": "closest",
          "mapbox": {
           "style": "light"
          },
          "paper_bgcolor": "white",
          "plot_bgcolor": "#E5ECF6",
          "polar": {
           "angularaxis": {
            "gridcolor": "white",
            "linecolor": "white",
            "ticks": ""
           },
           "bgcolor": "#E5ECF6",
           "radialaxis": {
            "gridcolor": "white",
            "linecolor": "white",
            "ticks": ""
           }
          },
          "scene": {
           "xaxis": {
            "backgroundcolor": "#E5ECF6",
            "gridcolor": "white",
            "gridwidth": 2,
            "linecolor": "white",
            "showbackground": true,
            "ticks": "",
            "zerolinecolor": "white"
           },
           "yaxis": {
            "backgroundcolor": "#E5ECF6",
            "gridcolor": "white",
            "gridwidth": 2,
            "linecolor": "white",
            "showbackground": true,
            "ticks": "",
            "zerolinecolor": "white"
           },
           "zaxis": {
            "backgroundcolor": "#E5ECF6",
            "gridcolor": "white",
            "gridwidth": 2,
            "linecolor": "white",
            "showbackground": true,
            "ticks": "",
            "zerolinecolor": "white"
           }
          },
          "shapedefaults": {
           "line": {
            "color": "#2a3f5f"
           }
          },
          "ternary": {
           "aaxis": {
            "gridcolor": "white",
            "linecolor": "white",
            "ticks": ""
           },
           "baxis": {
            "gridcolor": "white",
            "linecolor": "white",
            "ticks": ""
           },
           "bgcolor": "#E5ECF6",
           "caxis": {
            "gridcolor": "white",
            "linecolor": "white",
            "ticks": ""
           }
          },
          "title": {
           "x": 0.05
          },
          "xaxis": {
           "automargin": true,
           "gridcolor": "white",
           "linecolor": "white",
           "ticks": "",
           "title": {
            "standoff": 15
           },
           "zerolinecolor": "white",
           "zerolinewidth": 2
          },
          "yaxis": {
           "automargin": true,
           "gridcolor": "white",
           "linecolor": "white",
           "ticks": "",
           "title": {
            "standoff": 15
           },
           "zerolinecolor": "white",
           "zerolinewidth": 2
          }
         }
        },
        "width": 800,
        "xaxis": {
         "anchor": "y",
         "domain": [
          0,
          0.45
         ]
        },
        "xaxis2": {
         "anchor": "y2",
         "domain": [
          0.55,
          1
         ],
         "dtick": 1
        },
        "yaxis": {
         "anchor": "x",
         "autorange": "reversed",
         "domain": [
          0,
          1
         ]
        },
        "yaxis2": {
         "anchor": "x2",
         "domain": [
          0,
          1
         ]
        }
       }
      }
     },
     "metadata": {},
     "output_type": "display_data"
    }
   ],
   "source": [
    "# Test out the model on a batch of images from the test set\n",
    "with torch.no_grad():\n",
    "    for data, target in test_clean_loader:\n",
    "        data, target = data.to(DEVICE), target.to(DEVICE)\n",
    "        pred = simpleCNN_model(data)\n",
    "        break\n",
    "\n",
    "pred_idx = 6\n",
    "# pred_idx = 8\n",
    "fig = make_subplots(rows=1, cols=2)\n",
    "\n",
    "fig1 = px.imshow(data[pred_idx][0].cpu())\n",
    "fig2 = px.bar(torch.exp(pred[pred_idx]).cpu())\n",
    "\n",
    "fig.add_trace(fig1[\"data\"][0], row=1, col=1)\n",
    "fig.add_trace(fig2[\"data\"][0], row=1, col=2)\n",
    "\n",
    "fig.update_coloraxes(colorscale=\"Plasma\")\n",
    "fig.update_xaxes(dtick=1, row=1, col=2)\n",
    "fig.update_yaxes(autorange=\"reversed\", row=1, col=1)\n",
    "fig.update_layout(width=800, height=400)"
   ]
  },
  {
   "cell_type": "markdown",
   "metadata": {},
   "source": [
    "---\n",
    "### Example of overfitting - only train on 0-4, test on 0-9.\n",
    "\n",
    "Overfitting is when your model cannot generalise to new data reliably, due to it fitting too closely to the training dataset.\n",
    "\n",
    "This can be casued by limited training data which is not reflective of the test dataset, or by having too many parameters in your model, causing the model to \"memorise\" the dataset."
   ]
  },
  {
   "cell_type": "code",
   "execution_count": 10,
   "metadata": {},
   "outputs": [
    {
     "name": "stdout",
     "output_type": "stream",
     "text": [
      "Train Epoch: 1 (100%)\tLoss: 0.002069\n",
      "Train Epoch: 2 (100%)\tLoss: 0.000353\n",
      "Train Epoch: 3 (100%)\tLoss: 0.000096\n",
      "Train Epoch: 4 (100%)\tLoss: 0.000959\n",
      "Train Epoch: 5 (100%)\tLoss: 0.000604\n",
      "Train Epoch: 6 (100%)\tLoss: 0.000079\n",
      "Train Epoch: 7 (100%)\tLoss: 0.000001\n",
      "Train Epoch: 8 (100%)\tLoss: 0.000076\n",
      "Train Epoch: 9 (100%)\tLoss: 0.000072\n",
      "Train Epoch: 10 (100%)\tLoss: 0.000015\n"
     ]
    }
   ],
   "source": [
    "# Filter out training data with targets >= 5\n",
    "filt_train = []\n",
    "for img, target in train_dataset:\n",
    "    if target < 5:\n",
    "        filt_train.append((transform(img), target))\n",
    "\n",
    "## Load data, passing it through our cleaning pipeline\n",
    "filt_train_loader = torch.utils.data.DataLoader(filt_train, batch_size=batch_size)\n",
    "test_clean_loader = torch.utils.data.DataLoader(test_clean, batch_size=batch_size)\n",
    "\n",
    "overfittedCNN_model = SimpleCNN().to(device=DEVICE)\n",
    "optimizer = torch.optim.Adadelta(overfittedCNN_model.parameters(), lr=learning_rate)\n",
    "lr_scheduler = torch.optim.lr_scheduler.StepLR(optimizer, step_size=lr_step_size, gamma=lr_gamma)\n",
    "\n",
    "# Train the model\n",
    "train(\n",
    "    train_data=filt_train_loader,\n",
    "    model=overfittedCNN_model,\n",
    "    optimizer=optimizer,\n",
    "    lr_scheduler=lr_scheduler,\n",
    "    epochs=n_epochs,\n",
    ")\n",
    "\n",
    "# Save the model\n",
    "torch.save(simpleCNN_model.state_dict(), \"overfittedCNN_model.pt\")"
   ]
  },
  {
   "cell_type": "code",
   "execution_count": 11,
   "metadata": {},
   "outputs": [
    {
     "data": {
      "application/vnd.plotly.v1+json": {
       "config": {
        "plotlyServerURL": "https://plot.ly"
       },
       "data": [
        {
         "coloraxis": "coloraxis",
         "hovertemplate": "x: %{x}<br>y: %{y}<br>color: %{z}<extra></extra>",
         "name": "0",
         "type": "heatmap",
         "xaxis": "x",
         "yaxis": "y",
         "z": {
          "bdata": "cTLZvnEy2b5xMtm+cTLZvnEy2b5xMtm+cTLZvnEy2b5xMtm+cTLZvnEy2b5xMtm+cTLZvnEy2b5xMtm+cTLZvnEy2b5xMtm+cTLZvnEy2b5xMtm+cTLZvnEy2b5xMtm+cTLZvnEy2b5xMtm+cTLZvnEy2b5xMtm+cTLZvnEy2b5xMtm+cTLZvnEy2b5xMtm+cTLZvnEy2b5xMtm+cTLZvnEy2b5xMtm+cTLZvnEy2b5xMtm+cTLZvnEy2b5xMtm+cTLZvnEy2b5xMtm+cTLZvnEy2b5xMtm+cTLZvnEy2b5xMtm+cTLZvnEy2b5xMtm+cTLZvnEy2b5xMtm+cTLZvnEy2b5xMtm+cTLZvnEy2b5xMtm+cTLZvnEy2b5xMtm+cTLZvnEy2b5xMtm+cTLZvnEy2b5xMtm+cTLZvnEy2b5xMtm+cTLZvnEy2b5xMtm+cTLZvnEy2b5xMtm+cTLZvnEy2b5xMtm+cTLZvnEy2b5xMtm+cTLZvnEy2b5xMtm+cTLZvnEy2b5xMtm+cTLZvnEy2b5xMtm+cTLZvnEy2b5xMtm+cTLZvnEy2b5xMtm+cTLZvnEy2b5xMtm+cTLZvnEy2b5xMtm+cTLZvnEy2b5xMtm+cTLZvnEy2b5xMtm+cTLZvnEy2b5xMtm+cTLZvnEy2b5xMtm+cTLZvnEy2b5xMtm+K9JUvrwwMj68MDI+vDAyPszaYb6O3ps/LF4oP7wwMj5xMtm+cTLZvnEy2b5xMtm+cTLZvnEy2b5xMtm+cTLZvnEy2b5xMtm+cTLZvnEy2b5xMtm+cTLZvnEy2b5xMtm+cTLZvnEy2b6ZyAc/cvjCP76eFUAp8jJAKfIyQCnyMkCq/RNAYj4tQCnyMkAp8jJAcTLZvnEy2b5xMtm+cTLZvnEy2b5xMtm+cTLZvnEy2b5xMtm+cTLZvnEy2b5xMtm+cTLZvnEy2b5xMtm+akmuPJQMsT9OnStAnyEyQCnyMkAp8jJAKfIyQCnyMkAp8jJAKfIyQCnyMkAp8jJAKfIyQHEy2b5xMtm+cTLZvnEy2b5xMtm+cTLZvnEy2b5xMtm+cTLZvnEy2b5xMtm+cTLZvnEy2b5xMtm+cTLZvmhdwT4p8jJAKfIyQCnyMkAp8jJAKfIyQCnyMkAp8jJAllwSQMiq3j/Iqt4/yKreP8iq3j9xMtm+cTLZvnEy2b5xMtm+cTLZvnEy2b5xMtm+cTLZvnEy2b5xMtm+cTLZvke4Lb7LwaA/QAT8PnEy2b6EQ5o+EromQCPEHUASuiZAoGjbPyi5kz9Od+g+R7gtvvqCkb5xMtm+cTLZvnEy2b5xMtm+cTLZvnEy2b5xMtm+cTLZvnEy2b5xMtm+cTLZvnEy2b5xMtm+cTLZvvqCkb7PqAxAKfIyQBKPET9xMtm+cTLZvrSFirxxMtm+6octvdApzL5xMtm+cTLZvnEy2b5xMtm+cTLZvnEy2b5xMtm+cTLZvnEy2b5xMtm+cTLZvnEy2b5xMtm+cTLZvnEy2b5xMtm+cTLZvo0Ysr5WEuo/KfIyQMvBoD9LB5i+cTLZvnEy2b5xMtm+cTLZvnEy2b5xMtm+cTLZvnEy2b5xMtm+cTLZvnEy2b5xMtm+cTLZvnEy2b5xMtm+cTLZvnEy2b5xMtm+cTLZvnEy2b5xMtm+cTLZvqn+ir7fYqI/KfIyQF+nIkBv426+cTLZvnEy2b5xMtm+cTLZvnEy2b5xMtm+cTLZvnEy2b5xMtm+cTLZvnEy2b5xMtm+cTLZvnEy2b5xMtm+cTLZvnEy2b5xMtm+cTLZvnEy2b5xMtm+cTLZvnEy2b5GLT8/KfIyQPqBGkB65oq9cTLZvnEy2b5xMtm+cTLZvnEy2b5xMtm+cTLZvnEy2b5xMtm+cTLZvnEy2b5xMtm+cTLZvnEy2b5xMtm+cTLZvnEy2b5xMtm+cTLZvnEy2b5xMtm+cTLZvnEy2b5xMtm+NRW+PynyMkAZL+U/cTLZvnEy2b5xMtm+cTLZvnEy2b5xMtm+cTLZvnEy2b5xMtm+cTLZvnEy2b5xMtm+cTLZvnEy2b5xMtm+cTLZvnEy2b5xMtm+cTLZvnEy2b5xMtm+cTLZvnEy2b5xMtm+cTLZvul3I0Ap8jJAYj4tQGScmD//QUw+cTLZvnEy2b5xMtm+cTLZvnEy2b5xMtm+cTLZvnEy2b5xMtm+cTLZvnEy2b5xMtm+cTLZvnEy2b5xMtm+cTLZvnEy2b5xMtm+cTLZvnEy2b5xMtm+cTLZvnEy2b49kzRAKfIyQCnyMkAp8jJAFVExQPkxuT8e6zs/69WOPyxeKD8sC+I9LAviPSxeKD965oq9cTLZvnEy2b5xMtm+cTLZvnEy2b5xMtm+cTLZvnEy2b5xMtm+cTLZvnEy2b5xMtm+cTLZvnEy2b5xMtm+WCmsPynyMkAp8jJAKfIyQCnyMkAp8jJAKfIyQCnyMkAp8jJAKfIyQCnyMkAp8jJA1dYhQKBo2z9xMtm+cTLZvnEy2b5xMtm+cTLZvnEy2b5xMtm+cTLZvnEy2b5xMtm+cTLZvnEy2b5xMtm+cTLZvn+lxb5CMoA+SG8WQHCxGUAVUTFAKfIyQCnyMkAp8jJAKfIyQCnyMkAp8jJAKfIyQCnyMkCfITJAKLmTP3Ey2b5xMtm+cTLZvnEy2b5xMtm+cTLZvnEy2b5xMtm+cTLZvnEy2b5xMtm+cTLZvnEy2b5xMtm+cTLZvnEy2b5xMtm+rG7bPkAE/D6TxQdAKfIyQCnyMkAp8jJAKfIyQCnyMkAp8jJAKfIyQC3Q5j9xMtm+cTLZvnEy2b5xMtm+cTLZvnEy2b5xMtm+cTLZvnEy2b5xMtm+cTLZvnEy2b5xMtm+cTLZvnEy2b5xMtm+cTLZvnEy2b5xMtm+1zSNPynyMkAAsC9AXlfBP0FTZj5Q5NQ/KfIyQCnyMkAt0OY/cTLZvnEy2b5xMtm+cTLZvnEy2b5xMtm+cTLZvnEy2b5xMtm+cTLZvnEy2b5xMtm+cTLZvnEy2b5xMtm+cTLZvnEy2b5xMtm+cTLZvqBKWT4p8jJAKfIyQCnyMkAz/vs/nyEyQCnyMkAp8jJADdO6P3Ey2b5xMtm+cTLZvnEy2b5xMtm+cTLZvnEy2b5xMtm+cTLZvnEy2b5xMtm+cTLZvnEy2b5xMtm+cTLZvnEy2b5xMtm+cTLZvnEy2b6bi56+jMfZPynyMkAp8jJAKfIyQCnyMkCLgDBALdDmP/qCkb5xMtm+cTLZvnEy2b5xMtm+cTLZvnEy2b5xMtm+cTLZvnEy2b5xMtm+cTLZvnEy2b5xMtm+cTLZvnEy2b5xMtm+cTLZvnEy2b5xMtm+cTLZvmOeBr6S9e4/SwYhQCnyMkDm4BhAej2aP3Ey2b5xMtm+cTLZvnEy2b5xMtm+cTLZvnEy2b5xMtm+cTLZvnEy2b5xMtm+cTLZvnEy2b5xMtm+cTLZvnEy2b5xMtm+cTLZvnEy2b5xMtm+cTLZvnEy2b5xMtm+cTLZvm5vQj8hdLw/BacTvnEy2b5xMtm+cTLZvnEy2b5xMtm+cTLZvnEy2b5xMtm+cTLZvnEy2b5xMtm+cTLZvnEy2b5xMtm+cTLZvnEy2b5xMtm+cTLZvnEy2b5xMtm+cTLZvnEy2b5xMtm+cTLZvnEy2b5xMtm+cTLZvnEy2b5xMtm+cTLZvnEy2b5xMtm+cTLZvnEy2b5xMtm+cTLZvnEy2b5xMtm+cTLZvnEy2b5xMtm+cTLZvnEy2b5xMtm+cTLZvnEy2b5xMtm+cTLZvnEy2b5xMtm+cTLZvnEy2b5xMtm+cTLZvnEy2b5xMtm+cTLZvnEy2b5xMtm+cTLZvnEy2b5xMtm+cTLZvnEy2b5xMtm+cTLZvnEy2b5xMtm+cTLZvnEy2b5xMtm+cTLZvnEy2b5xMtm+cTLZvnEy2b5xMtm+cTLZvnEy2b5xMtm+cTLZvnEy2b5xMtm+cTLZvnEy2b5xMtm+cTLZvnEy2b5xMtm+cTLZvnEy2b5xMtm+cTLZvnEy2b5xMtm+cTLZvnEy2b5xMtm+cTLZvnEy2b5xMtm+cTLZvnEy2b5xMtm+cTLZvnEy2b5xMtm+cTLZvnEy2b5xMtm+cTLZvnEy2b5xMtm+cTLZvnEy2b5xMtm+cTLZvnEy2b5xMtm+cTLZvnEy2b5xMtm+cTLZvg==",
          "dtype": "f4",
          "shape": "28, 28"
         }
        },
        {
         "hovertemplate": "variable=0<br>index=%{x}<br>value=%{y}<extra></extra>",
         "legendgroup": "0",
         "marker": {
          "color": "#636efa",
          "pattern": {
           "shape": ""
          }
         },
         "name": "0",
         "orientation": "v",
         "showlegend": true,
         "textposition": "auto",
         "type": "bar",
         "x": {
          "bdata": "AAECAwQFBgcICQ==",
          "dtype": "i1"
         },
         "xaxis": "x2",
         "y": {
          "bdata": "J7p3P43YSTWCL0U2ZqTXOdlnAj1Jni82gVKSNk3I5jftuIo2zoTPNw==",
          "dtype": "f4"
         },
         "yaxis": "y2"
        }
       ],
       "layout": {
        "coloraxis": {
         "colorscale": [
          [
           0,
           "#0d0887"
          ],
          [
           0.1111111111111111,
           "#46039f"
          ],
          [
           0.2222222222222222,
           "#7201a8"
          ],
          [
           0.3333333333333333,
           "#9c179e"
          ],
          [
           0.4444444444444444,
           "#bd3786"
          ],
          [
           0.5555555555555556,
           "#d8576b"
          ],
          [
           0.6666666666666666,
           "#ed7953"
          ],
          [
           0.7777777777777778,
           "#fb9f3a"
          ],
          [
           0.8888888888888888,
           "#fdca26"
          ],
          [
           1,
           "#f0f921"
          ]
         ]
        },
        "height": 400,
        "template": {
         "data": {
          "bar": [
           {
            "error_x": {
             "color": "#2a3f5f"
            },
            "error_y": {
             "color": "#2a3f5f"
            },
            "marker": {
             "line": {
              "color": "#E5ECF6",
              "width": 0.5
             },
             "pattern": {
              "fillmode": "overlay",
              "size": 10,
              "solidity": 0.2
             }
            },
            "type": "bar"
           }
          ],
          "barpolar": [
           {
            "marker": {
             "line": {
              "color": "#E5ECF6",
              "width": 0.5
             },
             "pattern": {
              "fillmode": "overlay",
              "size": 10,
              "solidity": 0.2
             }
            },
            "type": "barpolar"
           }
          ],
          "carpet": [
           {
            "aaxis": {
             "endlinecolor": "#2a3f5f",
             "gridcolor": "white",
             "linecolor": "white",
             "minorgridcolor": "white",
             "startlinecolor": "#2a3f5f"
            },
            "baxis": {
             "endlinecolor": "#2a3f5f",
             "gridcolor": "white",
             "linecolor": "white",
             "minorgridcolor": "white",
             "startlinecolor": "#2a3f5f"
            },
            "type": "carpet"
           }
          ],
          "choropleth": [
           {
            "colorbar": {
             "outlinewidth": 0,
             "ticks": ""
            },
            "type": "choropleth"
           }
          ],
          "contour": [
           {
            "colorbar": {
             "outlinewidth": 0,
             "ticks": ""
            },
            "colorscale": [
             [
              0,
              "#0d0887"
             ],
             [
              0.1111111111111111,
              "#46039f"
             ],
             [
              0.2222222222222222,
              "#7201a8"
             ],
             [
              0.3333333333333333,
              "#9c179e"
             ],
             [
              0.4444444444444444,
              "#bd3786"
             ],
             [
              0.5555555555555556,
              "#d8576b"
             ],
             [
              0.6666666666666666,
              "#ed7953"
             ],
             [
              0.7777777777777778,
              "#fb9f3a"
             ],
             [
              0.8888888888888888,
              "#fdca26"
             ],
             [
              1,
              "#f0f921"
             ]
            ],
            "type": "contour"
           }
          ],
          "contourcarpet": [
           {
            "colorbar": {
             "outlinewidth": 0,
             "ticks": ""
            },
            "type": "contourcarpet"
           }
          ],
          "heatmap": [
           {
            "colorbar": {
             "outlinewidth": 0,
             "ticks": ""
            },
            "colorscale": [
             [
              0,
              "#0d0887"
             ],
             [
              0.1111111111111111,
              "#46039f"
             ],
             [
              0.2222222222222222,
              "#7201a8"
             ],
             [
              0.3333333333333333,
              "#9c179e"
             ],
             [
              0.4444444444444444,
              "#bd3786"
             ],
             [
              0.5555555555555556,
              "#d8576b"
             ],
             [
              0.6666666666666666,
              "#ed7953"
             ],
             [
              0.7777777777777778,
              "#fb9f3a"
             ],
             [
              0.8888888888888888,
              "#fdca26"
             ],
             [
              1,
              "#f0f921"
             ]
            ],
            "type": "heatmap"
           }
          ],
          "histogram": [
           {
            "marker": {
             "pattern": {
              "fillmode": "overlay",
              "size": 10,
              "solidity": 0.2
             }
            },
            "type": "histogram"
           }
          ],
          "histogram2d": [
           {
            "colorbar": {
             "outlinewidth": 0,
             "ticks": ""
            },
            "colorscale": [
             [
              0,
              "#0d0887"
             ],
             [
              0.1111111111111111,
              "#46039f"
             ],
             [
              0.2222222222222222,
              "#7201a8"
             ],
             [
              0.3333333333333333,
              "#9c179e"
             ],
             [
              0.4444444444444444,
              "#bd3786"
             ],
             [
              0.5555555555555556,
              "#d8576b"
             ],
             [
              0.6666666666666666,
              "#ed7953"
             ],
             [
              0.7777777777777778,
              "#fb9f3a"
             ],
             [
              0.8888888888888888,
              "#fdca26"
             ],
             [
              1,
              "#f0f921"
             ]
            ],
            "type": "histogram2d"
           }
          ],
          "histogram2dcontour": [
           {
            "colorbar": {
             "outlinewidth": 0,
             "ticks": ""
            },
            "colorscale": [
             [
              0,
              "#0d0887"
             ],
             [
              0.1111111111111111,
              "#46039f"
             ],
             [
              0.2222222222222222,
              "#7201a8"
             ],
             [
              0.3333333333333333,
              "#9c179e"
             ],
             [
              0.4444444444444444,
              "#bd3786"
             ],
             [
              0.5555555555555556,
              "#d8576b"
             ],
             [
              0.6666666666666666,
              "#ed7953"
             ],
             [
              0.7777777777777778,
              "#fb9f3a"
             ],
             [
              0.8888888888888888,
              "#fdca26"
             ],
             [
              1,
              "#f0f921"
             ]
            ],
            "type": "histogram2dcontour"
           }
          ],
          "mesh3d": [
           {
            "colorbar": {
             "outlinewidth": 0,
             "ticks": ""
            },
            "type": "mesh3d"
           }
          ],
          "parcoords": [
           {
            "line": {
             "colorbar": {
              "outlinewidth": 0,
              "ticks": ""
             }
            },
            "type": "parcoords"
           }
          ],
          "pie": [
           {
            "automargin": true,
            "type": "pie"
           }
          ],
          "scatter": [
           {
            "fillpattern": {
             "fillmode": "overlay",
             "size": 10,
             "solidity": 0.2
            },
            "type": "scatter"
           }
          ],
          "scatter3d": [
           {
            "line": {
             "colorbar": {
              "outlinewidth": 0,
              "ticks": ""
             }
            },
            "marker": {
             "colorbar": {
              "outlinewidth": 0,
              "ticks": ""
             }
            },
            "type": "scatter3d"
           }
          ],
          "scattercarpet": [
           {
            "marker": {
             "colorbar": {
              "outlinewidth": 0,
              "ticks": ""
             }
            },
            "type": "scattercarpet"
           }
          ],
          "scattergeo": [
           {
            "marker": {
             "colorbar": {
              "outlinewidth": 0,
              "ticks": ""
             }
            },
            "type": "scattergeo"
           }
          ],
          "scattergl": [
           {
            "marker": {
             "colorbar": {
              "outlinewidth": 0,
              "ticks": ""
             }
            },
            "type": "scattergl"
           }
          ],
          "scattermap": [
           {
            "marker": {
             "colorbar": {
              "outlinewidth": 0,
              "ticks": ""
             }
            },
            "type": "scattermap"
           }
          ],
          "scattermapbox": [
           {
            "marker": {
             "colorbar": {
              "outlinewidth": 0,
              "ticks": ""
             }
            },
            "type": "scattermapbox"
           }
          ],
          "scatterpolar": [
           {
            "marker": {
             "colorbar": {
              "outlinewidth": 0,
              "ticks": ""
             }
            },
            "type": "scatterpolar"
           }
          ],
          "scatterpolargl": [
           {
            "marker": {
             "colorbar": {
              "outlinewidth": 0,
              "ticks": ""
             }
            },
            "type": "scatterpolargl"
           }
          ],
          "scatterternary": [
           {
            "marker": {
             "colorbar": {
              "outlinewidth": 0,
              "ticks": ""
             }
            },
            "type": "scatterternary"
           }
          ],
          "surface": [
           {
            "colorbar": {
             "outlinewidth": 0,
             "ticks": ""
            },
            "colorscale": [
             [
              0,
              "#0d0887"
             ],
             [
              0.1111111111111111,
              "#46039f"
             ],
             [
              0.2222222222222222,
              "#7201a8"
             ],
             [
              0.3333333333333333,
              "#9c179e"
             ],
             [
              0.4444444444444444,
              "#bd3786"
             ],
             [
              0.5555555555555556,
              "#d8576b"
             ],
             [
              0.6666666666666666,
              "#ed7953"
             ],
             [
              0.7777777777777778,
              "#fb9f3a"
             ],
             [
              0.8888888888888888,
              "#fdca26"
             ],
             [
              1,
              "#f0f921"
             ]
            ],
            "type": "surface"
           }
          ],
          "table": [
           {
            "cells": {
             "fill": {
              "color": "#EBF0F8"
             },
             "line": {
              "color": "white"
             }
            },
            "header": {
             "fill": {
              "color": "#C8D4E3"
             },
             "line": {
              "color": "white"
             }
            },
            "type": "table"
           }
          ]
         },
         "layout": {
          "annotationdefaults": {
           "arrowcolor": "#2a3f5f",
           "arrowhead": 0,
           "arrowwidth": 1
          },
          "autotypenumbers": "strict",
          "coloraxis": {
           "colorbar": {
            "outlinewidth": 0,
            "ticks": ""
           }
          },
          "colorscale": {
           "diverging": [
            [
             0,
             "#8e0152"
            ],
            [
             0.1,
             "#c51b7d"
            ],
            [
             0.2,
             "#de77ae"
            ],
            [
             0.3,
             "#f1b6da"
            ],
            [
             0.4,
             "#fde0ef"
            ],
            [
             0.5,
             "#f7f7f7"
            ],
            [
             0.6,
             "#e6f5d0"
            ],
            [
             0.7,
             "#b8e186"
            ],
            [
             0.8,
             "#7fbc41"
            ],
            [
             0.9,
             "#4d9221"
            ],
            [
             1,
             "#276419"
            ]
           ],
           "sequential": [
            [
             0,
             "#0d0887"
            ],
            [
             0.1111111111111111,
             "#46039f"
            ],
            [
             0.2222222222222222,
             "#7201a8"
            ],
            [
             0.3333333333333333,
             "#9c179e"
            ],
            [
             0.4444444444444444,
             "#bd3786"
            ],
            [
             0.5555555555555556,
             "#d8576b"
            ],
            [
             0.6666666666666666,
             "#ed7953"
            ],
            [
             0.7777777777777778,
             "#fb9f3a"
            ],
            [
             0.8888888888888888,
             "#fdca26"
            ],
            [
             1,
             "#f0f921"
            ]
           ],
           "sequentialminus": [
            [
             0,
             "#0d0887"
            ],
            [
             0.1111111111111111,
             "#46039f"
            ],
            [
             0.2222222222222222,
             "#7201a8"
            ],
            [
             0.3333333333333333,
             "#9c179e"
            ],
            [
             0.4444444444444444,
             "#bd3786"
            ],
            [
             0.5555555555555556,
             "#d8576b"
            ],
            [
             0.6666666666666666,
             "#ed7953"
            ],
            [
             0.7777777777777778,
             "#fb9f3a"
            ],
            [
             0.8888888888888888,
             "#fdca26"
            ],
            [
             1,
             "#f0f921"
            ]
           ]
          },
          "colorway": [
           "#636efa",
           "#EF553B",
           "#00cc96",
           "#ab63fa",
           "#FFA15A",
           "#19d3f3",
           "#FF6692",
           "#B6E880",
           "#FF97FF",
           "#FECB52"
          ],
          "font": {
           "color": "#2a3f5f"
          },
          "geo": {
           "bgcolor": "white",
           "lakecolor": "white",
           "landcolor": "#E5ECF6",
           "showlakes": true,
           "showland": true,
           "subunitcolor": "white"
          },
          "hoverlabel": {
           "align": "left"
          },
          "hovermode": "closest",
          "mapbox": {
           "style": "light"
          },
          "paper_bgcolor": "white",
          "plot_bgcolor": "#E5ECF6",
          "polar": {
           "angularaxis": {
            "gridcolor": "white",
            "linecolor": "white",
            "ticks": ""
           },
           "bgcolor": "#E5ECF6",
           "radialaxis": {
            "gridcolor": "white",
            "linecolor": "white",
            "ticks": ""
           }
          },
          "scene": {
           "xaxis": {
            "backgroundcolor": "#E5ECF6",
            "gridcolor": "white",
            "gridwidth": 2,
            "linecolor": "white",
            "showbackground": true,
            "ticks": "",
            "zerolinecolor": "white"
           },
           "yaxis": {
            "backgroundcolor": "#E5ECF6",
            "gridcolor": "white",
            "gridwidth": 2,
            "linecolor": "white",
            "showbackground": true,
            "ticks": "",
            "zerolinecolor": "white"
           },
           "zaxis": {
            "backgroundcolor": "#E5ECF6",
            "gridcolor": "white",
            "gridwidth": 2,
            "linecolor": "white",
            "showbackground": true,
            "ticks": "",
            "zerolinecolor": "white"
           }
          },
          "shapedefaults": {
           "line": {
            "color": "#2a3f5f"
           }
          },
          "ternary": {
           "aaxis": {
            "gridcolor": "white",
            "linecolor": "white",
            "ticks": ""
           },
           "baxis": {
            "gridcolor": "white",
            "linecolor": "white",
            "ticks": ""
           },
           "bgcolor": "#E5ECF6",
           "caxis": {
            "gridcolor": "white",
            "linecolor": "white",
            "ticks": ""
           }
          },
          "title": {
           "x": 0.05
          },
          "xaxis": {
           "automargin": true,
           "gridcolor": "white",
           "linecolor": "white",
           "ticks": "",
           "title": {
            "standoff": 15
           },
           "zerolinecolor": "white",
           "zerolinewidth": 2
          },
          "yaxis": {
           "automargin": true,
           "gridcolor": "white",
           "linecolor": "white",
           "ticks": "",
           "title": {
            "standoff": 15
           },
           "zerolinecolor": "white",
           "zerolinewidth": 2
          }
         }
        },
        "width": 800,
        "xaxis": {
         "anchor": "y",
         "domain": [
          0,
          0.45
         ]
        },
        "xaxis2": {
         "anchor": "y2",
         "domain": [
          0.55,
          1
         ],
         "dtick": 1
        },
        "yaxis": {
         "anchor": "x",
         "autorange": "reversed",
         "domain": [
          0,
          1
         ]
        },
        "yaxis2": {
         "anchor": "x2",
         "domain": [
          0,
          1
         ]
        }
       }
      }
     },
     "metadata": {},
     "output_type": "display_data"
    }
   ],
   "source": [
    "# Test out the model on a batch of images from the test set (includes the previously unseen classes, 5-9)\n",
    "with torch.no_grad():\n",
    "    for data, target in test_clean_loader:\n",
    "        data, target = data.to(DEVICE), target.to(DEVICE)\n",
    "        pred = overfittedCNN_model(data)\n",
    "        break\n",
    "\n",
    "# pred_idx = 6\n",
    "pred_idx = 8\n",
    "# pred_idx = 9\n",
    "fig = make_subplots(rows=1, cols=2)\n",
    "\n",
    "fig1 = px.imshow(data[pred_idx][0].cpu())\n",
    "fig2 = px.bar(torch.exp(pred[pred_idx]).cpu())\n",
    "\n",
    "fig.add_trace(fig1[\"data\"][0], row=1, col=1)\n",
    "fig.add_trace(fig2[\"data\"][0], row=1, col=2)\n",
    "\n",
    "fig.update_coloraxes(colorscale=\"Plasma\")\n",
    "fig.update_xaxes(dtick=1, row=1, col=2)\n",
    "fig.update_yaxes(autorange=\"reversed\", row=1, col=1)\n",
    "fig.update_layout(width=800, height=400)"
   ]
  },
  {
   "cell_type": "markdown",
   "metadata": {},
   "source": [
    "### Example of transfer learning\n",
    "\n",
    "#### Freeze the model and add a head to classify odd vs even numbers"
   ]
  },
  {
   "cell_type": "code",
   "execution_count": 12,
   "metadata": {},
   "outputs": [
    {
     "name": "stdout",
     "output_type": "stream",
     "text": [
      "Train Epoch: 1 (100%)\tLoss: 0.002440\n",
      "Train Epoch: 2 (100%)\tLoss: 0.001211\n",
      "Train Epoch: 3 (100%)\tLoss: 0.003874\n",
      "Train Epoch: 4 (100%)\tLoss: 0.000483\n",
      "Train Epoch: 5 (100%)\tLoss: 0.001338\n",
      "Train Epoch: 6 (100%)\tLoss: 0.000098\n",
      "Train Epoch: 7 (100%)\tLoss: 0.000033\n",
      "Train Epoch: 8 (100%)\tLoss: 0.000075\n",
      "Train Epoch: 9 (100%)\tLoss: 0.001063\n",
      "Train Epoch: 10 (100%)\tLoss: 0.000168\n"
     ]
    }
   ],
   "source": [
    "# Set up a modified CNN to be a binary classifier, using the conv2d layers from a pretrained 0-9 classifier\n",
    "class BinaryCNN(nn.Module):\n",
    "    def __init__(self, pretrained_model: nn.Module) -> None:\n",
    "        super().__init__()\n",
    "        self.conv1 = pretrained_model.conv1  # input channels, output channels, channel size, stride\n",
    "        self.conv2 = pretrained_model.conv2\n",
    "        self.dropout = nn.Dropout(0.5)  # dropout probability for fc layers\n",
    "        self.fc1 = nn.Linear(9216, 128)  # input size, output size\n",
    "        self.fc2 = nn.Linear(128, 2)\n",
    "\n",
    "        # Freeze the parameters copied from pretrained_model\n",
    "        for param in self.conv1.parameters():\n",
    "            param.requires_grad = False\n",
    "        for param in self.conv2.parameters():\n",
    "            param.requires_grad = False\n",
    "\n",
    "    def forward(self, x):\n",
    "        x = self.conv1(x)\n",
    "        x = F.relu(x)\n",
    "        x = self.conv2(x)\n",
    "        x = F.relu(x)\n",
    "        x = F.max_pool2d(x, 2)\n",
    "        x = torch.flatten(x, 1)\n",
    "        x = self.fc1(x)\n",
    "        x = F.relu(x)\n",
    "        x = self.dropout(x)\n",
    "        x = self.fc2(x)\n",
    "        output = F.log_softmax(x, dim=1)\n",
    "        return output\n",
    "\n",
    "\n",
    "# Set training data targets to be 0 if even, \n",
    "binary_train = []\n",
    "for img, target in train_dataset:\n",
    "    binary_train.append((transform(img), target % 2))\n",
    "\n",
    "## Load data, passing it through our cleaning pipeline\n",
    "binary_train_loader = torch.utils.data.DataLoader(binary_train, batch_size=batch_size)\n",
    "\n",
    "binaryCNN_model = BinaryCNN(pretrained_model=simpleCNN_model).to(device=DEVICE)\n",
    "optimizer = torch.optim.Adadelta(binaryCNN_model.parameters(), lr=learning_rate)\n",
    "lr_scheduler = torch.optim.lr_scheduler.StepLR(optimizer, step_size=lr_step_size, gamma=lr_gamma)\n",
    "\n",
    "# Train the model\n",
    "train(\n",
    "    train_data=binary_train_loader,\n",
    "    model=binaryCNN_model,\n",
    "    optimizer=optimizer,\n",
    "    lr_scheduler=lr_scheduler,\n",
    "    epochs=n_epochs,\n",
    ")\n",
    "\n",
    "# Save the model\n",
    "torch.save(binaryCNN_model.state_dict(), \"binaryCNN_model.pt\")"
   ]
  },
  {
   "cell_type": "code",
   "execution_count": 13,
   "metadata": {},
   "outputs": [
    {
     "data": {
      "application/vnd.plotly.v1+json": {
       "config": {
        "plotlyServerURL": "https://plot.ly"
       },
       "data": [
        {
         "coloraxis": "coloraxis",
         "hovertemplate": "x: %{x}<br>y: %{y}<br>color: %{z}<extra></extra>",
         "name": "0",
         "type": "heatmap",
         "xaxis": "x",
         "yaxis": "y",
         "z": {
          "bdata": "cTLZvnEy2b5xMtm+cTLZvnEy2b5xMtm+cTLZvnEy2b5xMtm+cTLZvnEy2b5xMtm+cTLZvnEy2b5xMtm+cTLZvnEy2b5xMtm+cTLZvnEy2b5xMtm+cTLZvnEy2b5xMtm+cTLZvnEy2b5xMtm+cTLZvnEy2b5xMtm+cTLZvnEy2b5xMtm+cTLZvnEy2b5xMtm+cTLZvnEy2b5xMtm+cTLZvnEy2b5xMtm+cTLZvnEy2b5xMtm+cTLZvnEy2b5xMtm+cTLZvnEy2b5xMtm+cTLZvnEy2b5xMtm+cTLZvnEy2b5xMtm+cTLZvnEy2b5xMtm+cTLZvnEy2b5xMtm+cTLZvnEy2b5xMtm+cTLZvnEy2b5xMtm+cTLZvnEy2b5xMtm+cTLZvnEy2b5xMtm+cTLZvnEy2b5xMtm+cTLZvnEy2b5xMtm+cTLZvnEy2b5xMtm+cTLZvnEy2b5xMtm+cTLZvnEy2b5xMtm+cTLZvnEy2b5xMtm+cTLZvnEy2b5xMtm+cTLZvnEy2b5xMtm+cTLZvnEy2b5xMtm+cTLZvnEy2b5xMtm+cTLZvnEy2b5xMtm+cTLZvnEy2b5xMtm+cTLZvnEy2b5xMtm+cTLZvnEy2b5xMtm+cTLZvnEy2b5xMtm+cTLZvnEy2b5xMtm+cTLZvnEy2b5xMtm+cTLZvnEy2b5xMtm+cTLZvnEy2b5xMtm+cTLZvnEy2b5xMtm+cTLZvnEy2b5xMtm+cTLZvnEy2b5xMtm+cTLZvnEy2b5xMtm+cTLZvnEy2b5xMtm+cTLZvnEy2b5xMtm+cTLZvnEy2b5xMtm+cTLZvnEy2b5xMtm+cTLZvnEy2b5xMtm+cTLZvnEy2b5xMtm+cTLZvnEy2b5xMtm+cTLZvnEy2b5xMtm+cTLZvnEy2b5xMtm+cTLZvnEy2b5xMtm+cTLZvnEy2b5xMtm+cTLZvnEy2b5xMtm+cTLZvnEy2b5xMtm+cTLZvnEy2b5xMtm+cTLZvnEy2b5xMtm+cTLZvnEy2b5xMtm+cTLZvnEy2b5xMtm+cTLZvnEy2b5xMtm+cTLZvnEy2b5xMtm+cTLZvnEy2b5xMtm+cTLZvnEy2b5xMtm+cTLZvnEy2b46Rws9NL+TPi/nqD8dlghACfUGQL/zSD+/aT89cTLZvnEy2b5xMtm+cTLZvnEy2b5xMtm+cTLZvnEy2b5xMtm+cTLZvnEy2b5xMtm+cTLZvnEy2b5xMtm+cTLZvnEy2b5xMtm+cTLZvnofGD5eV8E/6XcjQLPCM0CzwjNAs8IzQLPCM0CzwjNAi4AwQIG7EEBKtr8/jRiyvnEy2b5xMtm+cTLZvnEy2b5xMtm+cTLZvnEy2b5xMtm+cTLZvnEy2b5xMtm+cTLZvnEy2b5xMtm+GyglPnL4wj8mWyhAs8IzQLPCM0AjxB1AeCbYP99ioj8VUTFAk8UHQLPCM0A3ZR9ADyMcQClHZj9xMtm+cTLZvnEy2b5xMtm+cTLZvnEy2b5xMtm+cTLZvnEy2b5xMtm+cTLZvnEy2b5xMtm+cvjCP+l3I0CzwjNAs8IzQB9d+j+UDLE/7A+lvnEy2b5xMtm+uHAAQKforT1+JAZAYj4tQPqBGkAp8jJApq8gvnEy2b5xMtm+cTLZvnEy2b5xMtm+cTLZvnEy2b5xMtm+cTLZvnEy2b7sD6W+UPuWPynyMkCzwjNAX6ciQHo9mj/6gpG+cTLZvnEy2b5xMtm+cTLZvvfqD0BvHPw9nvvuPrPCM0CzwjNAs8IzQKavIL5xMtm+cTLZvnEy2b5xMtm+cTLZvnEy2b5xMtm+cTLZvnEy2b5xMtm+QAT8PsTMKkCzwjNArZQeQJO2hj5xMtm+cTLZvnEy2b5xMtm+f6XFvrSFiryGsIY/DyMcQDr8KUCzwjNAPZM0QCei0T/enLi+cTLZvnEy2b5xMtm+cTLZvnEy2b5xMtm+cTLZvnEy2b5xMtm+cTLZvpnIBz8mWyhAs8IzQPqBGkDzkXY/Q4iqP2qz6z9qs+s/tAndP/fqD0AVUTFASwYhQLPCM0CzwjNAs8IzQNXWIUBEjHM9cTLZvnEy2b5xMtm+cTLZvnEy2b5xMtm+cTLZvnEy2b5xMtm+cTLZvnEy2b6bi56+LdDmP06dK0Ap8jJAPZM0QLPCM0CzwjNAFVExQLPCM0CzwjNAs8IzQLPCM0CzwjNAnyEyQN1L4D9CGtm9cTLZvnEy2b5xMtm+cTLZvnEy2b5xMtm+cTLZvnEy2b5xMtm+cTLZvnEy2b5xMtm+cTLZvnEy2b7M2mG+G0anP+CyA0BBceg/5ZC3P3L4wj+TxQdAs8IzQLPCM0CzwjNAs8IzQDUVvj/M2mG+cTLZvnEy2b5xMtm+cTLZvnEy2b5xMtm+cTLZvnEy2b5xMtm+cTLZvnEy2b5xMtm+cTLZvnEy2b5xMtm+cTLZvnEy2b5xMtm+cTLZvnEy2b5xMtm+J6LRP7PCM0CzwjNAsCspQF/8VT9/pcW+cTLZvnEy2b5xMtm+cTLZvnEy2b5xMtm+cTLZvnEy2b5xMtm+cTLZvnEy2b5xMtm+cTLZvnEy2b5xMtm+cTLZvnEy2b5xMtm+cTLZvnEy2b5xMtm+r/KJP4uAMECzwjNAs8IzQPWoOD9xMtm+cTLZvnEy2b5xMtm+cTLZvnEy2b5xMtm+cTLZvnEy2b5xMtm+cTLZvnEy2b5xMtm+cTLZvnEy2b5xMtm+cTLZvnEy2b5xMtm+cTLZvnEy2b5xMtm+iD5ZPzr8KUCzwjNAs8IzQIG7EEA9lKu+cTLZvnEy2b5xMtm+cTLZvnEy2b5xMtm+cTLZvnEy2b5xMtm+cTLZvnEy2b5xMtm+cTLZvnEy2b5xMtm+cTLZvnEy2b5xMtm+cTLZvnEy2b5xMtm+k7aGPrArKUCzwjNAs8IzQDr8KUAmTKc+cTLZvnEy2b5xMtm+cTLZvnEy2b5xMtm+cTLZvnEy2b5xMtm+cTLZvnEy2b5xMtm+cTLZvnEy2b5xMtm+cTLZvnEy2b5xMtm+cTLZvnEy2b5xMtm+cTLZvrYgnz+zwjNAs8IzQE6dK0C64cc+cTLZvnEy2b5xMtm+cTLZvnEy2b5xMtm+cTLZvnEy2b5xMtm+cTLZvnEy2b5xMtm+cTLZvnEy2b5xMtm+cTLZvnEy2b5xMtm+cTLZvnEy2b5xMtm+cTLZvll6hL4AsC9As8IzQLPCM0BeV8E/cTLZvnEy2b5xMtm+cTLZvnEy2b5xMtm+cTLZvnEy2b5xMtm+cTLZvnEy2b5xMtm+cTLZvnEy2b5xMtm+cTLZvnEy2b5xMtm+cTLZvnEy2b5xMtm+cTLZvqn+ir6tlB5As8IzQLPCM0DjSQ5A7A+lvnEy2b5xMtm+cTLZvnEy2b5xMtm+cTLZvnEy2b5xMtm+cTLZvnEy2b5xMtm+cTLZvnEy2b5xMtm+cTLZvnEy2b5xMtm+cTLZvnEy2b5xMtm+cTLZvnEy2b4SjxE/PZM0QLPCM0CzwjNAXOrUPnEy2b5xMtm+cTLZvnEy2b5xMtm+cTLZvnEy2b5xMtm+cTLZvnEy2b5xMtm+cTLZvnEy2b5xMtm+cTLZvnEy2b5xMtm+cTLZvnEy2b5xMtm+cTLZvnEy2b5xMtm+bRoPQLPCM0CzwjNAL+eoP3Ey2b5xMtm+cTLZvnEy2b5xMtm+cTLZvnEy2b5xMtm+cTLZvnEy2b5xMtm+cTLZvnEy2b5xMtm+cTLZvnEy2b5xMtm+cTLZvnEy2b5xMtm+cTLZvnEy2b5xMtm+cTLZviPEHUA9kzRAX6ciQEIa2b1xMtm+cTLZvnEy2b5xMtm+cTLZvnEy2b5xMtm+cTLZvnEy2b5xMtm+cTLZvnEy2b5xMtm+cTLZvnEy2b5xMtm+cTLZvnEy2b5xMtm+cTLZvnEy2b5xMtm+cTLZvnEy2b5KzYE/PZM0QMpPcz9xMtm+cTLZvnEy2b5xMtm+cTLZvnEy2b5xMtm+cTLZvnEy2b5xMtm+cTLZvnEy2b5xMtm+cTLZvnEy2b5xMtm+cTLZvnEy2b5xMtm+cTLZvnEy2b5xMtm+cTLZvnEy2b5xMtm+cTLZvnEy2b5xMtm+cTLZvnEy2b5xMtm+cTLZvnEy2b5xMtm+cTLZvnEy2b5xMtm+cTLZvnEy2b5xMtm+cTLZvnEy2b5xMtm+cTLZvg==",
          "dtype": "f4",
          "shape": "28, 28"
         }
        },
        {
         "hovertemplate": "variable=0<br>index=%{x}<br>value=%{y}<extra></extra>",
         "legendgroup": "0",
         "marker": {
          "color": "#636efa",
          "pattern": {
           "shape": ""
          }
         },
         "name": "0",
         "orientation": "v",
         "showlegend": true,
         "textposition": "auto",
         "type": "bar",
         "x": {
          "bdata": "AAE=",
          "dtype": "i1"
         },
         "xaxis": "x2",
         "y": {
          "bdata": "uDKZODb7fz8=",
          "dtype": "f4"
         },
         "yaxis": "y2"
        }
       ],
       "layout": {
        "coloraxis": {
         "colorscale": [
          [
           0,
           "#0d0887"
          ],
          [
           0.1111111111111111,
           "#46039f"
          ],
          [
           0.2222222222222222,
           "#7201a8"
          ],
          [
           0.3333333333333333,
           "#9c179e"
          ],
          [
           0.4444444444444444,
           "#bd3786"
          ],
          [
           0.5555555555555556,
           "#d8576b"
          ],
          [
           0.6666666666666666,
           "#ed7953"
          ],
          [
           0.7777777777777778,
           "#fb9f3a"
          ],
          [
           0.8888888888888888,
           "#fdca26"
          ],
          [
           1,
           "#f0f921"
          ]
         ]
        },
        "height": 400,
        "template": {
         "data": {
          "bar": [
           {
            "error_x": {
             "color": "#2a3f5f"
            },
            "error_y": {
             "color": "#2a3f5f"
            },
            "marker": {
             "line": {
              "color": "#E5ECF6",
              "width": 0.5
             },
             "pattern": {
              "fillmode": "overlay",
              "size": 10,
              "solidity": 0.2
             }
            },
            "type": "bar"
           }
          ],
          "barpolar": [
           {
            "marker": {
             "line": {
              "color": "#E5ECF6",
              "width": 0.5
             },
             "pattern": {
              "fillmode": "overlay",
              "size": 10,
              "solidity": 0.2
             }
            },
            "type": "barpolar"
           }
          ],
          "carpet": [
           {
            "aaxis": {
             "endlinecolor": "#2a3f5f",
             "gridcolor": "white",
             "linecolor": "white",
             "minorgridcolor": "white",
             "startlinecolor": "#2a3f5f"
            },
            "baxis": {
             "endlinecolor": "#2a3f5f",
             "gridcolor": "white",
             "linecolor": "white",
             "minorgridcolor": "white",
             "startlinecolor": "#2a3f5f"
            },
            "type": "carpet"
           }
          ],
          "choropleth": [
           {
            "colorbar": {
             "outlinewidth": 0,
             "ticks": ""
            },
            "type": "choropleth"
           }
          ],
          "contour": [
           {
            "colorbar": {
             "outlinewidth": 0,
             "ticks": ""
            },
            "colorscale": [
             [
              0,
              "#0d0887"
             ],
             [
              0.1111111111111111,
              "#46039f"
             ],
             [
              0.2222222222222222,
              "#7201a8"
             ],
             [
              0.3333333333333333,
              "#9c179e"
             ],
             [
              0.4444444444444444,
              "#bd3786"
             ],
             [
              0.5555555555555556,
              "#d8576b"
             ],
             [
              0.6666666666666666,
              "#ed7953"
             ],
             [
              0.7777777777777778,
              "#fb9f3a"
             ],
             [
              0.8888888888888888,
              "#fdca26"
             ],
             [
              1,
              "#f0f921"
             ]
            ],
            "type": "contour"
           }
          ],
          "contourcarpet": [
           {
            "colorbar": {
             "outlinewidth": 0,
             "ticks": ""
            },
            "type": "contourcarpet"
           }
          ],
          "heatmap": [
           {
            "colorbar": {
             "outlinewidth": 0,
             "ticks": ""
            },
            "colorscale": [
             [
              0,
              "#0d0887"
             ],
             [
              0.1111111111111111,
              "#46039f"
             ],
             [
              0.2222222222222222,
              "#7201a8"
             ],
             [
              0.3333333333333333,
              "#9c179e"
             ],
             [
              0.4444444444444444,
              "#bd3786"
             ],
             [
              0.5555555555555556,
              "#d8576b"
             ],
             [
              0.6666666666666666,
              "#ed7953"
             ],
             [
              0.7777777777777778,
              "#fb9f3a"
             ],
             [
              0.8888888888888888,
              "#fdca26"
             ],
             [
              1,
              "#f0f921"
             ]
            ],
            "type": "heatmap"
           }
          ],
          "histogram": [
           {
            "marker": {
             "pattern": {
              "fillmode": "overlay",
              "size": 10,
              "solidity": 0.2
             }
            },
            "type": "histogram"
           }
          ],
          "histogram2d": [
           {
            "colorbar": {
             "outlinewidth": 0,
             "ticks": ""
            },
            "colorscale": [
             [
              0,
              "#0d0887"
             ],
             [
              0.1111111111111111,
              "#46039f"
             ],
             [
              0.2222222222222222,
              "#7201a8"
             ],
             [
              0.3333333333333333,
              "#9c179e"
             ],
             [
              0.4444444444444444,
              "#bd3786"
             ],
             [
              0.5555555555555556,
              "#d8576b"
             ],
             [
              0.6666666666666666,
              "#ed7953"
             ],
             [
              0.7777777777777778,
              "#fb9f3a"
             ],
             [
              0.8888888888888888,
              "#fdca26"
             ],
             [
              1,
              "#f0f921"
             ]
            ],
            "type": "histogram2d"
           }
          ],
          "histogram2dcontour": [
           {
            "colorbar": {
             "outlinewidth": 0,
             "ticks": ""
            },
            "colorscale": [
             [
              0,
              "#0d0887"
             ],
             [
              0.1111111111111111,
              "#46039f"
             ],
             [
              0.2222222222222222,
              "#7201a8"
             ],
             [
              0.3333333333333333,
              "#9c179e"
             ],
             [
              0.4444444444444444,
              "#bd3786"
             ],
             [
              0.5555555555555556,
              "#d8576b"
             ],
             [
              0.6666666666666666,
              "#ed7953"
             ],
             [
              0.7777777777777778,
              "#fb9f3a"
             ],
             [
              0.8888888888888888,
              "#fdca26"
             ],
             [
              1,
              "#f0f921"
             ]
            ],
            "type": "histogram2dcontour"
           }
          ],
          "mesh3d": [
           {
            "colorbar": {
             "outlinewidth": 0,
             "ticks": ""
            },
            "type": "mesh3d"
           }
          ],
          "parcoords": [
           {
            "line": {
             "colorbar": {
              "outlinewidth": 0,
              "ticks": ""
             }
            },
            "type": "parcoords"
           }
          ],
          "pie": [
           {
            "automargin": true,
            "type": "pie"
           }
          ],
          "scatter": [
           {
            "fillpattern": {
             "fillmode": "overlay",
             "size": 10,
             "solidity": 0.2
            },
            "type": "scatter"
           }
          ],
          "scatter3d": [
           {
            "line": {
             "colorbar": {
              "outlinewidth": 0,
              "ticks": ""
             }
            },
            "marker": {
             "colorbar": {
              "outlinewidth": 0,
              "ticks": ""
             }
            },
            "type": "scatter3d"
           }
          ],
          "scattercarpet": [
           {
            "marker": {
             "colorbar": {
              "outlinewidth": 0,
              "ticks": ""
             }
            },
            "type": "scattercarpet"
           }
          ],
          "scattergeo": [
           {
            "marker": {
             "colorbar": {
              "outlinewidth": 0,
              "ticks": ""
             }
            },
            "type": "scattergeo"
           }
          ],
          "scattergl": [
           {
            "marker": {
             "colorbar": {
              "outlinewidth": 0,
              "ticks": ""
             }
            },
            "type": "scattergl"
           }
          ],
          "scattermap": [
           {
            "marker": {
             "colorbar": {
              "outlinewidth": 0,
              "ticks": ""
             }
            },
            "type": "scattermap"
           }
          ],
          "scattermapbox": [
           {
            "marker": {
             "colorbar": {
              "outlinewidth": 0,
              "ticks": ""
             }
            },
            "type": "scattermapbox"
           }
          ],
          "scatterpolar": [
           {
            "marker": {
             "colorbar": {
              "outlinewidth": 0,
              "ticks": ""
             }
            },
            "type": "scatterpolar"
           }
          ],
          "scatterpolargl": [
           {
            "marker": {
             "colorbar": {
              "outlinewidth": 0,
              "ticks": ""
             }
            },
            "type": "scatterpolargl"
           }
          ],
          "scatterternary": [
           {
            "marker": {
             "colorbar": {
              "outlinewidth": 0,
              "ticks": ""
             }
            },
            "type": "scatterternary"
           }
          ],
          "surface": [
           {
            "colorbar": {
             "outlinewidth": 0,
             "ticks": ""
            },
            "colorscale": [
             [
              0,
              "#0d0887"
             ],
             [
              0.1111111111111111,
              "#46039f"
             ],
             [
              0.2222222222222222,
              "#7201a8"
             ],
             [
              0.3333333333333333,
              "#9c179e"
             ],
             [
              0.4444444444444444,
              "#bd3786"
             ],
             [
              0.5555555555555556,
              "#d8576b"
             ],
             [
              0.6666666666666666,
              "#ed7953"
             ],
             [
              0.7777777777777778,
              "#fb9f3a"
             ],
             [
              0.8888888888888888,
              "#fdca26"
             ],
             [
              1,
              "#f0f921"
             ]
            ],
            "type": "surface"
           }
          ],
          "table": [
           {
            "cells": {
             "fill": {
              "color": "#EBF0F8"
             },
             "line": {
              "color": "white"
             }
            },
            "header": {
             "fill": {
              "color": "#C8D4E3"
             },
             "line": {
              "color": "white"
             }
            },
            "type": "table"
           }
          ]
         },
         "layout": {
          "annotationdefaults": {
           "arrowcolor": "#2a3f5f",
           "arrowhead": 0,
           "arrowwidth": 1
          },
          "autotypenumbers": "strict",
          "coloraxis": {
           "colorbar": {
            "outlinewidth": 0,
            "ticks": ""
           }
          },
          "colorscale": {
           "diverging": [
            [
             0,
             "#8e0152"
            ],
            [
             0.1,
             "#c51b7d"
            ],
            [
             0.2,
             "#de77ae"
            ],
            [
             0.3,
             "#f1b6da"
            ],
            [
             0.4,
             "#fde0ef"
            ],
            [
             0.5,
             "#f7f7f7"
            ],
            [
             0.6,
             "#e6f5d0"
            ],
            [
             0.7,
             "#b8e186"
            ],
            [
             0.8,
             "#7fbc41"
            ],
            [
             0.9,
             "#4d9221"
            ],
            [
             1,
             "#276419"
            ]
           ],
           "sequential": [
            [
             0,
             "#0d0887"
            ],
            [
             0.1111111111111111,
             "#46039f"
            ],
            [
             0.2222222222222222,
             "#7201a8"
            ],
            [
             0.3333333333333333,
             "#9c179e"
            ],
            [
             0.4444444444444444,
             "#bd3786"
            ],
            [
             0.5555555555555556,
             "#d8576b"
            ],
            [
             0.6666666666666666,
             "#ed7953"
            ],
            [
             0.7777777777777778,
             "#fb9f3a"
            ],
            [
             0.8888888888888888,
             "#fdca26"
            ],
            [
             1,
             "#f0f921"
            ]
           ],
           "sequentialminus": [
            [
             0,
             "#0d0887"
            ],
            [
             0.1111111111111111,
             "#46039f"
            ],
            [
             0.2222222222222222,
             "#7201a8"
            ],
            [
             0.3333333333333333,
             "#9c179e"
            ],
            [
             0.4444444444444444,
             "#bd3786"
            ],
            [
             0.5555555555555556,
             "#d8576b"
            ],
            [
             0.6666666666666666,
             "#ed7953"
            ],
            [
             0.7777777777777778,
             "#fb9f3a"
            ],
            [
             0.8888888888888888,
             "#fdca26"
            ],
            [
             1,
             "#f0f921"
            ]
           ]
          },
          "colorway": [
           "#636efa",
           "#EF553B",
           "#00cc96",
           "#ab63fa",
           "#FFA15A",
           "#19d3f3",
           "#FF6692",
           "#B6E880",
           "#FF97FF",
           "#FECB52"
          ],
          "font": {
           "color": "#2a3f5f"
          },
          "geo": {
           "bgcolor": "white",
           "lakecolor": "white",
           "landcolor": "#E5ECF6",
           "showlakes": true,
           "showland": true,
           "subunitcolor": "white"
          },
          "hoverlabel": {
           "align": "left"
          },
          "hovermode": "closest",
          "mapbox": {
           "style": "light"
          },
          "paper_bgcolor": "white",
          "plot_bgcolor": "#E5ECF6",
          "polar": {
           "angularaxis": {
            "gridcolor": "white",
            "linecolor": "white",
            "ticks": ""
           },
           "bgcolor": "#E5ECF6",
           "radialaxis": {
            "gridcolor": "white",
            "linecolor": "white",
            "ticks": ""
           }
          },
          "scene": {
           "xaxis": {
            "backgroundcolor": "#E5ECF6",
            "gridcolor": "white",
            "gridwidth": 2,
            "linecolor": "white",
            "showbackground": true,
            "ticks": "",
            "zerolinecolor": "white"
           },
           "yaxis": {
            "backgroundcolor": "#E5ECF6",
            "gridcolor": "white",
            "gridwidth": 2,
            "linecolor": "white",
            "showbackground": true,
            "ticks": "",
            "zerolinecolor": "white"
           },
           "zaxis": {
            "backgroundcolor": "#E5ECF6",
            "gridcolor": "white",
            "gridwidth": 2,
            "linecolor": "white",
            "showbackground": true,
            "ticks": "",
            "zerolinecolor": "white"
           }
          },
          "shapedefaults": {
           "line": {
            "color": "#2a3f5f"
           }
          },
          "ternary": {
           "aaxis": {
            "gridcolor": "white",
            "linecolor": "white",
            "ticks": ""
           },
           "baxis": {
            "gridcolor": "white",
            "linecolor": "white",
            "ticks": ""
           },
           "bgcolor": "#E5ECF6",
           "caxis": {
            "gridcolor": "white",
            "linecolor": "white",
            "ticks": ""
           }
          },
          "title": {
           "x": 0.05
          },
          "xaxis": {
           "automargin": true,
           "gridcolor": "white",
           "linecolor": "white",
           "ticks": "",
           "title": {
            "standoff": 15
           },
           "zerolinecolor": "white",
           "zerolinewidth": 2
          },
          "yaxis": {
           "automargin": true,
           "gridcolor": "white",
           "linecolor": "white",
           "ticks": "",
           "title": {
            "standoff": 15
           },
           "zerolinecolor": "white",
           "zerolinewidth": 2
          }
         }
        },
        "width": 800,
        "xaxis": {
         "anchor": "y",
         "domain": [
          0,
          0.45
         ]
        },
        "xaxis2": {
         "anchor": "y2",
         "domain": [
          0.55,
          1
         ],
         "dtick": 1
        },
        "yaxis": {
         "anchor": "x",
         "autorange": "reversed",
         "domain": [
          0,
          1
         ]
        },
        "yaxis2": {
         "anchor": "x2",
         "domain": [
          0,
          1
         ]
        }
       }
      }
     },
     "metadata": {},
     "output_type": "display_data"
    }
   ],
   "source": [
    "# Test out the model on a batch of images from the test set\n",
    "with torch.no_grad():\n",
    "    for data, target in test_clean_loader:\n",
    "        data, target = data.to(DEVICE), target.to(DEVICE)\n",
    "        pred = binaryCNN_model(data)\n",
    "        break\n",
    "\n",
    "# pred_idx = 6\n",
    "# pred_idx = 8\n",
    "pred_idx = 9\n",
    "fig = make_subplots(rows=1, cols=2)\n",
    "\n",
    "fig1 = px.imshow(data[pred_idx][0].cpu())\n",
    "fig2 = px.bar(torch.exp(pred[pred_idx]).cpu())\n",
    "\n",
    "fig.add_trace(fig1[\"data\"][0], row=1, col=1)\n",
    "fig.add_trace(fig2[\"data\"][0], row=1, col=2)\n",
    "\n",
    "fig.update_coloraxes(colorscale=\"Plasma\")\n",
    "fig.update_xaxes(dtick=1, row=1, col=2)\n",
    "fig.update_yaxes(autorange=\"reversed\", row=1, col=1)\n",
    "fig.update_layout(width=800, height=400)"
   ]
  },
  {
   "cell_type": "markdown",
   "metadata": {},
   "source": [
    "### Example of model interpretability\n",
    "\n",
    "Display the first conv2d layer from our initial model (simpleCNN)"
   ]
  },
  {
   "cell_type": "code",
   "execution_count": 14,
   "metadata": {},
   "outputs": [
    {
     "data": {
      "application/vnd.plotly.v1+json": {
       "config": {
        "plotlyServerURL": "https://plot.ly"
       },
       "data": [
        {
         "coloraxis": "coloraxis",
         "hovertemplate": "x: %{x}<br>y: %{y}<br>color: %{z}<extra></extra>",
         "name": "0",
         "type": "heatmap",
         "xaxis": "x29",
         "yaxis": "y29",
         "z": {
          "bdata": "MSctPt2XJz6R9pM+S7FdvqsCgr2wI2g81KpFvjYd9r0EGIU+",
          "dtype": "f4",
          "shape": "3, 3"
         }
        },
        {
         "coloraxis": "coloraxis",
         "hovertemplate": "x: %{x}<br>y: %{y}<br>color: %{z}<extra></extra>",
         "name": "1",
         "type": "heatmap",
         "xaxis": "x30",
         "yaxis": "y30",
         "z": {
          "bdata": "gyTRvgQhyL7aVUK+Mv8dPvtkGz4ibrC+0Rv9PRZWvD3NjNu8",
          "dtype": "f4",
          "shape": "3, 3"
         }
        },
        {
         "coloraxis": "coloraxis",
         "hovertemplate": "x: %{x}<br>y: %{y}<br>color: %{z}<extra></extra>",
         "name": "2",
         "type": "heatmap",
         "xaxis": "x31",
         "yaxis": "y31",
         "z": {
          "bdata": "dFkLvrAygb7OHrw9J9KTvm4waL08PWc+5i6dvW25bL7z83k9",
          "dtype": "f4",
          "shape": "3, 3"
         }
        },
        {
         "coloraxis": "coloraxis",
         "hovertemplate": "x: %{x}<br>y: %{y}<br>color: %{z}<extra></extra>",
         "name": "3",
         "type": "heatmap",
         "xaxis": "x32",
         "yaxis": "y32",
         "z": {
          "bdata": "Ufudvil8d75Jb/Q9papePnsQLD4Pj5w+GSJHvcPxM7695Fm9",
          "dtype": "f4",
          "shape": "3, 3"
         }
        },
        {
         "coloraxis": "coloraxis",
         "hovertemplate": "x: %{x}<br>y: %{y}<br>color: %{z}<extra></extra>",
         "name": "4",
         "type": "heatmap",
         "xaxis": "x25",
         "yaxis": "y25",
         "z": {
          "bdata": "eNERPgYxW74uiME+mN5dvk1RCz5Vih8+HPqlvpAzW74eI7q+",
          "dtype": "f4",
          "shape": "3, 3"
         }
        },
        {
         "coloraxis": "coloraxis",
         "hovertemplate": "x: %{x}<br>y: %{y}<br>color: %{z}<extra></extra>",
         "name": "5",
         "type": "heatmap",
         "xaxis": "x26",
         "yaxis": "y26",
         "z": {
          "bdata": "pcYvPjfTp75W6GO+J1jSvQPjiT6Y7pI+yjinPmezrL46lXG+",
          "dtype": "f4",
          "shape": "3, 3"
         }
        },
        {
         "coloraxis": "coloraxis",
         "hovertemplate": "x: %{x}<br>y: %{y}<br>color: %{z}<extra></extra>",
         "name": "6",
         "type": "heatmap",
         "xaxis": "x27",
         "yaxis": "y27",
         "z": {
          "bdata": "8y+bPXddEj0OKU49T8Mhvs8ndT4eqFM921fnvQYzi77ll7s9",
          "dtype": "f4",
          "shape": "3, 3"
         }
        },
        {
         "coloraxis": "coloraxis",
         "hovertemplate": "x: %{x}<br>y: %{y}<br>color: %{z}<extra></extra>",
         "name": "7",
         "type": "heatmap",
         "xaxis": "x28",
         "yaxis": "y28",
         "z": {
          "bdata": "1Fu8vqOHPL67AbG+e7cVPtlocD78mEg+7uCYvba0Ab6aONq9",
          "dtype": "f4",
          "shape": "3, 3"
         }
        },
        {
         "coloraxis": "coloraxis",
         "hovertemplate": "x: %{x}<br>y: %{y}<br>color: %{z}<extra></extra>",
         "name": "8",
         "type": "heatmap",
         "xaxis": "x21",
         "yaxis": "y21",
         "z": {
          "bdata": "nhvyvS9vST58D4S+QUqkPlpNRL4JjLO9v+GfvjNnwL1wMCC+",
          "dtype": "f4",
          "shape": "3, 3"
         }
        },
        {
         "coloraxis": "coloraxis",
         "hovertemplate": "x: %{x}<br>y: %{y}<br>color: %{z}<extra></extra>",
         "name": "9",
         "type": "heatmap",
         "xaxis": "x22",
         "yaxis": "y22",
         "z": {
          "bdata": "i3YGvt+dLD3L4N29KBQSvc2njL5a3A++oqiZPv1RmT6uvT09",
          "dtype": "f4",
          "shape": "3, 3"
         }
        },
        {
         "coloraxis": "coloraxis",
         "hovertemplate": "x: %{x}<br>y: %{y}<br>color: %{z}<extra></extra>",
         "name": "10",
         "type": "heatmap",
         "xaxis": "x23",
         "yaxis": "y23",
         "z": {
          "bdata": "/pCyvupTxTxWjK0+hAeDPVbMlD4kAA48yYFPvgaEML6l3by+",
          "dtype": "f4",
          "shape": "3, 3"
         }
        },
        {
         "coloraxis": "coloraxis",
         "hovertemplate": "x: %{x}<br>y: %{y}<br>color: %{z}<extra></extra>",
         "name": "11",
         "type": "heatmap",
         "xaxis": "x24",
         "yaxis": "y24",
         "z": {
          "bdata": "a7K2vd0JTr3bffy8TTjBvd5zqr1WBbI8d69xPREoBL03QeA9",
          "dtype": "f4",
          "shape": "3, 3"
         }
        },
        {
         "coloraxis": "coloraxis",
         "hovertemplate": "x: %{x}<br>y: %{y}<br>color: %{z}<extra></extra>",
         "name": "12",
         "type": "heatmap",
         "xaxis": "x17",
         "yaxis": "y17",
         "z": {
          "bdata": "uCAivrxNYj6rpo4+gQJsPbTyHz1VsBq+nP0kvgL8/D0fdMK+",
          "dtype": "f4",
          "shape": "3, 3"
         }
        },
        {
         "coloraxis": "coloraxis",
         "hovertemplate": "x: %{x}<br>y: %{y}<br>color: %{z}<extra></extra>",
         "name": "13",
         "type": "heatmap",
         "xaxis": "x18",
         "yaxis": "y18",
         "z": {
          "bdata": "Q1i/vmHMwD3LVnk+CwoOvuTsGz5o/pm94DtBvTz8or73/TA+",
          "dtype": "f4",
          "shape": "3, 3"
         }
        },
        {
         "coloraxis": "coloraxis",
         "hovertemplate": "x: %{x}<br>y: %{y}<br>color: %{z}<extra></extra>",
         "name": "14",
         "type": "heatmap",
         "xaxis": "x19",
         "yaxis": "y19",
         "z": {
          "bdata": "lWs4vnwhsL5BG16+p2WFPsOBWr5ZpSq+YvHiPpvewD6+rJ29",
          "dtype": "f4",
          "shape": "3, 3"
         }
        },
        {
         "coloraxis": "coloraxis",
         "hovertemplate": "x: %{x}<br>y: %{y}<br>color: %{z}<extra></extra>",
         "name": "15",
         "type": "heatmap",
         "xaxis": "x20",
         "yaxis": "y20",
         "z": {
          "bdata": "0dicvjMRrr0gSS2+lXCiPdI0wr1s/wm95nepPf3Ux70reEO+",
          "dtype": "f4",
          "shape": "3, 3"
         }
        },
        {
         "coloraxis": "coloraxis",
         "hovertemplate": "x: %{x}<br>y: %{y}<br>color: %{z}<extra></extra>",
         "name": "16",
         "type": "heatmap",
         "xaxis": "x13",
         "yaxis": "y13",
         "z": {
          "bdata": "XaQOPlCeXz6BItS88bzzPScKYj6veEU+AU/pPWAhP74pgOe+",
          "dtype": "f4",
          "shape": "3, 3"
         }
        },
        {
         "coloraxis": "coloraxis",
         "hovertemplate": "x: %{x}<br>y: %{y}<br>color: %{z}<extra></extra>",
         "name": "17",
         "type": "heatmap",
         "xaxis": "x14",
         "yaxis": "y14",
         "z": {
          "bdata": "M8OlPsy1iT5VzrA+n9Rwvme1Sj6dSPK9ZA3Fvm/HDL+2w9a+",
          "dtype": "f4",
          "shape": "3, 3"
         }
        },
        {
         "coloraxis": "coloraxis",
         "hovertemplate": "x: %{x}<br>y: %{y}<br>color: %{z}<extra></extra>",
         "name": "18",
         "type": "heatmap",
         "xaxis": "x15",
         "yaxis": "y15",
         "z": {
          "bdata": "iYEwvsGKND5sRSq+PyulPuU9E74zgCi+c+N+vqArgL4n+IQ+",
          "dtype": "f4",
          "shape": "3, 3"
         }
        },
        {
         "coloraxis": "coloraxis",
         "hovertemplate": "x: %{x}<br>y: %{y}<br>color: %{z}<extra></extra>",
         "name": "19",
         "type": "heatmap",
         "xaxis": "x16",
         "yaxis": "y16",
         "z": {
          "bdata": "biiyvmZrIb0vY9Q+7ctCvqjhNb5AqeG6vKwzvhUPt752WPM9",
          "dtype": "f4",
          "shape": "3, 3"
         }
        },
        {
         "coloraxis": "coloraxis",
         "hovertemplate": "x: %{x}<br>y: %{y}<br>color: %{z}<extra></extra>",
         "name": "20",
         "type": "heatmap",
         "xaxis": "x9",
         "yaxis": "y9",
         "z": {
          "bdata": "yph9PkeYQz4LRVc7iPuKviczDD1LiI0+HmOnvnaGzj33EkC+",
          "dtype": "f4",
          "shape": "3, 3"
         }
        },
        {
         "coloraxis": "coloraxis",
         "hovertemplate": "x: %{x}<br>y: %{y}<br>color: %{z}<extra></extra>",
         "name": "21",
         "type": "heatmap",
         "xaxis": "x10",
         "yaxis": "y10",
         "z": {
          "bdata": "xTUVvni1UD6erLC+EEwrvSp/Iz630QQ+5d+QvjvEDT6BAYw+",
          "dtype": "f4",
          "shape": "3, 3"
         }
        },
        {
         "coloraxis": "coloraxis",
         "hovertemplate": "x: %{x}<br>y: %{y}<br>color: %{z}<extra></extra>",
         "name": "22",
         "type": "heatmap",
         "xaxis": "x11",
         "yaxis": "y11",
         "z": {
          "bdata": "HSS9vof0R77mIqk+Q9+VPkQeAb3TzDw+cYHUvS0u3z3+xoy+",
          "dtype": "f4",
          "shape": "3, 3"
         }
        },
        {
         "coloraxis": "coloraxis",
         "hovertemplate": "x: %{x}<br>y: %{y}<br>color: %{z}<extra></extra>",
         "name": "23",
         "type": "heatmap",
         "xaxis": "x12",
         "yaxis": "y12",
         "z": {
          "bdata": "yo86ve77q75dor6+iuXAvt1Dk77fLsg9KfN7vpj/BD7MUs0+",
          "dtype": "f4",
          "shape": "3, 3"
         }
        },
        {
         "coloraxis": "coloraxis",
         "hovertemplate": "x: %{x}<br>y: %{y}<br>color: %{z}<extra></extra>",
         "name": "24",
         "type": "heatmap",
         "xaxis": "x5",
         "yaxis": "y5",
         "z": {
          "bdata": "Pew2O//wKT1CLmK+/ieIPvLyBz6c2vG+aLCsPl7jPr3JYa2+",
          "dtype": "f4",
          "shape": "3, 3"
         }
        },
        {
         "coloraxis": "coloraxis",
         "hovertemplate": "x: %{x}<br>y: %{y}<br>color: %{z}<extra></extra>",
         "name": "25",
         "type": "heatmap",
         "xaxis": "x6",
         "yaxis": "y6",
         "z": {
          "bdata": "TXyluzotcj4CBIc+Lpbtvq8f1b6vpA0+JcQ8PrRpTr6dDc6+",
          "dtype": "f4",
          "shape": "3, 3"
         }
        },
        {
         "coloraxis": "coloraxis",
         "hovertemplate": "x: %{x}<br>y: %{y}<br>color: %{z}<extra></extra>",
         "name": "26",
         "type": "heatmap",
         "xaxis": "x7",
         "yaxis": "y7",
         "z": {
          "bdata": "jtm4PeGBw75BYDi8+31mvj79Bz7RDp8++46EvQebZ71Hy4E+",
          "dtype": "f4",
          "shape": "3, 3"
         }
        },
        {
         "coloraxis": "coloraxis",
         "hovertemplate": "x: %{x}<br>y: %{y}<br>color: %{z}<extra></extra>",
         "name": "27",
         "type": "heatmap",
         "xaxis": "x8",
         "yaxis": "y8",
         "z": {
          "bdata": "1K3rvlrFJr4PKpU+jCFYvhJXsj4Szm29CjFsPjR0lrx/tnA+",
          "dtype": "f4",
          "shape": "3, 3"
         }
        },
        {
         "coloraxis": "coloraxis",
         "hovertemplate": "x: %{x}<br>y: %{y}<br>color: %{z}<extra></extra>",
         "name": "28",
         "type": "heatmap",
         "xaxis": "x",
         "yaxis": "y",
         "z": {
          "bdata": "sY+Nvi27JT49GaS+Et5qvsiXWb6g1bY96RYSvvGmLj5v752+",
          "dtype": "f4",
          "shape": "3, 3"
         }
        },
        {
         "coloraxis": "coloraxis",
         "hovertemplate": "x: %{x}<br>y: %{y}<br>color: %{z}<extra></extra>",
         "name": "29",
         "type": "heatmap",
         "xaxis": "x2",
         "yaxis": "y2",
         "z": {
          "bdata": "CYMQvncjbzy1wbI+VO6UvronBb4LsrM+hh1/vaFrNL6BkPi9",
          "dtype": "f4",
          "shape": "3, 3"
         }
        },
        {
         "coloraxis": "coloraxis",
         "hovertemplate": "x: %{x}<br>y: %{y}<br>color: %{z}<extra></extra>",
         "name": "30",
         "type": "heatmap",
         "xaxis": "x3",
         "yaxis": "y3",
         "z": {
          "bdata": "F3L3vRa/xr75nBW+VWluPm5LjT5WYaO+MbCXvvsqYj7094o9",
          "dtype": "f4",
          "shape": "3, 3"
         }
        },
        {
         "coloraxis": "coloraxis",
         "hovertemplate": "x: %{x}<br>y: %{y}<br>color: %{z}<extra></extra>",
         "name": "31",
         "type": "heatmap",
         "xaxis": "x4",
         "yaxis": "y4",
         "z": {
          "bdata": "f/Z0viOvEL614gi+nH5HPstALL6rGxW+8xwmvpyn670qOZG9",
          "dtype": "f4",
          "shape": "3, 3"
         }
        }
       ],
       "layout": {
        "annotations": [
         {
          "font": {},
          "showarrow": false,
          "text": "facet_col=28",
          "x": 0.1175,
          "xanchor": "center",
          "xref": "paper",
          "y": 0.06375,
          "yanchor": "bottom",
          "yref": "paper"
         },
         {
          "font": {},
          "showarrow": false,
          "text": "facet_col=29",
          "x": 0.3725,
          "xanchor": "center",
          "xref": "paper",
          "y": 0.06375,
          "yanchor": "bottom",
          "yref": "paper"
         },
         {
          "font": {},
          "showarrow": false,
          "text": "facet_col=30",
          "x": 0.6275,
          "xanchor": "center",
          "xref": "paper",
          "y": 0.06375,
          "yanchor": "bottom",
          "yref": "paper"
         },
         {
          "font": {},
          "showarrow": false,
          "text": "facet_col=31",
          "x": 0.8824999999999998,
          "xanchor": "center",
          "xref": "paper",
          "y": 0.06375,
          "yanchor": "bottom",
          "yref": "paper"
         },
         {
          "font": {},
          "showarrow": false,
          "text": "facet_col=24",
          "x": 0.1175,
          "xanchor": "center",
          "xref": "paper",
          "y": 0.1975,
          "yanchor": "bottom",
          "yref": "paper"
         },
         {
          "font": {},
          "showarrow": false,
          "text": "facet_col=25",
          "x": 0.3725,
          "xanchor": "center",
          "xref": "paper",
          "y": 0.1975,
          "yanchor": "bottom",
          "yref": "paper"
         },
         {
          "font": {},
          "showarrow": false,
          "text": "facet_col=26",
          "x": 0.6275,
          "xanchor": "center",
          "xref": "paper",
          "y": 0.1975,
          "yanchor": "bottom",
          "yref": "paper"
         },
         {
          "font": {},
          "showarrow": false,
          "text": "facet_col=27",
          "x": 0.8824999999999998,
          "xanchor": "center",
          "xref": "paper",
          "y": 0.1975,
          "yanchor": "bottom",
          "yref": "paper"
         },
         {
          "font": {},
          "showarrow": false,
          "text": "facet_col=20",
          "x": 0.1175,
          "xanchor": "center",
          "xref": "paper",
          "y": 0.33125000000000004,
          "yanchor": "bottom",
          "yref": "paper"
         },
         {
          "font": {},
          "showarrow": false,
          "text": "facet_col=21",
          "x": 0.3725,
          "xanchor": "center",
          "xref": "paper",
          "y": 0.33125000000000004,
          "yanchor": "bottom",
          "yref": "paper"
         },
         {
          "font": {},
          "showarrow": false,
          "text": "facet_col=22",
          "x": 0.6275,
          "xanchor": "center",
          "xref": "paper",
          "y": 0.33125000000000004,
          "yanchor": "bottom",
          "yref": "paper"
         },
         {
          "font": {},
          "showarrow": false,
          "text": "facet_col=23",
          "x": 0.8824999999999998,
          "xanchor": "center",
          "xref": "paper",
          "y": 0.33125000000000004,
          "yanchor": "bottom",
          "yref": "paper"
         },
         {
          "font": {},
          "showarrow": false,
          "text": "facet_col=16",
          "x": 0.1175,
          "xanchor": "center",
          "xref": "paper",
          "y": 0.46499999999999997,
          "yanchor": "bottom",
          "yref": "paper"
         },
         {
          "font": {},
          "showarrow": false,
          "text": "facet_col=17",
          "x": 0.3725,
          "xanchor": "center",
          "xref": "paper",
          "y": 0.46499999999999997,
          "yanchor": "bottom",
          "yref": "paper"
         },
         {
          "font": {},
          "showarrow": false,
          "text": "facet_col=18",
          "x": 0.6275,
          "xanchor": "center",
          "xref": "paper",
          "y": 0.46499999999999997,
          "yanchor": "bottom",
          "yref": "paper"
         },
         {
          "font": {},
          "showarrow": false,
          "text": "facet_col=19",
          "x": 0.8824999999999998,
          "xanchor": "center",
          "xref": "paper",
          "y": 0.46499999999999997,
          "yanchor": "bottom",
          "yref": "paper"
         },
         {
          "font": {},
          "showarrow": false,
          "text": "facet_col=12",
          "x": 0.1175,
          "xanchor": "center",
          "xref": "paper",
          "y": 0.59875,
          "yanchor": "bottom",
          "yref": "paper"
         },
         {
          "font": {},
          "showarrow": false,
          "text": "facet_col=13",
          "x": 0.3725,
          "xanchor": "center",
          "xref": "paper",
          "y": 0.59875,
          "yanchor": "bottom",
          "yref": "paper"
         },
         {
          "font": {},
          "showarrow": false,
          "text": "facet_col=14",
          "x": 0.6275,
          "xanchor": "center",
          "xref": "paper",
          "y": 0.59875,
          "yanchor": "bottom",
          "yref": "paper"
         },
         {
          "font": {},
          "showarrow": false,
          "text": "facet_col=15",
          "x": 0.8824999999999998,
          "xanchor": "center",
          "xref": "paper",
          "y": 0.59875,
          "yanchor": "bottom",
          "yref": "paper"
         },
         {
          "font": {},
          "showarrow": false,
          "text": "facet_col=8",
          "x": 0.1175,
          "xanchor": "center",
          "xref": "paper",
          "y": 0.7324999999999999,
          "yanchor": "bottom",
          "yref": "paper"
         },
         {
          "font": {},
          "showarrow": false,
          "text": "facet_col=9",
          "x": 0.3725,
          "xanchor": "center",
          "xref": "paper",
          "y": 0.7324999999999999,
          "yanchor": "bottom",
          "yref": "paper"
         },
         {
          "font": {},
          "showarrow": false,
          "text": "facet_col=10",
          "x": 0.6275,
          "xanchor": "center",
          "xref": "paper",
          "y": 0.7324999999999999,
          "yanchor": "bottom",
          "yref": "paper"
         },
         {
          "font": {},
          "showarrow": false,
          "text": "facet_col=11",
          "x": 0.8824999999999998,
          "xanchor": "center",
          "xref": "paper",
          "y": 0.7324999999999999,
          "yanchor": "bottom",
          "yref": "paper"
         },
         {
          "font": {},
          "showarrow": false,
          "text": "facet_col=4",
          "x": 0.1175,
          "xanchor": "center",
          "xref": "paper",
          "y": 0.86625,
          "yanchor": "bottom",
          "yref": "paper"
         },
         {
          "font": {},
          "showarrow": false,
          "text": "facet_col=5",
          "x": 0.3725,
          "xanchor": "center",
          "xref": "paper",
          "y": 0.86625,
          "yanchor": "bottom",
          "yref": "paper"
         },
         {
          "font": {},
          "showarrow": false,
          "text": "facet_col=6",
          "x": 0.6275,
          "xanchor": "center",
          "xref": "paper",
          "y": 0.86625,
          "yanchor": "bottom",
          "yref": "paper"
         },
         {
          "font": {},
          "showarrow": false,
          "text": "facet_col=7",
          "x": 0.8824999999999998,
          "xanchor": "center",
          "xref": "paper",
          "y": 0.86625,
          "yanchor": "bottom",
          "yref": "paper"
         },
         {
          "font": {},
          "showarrow": false,
          "text": "facet_col=0",
          "x": 0.1175,
          "xanchor": "center",
          "xref": "paper",
          "y": 1,
          "yanchor": "bottom",
          "yref": "paper"
         },
         {
          "font": {},
          "showarrow": false,
          "text": "facet_col=1",
          "x": 0.3725,
          "xanchor": "center",
          "xref": "paper",
          "y": 1,
          "yanchor": "bottom",
          "yref": "paper"
         },
         {
          "font": {},
          "showarrow": false,
          "text": "facet_col=2",
          "x": 0.6275,
          "xanchor": "center",
          "xref": "paper",
          "y": 1,
          "yanchor": "bottom",
          "yref": "paper"
         },
         {
          "font": {},
          "showarrow": false,
          "text": "facet_col=3",
          "x": 0.8824999999999998,
          "xanchor": "center",
          "xref": "paper",
          "y": 1,
          "yanchor": "bottom",
          "yref": "paper"
         }
        ],
        "coloraxis": {
         "cmid": 0,
         "colorscale": [
          [
           0,
           "rgb(103,0,31)"
          ],
          [
           0.1,
           "rgb(178,24,43)"
          ],
          [
           0.2,
           "rgb(214,96,77)"
          ],
          [
           0.3,
           "rgb(244,165,130)"
          ],
          [
           0.4,
           "rgb(253,219,199)"
          ],
          [
           0.5,
           "rgb(247,247,247)"
          ],
          [
           0.6,
           "rgb(209,229,240)"
          ],
          [
           0.7,
           "rgb(146,197,222)"
          ],
          [
           0.8,
           "rgb(67,147,195)"
          ],
          [
           0.9,
           "rgb(33,102,172)"
          ],
          [
           1,
           "rgb(5,48,97)"
          ]
         ]
        },
        "height": 1500,
        "margin": {
         "t": 60
        },
        "template": {
         "data": {
          "bar": [
           {
            "error_x": {
             "color": "#2a3f5f"
            },
            "error_y": {
             "color": "#2a3f5f"
            },
            "marker": {
             "line": {
              "color": "#E5ECF6",
              "width": 0.5
             },
             "pattern": {
              "fillmode": "overlay",
              "size": 10,
              "solidity": 0.2
             }
            },
            "type": "bar"
           }
          ],
          "barpolar": [
           {
            "marker": {
             "line": {
              "color": "#E5ECF6",
              "width": 0.5
             },
             "pattern": {
              "fillmode": "overlay",
              "size": 10,
              "solidity": 0.2
             }
            },
            "type": "barpolar"
           }
          ],
          "carpet": [
           {
            "aaxis": {
             "endlinecolor": "#2a3f5f",
             "gridcolor": "white",
             "linecolor": "white",
             "minorgridcolor": "white",
             "startlinecolor": "#2a3f5f"
            },
            "baxis": {
             "endlinecolor": "#2a3f5f",
             "gridcolor": "white",
             "linecolor": "white",
             "minorgridcolor": "white",
             "startlinecolor": "#2a3f5f"
            },
            "type": "carpet"
           }
          ],
          "choropleth": [
           {
            "colorbar": {
             "outlinewidth": 0,
             "ticks": ""
            },
            "type": "choropleth"
           }
          ],
          "contour": [
           {
            "colorbar": {
             "outlinewidth": 0,
             "ticks": ""
            },
            "colorscale": [
             [
              0,
              "#0d0887"
             ],
             [
              0.1111111111111111,
              "#46039f"
             ],
             [
              0.2222222222222222,
              "#7201a8"
             ],
             [
              0.3333333333333333,
              "#9c179e"
             ],
             [
              0.4444444444444444,
              "#bd3786"
             ],
             [
              0.5555555555555556,
              "#d8576b"
             ],
             [
              0.6666666666666666,
              "#ed7953"
             ],
             [
              0.7777777777777778,
              "#fb9f3a"
             ],
             [
              0.8888888888888888,
              "#fdca26"
             ],
             [
              1,
              "#f0f921"
             ]
            ],
            "type": "contour"
           }
          ],
          "contourcarpet": [
           {
            "colorbar": {
             "outlinewidth": 0,
             "ticks": ""
            },
            "type": "contourcarpet"
           }
          ],
          "heatmap": [
           {
            "colorbar": {
             "outlinewidth": 0,
             "ticks": ""
            },
            "colorscale": [
             [
              0,
              "#0d0887"
             ],
             [
              0.1111111111111111,
              "#46039f"
             ],
             [
              0.2222222222222222,
              "#7201a8"
             ],
             [
              0.3333333333333333,
              "#9c179e"
             ],
             [
              0.4444444444444444,
              "#bd3786"
             ],
             [
              0.5555555555555556,
              "#d8576b"
             ],
             [
              0.6666666666666666,
              "#ed7953"
             ],
             [
              0.7777777777777778,
              "#fb9f3a"
             ],
             [
              0.8888888888888888,
              "#fdca26"
             ],
             [
              1,
              "#f0f921"
             ]
            ],
            "type": "heatmap"
           }
          ],
          "histogram": [
           {
            "marker": {
             "pattern": {
              "fillmode": "overlay",
              "size": 10,
              "solidity": 0.2
             }
            },
            "type": "histogram"
           }
          ],
          "histogram2d": [
           {
            "colorbar": {
             "outlinewidth": 0,
             "ticks": ""
            },
            "colorscale": [
             [
              0,
              "#0d0887"
             ],
             [
              0.1111111111111111,
              "#46039f"
             ],
             [
              0.2222222222222222,
              "#7201a8"
             ],
             [
              0.3333333333333333,
              "#9c179e"
             ],
             [
              0.4444444444444444,
              "#bd3786"
             ],
             [
              0.5555555555555556,
              "#d8576b"
             ],
             [
              0.6666666666666666,
              "#ed7953"
             ],
             [
              0.7777777777777778,
              "#fb9f3a"
             ],
             [
              0.8888888888888888,
              "#fdca26"
             ],
             [
              1,
              "#f0f921"
             ]
            ],
            "type": "histogram2d"
           }
          ],
          "histogram2dcontour": [
           {
            "colorbar": {
             "outlinewidth": 0,
             "ticks": ""
            },
            "colorscale": [
             [
              0,
              "#0d0887"
             ],
             [
              0.1111111111111111,
              "#46039f"
             ],
             [
              0.2222222222222222,
              "#7201a8"
             ],
             [
              0.3333333333333333,
              "#9c179e"
             ],
             [
              0.4444444444444444,
              "#bd3786"
             ],
             [
              0.5555555555555556,
              "#d8576b"
             ],
             [
              0.6666666666666666,
              "#ed7953"
             ],
             [
              0.7777777777777778,
              "#fb9f3a"
             ],
             [
              0.8888888888888888,
              "#fdca26"
             ],
             [
              1,
              "#f0f921"
             ]
            ],
            "type": "histogram2dcontour"
           }
          ],
          "mesh3d": [
           {
            "colorbar": {
             "outlinewidth": 0,
             "ticks": ""
            },
            "type": "mesh3d"
           }
          ],
          "parcoords": [
           {
            "line": {
             "colorbar": {
              "outlinewidth": 0,
              "ticks": ""
             }
            },
            "type": "parcoords"
           }
          ],
          "pie": [
           {
            "automargin": true,
            "type": "pie"
           }
          ],
          "scatter": [
           {
            "fillpattern": {
             "fillmode": "overlay",
             "size": 10,
             "solidity": 0.2
            },
            "type": "scatter"
           }
          ],
          "scatter3d": [
           {
            "line": {
             "colorbar": {
              "outlinewidth": 0,
              "ticks": ""
             }
            },
            "marker": {
             "colorbar": {
              "outlinewidth": 0,
              "ticks": ""
             }
            },
            "type": "scatter3d"
           }
          ],
          "scattercarpet": [
           {
            "marker": {
             "colorbar": {
              "outlinewidth": 0,
              "ticks": ""
             }
            },
            "type": "scattercarpet"
           }
          ],
          "scattergeo": [
           {
            "marker": {
             "colorbar": {
              "outlinewidth": 0,
              "ticks": ""
             }
            },
            "type": "scattergeo"
           }
          ],
          "scattergl": [
           {
            "marker": {
             "colorbar": {
              "outlinewidth": 0,
              "ticks": ""
             }
            },
            "type": "scattergl"
           }
          ],
          "scattermap": [
           {
            "marker": {
             "colorbar": {
              "outlinewidth": 0,
              "ticks": ""
             }
            },
            "type": "scattermap"
           }
          ],
          "scattermapbox": [
           {
            "marker": {
             "colorbar": {
              "outlinewidth": 0,
              "ticks": ""
             }
            },
            "type": "scattermapbox"
           }
          ],
          "scatterpolar": [
           {
            "marker": {
             "colorbar": {
              "outlinewidth": 0,
              "ticks": ""
             }
            },
            "type": "scatterpolar"
           }
          ],
          "scatterpolargl": [
           {
            "marker": {
             "colorbar": {
              "outlinewidth": 0,
              "ticks": ""
             }
            },
            "type": "scatterpolargl"
           }
          ],
          "scatterternary": [
           {
            "marker": {
             "colorbar": {
              "outlinewidth": 0,
              "ticks": ""
             }
            },
            "type": "scatterternary"
           }
          ],
          "surface": [
           {
            "colorbar": {
             "outlinewidth": 0,
             "ticks": ""
            },
            "colorscale": [
             [
              0,
              "#0d0887"
             ],
             [
              0.1111111111111111,
              "#46039f"
             ],
             [
              0.2222222222222222,
              "#7201a8"
             ],
             [
              0.3333333333333333,
              "#9c179e"
             ],
             [
              0.4444444444444444,
              "#bd3786"
             ],
             [
              0.5555555555555556,
              "#d8576b"
             ],
             [
              0.6666666666666666,
              "#ed7953"
             ],
             [
              0.7777777777777778,
              "#fb9f3a"
             ],
             [
              0.8888888888888888,
              "#fdca26"
             ],
             [
              1,
              "#f0f921"
             ]
            ],
            "type": "surface"
           }
          ],
          "table": [
           {
            "cells": {
             "fill": {
              "color": "#EBF0F8"
             },
             "line": {
              "color": "white"
             }
            },
            "header": {
             "fill": {
              "color": "#C8D4E3"
             },
             "line": {
              "color": "white"
             }
            },
            "type": "table"
           }
          ]
         },
         "layout": {
          "annotationdefaults": {
           "arrowcolor": "#2a3f5f",
           "arrowhead": 0,
           "arrowwidth": 1
          },
          "autotypenumbers": "strict",
          "coloraxis": {
           "colorbar": {
            "outlinewidth": 0,
            "ticks": ""
           }
          },
          "colorscale": {
           "diverging": [
            [
             0,
             "#8e0152"
            ],
            [
             0.1,
             "#c51b7d"
            ],
            [
             0.2,
             "#de77ae"
            ],
            [
             0.3,
             "#f1b6da"
            ],
            [
             0.4,
             "#fde0ef"
            ],
            [
             0.5,
             "#f7f7f7"
            ],
            [
             0.6,
             "#e6f5d0"
            ],
            [
             0.7,
             "#b8e186"
            ],
            [
             0.8,
             "#7fbc41"
            ],
            [
             0.9,
             "#4d9221"
            ],
            [
             1,
             "#276419"
            ]
           ],
           "sequential": [
            [
             0,
             "#0d0887"
            ],
            [
             0.1111111111111111,
             "#46039f"
            ],
            [
             0.2222222222222222,
             "#7201a8"
            ],
            [
             0.3333333333333333,
             "#9c179e"
            ],
            [
             0.4444444444444444,
             "#bd3786"
            ],
            [
             0.5555555555555556,
             "#d8576b"
            ],
            [
             0.6666666666666666,
             "#ed7953"
            ],
            [
             0.7777777777777778,
             "#fb9f3a"
            ],
            [
             0.8888888888888888,
             "#fdca26"
            ],
            [
             1,
             "#f0f921"
            ]
           ],
           "sequentialminus": [
            [
             0,
             "#0d0887"
            ],
            [
             0.1111111111111111,
             "#46039f"
            ],
            [
             0.2222222222222222,
             "#7201a8"
            ],
            [
             0.3333333333333333,
             "#9c179e"
            ],
            [
             0.4444444444444444,
             "#bd3786"
            ],
            [
             0.5555555555555556,
             "#d8576b"
            ],
            [
             0.6666666666666666,
             "#ed7953"
            ],
            [
             0.7777777777777778,
             "#fb9f3a"
            ],
            [
             0.8888888888888888,
             "#fdca26"
            ],
            [
             1,
             "#f0f921"
            ]
           ]
          },
          "colorway": [
           "#636efa",
           "#EF553B",
           "#00cc96",
           "#ab63fa",
           "#FFA15A",
           "#19d3f3",
           "#FF6692",
           "#B6E880",
           "#FF97FF",
           "#FECB52"
          ],
          "font": {
           "color": "#2a3f5f"
          },
          "geo": {
           "bgcolor": "white",
           "lakecolor": "white",
           "landcolor": "#E5ECF6",
           "showlakes": true,
           "showland": true,
           "subunitcolor": "white"
          },
          "hoverlabel": {
           "align": "left"
          },
          "hovermode": "closest",
          "mapbox": {
           "style": "light"
          },
          "paper_bgcolor": "white",
          "plot_bgcolor": "#E5ECF6",
          "polar": {
           "angularaxis": {
            "gridcolor": "white",
            "linecolor": "white",
            "ticks": ""
           },
           "bgcolor": "#E5ECF6",
           "radialaxis": {
            "gridcolor": "white",
            "linecolor": "white",
            "ticks": ""
           }
          },
          "scene": {
           "xaxis": {
            "backgroundcolor": "#E5ECF6",
            "gridcolor": "white",
            "gridwidth": 2,
            "linecolor": "white",
            "showbackground": true,
            "ticks": "",
            "zerolinecolor": "white"
           },
           "yaxis": {
            "backgroundcolor": "#E5ECF6",
            "gridcolor": "white",
            "gridwidth": 2,
            "linecolor": "white",
            "showbackground": true,
            "ticks": "",
            "zerolinecolor": "white"
           },
           "zaxis": {
            "backgroundcolor": "#E5ECF6",
            "gridcolor": "white",
            "gridwidth": 2,
            "linecolor": "white",
            "showbackground": true,
            "ticks": "",
            "zerolinecolor": "white"
           }
          },
          "shapedefaults": {
           "line": {
            "color": "#2a3f5f"
           }
          },
          "ternary": {
           "aaxis": {
            "gridcolor": "white",
            "linecolor": "white",
            "ticks": ""
           },
           "baxis": {
            "gridcolor": "white",
            "linecolor": "white",
            "ticks": ""
           },
           "bgcolor": "#E5ECF6",
           "caxis": {
            "gridcolor": "white",
            "linecolor": "white",
            "ticks": ""
           }
          },
          "title": {
           "x": 0.05
          },
          "xaxis": {
           "automargin": true,
           "gridcolor": "white",
           "linecolor": "white",
           "ticks": "",
           "title": {
            "standoff": 15
           },
           "zerolinecolor": "white",
           "zerolinewidth": 2
          },
          "yaxis": {
           "automargin": true,
           "gridcolor": "white",
           "linecolor": "white",
           "ticks": "",
           "title": {
            "standoff": 15
           },
           "zerolinecolor": "white",
           "zerolinewidth": 2
          }
         }
        },
        "xaxis": {
         "anchor": "y",
         "constrain": "domain",
         "domain": [
          0,
          0.235
         ],
         "scaleanchor": "y",
         "showticklabels": false
        },
        "xaxis10": {
         "anchor": "y10",
         "domain": [
          0.255,
          0.49
         ],
         "matches": "x",
         "showticklabels": false
        },
        "xaxis11": {
         "anchor": "y11",
         "domain": [
          0.51,
          0.745
         ],
         "matches": "x",
         "showticklabels": false
        },
        "xaxis12": {
         "anchor": "y12",
         "domain": [
          0.7649999999999999,
          0.9999999999999999
         ],
         "matches": "x",
         "showticklabels": false
        },
        "xaxis13": {
         "anchor": "y13",
         "domain": [
          0,
          0.235
         ],
         "matches": "x",
         "showticklabels": false
        },
        "xaxis14": {
         "anchor": "y14",
         "domain": [
          0.255,
          0.49
         ],
         "matches": "x",
         "showticklabels": false
        },
        "xaxis15": {
         "anchor": "y15",
         "domain": [
          0.51,
          0.745
         ],
         "matches": "x",
         "showticklabels": false
        },
        "xaxis16": {
         "anchor": "y16",
         "domain": [
          0.7649999999999999,
          0.9999999999999999
         ],
         "matches": "x",
         "showticklabels": false
        },
        "xaxis17": {
         "anchor": "y17",
         "domain": [
          0,
          0.235
         ],
         "matches": "x",
         "showticklabels": false
        },
        "xaxis18": {
         "anchor": "y18",
         "domain": [
          0.255,
          0.49
         ],
         "matches": "x",
         "showticklabels": false
        },
        "xaxis19": {
         "anchor": "y19",
         "domain": [
          0.51,
          0.745
         ],
         "matches": "x",
         "showticklabels": false
        },
        "xaxis2": {
         "anchor": "y2",
         "domain": [
          0.255,
          0.49
         ],
         "matches": "x",
         "showticklabels": false
        },
        "xaxis20": {
         "anchor": "y20",
         "domain": [
          0.7649999999999999,
          0.9999999999999999
         ],
         "matches": "x",
         "showticklabels": false
        },
        "xaxis21": {
         "anchor": "y21",
         "domain": [
          0,
          0.235
         ],
         "matches": "x",
         "showticklabels": false
        },
        "xaxis22": {
         "anchor": "y22",
         "domain": [
          0.255,
          0.49
         ],
         "matches": "x",
         "showticklabels": false
        },
        "xaxis23": {
         "anchor": "y23",
         "domain": [
          0.51,
          0.745
         ],
         "matches": "x",
         "showticklabels": false
        },
        "xaxis24": {
         "anchor": "y24",
         "domain": [
          0.7649999999999999,
          0.9999999999999999
         ],
         "matches": "x",
         "showticklabels": false
        },
        "xaxis25": {
         "anchor": "y25",
         "domain": [
          0,
          0.235
         ],
         "matches": "x",
         "showticklabels": false
        },
        "xaxis26": {
         "anchor": "y26",
         "domain": [
          0.255,
          0.49
         ],
         "matches": "x",
         "showticklabels": false
        },
        "xaxis27": {
         "anchor": "y27",
         "domain": [
          0.51,
          0.745
         ],
         "matches": "x",
         "showticklabels": false
        },
        "xaxis28": {
         "anchor": "y28",
         "domain": [
          0.7649999999999999,
          0.9999999999999999
         ],
         "matches": "x",
         "showticklabels": false
        },
        "xaxis29": {
         "anchor": "y29",
         "domain": [
          0,
          0.235
         ],
         "matches": "x",
         "showticklabels": false
        },
        "xaxis3": {
         "anchor": "y3",
         "domain": [
          0.51,
          0.745
         ],
         "matches": "x",
         "showticklabels": false
        },
        "xaxis30": {
         "anchor": "y30",
         "domain": [
          0.255,
          0.49
         ],
         "matches": "x",
         "showticklabels": false
        },
        "xaxis31": {
         "anchor": "y31",
         "domain": [
          0.51,
          0.745
         ],
         "matches": "x",
         "showticklabels": false
        },
        "xaxis32": {
         "anchor": "y32",
         "domain": [
          0.7649999999999999,
          0.9999999999999999
         ],
         "matches": "x",
         "showticklabels": false
        },
        "xaxis4": {
         "anchor": "y4",
         "domain": [
          0.7649999999999999,
          0.9999999999999999
         ],
         "matches": "x",
         "showticklabels": false
        },
        "xaxis5": {
         "anchor": "y5",
         "domain": [
          0,
          0.235
         ],
         "matches": "x",
         "showticklabels": false
        },
        "xaxis6": {
         "anchor": "y6",
         "domain": [
          0.255,
          0.49
         ],
         "matches": "x",
         "showticklabels": false
        },
        "xaxis7": {
         "anchor": "y7",
         "domain": [
          0.51,
          0.745
         ],
         "matches": "x",
         "showticklabels": false
        },
        "xaxis8": {
         "anchor": "y8",
         "domain": [
          0.7649999999999999,
          0.9999999999999999
         ],
         "matches": "x",
         "showticklabels": false
        },
        "xaxis9": {
         "anchor": "y9",
         "domain": [
          0,
          0.235
         ],
         "matches": "x",
         "showticklabels": false
        },
        "yaxis": {
         "anchor": "x",
         "autorange": "reversed",
         "constrain": "domain",
         "domain": [
          0,
          0.06375
         ],
         "showticklabels": false
        },
        "yaxis10": {
         "anchor": "x10",
         "domain": [
          0.2675,
          0.33125000000000004
         ],
         "matches": "y",
         "showticklabels": false
        },
        "yaxis11": {
         "anchor": "x11",
         "domain": [
          0.2675,
          0.33125000000000004
         ],
         "matches": "y",
         "showticklabels": false
        },
        "yaxis12": {
         "anchor": "x12",
         "domain": [
          0.2675,
          0.33125000000000004
         ],
         "matches": "y",
         "showticklabels": false
        },
        "yaxis13": {
         "anchor": "x13",
         "domain": [
          0.40125,
          0.46499999999999997
         ],
         "matches": "y",
         "showticklabels": false
        },
        "yaxis14": {
         "anchor": "x14",
         "domain": [
          0.40125,
          0.46499999999999997
         ],
         "matches": "y",
         "showticklabels": false
        },
        "yaxis15": {
         "anchor": "x15",
         "domain": [
          0.40125,
          0.46499999999999997
         ],
         "matches": "y",
         "showticklabels": false
        },
        "yaxis16": {
         "anchor": "x16",
         "domain": [
          0.40125,
          0.46499999999999997
         ],
         "matches": "y",
         "showticklabels": false
        },
        "yaxis17": {
         "anchor": "x17",
         "domain": [
          0.535,
          0.59875
         ],
         "matches": "y",
         "showticklabels": false
        },
        "yaxis18": {
         "anchor": "x18",
         "domain": [
          0.535,
          0.59875
         ],
         "matches": "y",
         "showticklabels": false
        },
        "yaxis19": {
         "anchor": "x19",
         "domain": [
          0.535,
          0.59875
         ],
         "matches": "y",
         "showticklabels": false
        },
        "yaxis2": {
         "anchor": "x2",
         "domain": [
          0,
          0.06375
         ],
         "matches": "y",
         "showticklabels": false
        },
        "yaxis20": {
         "anchor": "x20",
         "domain": [
          0.535,
          0.59875
         ],
         "matches": "y",
         "showticklabels": false
        },
        "yaxis21": {
         "anchor": "x21",
         "domain": [
          0.66875,
          0.7324999999999999
         ],
         "matches": "y",
         "showticklabels": false
        },
        "yaxis22": {
         "anchor": "x22",
         "domain": [
          0.66875,
          0.7324999999999999
         ],
         "matches": "y",
         "showticklabels": false
        },
        "yaxis23": {
         "anchor": "x23",
         "domain": [
          0.66875,
          0.7324999999999999
         ],
         "matches": "y",
         "showticklabels": false
        },
        "yaxis24": {
         "anchor": "x24",
         "domain": [
          0.66875,
          0.7324999999999999
         ],
         "matches": "y",
         "showticklabels": false
        },
        "yaxis25": {
         "anchor": "x25",
         "domain": [
          0.8025,
          0.86625
         ],
         "matches": "y",
         "showticklabels": false
        },
        "yaxis26": {
         "anchor": "x26",
         "domain": [
          0.8025,
          0.86625
         ],
         "matches": "y",
         "showticklabels": false
        },
        "yaxis27": {
         "anchor": "x27",
         "domain": [
          0.8025,
          0.86625
         ],
         "matches": "y",
         "showticklabels": false
        },
        "yaxis28": {
         "anchor": "x28",
         "domain": [
          0.8025,
          0.86625
         ],
         "matches": "y",
         "showticklabels": false
        },
        "yaxis29": {
         "anchor": "x29",
         "domain": [
          0.93625,
          1
         ],
         "matches": "y",
         "showticklabels": false
        },
        "yaxis3": {
         "anchor": "x3",
         "domain": [
          0,
          0.06375
         ],
         "matches": "y",
         "showticklabels": false
        },
        "yaxis30": {
         "anchor": "x30",
         "domain": [
          0.93625,
          1
         ],
         "matches": "y",
         "showticklabels": false
        },
        "yaxis31": {
         "anchor": "x31",
         "domain": [
          0.93625,
          1
         ],
         "matches": "y",
         "showticklabels": false
        },
        "yaxis32": {
         "anchor": "x32",
         "domain": [
          0.93625,
          1
         ],
         "matches": "y",
         "showticklabels": false
        },
        "yaxis4": {
         "anchor": "x4",
         "domain": [
          0,
          0.06375
         ],
         "matches": "y",
         "showticklabels": false
        },
        "yaxis5": {
         "anchor": "x5",
         "domain": [
          0.13375,
          0.1975
         ],
         "matches": "y",
         "showticklabels": false
        },
        "yaxis6": {
         "anchor": "x6",
         "domain": [
          0.13375,
          0.1975
         ],
         "matches": "y",
         "showticklabels": false
        },
        "yaxis7": {
         "anchor": "x7",
         "domain": [
          0.13375,
          0.1975
         ],
         "matches": "y",
         "showticklabels": false
        },
        "yaxis8": {
         "anchor": "x8",
         "domain": [
          0.13375,
          0.1975
         ],
         "matches": "y",
         "showticklabels": false
        },
        "yaxis9": {
         "anchor": "x9",
         "domain": [
          0.2675,
          0.33125000000000004
         ],
         "matches": "y",
         "showticklabels": false
        }
       }
      }
     },
     "metadata": {},
     "output_type": "display_data"
    }
   ],
   "source": [
    "fig = px.imshow(simpleCNN_model.conv1.weight.detach().clone()[:, 0, ...].cpu().numpy(), facet_col=0, facet_col_wrap=4, height=1500, facet_col_spacing=0, facet_row_spacing=0, color_continuous_scale=\"RdBu\", color_continuous_midpoint=0)\n",
    "fig.update_xaxes(showticklabels=False).update_yaxes(showticklabels=False)"
   ]
  },
  {
   "cell_type": "markdown",
   "metadata": {},
   "source": [
    "SHAP interpretation - which regions of the image contributed towards/against each class's output predication probability"
   ]
  },
  {
   "cell_type": "markdown",
   "metadata": {},
   "source": [
    "Example taken from SHAP documentation\n",
    "\n",
    "<img src=\"assets/shap.png\">"
   ]
  },
  {
   "cell_type": "code",
   "execution_count": 15,
   "metadata": {},
   "outputs": [],
   "source": [
    "def dummy_model_output(x):\n",
    "    tmp = x.copy()\n",
    "    tmp = torch.from_numpy(tmp).to(DEVICE)\n",
    "    tmp = torchvision.transforms.Normalize((0.1307,), (0.3081,))(tmp)\n",
    "    return simpleCNN_model(tmp)\n",
    "\n",
    "raw_test_loader = torch.utils.data.DataLoader(\n",
    "    torchvision.datasets.MNIST(root=os.getcwd(), download=False, train=False, transform=torchvision.transforms.ToTensor()),\n",
    "    batch_size=batch_size,\n",
    ")\n",
    "\n",
    "batch = next(iter(raw_test_loader))\n",
    "imgs, _ = batch\n",
    "\n",
    "masker = shap.maskers.Image(\"blur(28,28)\", imgs[0].shape)\n",
    "\n",
    "explainer = shap.Explainer(dummy_model_output, masker, output_names=[x for x in range(10)])\n",
    "\n",
    "shap_values = explainer(imgs[0:3], max_evals=10000, batch_size=64)"
   ]
  },
  {
   "cell_type": "code",
   "execution_count": 21,
   "metadata": {},
   "outputs": [
    {
     "data": {
      "application/vnd.plotly.v1+json": {
       "config": {
        "plotlyServerURL": "https://plot.ly"
       },
       "data": [
        {
         "coloraxis": "coloraxis",
         "hovertemplate": "x: %{x}<br>y: %{y}<br>color: %{z}<extra></extra>",
         "name": "0",
         "type": "heatmap",
         "xaxis": "x",
         "yaxis": "y",
         "z": {
          "bdata": "AAAAAAAAAAAAAAAAAAAAAAAAAAAAAAAAAAAAAAAAAAAAAAAAAAAAAAAAAAAAAAAAAAAAAAAAAAAAAAAAAAAAAAAAAAAAAAAAAAAAAAAAAAAAAAAAAAAAAAAAAAAAAAAAAAAAAAAAAAAAAAAAAAAAAAAAAAAAAAAAAAAAAAAAAAAAAAAAAAAAAAAAAAAAAAAAAAAAAAAAAAAAAAAAAAAAAAAAAAAAAAAAAAAAAAAAAAAAAAAAAAAAAAAAAAAAAAAAAAAAAAAAAAAAAAAAAAAAAAAAAAAAAAAAAAAAAAAAAAAAAAAAAAAAAAAAAAAAAAAAAAAAAAAAAAAAAAAAAAAAAAAAAAAAAAAAAAAAAAAAAAAAAAAAAAAAAAAAAAAAAAAAAAAAAAAAAAAAAAAAAAAAAAAAAAAAAAAAAAAAAAAAAAAAAAAAAAAAAAAAAAAAAAAAAAAAAAAAAAAAAAAAAAAAAAAAAAAAAAAAAAAAAAAAAAAAAAAAAAAAAAAAAAAAAAAAAAAAAAAAAAAAAAAAAAAAAAAAAAAAAAAAAAAAAAAAAAAAAAAAAAAAAAAAAAAAAAAAAAAAAAAAAAAAAAAAAAAAAAAAAAAAAAAAAAAAAAAAAAAAAAAAAAAAAAAAAAAAAAAAAAAAAAAAAAAAAAAAAAAAAAAAAAAAAAAAAAAAAAAAAAAAAAAAAAAAAAAAAAAAAAAAAAAAAAAAAAAAAAAAAAAAAAAAAAAAAAAAAAAAAAAAAAAAAAAAAAAAAAAAAAAAAAAAAAAAAAAAAAAAAAAAAAAAAAAAAAAAAAAAAAAAAAAAAAAAAAAAAAAAAAAAAAAAAAAAAAAAAAAAAAAAAAAAAAAAAAAAAAAAAAAAAAAAAAAAAAAAAAAAAAAAAAAAAAAAAAAAAAAAAAAAAAAAAAAAAAAAAAAAAAAAAAAAAAAAAAAAAAAAAAAAAAAAAAAAAAAAAAAAAAAAAAAAAAAAAAAAAAAAAAAAAAAAAAAAAAAAAAAAAAAAAAAAAAAAAAAAAAAAAAAAAAAAAAAAAAAAAAAAAAAAAAAAAAAAAAAAAAAAAAAAAAAAAAAAAAAAAKmoqD66uTk/oJ8fP5iXFz/x8HA+kZAQPgAAAAAAAAAAAAAAAAAAAAAAAAAAAAAAAAAAAAAAAAAAAAAAAAAAAAAAAAAAAAAAAAAAAAAAAAAAAAAAAAAAAAAAAAAAAAAAAAAAAAAAAAAAAAAAAAAAAADf3l4///5+P//+fj///n4///5+P/LxcT/HxkY/x8ZGP8fGRj/HxkY/x8ZGP8fGRj/HxkY/x8ZGP6uqKj/R0FA+AAAAAAAAAAAAAAAAAAAAAAAAAAAAAAAAAAAAAAAAAAAAAAAAAAAAAAAAAAAAAAAAh4aGPuXk5D6RkJA+5eTkPqSjIz/k42M///5+P+LhYT///n4///5+P//+fj/7+no/5uVlP//+fj///n4/jYwMPwAAAAAAAAAAAAAAAAAAAAAAAAAAAAAAAAAAAAAAAAAAAAAAAAAAAAAAAAAAAAAAAAAAAAAAAAAAAAAAAAAAAAAAAAAAiYiIPYWEhD7h4GA9h4aGPoeGhj6HhoY+7exsPqmoqD3t7Gw///5+P9XU1D4AAAAAAAAAAAAAAAAAAAAAAAAAAAAAAAAAAAAAAAAAAAAAAAAAAAAAAAAAAAAAAAAAAAAAAAAAAAAAAAAAAAAAAAAAAAAAAAAAAAAAAAAAAAAAAAAAAAAAAAAAAAAAAACnpqY+/v19P9LRUT+RkJA9AAAAAAAAAAAAAAAAAAAAAAAAAAAAAAAAAAAAAAAAAAAAAAAAAAAAAAAAAAAAAAAAAAAAAAAAAAAAAAAAAAAAAAAAAAAAAAAAAAAAAAAAAAAAAAAAAAAAAAAAAACxsLA96ulpPwAAgD+npqY+AAAAAAAAAAAAAAAAAAAAAAAAAAAAAAAAAAAAAAAAAAAAAAAAAAAAAAAAAAAAAAAAAAAAAAAAAAAAAAAAAAAAAAAAAAAAAAAAAAAAAAAAAAAAAAAAAAAAAAAAAAAAAAAAgoEBP//+fj/v7m4/sbAwPgAAAAAAAAAAAAAAAAAAAAAAAAAAAAAAAAAAAAAAAAAAAAAAAAAAAAAAAAAAAAAAAAAAAAAAAAAAAAAAAAAAAAAAAAAAAAAAAAAAAAAAAAAAAAAAAAAAAAAAAAAA7exsPvr5eT///n4/+fh4PgAAAAAAAAAAAAAAAAAAAAAAAAAAAAAAAAAAAAAAAAAAAAAAAAAAAAAAAAAAAAAAAAAAAAAAAAAAAAAAAAAAAAAAAAAAAAAAAAAAAAAAAAAAAAAAAAAAAAAAAAAAAAAAAIaFBT///n4/vLs7P6GgoDwAAAAAAAAAAAAAAAAAAAAAAAAAAAAAAAAAAAAAAAAAAAAAAAAAAAAAAAAAAAAAAAAAAAAAAAAAAAAAAAAAAAAAAAAAAAAAAAAAAAAAAAAAAAAAAAAAAAAAAAAAAJGQED3OzU0/+fh4P+noaD4AAAAAAAAAAAAAAAAAAAAAAAAAAAAAAAAAAAAAAAAAAAAAAAAAAAAAAAAAAAAAAAAAAAAAAAAAAAAAAAAAAAAAAAAAAAAAAAAAAAAAAAAAAAAAAAAAAAAAAAAAAAAAAAD9/Pw+//5+P7e2Nj8AAAAAAAAAAAAAAAAAAAAAAAAAAAAAAAAAAAAAAAAAAAAAAAAAAAAAAAAAAAAAAAAAAAAAAAAAAAAAAAAAAAAAAAAAAAAAAAAAAAAAAAAAAAAAAAAAAAAAAAAAAAAAAACXlpY+/Pt7P/HwcD/l5GQ+AAAAAAAAAAAAAAAAAAAAAAAAAAAAAAAAAAAAAAAAAAAAAAAAAAAAAAAAAAAAAAAAAAAAAAAAAAAAAAAAAAAAAAAAAAAAAAAAAAAAAAAAAAAAAAAAAAAAAAAAAACZmJg93t1dP//+fj+npiY/AAAAAAAAAAAAAAAAAAAAAAAAAAAAAAAAAAAAAAAAAAAAAAAAAAAAAAAAAAAAAAAAAAAAAAAAAAAAAAAAAAAAAAAAAAAAAAAAAAAAAAAAAAAAAAAAAAAAAAAAAADBwEA8zMtLP//+fj/c21s/jYwMPgAAAAAAAAAAAAAAAAAAAAAAAAAAAAAAAAAAAAAAAAAAAAAAAAAAAAAAAAAAAAAAAAAAAAAAAAAAAAAAAAAAAAAAAAAAAAAAAAAAAAAAAAAAAAAAAAAAAAAAAAAAmZgYPv/+fj///n4/m5qaPgAAAAAAAAAAAAAAAAAAAAAAAAAAAAAAAAAAAAAAAAAAAAAAAAAAAAAAAAAAAAAAAAAAAAAAAAAAAAAAAAAAAAAAAAAAAAAAAAAAAAAAAAAAAAAAAAAAAAAAAAAA+fj4PeHgYD///n4/5+bmPoGAgDsAAAAAAAAAAAAAAAAAAAAAAAAAAAAAAAAAAAAAAAAAAAAAAAAAAAAAAAAAAAAAAAAAAAAAAAAAAAAAAAAAAAAAAAAAAAAAAAAAAAAAAAAAAAAAAAAAAAAAAAAAAIaFBT///n4///5+P9HQUD4AAAAAAAAAAAAAAAAAAAAAAAAAAAAAAAAAAAAAAAAAAAAAAAAAAAAAAAAAAAAAAAAAAAAAAAAAAAAAAAAAAAAAAAAAAAAAAAAAAAAAAAAAAAAAAAAAAAAAAAAAAPX0dD7z8nI///5+P//+fj/R0FA+AAAAAAAAAAAAAAAAAAAAAAAAAAAAAAAAAAAAAAAAAAAAAAAAAAAAAAAAAAAAAAAAAAAAAAAAAAAAAAAAAAAAAAAAAAAAAAAAAAAAAAAAAAAAAAAAAAAAAAAAAADz8vI+//5+P//+fj/c21s/oaAgPgAAAAAAAAAAAAAAAAAAAAAAAAAAAAAAAAAAAAAAAAAAAAAAAAAAAAAAAAAAAAAAAAAAAAAAAAAAAAAAAAAAAAAAAAAAAAAAAAAAAAAAAAAAAAAAAAAAAAAAAAAA8/LyPv/+fj/Qz08/kZCQPQAAAAAAAAAAAAAAAAAAAAAAAAAAAAAAAAAAAAAAAAAAAAAAAAAAAAAAAAAAAAAAAAAAAAAAAAAAAAAAAAAAAAAAAAAAAAAAAAAAAAAAAAAAAAAAAAAAAAAAAAAAAAAAAAAAAAAAAAAAAAAAAAAAAAAAAAAAAAAAAAAAAAAAAAAAAAAAAAAAAAAAAAAAAAAAAAAAAAAAAAAAAAAAAAAAAAAAAAAAAAAAAA==",
          "dtype": "f4",
          "shape": "28, 28"
         }
        },
        {
         "coloraxis": "coloraxis",
         "hovertemplate": "x: %{x}<br>y: %{y}<br>color: %{z}<extra></extra>",
         "name": "0",
         "type": "heatmap",
         "xaxis": "x2",
         "yaxis": "y2",
         "z": {
          "bdata": "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",
          "dtype": "f8",
          "shape": "28, 28"
         }
        },
        {
         "coloraxis": "coloraxis",
         "hovertemplate": "x: %{x}<br>y: %{y}<br>color: %{z}<extra></extra>",
         "name": "0",
         "type": "heatmap",
         "xaxis": "x3",
         "yaxis": "y3",
         "z": {
          "bdata": "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",
          "dtype": "f8",
          "shape": "28, 28"
         }
        },
        {
         "coloraxis": "coloraxis",
         "hovertemplate": "x: %{x}<br>y: %{y}<br>color: %{z}<extra></extra>",
         "name": "0",
         "type": "heatmap",
         "xaxis": "x4",
         "yaxis": "y4",
         "z": {
          "bdata": "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",
          "dtype": "f8",
          "shape": "28, 28"
         }
        },
        {
         "coloraxis": "coloraxis",
         "hovertemplate": "x: %{x}<br>y: %{y}<br>color: %{z}<extra></extra>",
         "name": "0",
         "type": "heatmap",
         "xaxis": "x5",
         "yaxis": "y5",
         "z": {
          "bdata": "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",
          "dtype": "f8",
          "shape": "28, 28"
         }
        },
        {
         "coloraxis": "coloraxis",
         "hovertemplate": "x: %{x}<br>y: %{y}<br>color: %{z}<extra></extra>",
         "name": "0",
         "type": "heatmap",
         "xaxis": "x6",
         "yaxis": "y6",
         "z": {
          "bdata": "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",
          "dtype": "f8",
          "shape": "28, 28"
         }
        },
        {
         "coloraxis": "coloraxis",
         "hovertemplate": "x: %{x}<br>y: %{y}<br>color: %{z}<extra></extra>",
         "name": "0",
         "type": "heatmap",
         "xaxis": "x7",
         "yaxis": "y7",
         "z": {
          "bdata": "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",
          "dtype": "f8",
          "shape": "28, 28"
         }
        },
        {
         "coloraxis": "coloraxis",
         "hovertemplate": "x: %{x}<br>y: %{y}<br>color: %{z}<extra></extra>",
         "name": "0",
         "type": "heatmap",
         "xaxis": "x8",
         "yaxis": "y8",
         "z": {
          "bdata": "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",
          "dtype": "f8",
          "shape": "28, 28"
         }
        },
        {
         "coloraxis": "coloraxis",
         "hovertemplate": "x: %{x}<br>y: %{y}<br>color: %{z}<extra></extra>",
         "name": "0",
         "type": "heatmap",
         "xaxis": "x9",
         "yaxis": "y9",
         "z": {
          "bdata": "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",
          "dtype": "f8",
          "shape": "28, 28"
         }
        },
        {
         "coloraxis": "coloraxis",
         "hovertemplate": "x: %{x}<br>y: %{y}<br>color: %{z}<extra></extra>",
         "name": "0",
         "type": "heatmap",
         "xaxis": "x10",
         "yaxis": "y10",
         "z": {
          "bdata": "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",
          "dtype": "f8",
          "shape": "28, 28"
         }
        },
        {
         "coloraxis": "coloraxis",
         "hovertemplate": "x: %{x}<br>y: %{y}<br>color: %{z}<extra></extra>",
         "name": "0",
         "type": "heatmap",
         "xaxis": "x11",
         "yaxis": "y11",
         "z": {
          "bdata": "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",
          "dtype": "f8",
          "shape": "28, 28"
         }
        },
        {
         "coloraxis": "coloraxis",
         "hovertemplate": "x: %{x}<br>y: %{y}<br>color: %{z}<extra></extra>",
         "name": "0",
         "type": "heatmap",
         "xaxis": "x12",
         "yaxis": "y12",
         "z": {
          "bdata": "AAAAAAAAAAAAAAAAAAAAAAAAAAAAAAAAAAAAAAAAAAAAAAAAAAAAAAAAAAAAAAAAAAAAAAAAAAAAAAAAAAAAAAAAAAAAAAAAAAAAAAAAAAAAAAAAAAAAAAAAAAAAAAAAAAAAAAAAAAAAAAAAAAAAAAAAAAAAAAAAAAAAAAAAAAAAAAAAAAAAAAAAAAAAAAAAAAAAAAAAAAAAAAAAAAAAAAAAAAAAAAAAAAAAAAAAAAAAAAAAAAAAAAAAAAAAAAAAAAAAAAAAAAAAAAAAAAAAAAAAAAAAAAAAAAAAAAAAAAAAAAAAAAAAAAAAAAAAAAAAAAAAAAAAAAAAAAAAAAAAAAAAAAAAAAAAAAAAAAAAAAAAAAAAAAAAAAAAAAAAAAAAAAAAAAAAAAAAAAAAAAAAAAAAAAAAAAAAAAAAAAAAAAAAAAAAAAAAAAAAAAAAAAAAAAAAAAAAAAAAAAAAAAAAAAAAAAAAAAAAAAAAAAAAAAAAAAAAAAAAAOno6D77+vo+rKsrPwAAgD8AAIA/l5YWP7u6uj4AAAAAAAAAAAAAAAAAAAAAAAAAAAAAAAAAAAAAAAAAAAAAAAAAAAAAAAAAAAAAAAAAAAAAAAAAAAAAAAAAAAAAAAAAAAAAAAAAAAAAAAAAAKqpKT/+/X0//v19P/79fT/+/X0//v19P/79fT/b2lo/8fDwPQAAAAAAAAAAAAAAAAAAAAAAAAAAAAAAAAAAAAAAAAAAAAAAAAAAAAAAAAAAAAAAAAAAAAAAAAAAAAAAAAAAAAAAAAAAAAAAAKqpKT/+/X0//v19P/79fT/W1VU/j44OP7GwMD/+/X0//v19P/X09D4AAAAAAAAAAAAAAAAAAAAAAAAAAAAAAAAAAAAAAAAAAAAAAAAAAAAAAAAAAAAAAAAAAAAAAAAAAAAAAAAAAAAAAAAAANHQUD77+no//v19P9PSUj+BgAA+wcBAPQAAAADBwMA8z85OP/79fT+NjAw/AAAAAAAAAAAAAAAAAAAAAAAAAAAAAAAAAAAAAAAAAAAAAAAAAAAAAAAAAAAAAAAAAAAAAAAAAAAAAAAAAAAAAAAAAACbmpo+/Pt7P9PSUj/JyMg9AAAAAAAAAAAAAAAA9fT0Pvn4eD/+/X0/g4KCPgAAAAAAAAAAAAAAAAAAAAAAAAAAAAAAAAAAAAAAAAAAAAAAAAAAAAAAAAAAAAAAAAAAAAAAAAAAAAAAAAAAAAAAAAAAAAAAAPn4+D2RkJA9AAAAAAAAAAAAAAAAAAAAANLRUT/+/X0//v19P4OCgj4AAAAAAAAAAAAAAAAAAAAAAAAAAAAAAAAAAAAAAAAAAAAAAAAAAAAAAAAAAAAAAAAAAAAAAAAAAAAAAAAAAAAAAAAAAAAAAAAAAAAAAAAAAAAAAAAAAAAAAAAAAOvq6j7493c//v19P8fGRj+hoCA9AAAAAAAAAAAAAAAAAAAAAAAAAAAAAAAAAAAAAAAAAAAAAAAAAAAAAAAAAAAAAAAAAAAAAAAAAAAAAAAAAAAAAAAAAAAAAAAAAAAAAAAAAAAAAAAAAAAAAJmYmD7493c//v19P+jnZz/9/Hw+AAAAAAAAAAAAAAAAAAAAAAAAAAAAAAAAAAAAAAAAAAAAAAAAAAAAAAAAAAAAAAAAAAAAAAAAAAAAAAAAAAAAAAAAAAAAAAAAAAAAAAAAAAAAAAAAAAAAAAAAAACBgAA//v19P/79fT+RkBA/AAAAAAAAAAAAAAAAAAAAAAAAAAAAAAAAAAAAAAAAAAAAAAAAAAAAAAAAAAAAAAAAAAAAAAAAAAAAAAAAAAAAAAAAAAAAAAAAAAAAAAAAAAAAAAAAAAAAAAAAAACxsDA/9/Z2P/79fT+gnx8/wcBAPQAAAAAAAAAAAAAAAAAAAAAAAAAAAAAAAAAAAAAAAAAAAAAAAAAAAAAAAAAAAAAAAAAAAAAAAAAAAAAAAAAAAAAAAAAAAAAAAAAAAAAAAAAAAAAAAAAAAADJyMg96+pqP/79fT/q6Wk/jYwMPgAAAAAAAAAAAAAAAAAAAAAAAAAAAAAAAAAAAAAAAAAAAAAAAAAAAAAAAAAAAAAAAAAAAAAAAAAAAAAAAAAAAAAAAAAAAAAAAAAAAAAAAAAAAAAAAAAAAAAAAAAAx8ZGP/79fT/+/X0/jo0NPwAAAAAAAAAAAAAAAAAAAAAAAAAAAAAAAAAAAAAAAAAAAAAAAAAAAAAAAAAAAAAAAAAAAAAAAAAAAAAAAAAAAAAAAAAAAAAAAAAAAAAAAAAAAAAAAAAAAAAAAAAAnZycPvn4eD/+/X0/vr09P8HAQD0AAAAAAAAAAAAAAAAAAAAAAAAAAAAAAAAAAAAAAAAAAAAAAAAAAAAAAAAAAAAAAAAAAAAAAAAAAAAAAAAAAAAAAAAAAAAAAAAAAAAAAAAAAAAAAAAAAAAAmZiYPcnISD/+/X0//v19P46NDT8AAAAAAAAAAAAAAAAAAAAAAAAAAAAAAAAAAAAAAAAAAAAAAAAAAAAAAAAAAAAAAAAAAAAAAAAAAAAAAAAAAAAAAAAAAAAAAAAAAAAAAAAAAAAAAAAAAAAAAAAAAIeGBj/+/X0//v19P66tLT/BwEA9AAAAAAAAAAAAAAAAAAAAAAAAAAAAAAAAAAAAAAAAAAAAAAAAAAAAAAAAAAAAAAAAAAAAAAAAAAAAAAAAAAAAAAAAAAAAAAAAAAAAAAAAAAAAAAAAAAAAAAAAAAD5+Hg//v19P/79fT/JyMg9AAAAAAAAAAAAAAAAAAAAAAAAAAAAAAAAAAAAAAAAAAAAAAAAAAAAAAAAAAAAAAAAAAAAAAAAAAAAAAAAAAAAAAAAAAAAAAAAAAAAAAAAAAAAAAAAAAAAAAAAAAAAAAAA+fh4P/79fT/+/X0/rawsPqGgoD2hoKA9oaCgPaGgoD2hoKA8AAAAAKGgoDyhoKA9oaCgPZWUFD6XlhY/l5YWP5eWFj+UkxM/oaAgPQAAAAAAAAAAAAAAAAAAAAAAAAAAAAAAAAAAAAAAAAAAAAAAAPn4eD/+/X0//v19P/79fT/+/X0//v19P/79fT/+/X0/qagoP5CPDz+npiY//v19P/79fT/+/X0//v19P/79fT/+/X0//v19P/f29j4AAAAAAAAAAAAAAAAAAAAAAAAAAAAAAAAAAAAAAAAAAAAAAACvri4//v19P/79fT/+/X0//v19P/79fT/+/X0//v19P/79fT/+/X0//v19P/79fT/6+Xk/+Pd3P/j3dz+qqSk/6+rqPuvq6j7l5GQ+AAAAAAAAAAAAAAAAAAAAAAAAAAAAAAAAAAAAAAAAAAAAAAAAAAAAAO3s7D739vY+9/b2Pvf29j6npiY//v19P/79fT/+/X0/nJsbP/f29j739vY+paQkPgAAAAAAAAAAAAAAAAAAAAAAAAAAAAAAAAAAAAAAAAAAAAAAAAAAAAAAAAAAAAAAAAAAAAAAAAAAAAAAAAAAAAAAAAAAAAAAAAAAAAAAAAAAAAAAAAAAAAAAAAAAAAAAAAAAAAAAAAAAAAAAAAAAAAAAAAAAAAAAAAAAAAAAAAAAAAAAAAAAAAAAAAAAAAAAAAAAAAAAAAAAAAAAAAAAAAAAAAAAAAAAAAAAAAAAAAAAAAAAAAAAAAAAAAAAAAAAAAAAAAAAAAAAAAAAAAAAAAAAAAAAAAAAAAAAAAAAAAAAAAAAAAAAAAAAAAAAAAAAAAAAAAAAAAAAAAAAAAAAAAAAAAAAAAAAAAAAAAAAAAAAAAAAAAAAAAAAAAAAAAAAAAAAAAAAAAAAAAAAAAAAAAAAAAAAAAAAAAAAAAAAAAAAAAAAAAAAAAAAAAAAAAAAAAAAAAAAAAAAAAAAAAAAAAAAAAAAAAAAAAAAAAAAAAAAAAAAAAAAAAAAAAAAAAAAAAAAAAAAAAAAAAAAAAAAAAAAAAAAAAAAAAAAAAAAAAAAAAAAAAAAAAAAAAAAAAAAAAAAAAAAAAAAAAAAAAAAAAAAAAAAAAAAAAAAAAAAAAAAAAAAAAAAAAAAAAAAAAAAAAAAAAAAAAAAAAAAAAAAAAAAAAAAAAAAAAAAAAAAAAAAAAAAAAAAAAAAAAAAAAAAAAAAAAAAAAAAAAAAAAAAAAAAAAAAAAAAAAAAAAAAAAAAAAAAAAAAAAAAAAAAAAAAAAAAAAAAAAAAAAAAAA==",
          "dtype": "f4",
          "shape": "28, 28"
         }
        },
        {
         "coloraxis": "coloraxis",
         "hovertemplate": "x: %{x}<br>y: %{y}<br>color: %{z}<extra></extra>",
         "name": "0",
         "type": "heatmap",
         "xaxis": "x13",
         "yaxis": "y13",
         "z": {
          "bdata": "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",
          "dtype": "f8",
          "shape": "28, 28"
         }
        },
        {
         "coloraxis": "coloraxis",
         "hovertemplate": "x: %{x}<br>y: %{y}<br>color: %{z}<extra></extra>",
         "name": "0",
         "type": "heatmap",
         "xaxis": "x14",
         "yaxis": "y14",
         "z": {
          "bdata": "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",
          "dtype": "f8",
          "shape": "28, 28"
         }
        },
        {
         "coloraxis": "coloraxis",
         "hovertemplate": "x: %{x}<br>y: %{y}<br>color: %{z}<extra></extra>",
         "name": "0",
         "type": "heatmap",
         "xaxis": "x15",
         "yaxis": "y15",
         "z": {
          "bdata": "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",
          "dtype": "f8",
          "shape": "28, 28"
         }
        },
        {
         "coloraxis": "coloraxis",
         "hovertemplate": "x: %{x}<br>y: %{y}<br>color: %{z}<extra></extra>",
         "name": "0",
         "type": "heatmap",
         "xaxis": "x16",
         "yaxis": "y16",
         "z": {
          "bdata": "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",
          "dtype": "f8",
          "shape": "28, 28"
         }
        },
        {
         "coloraxis": "coloraxis",
         "hovertemplate": "x: %{x}<br>y: %{y}<br>color: %{z}<extra></extra>",
         "name": "0",
         "type": "heatmap",
         "xaxis": "x17",
         "yaxis": "y17",
         "z": {
          "bdata": "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",
          "dtype": "f8",
          "shape": "28, 28"
         }
        },
        {
         "coloraxis": "coloraxis",
         "hovertemplate": "x: %{x}<br>y: %{y}<br>color: %{z}<extra></extra>",
         "name": "0",
         "type": "heatmap",
         "xaxis": "x18",
         "yaxis": "y18",
         "z": {
          "bdata": "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",
          "dtype": "f8",
          "shape": "28, 28"
         }
        },
        {
         "coloraxis": "coloraxis",
         "hovertemplate": "x: %{x}<br>y: %{y}<br>color: %{z}<extra></extra>",
         "name": "0",
         "type": "heatmap",
         "xaxis": "x19",
         "yaxis": "y19",
         "z": {
          "bdata": "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",
          "dtype": "f8",
          "shape": "28, 28"
         }
        },
        {
         "coloraxis": "coloraxis",
         "hovertemplate": "x: %{x}<br>y: %{y}<br>color: %{z}<extra></extra>",
         "name": "0",
         "type": "heatmap",
         "xaxis": "x20",
         "yaxis": "y20",
         "z": {
          "bdata": "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",
          "dtype": "f8",
          "shape": "28, 28"
         }
        },
        {
         "coloraxis": "coloraxis",
         "hovertemplate": "x: %{x}<br>y: %{y}<br>color: %{z}<extra></extra>",
         "name": "0",
         "type": "heatmap",
         "xaxis": "x21",
         "yaxis": "y21",
         "z": {
          "bdata": "kiRJAhQSqz+SJEkCFBKrP5IkSQIUEqs/kiRJAhQSqz/0PM9/v5e5P/Q8z3+/l7k/9DzPf7+XuT9u27Ys/CGqP27btiz8Iao/btu2DDyorj9u27YMPKiuP5/nefy7ybe/n+d5/LvJt7+f53n8u8m3vwAAAAjVLqw/AAAACNUurD8AAAAI1S6sPwAAAAjVLqw/AAAAmJBmpb8AAACYkGalvwAAAJiQZqW/JEmSh/rhtD8kSZKH+uG0PyRJkvcxE7I/JEmS9zETsj/oeZ72YRnGP+h5nvZhGcY/6HmeQVjcxj/ctm0n/pSgP9y2bSf+lKA/3LZtJ/6UoD/ctm0n/pSgPwzDMByABpU/DMMwHIAGlT8MwzAcgAaVP2zbtm1Lt5g/bNu2bUu3mD+2bdsmqOClP7Zt2yao4KU/wzAMIWrfwD/DMAwhat/AP8MwDCFq38A/3LZtt8tntL/ctm23y2e0v9y2bbfLZ7S/3LZtt8tntL+YJEmSKmdqP5gkSZIqZ2o/mCRJEvkFZD8AAABQ5LGavwAAAFDksZq/AAAAuOTLrb8AAAC45Mutv6qqqqrUzGS/qqqqqtTMZL9VVVW9YH2qP7dt26D8H6e/t23boPwfp7+3bdug/B+nv7dt26D8H6e/bdu2LQM4n79t27YtAzifv23bti0DOJ+/JUmSYMpSrb8lSZJgylKtvyVJkmDKUq2/JUmSYMpSrb/oeZ6LQve7v+h5notC97u/6Hmei0L3u7+2bduGVvibP7Zt24ZW+Js/tm3bhlb4mz+2bduGVvibP2MYhhHVCJM/YxiGEdUIkz9jGIYR1QiTPyRJkriSwKg/JEmSuJLAqD8kSZK4ksCoPyRJkriSwKg/Pc/z0MDcuz89z/PQwNy7Pz3P89DA3Ls/IEmSJN1TVz8gSZIk3VNXP8Bt27bN3U+/wG3bts3dT7+4bduW0UV9v7ht25bRRX2/3LZtmy99jb+SJEm0s8KnP5IkSbSzwqc/kiRJtLPCpz+SJEm0s8KnP/Q8z9v7l7Y/9DzP2/uXtj/0PM/b+5e2PwAAAOC1vZe/AAAA4LW9l78AAADA7s6GvwAAAMDuzoa/AAAAiCXoqL8AAACIJeiovwAAAIgl6Ki/SZIkS+HcuD9JkiRL4dy4P0mSJEvh3Lg/SZIkS+HcuD96nue71lPAP3qe57vWU8A/ep7nu9ZTwD9u27axeuGoP27btrF64ag/btu2sXrhqD9u27axeuGoP8MwDCv8yqY/wzAMK/zKpj/DMAwr/MqmPyBJkiSQe3k/IEmSJJB7eT8gSZIkkHt5PyBJkiSQe3k/btu2NeN1sL9u27Y143Wwv27btrlA3LO/JUmSRIwyfL8lSZJEjDJ8vyVJkkSMMny/JUmSRIwyfL89z/PcG7KGvz3P89wbsoa/Pc/z3Buyhr8AAAAIx+aSPwAAAAjH5pI/AAAACMfmkj8AAAAIx+aSPwAAAFBGwZq/AAAAUEbBmr8AAABQRsGav0iSJDHgvoG/SJIkMeC+gb9IkiQx4L6Bv0iSJDHgvoG/GIZhqLlRpz8YhmGouVGnPxiGYai5Uac/btu2+nLQtb9u27b6ctC1v27btvpy0LW/btu2+nLQtb/btm1LGOegv9u2bUsY56C/27ZtSxjnoL/btm19HIqiP9u2bX0ciqI/27Zt/aZyrT/btm39pnKtPzEMw5CPeK8/MQzDkI94rz8xDMOQj3ivPwAAAADo/xO/AAAAAOj/E78AAAAA6P8TvwAAAADo/xO/q6qq0re1qT+rqqrSt7WpP6uqqtK3tak/27Zt20fgmb/btm3bR+CZv0qSJMkjOo0/SpIkySM6jT8wDMMQC3aQvzAMwxALdpC/wzAM/1R/0b/gtm1rw7aRPwBu27bqO1Y/kiRJA2HE0r+SJEkbo/7Svz3P87orBNG/Pc/zuisE0b89z/O8VkHQv0mSJAr30sK/SZIkCvfSwr9w27ZdZreFP3Dbtl1mt4U/hmEY5udtoT+GYRjm522hP3qe54kgH6W/JEmS+JLrs78kSZL4kuuzv0iSJIGluqK/SJIkgaW6or8YhmGMyYXAPxiGYYzJhcA/6HmeB0qKwL9u27ZtGVF2P27btm0ZUXY/btu27aETcD9u27btoRNwP+h5ns/ufa+/6Hmez+59r7/oeZ7P7n2vvwAAAJA5prC/AAAAkDmmsL8AAAAQ+lmuvwAAABD6Wa6/VVVVaXXyvb9VVVVpdfK9v1VVVWl18r2/AAAAONIgmL8AAAA40iCYvwAAADjSIJi/AAAAONIgmL9VVVUZpQm2v1VVVRmlCba/VVVVGaUJtr9JkiR1SGq4v0mSJHVIari/SZIkdUhquL9JkiR1SGq4v8/zPF3UfsG/z/M8XdR+wb/P8zxd1H7Bv7Zt28asi5G/tm3bxqyLkb+2bdvGrIuRv7Zt28asi5G/MQzDoBj4o78xDMOgGPijvzEMw6AY+KO/2LZt+4+pcL/Ytm37j6lwv9i2bfuPqXC/2LZt+4+pcL/DMAwn7R+xv8MwDCftH7G/wzAMi5PDvr8kSZIcWTqJPyRJkhxZOok/JEmSHFk6iT8kSZIcWTqJP/Q8z1OfUH8/9DzPU59Qfz/DMAyj6z6bv0mSJCO2bau/SZIkI7Ztq79JkiQjtm2rv0mSJCO2bau/0PM807VUub/Q8zzTtVS5v9DzPNO1VLm/SZIkSaQEwT9JkiRJpATBP0mSJEmkBME/SZIkSaQEwT+TJElSUHO3P5MkSVJQc7c/kyRJUlBztz8gSZKEIs1oPyBJkoQizWg/IEmShCLNaD8gSZKEIs1oPzAMw4CyGZW/MAzDgLIZlb8wDMOAshmVvwAAAModar6/AAAAyh1qvr8AAADKHWq+vwAAAModar6/q6qqUu6gtb+rqqpS7qC1v6uqqlLuoLW/3LZtE++vhr/ctm0T76+Gv9y2bRPvr4a/3LZtE++vhr8AwzCMUmNEvwDDMIxSY0S/GIZhcOACkL8lSZLIksSePyVJksiSxJ4/JUmSyJLEnj8lSZLIksSeP9u2bdsz1J+/27Zt2zPUn79u27blnCGlv27btkG/S6e/btu2Qb9Lp79u27ZBv0unv27btkG/S6e/wzAMI6vVr7/DMAwjq9Wvv8MwDCOr1a+/cNu2bRZ/Tr9w27ZtFn9Ov3Dbtm0Wf06/cNu2bRZ/Tr96nucZFwGQP3qe5xkXAZA/ep7nGRcBkD+4bdv6L9abP7ht2/ov1ps/cNu2VW52hz9w27ZVbnaHP8MwDHN6UoQ/wzAMc3pShD89z/P8wHeLv1ZVVbXRTYm/VlVVtdFNib9WVVW10U2Jv1ZVVbXRTYm/AAAA+JGmsT8AAAD4kaaxPwAAAGCaQKM/9DzPe4LWub/0PM97gta5v/Q8z3/iQby/9DzPf+JBvL/0PM8LSmKwv/Q8zwtKYrC/9DzPC0pisL9WVVXhRGGXP1ZVVeFEYZc/VlVVgSZEkD9WVVWBJkSQP6qqqrrRfoA/qqqqutF+gD9QVVVVNUc6PzAMwyxXHom/MAzDLFceib8wDMNsnX+FvzAMw2ydf4W/n+d5kvD0oT+f53mS8PShP5/neZLw9KE/eJ7nUfsdiL94nudR+x2Iv3ie51H7HYi/eJ7nUfsdiL/oeZ6PDgfBv+h5no8OB8G/6Hmev0+vwb89z/PV3Muyvz3P89Xcy7K/Pc/zBXYmtL89z/MFdia0v4dhGKYwcac/h2EYpjBxpz+HYRimMHGnPzEMw3Jax6C/MQzDclrHoL8xDMNyWsegvzEMw3Jax6C/e57nuZfAfT97nue5l8B9P3ue57mXwH0/MAzDMCQFaL8wDMMwJAVovzAMwzAkBWi/MAzDMCQFaL8yDMNQ/1CZvzIMw1D/UJm/MgzDEP+mmL/oeZ4R4avEv8/zPNNH2b2/EMMwTJ8BcD8QwzBMnwFwP6DneT6kgnu/6HmeD/Hqlb8MwzAUY96sP8MwDPyijMm/wzAM/KKMyb/DMAwg0mTOv8MwDCDSZM6/xDAMdJvfzb9iGAaeZODQv8MwDG2kVMG/hmEYUu4vtb+GYRhS7i+1v/Q8z4tqaaA/9DzPi2ppoD+SJEm5dybAP5IkSbl3JsA/t23bjg4fob88z/OIUnSvPzzP8+i+YqU/ep7nEe82mz96nucR7zabP9u2bQtVVZq/27ZtC1VVmr/btm2byO3Gv27btgme1LU/btu2CZ7UtT9u27YJntS1P27btgme1LU/27Zt6/zUpD/btm3r/NSkP9u2bev81KQ/AAAAxs3/tr8AAADGzf+2vwAAAMbN/7a/AAAAxs3/tr8AAAAgM6a/vwAAACAzpr+/AAAAIDOmv79JkiRd3dOQP0mSJF3d05A/SZIkXd3TkD9JkiRd3dOQP8MwDLcAhrO/wzAMtwCGs7/DMAy3AIazv27btlEy0KM/btu2UTLQoz9u27ZRMtCjP27btlEy0KM/t23bpqQgsT+3bdumpCCxP7dt26akILE/t23bRlG2hj+3bdtGUbaGP7dt20ZRtoY/t23bRlG2hj8lSZKEo26QvyVJkoSjbpC/JUmShKNukL9JkiQlUBuQP0mSJCVQG5A/SZIkJVAbkD9JkiQlUBuQP3We53n8w0U/dZ7nefzDRT91nud5/MNFPyRJkhS5X4o/JEmSFLlfij8kSZIUuV+KPyRJkhS5X4o/hmEYhpsptL+GYRiGmym0v4ZhGIabKbS/t23bvumloj+3bdu+6aWiP7dt277ppaI/t23bvumloj/DMAwjrSmRP8MwDCOtKZE/wzAMI60pkT/ctm17HZmEP9y2bXsdmYQ/3LZtex2ZhD/ctm17HZmEP4VhGIZz0oI/hWEYhnPSgj+FYRiGc9KCP27btjvsp7g/btu2O+ynuD9u27Y77Ke4P27btjvsp7g/GYZhoLv1tD8ZhmGgu/W0PxmGYaC79bQ/27btorfowz/btu2it+jDP9u27aK36MM/27btorfowz8xDMOu6ebDPzEMw67p5sM/MQzDrunmwz+SJEky3f6MP5IkSTLd/ow/kiRJMt3+jD+SJEky3f6MPxiGYRhKwIe/GIZhGErAh78YhmEYSsCHv3Dbtq1Kg2Q/cNu2rUqDZD9w27atSoNkP3Dbtq1Kg2Q/Pc/zvPxMm789z/O8/Eybvz3P87z8TJu/SZIkPCSBub9JkiQ8JIG5v0mSJDwkgbm/SZIkPCSBub+TJEk6Nyanv5MkSTo3Jqe/kyRJOjcmp79IkiSpkBWKP0iSJKmQFYo/SJIkqZAVij9IkiSpkBWKP/Q8z0tVSbU/9DzPS1VJtT/0PM9LVUm1PyVJksr1Srs/JUmSyvVKuz8lSZLK9Uq7PyVJksr1Srs/z/M8/7N6sT/P8zz/s3qxP8/zPP+zerE/3LZtu9y3mj/ctm273LeaP9y2bbvct5o/3LZtu9y3mj9u27b9K6OgP27btv0ro6A/btu2/SujoD8AAADgOPl6PwAAAOA4+Xo/AAAA4Dj5ej8AAADgOPl6PwAAAMDC4KU/AAAAwMLgpT8AAADAwuClPwAAAACL3KS/AAAAAIvcpL8AAAAAi9ykvwAAAACL3KS/VVVVZRRLrL9VVVVlFEusv1VVVWUUS6y/t23bjFJ+r7+3bduMUn6vv7dt24xSfq+/t23bjFJ+r7/btm1/nHi3v9u2bX+ceLe/27Ztf5x4t7+SJEkyBW+Bv5IkSTIFb4G/kiRJMgVvgb+SJEkyBW+Bv9q2bZuiZX4/2rZtm6Jlfj+2bdv2RuWWP7dt29a2w6G/t23b1rbDob+3bdvWtsOhv7dt29a2w6G/DMMwPIQVoL8MwzA8hBWgvwzDMDyEFaC/AAAAGBOlkr8AAAAYE6WSvwAAABgTpZK/AAAAGBOlkr9VVVXN+vOlP1VVVc3686U/VVVVzfrzpT+SJElyCAyoP5IkSXIIDKg/kiRJcggMqD+SJElyCAyoP5MkScrKjKI/kyRJysqMoj+TJEnKyoyiPwAAAIQMXKU/AAAAgszHtj8AAACC0U69PwAAAHJ7nrM/AAAAgMGNcr8AAACAwY1yvwAAAKS8CsE/JEmSuAour78kSZK4Ci6vv0mSJHoJu8G/SZIkegm7wb+f53kePlSXv5/neR4+VJe/n+d5/r1Kmr9JkqSns/jVv0mSpKez+NW/SZKknTZT2L9JkqSdNlPYv3qeZ1sqk+K/ep5nWyqT4r96nuezX5Liv27bds83YtW/btt2zzdi1b9u23ZvSoHSv27bdm9KgdK/DMMwHEnasr8MwzAcSdqyvzIMw8CL0pS/SpIkzTdKkT9KkiTNN0qRP0qSJM03SpE/SpIkzTdKkT8YhmEYtz+8vxiGYRi3P7y/GIZhGLc/vL/ctm3r7KiMv9y2bevsqIy/3LZt6+yojL/ctm3r7KiMv7ht23bGhXa/uG3bdsaFdr+4bdt2xoV2v5IkycoTuMO/kiTJyhO4w7+SJMnKE7jDv5IkycoTuMO/6Hmew5WlyL/oeZ7DlaXIv+h5nsOVpci/kiRJQEMVvb+SJElAQxW9v5IkSUBDFb2/kiRJQEMVvb97nudBdyutv3ue50F3K62/Ps/z+CxCt78AAACQWEGCPwAAAJBYQYI/AAAAkFhBgj8AAACQWEGCP6uqqqoOEDQ/q6qqqg4QND+rqqqqDhA0P5IkScJNepC/kiRJwk16kL+SJEnCTXqQv5IkScJNepC/YRiGebVypT9hGIZ5tXKlP2EYhnm1cqU/tm3b7hyjnT+2bdvuHKOdP9u2bbdb7KQ/27Ztt1vspD/DMAxTdSG7P8MwDFN1Ibs/wzAMU3Uhuz8kSZLUs+KIPyRJktSz4og/kCRJUvM1aj+QJElS8zVqP0mSJDkbXqg/SZIkORteqD9JkiQ5G16oP0qSJIXEIJY/SpIkhcQglj9KkiSFxCCWP0qSJIXEIJY/wzAMZ01Sub/DMAxnTVK5v8MwDGdNUrm/27Zt+69jrL/btm37r2Osv9u2bfuvY6y/27Zt+69jrL9t27YNnxu3v23btg2fG7e/bdu2DZ8bt79JkiQGrjq5v0mSJAauOrm/SZIkBq46ub9JkiQGrjq5v5MkSUrk1am/kyRJSuTVqb+TJElK5NWpvwAAAJBd7Z6/AAAAkF3tnr8AAACgXkaEvwAAAKBeRoS/q6qqRIqgsL+rqqpEiqCwv6uqqk60dLC/SZIkyZReuz9JkiTJlF67P0mSJLns1LU/SZIkuezUtT/0PM878Le0P/Q8zzvwt7Q/9DzPO/C3tD9u27YTJKG6v27bthMkobq/btu2410Ct79u27bjXQK3vxiGYYiFALq/GIZhiIUAur8YhmGIhQC6v5IkSeJEIKu/kiRJ4kQgq7+SJEniRCCrv5IkSeJEIKu/Pc/zrM13o789z/OszXejvz3P8+yLbKe/JEmSjCRQlr8kSZKMJFCWv0mSJJmogoS/SZIkmaiChL8MwzAMhLiAPwzDMAyEuIA/DMMwDIS4gD+f53nxiySlv5/nefGLJKW/n+d5gUUUqb+f53mBRRSpv9DzvJE3Fbu/0PO8kTcVu7/Q8zwkCUS5v4ZhGN4dK6U/hmEY3h0rpT8MwzC8jAybPwzDMLyMDJs/ep7nOVsYoL96nuc5Wxigv3qe5zlbGKC/9DzP82Odcr/0PM/zY51yv/Q8z/N9PnK/9DzP830+cr8wDMNo0eG0PzAMw2jR4bQ/MAzDIPiVvD8xDMOYjwefPzEMw5iPB58/YhiG8X2/hD9iGIbxfb+EP8IwDGO/5q8/wjAMY7/mrz+EYRgmcpScP1VVVc0E1Ka/VVVVzQTUpr9VVVXNBNSmv1VVVc0E1Ka/AAAAxLRPub8AAADEtE+5vwAAAGyxtri/qqqqCM0ilL+qqqoIzSKUv6qqqgjNIpS/qqqqCM0ilL8AAIBfQsKwvwAAgF9CwrC/AAAA/jtfqr+f53lUQdewP5/neVRB17A/n+d55Nwesj+f53nk3B6yP/Q8z/8+trI/9DzP/z62sj/Q8zzPchafPxiGYVhN2KI/GIZhWE3Yoj8YhmFYTdiiPxiGYVhN2KI/e57nOXdnlr97nuc5d2eWv3ue5zl3Z5a/DMMwKDtwz78MwzAo9OHOvxiGYaDd+7u/GIZhICstuL/ctm1/pirVv9y2be8GntW/t23b7l4Jxb8wDMOwFRuHv2AYhmHfGnO/Pc/zdFHjxT89z/P0bKDIPxiGYai/GMG/GIZhqL8Ywb8YhmGg6InLv8/zPCOWC6Q/YhiG+YpDk7/oeZ75WjO3P+h5njnZfrg/9DzPFZSqwj/0PM91zTPCP3qe513r5No/0PM8D7EJvL/oeZ4HpErBv+B5nudcPWK/6Hmec1v1wL+e53mWNV6lv57neZY1XqW/PM/zHBo7kL8=",
          "dtype": "f8",
          "shape": "28, 28"
         }
        },
        {
         "coloraxis": "coloraxis",
         "hovertemplate": "x: %{x}<br>y: %{y}<br>color: %{z}<extra></extra>",
         "name": "0",
         "type": "heatmap",
         "xaxis": "x22",
         "yaxis": "y22",
         "z": {
          "bdata": "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",
          "dtype": "f8",
          "shape": "28, 28"
         }
        },
        {
         "coloraxis": "coloraxis",
         "hovertemplate": "x: %{x}<br>y: %{y}<br>color: %{z}<extra></extra>",
         "name": "0",
         "type": "heatmap",
         "xaxis": "x23",
         "yaxis": "y23",
         "z": {
          "bdata": "AAAAAAAAAAAAAAAAAAAAAAAAAAAAAAAAAAAAAAAAAAAAAAAAAAAAAAAAAAAAAAAAAAAAAAAAAAAAAAAAAAAAAAAAAAAAAAAAAAAAAAAAAAAAAAAAAAAAAAAAAAAAAAAAAAAAAAAAAAAAAAAAAAAAAAAAAAAAAAAAAAAAAAAAAAAAAAAAAAAAAAAAAAAAAAAAAAAAAAAAAAAAAAAAAAAAAAAAAAAAAAAAAAAAAAAAAAAAAAAAAAAAAAAAAAAAAAAAAAAAAAAAAAAAAAAAAAAAAAAAAAAAAAAAAAAAAAAAAAAAAAAAAAAAAAAAAAAAAAAAAAAAAAAAAAAAAAAAAAAAAAAAAAAAAAAAAAAAAAAAAAAAAAAAAAAAAAAAAAAAAAAAAAAAAAAAAAAAAAAAAAAAAAAAAAAAAAAAAAAAAAAAAAAAAAAAAAAAAAAAAAAAAAAAAAAAAAAAAAAAAAAAAAAAAAAAAAAAAAAAAAAAAAAAAAAAAAAAAAAAAAAAAAAAAAAAAAAAAAAAAAAAAAAAAAAAAAAAAAAAAAAAAAAAAAAAAAAAAAAAAAAAAAAAAAAAAAAAAAAAAAAAAAAAAAAAAAAAAAAAAAAAAAAAAAAAAAAAAAAAAAAAAAAAAAAAAAAAAAAAAAAAAAAAAAAAAAAAAAAAAAAAAAAAAAAAAAAAAAAAAACZmBg+//5+P9va2j4AAAAAAAAAAAAAAAAAAAAAAAAAAAAAAAAAAAAAAAAAAAAAAAAAAAAAAAAAAAAAAAAAAAAAAAAAAAAAAAAAAAAAAAAAAAAAAAAAAAAAAAAAAAAAAAAAAAAAAAAAAAAAAAAAAAAAr66uPv38fD+lpKQ+AAAAAAAAAAAAAAAAAAAAAAAAAAAAAAAAAAAAAAAAAAAAAAAAAAAAAAAAAAAAAAAAAAAAAAAAAAAAAAAAAAAAAAAAAAAAAAAAAAAAAAAAAAAAAAAAAAAAAAAAAAAAAAAAAAAAAIiHBz/y8XE/AAAAAAAAAAAAAAAAAAAAAAAAAAAAAAAAAAAAAAAAAAAAAAAAAAAAAAAAAAAAAAAAAAAAAAAAAAAAAAAAAAAAAAAAAAAAAAAAAAAAAAAAAAAAAAAAAAAAAAAAAAAAAAAAAAAAALW0ND719HQ/l5YWPwAAAAAAAAAAAAAAAAAAAAAAAAAAAAAAAAAAAAAAAAAAAAAAAAAAAAAAAAAAAAAAAAAAAAAAAAAAAAAAAAAAAAAAAAAAAAAAAAAAAAAAAAAAAAAAAAAAAAAAAAAAAAAAAAAAAACpqKg+//5+P/38fD4AAAAAAAAAAAAAAAAAAAAAAAAAAAAAAAAAAAAAAAAAAAAAAAAAAAAAAAAAAAAAAAAAAAAAAAAAAAAAAAAAAAAAAAAAAAAAAAAAAAAAAAAAAAAAAAAAAAAAAAAAAAAAAAAAAAAAy8pKP+DfXz+xsDA9AAAAAAAAAAAAAAAAAAAAAAAAAAAAAAAAAAAAAAAAAAAAAAAAAAAAAAAAAAAAAAAAAAAAAAAAAAAAAAAAAAAAAAAAAAAAAAAAAAAAAAAAAAAAAAAAAAAAAAAAAAAAAAAAgYAAPv/+fj/Z2Fg/AAAAAAAAAAAAAAAAAAAAAAAAAAAAAAAAAAAAAAAAAAAAAAAAAAAAAAAAAAAAAAAAAAAAAAAAAAAAAAAAAAAAAAAAAAAAAAAAAAAAAAAAAAAAAAAAAAAAAAAAAAAAAAAAAAAAAL++vj7//n4/xMNDPwAAAAAAAAAAAAAAAAAAAAAAAAAAAAAAAAAAAAAAAAAAAAAAAAAAAAAAAAAAAAAAAAAAAAAAAAAAAAAAAAAAAAAAAAAAAAAAAAAAAAAAAAAAAAAAAAAAAAAAAAAAAAAAAAAAAACNjAw///5+P5uamj4AAAAAAAAAAAAAAAAAAAAAAAAAAAAAAAAAAAAAAAAAAAAAAAAAAAAAAAAAAAAAAAAAAAAAAAAAAAAAAAAAAAAAAAAAAAAAAAAAAAAAAAAAAAAAAAAAAAAAAAAAAAAAAADl5GQ+7u1tP87NTT+BgAA9AAAAAAAAAAAAAAAAAAAAAAAAAAAAAAAAAAAAAAAAAAAAAAAAAAAAAAAAAAAAAAAAAAAAAAAAAAAAAAAAAAAAAAAAAAAAAAAAAAAAAAAAAAAAAAAAAAAAAAAAAAAAAAAA+fj4PgAAgD+mpSU/AAAAAAAAAAAAAAAAAAAAAAAAAAAAAAAAAAAAAAAAAAAAAAAAAAAAAAAAAAAAAAAAAAAAAAAAAAAAAAAAAAAAAAAAAAAAAAAAAAAAAAAAAAAAAAAAAAAAAAAAAAAAAAAAAAAAAKyrKz///n4/o6KiPgAAAAAAAAAAAAAAAAAAAAAAAAAAAAAAAAAAAAAAAAAAAAAAAAAAAAAAAAAAAAAAAAAAAAAAAAAAAAAAAAAAAAAAAAAAAAAAAAAAAAAAAAAAAAAAAAAAAAAAAAAAAAAAAMHAwD3p6Gg/2NdXPwAAAAAAAAAAAAAAAAAAAAAAAAAAAAAAAAAAAAAAAAAAAAAAAAAAAAAAAAAAAAAAAAAAAAAAAAAAAAAAAAAAAAAAAAAAAAAAAAAAAAAAAAAAAAAAAAAAAAAAAAAAAAAAAAAAAADx8PA+//5+P6CfHz8AAAAAAAAAAAAAAAAAAAAAAAAAAAAAAAAAAAAAAAAAAAAAAAAAAAAAAAAAAAAAAAAAAAAAAAAAAAAAAAAAAAAAAAAAAAAAAAAAAAAAAAAAAAAAAAAAAAAAAAAAAAAAAAAAAAAAmJcXP//+fj+Pjg4/AAAAAAAAAAAAAAAAAAAAAAAAAAAAAAAAAAAAAAAAAAAAAAAAAAAAAAAAAAAAAAAAAAAAAAAAAAAAAAAAAAAAAAAAAAAAAAAAAAAAAAAAAAAAAAAAAAAAAAAAAAAAAAAAAAAAAOXkZD///n4/hYSEPgAAAAAAAAAAAAAAAAAAAAAAAAAAAAAAAAAAAAAAAAAAAAAAAAAAAAAAAAAAAAAAAAAAAAAAAAAAAAAAAAAAAAAAAAAAAAAAAAAAAAAAAAAAAAAAAAAAAAAAAAAAAAAAAPX0dD78+3s///5+P4WEhD4AAAAAAAAAAAAAAAAAAAAAAAAAAAAAAAAAAAAAAAAAAAAAAAAAAAAAAAAAAAAAAAAAAAAAAAAAAAAAAAAAAAAAAAAAAAAAAAAAAAAAAAAAAAAAAAAAAAAAAAAAAAAAAACOjQ0///5+P87NTT/BwEA8AAAAAAAAAAAAAAAAAAAAAAAAAAAAAAAAAAAAAAAAAAAAAAAAAAAAAAAAAAAAAAAAAAAAAAAAAAAAAAAAAAAAAAAAAAAAAAAAAAAAAAAAAAAAAAAAAAAAAAAAAAChoCA92NdXP//+fj/z8vI+AAAAAAAAAAAAAAAAAAAAAAAAAAAAAAAAAAAAAAAAAAAAAAAAAAAAAAAAAAAAAAAAAAAAAAAAAAAAAAAAAAAAAAAAAAAAAAAAAAAAAAAAAAAAAAAAAAAAAAAAAAAAAAAAoaCgPMfGRj+xsDA/oaAgPQAAAAAAAAAAAAAAAAAAAAAAAAAAAAAAAAAAAAAAAAAAAAAAAAAAAAAAAAAAAAAAAAAAAAAAAAAAAAAAAAAAAAAAAAAAAAAAAAAAAAAAAAAAAAAAAAAAAAAAAAAAAAAAAAAAAAAAAAAAAAAAAAAAAAAAAAAAAAAAAAAAAAAAAAAAAAAAAAAAAAAAAAAAAAAAAAAAAAAAAAAAAAAAAAAAAAAAAAAAAAAAAAAAAAAAAAAAAAAAAAAAAAAAAAAAAAAAAAAAAAAAAAAAAAAAAAAAAAAAAAAAAAAAAAAAAAAAAAAAAAAAAAAAAAAAAAAAAAAAAAAAAAAAAAAAAAAAAAAAAAAAAAAAAAAAAAAAAAAAAAAAAAAAAAAAAAAAAAAAAAAAAAAAAAAAAAAAAAAAAAAAAAAAAAAAAAAAAAAAAAAAAAAAAAAAAAAAAAAAAAAAAAAAAAAAAAAAAAAAAAAAAAAAAAAAAAAAAAAAAAAAAAAAAAAAAAAAAAAAAAAAAAAAAAAAAAAAAAAAAAAAAAAAAAAAAAAAAAAAAAAAAAAAAAAAAAAAAAAAAAAAAAAAAAAAAAAAAAAAAAAAAAAAAAAAAAAAAAAAAAAAAAAAAAAAAAAAAAAAAAAAAAAAAAAAAAAAAAAAAAAAAAAAAAAAAAAAAAAAAAAAAAAAAAAAAA==",
          "dtype": "f4",
          "shape": "28, 28"
         }
        },
        {
         "coloraxis": "coloraxis",
         "hovertemplate": "x: %{x}<br>y: %{y}<br>color: %{z}<extra></extra>",
         "name": "0",
         "type": "heatmap",
         "xaxis": "x24",
         "yaxis": "y24",
         "z": {
          "bdata": "AAAAYMV2hz8AAABgxXaHPwAAAGBhTow/AAAAYGFOjD8AAAD4lwutPwAAAPiXC60/AAAAQNNXgL8AAAAY1lKkvwAAABjWUqS/AAAASDtPp78AAABIO0+nv6uqqiq+9Ii/q6qqKr70iL+rqqoqvvSIv7dt27Zit1o/t23btmK3Wj+3bdsWKQeAP7dt2xYpB4A/9DzPszw+gb/0PM+zPD6Bv/Q8z7M8PoG/3LZtY1Musb/ctm1jUy6xv9y2bWNTLrG/3LZtY1Musb8MwzCkX72hvwzDMKRfvaG/MAzDsCX8jb/ctm0nmHOaP9y2bSeYc5o/3LZth0okkj/ctm2HSiSSP2EYhgWWh7g/YRiGBZaHuD8wDMNqrFvCPyRJkhB3lLC/JEmSEHeUsL8kSZJgEU+3vyRJkmART7e/n+d5cl4gq7+f53lyXiCrv5/neQYbSqW/SZIkIXXclb9JkiQhddyVv0mSJCF13JW/SZIkIXXclb+GYRgOBHWhP4ZhGA4EdaE/gGEYhmG/Sz9JkiQpwMKAv0mSJCnAwoC/btu2RdmboD9u27ZF2ZugP23btm3Sc30/bdu2bdJzfT9t27Zt0nN9P0mSJGdhW7a/SZIkZ2Fbtr9JkiRnYVu2v0mSJGdhW7a/Pc/zPFK0pr89z/M8UrSmv3qe53n7jpW/3LZt0z+2lj/ctm3TP7aWP27bts26M38/btu2zbozfz/0PM/fhueyv/Q8z9+G57K/9DzPS05Gsr9IkiQp2KV6v0iSJCnYpXq/kiRJqjiKlL+SJEmqOIqUv7dt2/Yymqg/t23b9jKaqD+3bdsWp0eiPwAAAKqosrU/AAAAqqiytT8AAACCDjy3PwAAAIIOPLc/q6qqdPNstD+rqqp082y0P6uqqhaC2LM/AAAA2Kzegj8AAADYrN6CPwAAANDDlXO/AAAA0MOVc78AAAAGnvexPwAAAAae97E/AAAAQJPruT8lSZIm75WiPyVJkibvlaI/lCRJGjr6hD+UJEkaOvqEP4VhGMZ3Inu/hWEYxncie7+FYRjGdyJ7v27btq17VI6/btu2rXtUjr+3bdvW5k6Qv7dt29bmTpC/bdu2t52htL9t27a3naG0v23btuke8LO/3LZtQfvDqD/ctm1B+8OoP9y2bUH7w6g/3LZtQfvDqD/CMAwXD+m7P8IwDBcP6bs/wjAMv59vvz98nueZeFJ6P3ye55l4Uno/fJ7nme6wdz98nueZ7rB3P23btj2Zq7q/bdu2PZmrur9t27Y9mau6v4BhGMacA2Q/gGEYxpwDZD+AYRjGl3diP4BhGMaXd2I/Pc/zjB7+qb89z/OMHv6pvz3P83zL16q/YhiGF9PTsr9iGIYX09Oyv2IYhnf91LG/YhiGd/3Usb8ZhmEYccKgvxmGYRhxwqC/GYZhGHHCoL+qqqpa2Xe9v6qqqlrZd72/qqqqWtl3vb+qqqpa2Xe9v1VVVQ3ejrS/VVVVDd6OtL9VVVUN3o60vzIMwzA0XGe/MgzDMDRcZ78MwzBM5x+AvwzDMEznH4C/btu2nSidoL9u27adKJ2gv27btp0onaC/qqqqvkbMpz+qqqq+RsynP6qqqr5GzKc/qqqqvkbMpz+qqqoK8oqjP6qqqgryiqM/qqqqCvKKoz+GYRjCkxK+v4ZhGMKTEr6/hmEYepvnu7+GYRh6m+e7v4VhGMJMDbm/hWEYwkwNub+FYRi28bK5vz3P88AEyLa/Pc/zwATItr89z/Pkc/e2vz3P8+Rz97a/9DzPVyBcwr/0PM9XIFzCv/Q8z8tb0MC/Pc/z5A69u789z/PElVS+v57neSqEJ8O/nud5KoQnw789z/NQLZ6yvz3P85BEFLe/hmEYtheYoj+rqqraFsi8v6uqqsrj9ba/q6qqoolFur+rqqqyKgi3vwAAAFzHi7E/AAAAvJ4Ytj8AAABwg6uvvwzDMLN9YMe/DMMws31gx78MwzArlHbCvwzDMCuUdsK/2rZtiwMMoL/atm2LAwygv7Zt29rZgMC/z/M8qxmStb/P8zyrGZK1v8/zPKsDUra/z/M8qwNStr8YhmECVt/CPxiGYcaHj8Y/GIZhsK6NyD/ctm1b3T9lP9y2bVvdP2U/btu2LaFkdj9u27YtoWR2P8MwDJPT3Ks/wzAMk9Pcqz/DMAzzvrijP2zbtu0dL1o/bNu27R0vWj9s27btHS9aP2zbtu0dL1o/9DzPM64Llb/0PM8zrguVvwDDMAwTRjI/JEmSpNpCs78kSZKk2kKzvyRJkqTaQrO/JEmSpNpCs7/0PM/zPParv/Q8z/M89qu/9DzP8zz2q79u27aZzmOiP27btpnOY6I/3LZt8zfmnj/ctm3zN+aeP23btrXx7a4/bdu2tfHtrj/atm1bj/GdP5IkSYI5RaG/kiRJgjlFob+SJEkCZsigv5IkSQJmyKC/SZIkOS7OsL9JkiQ5Ls6wv0mSJDkuzrC/AAAAVMCOr78AAABUwI6vvwAAAFTAjq+/AAAAVMCOr7+rqqpiDuS0v6uqqmIO5LS/q6qqYg7ktL+SJEn2opqov5IkSfaimqi/kiRJti2Zor+SJEm2LZmiv+V5nmeoJXi/5XmeZ6gleL/leZ5nqCV4vyRJkhD3/ZS/JEmSEPf9lL8kSZIQaPmcvyRJkhBo+Zy/n+d5RiLctb+f53lGIty1v5/neaJrTrS/SpIk0dlhlz9KkiTR2WGXP0qSJNHZYZc/SpIk0dlhlz96nuc5iE2hP3qe5zmITaE/ep7nOYhNoT8kSZIy1Qe8vyRJkjLVB7y/JEmSMtUHvL8kSZIy1Qe8vyVJkqTM8ba/JUmSpMzxtr8lSZKkzPG2v5IkSYKrNbO/kiRJgqs1s7+SJElmrbmxv5IkSWatubG/nud5rkH3lr+e53muQfeWv8/zPP90kqe/SpIkCb7YgD9KkiQJvtiAP0qSJAm+2IA/SpIkCb7YgD9t27btujd6v23btu26N3q/bdu27bo3er+SJEkihsqAP5IkSSKGyoA/kiRJIobKgD+SJEkihsqAP+h5nueQ9Yw/6Hme55D1jD/0PM+TvaOQP5IkSWIQ7JW/kiRJYhDslb+SJEliEOyVv5IkSWIQ7JW/9DzPe722qb/0PM97vbapv/Q8z6PIY6W/kiRJ7t31qD+SJEnu3fWoP5IkSe7d9ag/kiRJ7t31qD8lSZKEm3WQPyVJkoSbdZA/JUmShJt1kD/btm1PnGO6P9u2bU+cY7o/27ZtT5xjuj/btm1PnGO6Pw3DMAxA+XA/DcMwDED5cD8NwzAMQPlwPyBJkiQAN0E/IEmSJAA3QT+3bdu+Er+Wv7dt274Sv5a/t23bVgfklL+3bdtWB+SUv7dt21YH5JS/JUmSXDmkp78lSZJcOaSnvyVJkrzsMau/JUmSvOwxq79KkiTRvlTAv0qSJNG+VMC/SpIk0R50wL8lSZL0UZOZvyVJkvRRk5m/JUmS9FGTmb8lSZL0UZOZv5MkSSJ7cq2/kyRJIntyrb+TJEkie3Ktv7dt2/4NNpU/t23b/g02lT+3bdteK2iZP7dt214raJk/MQzDSL0Vqj8xDMNIvRWqPxiGYdCkEbE/JUmSgJnFoj8lSZKAmcWiPyVJkoCZxaI/JUmSgJnFoj87z/N86/qIPzvP83zr+og/O8/zfOv6iD9JkiTpB4uav0mSJOkHi5q/SZIk6QeLmr9JkiTpB4uav+h5nlcjVLC/6HmeVyNUsL/oeZ5XI1Swv0mSJGHiJpC/SZIkYeImkL8kSZKEzMB6vyRJkoTMwHq/JEmSrLGSob8kSZKssZKhvyRJkoS9vKO/AAAAwO+EeT8AAADA74R5PwAAAMDvhHk/AAAAwO+EeT8AAABeyESxvwAAAF7IRLG/AAAAyGdyrb+SJElWBYOhv5IkSXaR7KC/uG3bpvQEjz9u27ZJShSlP4ZhGBYYkZ8/wzAMS/wuqj9iGIYB5wmyP7ht2+4g3pi/uG3bLuKMnL9w27Z973GGv9y2bQ9um6a/GIZhGKOSir8MwzAM7leTv2IYhp2GH8K/AACA+W4x1r8AAIDpJV7XvwAAANtCM8G/AAAA+2qnwL8AAACQ8aGqvwAAAKDOp5K/AAAAcN5Nrr9JkiRSAT3Jv0mSJFIBPcm/uG3bzpDGnj+4bdvO58WRP+h5ngcB1Y2/6HmeBwHVjb/DMAxjhLO0P7dt225w5p0/t23bbnDmnT+3bdtucOadP7dt225w5p0/DMMwLLnVmD8MwzAsudWYPwzDMCy51Zg/27Zty0CJlb/btm3LQImVv9u2bctAiZW/27Zty0CJlb8wDMMAySOTvzAMwwDJI5O/GIZhSC9+q7/ctm14iBrFv9y2bXiIGsW/3LZtUIeRxb/ctm1Qh5HFvwzDMDQPwbq/DMMwNA/Bur8MwzA0D8G6v9y2bds5jYy/3LZt2zmNjL/ctm3bOY2Mv9y2bds5jYy/YRiGoR+dpr9hGIahH52mv2EYhqEfnaa/kiRJSGIBqD+SJElIYgGoP5IkSUhiAag/kiRJSGIBqD89z/MkJbamPz3P8yQltqY/Pc/zFJNGpT8AAAA4rMSHvwAAADisxIe/AAAAOKzEh78AAAA4rMSHvwAAAJBfL6e/AAAAkF8vp78AAAAUVWqxv9y2bc/s9MO/3LZtz+z0w7/ctm3P7PTDv9y2bc/s9MO/YRiGkWNkur9hGIaRY2S6v2EYhpFjZLq/SpIk6SnWq79KkiTpKdarv0qSJOkp1qu/SpIk6SnWq7/0PM/TBxelv/Q8z9MHF6W/9DzP0wcXpb/ctm27OM9+P9y2bbs4z34/3LZtuzjPfj/ctm27OM9+PzAMw3AbKnc/MAzDcBsqdz+f53me2ytiv0mSJI9seLW/SZIkj2x4tb9JkiSPbHi1v0mSJI9seLW/JUmSAHrrw78lSZIAeuvDvyVJkgB668O/JEmSuFfCub8kSZK4V8K5vyRJkrhXwrm/JEmSuFfCub8+z/O0TL+Wvz7P87RMv5a/Ps/zrI4Zkr/ctm2XVUGjv9y2bZdVQaO/3LZtB+olob/ctm0H6iWhvwzDMMxumZO/DMMwzG6Zk78MwzDMbpmTv27bttVBuaW/btu21UG5pb9u27bVQbmlv27bttVBuaW/bdu2vUmtq79t27a9Sa2rv23btr1Jrau/AAAAqFvbqb8AAACoW9upvwAAAKhb26m/AAAAqFvbqb8AAADo6tayvwAAAOjq1rK/AAAA6OrWsr/ctm2LxJSYv9y2bYvElJi/3LZtayFilb/ctm1rIWKVvxiGYShFc6q/GIZhKEVzqr8YhmEoRXOqv5IkSU6fBJy/kiRJTp8EnL+SJEkuYfOYv5IkSS5h85i/YRiGzYQGpT9hGIbNhAalP2EYhjE4b6o/AAAAgHP8jb8AAACAc/yNvwAAAEBgsoe/AAAAQGCyh7+qqqoKkRKPP6qqqgqREo8/qqqqavO1jz8kSZLEwW+bvyRJksTBb5u/JEmSxMFvm78kSZLEwW+bv0mSJDG2urC/SZIkMba6sL+SJEkyWcugv9u2bav5wbi/27Ztq/nBuL/btm2r+cG4v9u2bav5wbi/6HmeBxg8nz/oeZ4HGDyfP+h5ngdqbpQ/JEmSpFK/lj8kSZKkUr+WPyRJkqRSv5Y/JEmSpFK/lj/neZ4XEsqjP+d5nhcSyqM/53meFxLKoz9JkiSZ/il2P0mSJJn+KXY/SZIkmf4pdj9JkiSZ/il2Pz3P84zYmJo/Pc/zjNiYmj89z/OM2JiaP0mSJIFh7Ku/SZIkgWHsq79JkiTBteStv0mSJMG15K2/nud5UohLq7+e53lSiEurv57nefYGo6i/SZIkRVetor9JkiRFV62iv0mSJCUFfqO/SZIkJQV+o7+TJElSNCCcv5MkSVI0IJy/kyRJUjQgnL9u27brQjigv27btutCOKC/btu2a6wUqr9u27ZrrBSqv8MwDEP7iqO/wzAMQ/uKo79iGIYdxsWzv7dt27SbE7W/t23b1FURsr+3bdtEZBy3v7dt20RkHLe/btu2bSVGcb9u27ZtJUZxv7dt255+Abm/JEmS6Z7WwL8kSZIhfo/BvyRJkoFQw8G/JEmSadTAwL9u27Y1KdimP27btjUJfqc/JUmSFFO6xb8kSZL06nGlPyRJkvTqcaU/kiRJStXMsj8kSZJUrninPz3P8xj7FrE/ep7n8dpoqz8YhmHYWf6Fv27btl1VqZG/t23bblIwob/ctm1X9c25v9y2bXckWry/ep7n+3vTvD96nueTmrW/Pz3P80b9NMQ/SZIkuPVdsD9JkiS49V2wP0mSJLj1XbA/SZIkuPVdsD/0PM9nW8mwP/Q8z2dbybA/9DzPZ1vJsD8AAAD05/akPwAAAPTn9qQ/AAAAyFdymj8AAADIV3KaP1VVVfXz8JM/VVVV9fPwkz9VVVXVg06eP9u2bcNkCZs/27Ztw2QJmz+3bdtwgpuwP7dt23CCm7A/JEmSZM3kl78kSZJkzeSXv5IkSbJA76i/t23bNt2apD+3bds23ZqkP7dt2zbdmqQ/t23bNt2apD/oeZ4X7WeXv+h5nhftZ5e/9DzPM5Kgrb9u27a9U8mZP27btr1TyZk/btu2vVPJmT9u27a9U8mZP+h5nj+V2JK/6HmeP5XYkr/0PM8rqzuhv5AkSdIx+WY/kCRJ0jH5Zj+3bduSRPKnv7dt25JE8qe/3LZt8z8Mt7/ctm3zPwy3v9y2bdtDtbu/AAAA2D/ilb8AAADYP+KVvwAAALhtC5O/AAAAuG0Lk7+sqqrqMBB6P6yqquowEHo/q6qqakmBlD8AAAAg5VRyPwAAACDlVHI/AAAAKDcRkD8AAAAoNxGQP6qqqpr6f5Q/qqqqmvp/lD9VVVU1eDShPyRJkpSIpnM/JEmSlIimcz9JkiRFObSQP0mSJEU5tJA/tm3bpinwkb+2bdumKfCRv23bts0K4YO/uG3blkdVYj+4bduWR1ViP0mSJG0LQpC/SZIkbQtCkL88z/OIMHSwvzzP84gwdLC/PM/zSHRMub+SJElq3VuRv5IkSWrdW5G/SpIkqWmCfr9KkiSpaYJ+vxiGYdgVXpI/GIZh2BVekj8YhmFY4EOYP5IkSfoMAJc/kiRJ+gwAlz8kSZK057OGPyRJkrTns4Y/CsMwDFuISb8KwzAMW4hJv/Q8z/OnOqM/AAAAEPQbmr8AAAAQ9BuavwAAAJCUr5O/AAAAkJSvk78AAACg+q6SvwAAAKD6rpK/AAAAsKp7or9u27ZeFi+7v27btl4WL7u/btu2AkuIsr9u27YCS4iyv/Q8z+MdQJA/9DzP4x1AkD/0PM/jJGOWP9u2batbC5O/27Ztq1sLk79u27Y1PDGhv27btjU8MaG/kyRJgo14pT+TJEmCjXilP7Rt27awBIW/uG3bzuxjqL+4bdvO7GOov7ht2z6Xuai/uG3bPpe5qL+4bdu2ltNxv7ht27aW03G/uG3btpbTcb/ctm3zfPylv9y2bfN8/KW/3LZtc66cqL/ctm1zrpyovwzDMKzS85m/DMMwrNLzmb8MwzCs0vOZv9y2bdPENpG/3LZt08Q2kb9w27bNGqVxv3Dbts0apXG/t23baj18vr+3bdtqPXy+v9y2bX/m1cG/cNu27T2UY79w27btPZRjv3Dbtu09lGO/cNu27T2UY7/0PM+LtnKjP/Q8z4u2cqM/6HmeB2sBlj8lSZIdwuu4vyVJkh3C67i/JUmSHVDJtL8lSZIdUMm0v3qe52EFaLC/ep7nYQVosL96nue19bWzv0qSJAm4D2g/SpIkCbgPaD+2bdv2T7Nnv7Zt2/ZPs2e/DMMwjINFZ78MwzCMg0VnvzEMwyCUaK+/SpIkCV28ej9KkiQJXbx6P0qSJAldvHo/SpIkCV28ej9u27aNe2CZv27bto17YJm/btu2jUMukL+SJEliYhmuv5IkSWJiGa6/kiRJUj8ar7+SJElSPxqvvz3P83g+96a/Pc/zeD73pr+e53lSZKKxv7ht2zb6oXo/uG3bNvqhej9u27bNNWiaP27bts01aJo/9DzPs3BSpL/0PM+zcFKkv+h5nqcY9ZO/btu2tRgWqb9u27aVpU2jvyRJksQ/2Z0/SJIkSXDAXz96nucxqFPCP/Q8z3MBNrg/Pc/zNvUz0D+SJEkWuojHP5IkSWZjtsY/JEmS/Jootz8kSZL8mii3PzzP86yqkpk/PM/z7AIdkz/EMAzjFtKcv5AkSZIt32k/SZIkKSzTrT/ctm0n6Fq0v27btt2WK52/GIZhWEU7mL/AMAzDTo1qv/Q8zxNAG6I/btu2R+Zex79u27afXY/Cv9u2bd+0lrO/tm3b3hkno7/oeZ5nAXhmP0DP8zw79Tw/MQzDqAf1vb8=",
          "dtype": "f8",
          "shape": "28, 28"
         }
        },
        {
         "coloraxis": "coloraxis",
         "hovertemplate": "x: %{x}<br>y: %{y}<br>color: %{z}<extra></extra>",
         "name": "0",
         "type": "heatmap",
         "xaxis": "x25",
         "yaxis": "y25",
         "z": {
          "bdata": "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",
          "dtype": "f8",
          "shape": "28, 28"
         }
        },
        {
         "coloraxis": "coloraxis",
         "hovertemplate": "x: %{x}<br>y: %{y}<br>color: %{z}<extra></extra>",
         "name": "0",
         "type": "heatmap",
         "xaxis": "x26",
         "yaxis": "y26",
         "z": {
          "bdata": "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",
          "dtype": "f8",
          "shape": "28, 28"
         }
        },
        {
         "coloraxis": "coloraxis",
         "hovertemplate": "x: %{x}<br>y: %{y}<br>color: %{z}<extra></extra>",
         "name": "0",
         "type": "heatmap",
         "xaxis": "x27",
         "yaxis": "y27",
         "z": {
          "bdata": "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",
          "dtype": "f8",
          "shape": "28, 28"
         }
        },
        {
         "coloraxis": "coloraxis",
         "hovertemplate": "x: %{x}<br>y: %{y}<br>color: %{z}<extra></extra>",
         "name": "0",
         "type": "heatmap",
         "xaxis": "x28",
         "yaxis": "y28",
         "z": {
          "bdata": "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",
          "dtype": "f8",
          "shape": "28, 28"
         }
        },
        {
         "coloraxis": "coloraxis",
         "hovertemplate": "x: %{x}<br>y: %{y}<br>color: %{z}<extra></extra>",
         "name": "0",
         "type": "heatmap",
         "xaxis": "x29",
         "yaxis": "y29",
         "z": {
          "bdata": "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",
          "dtype": "f8",
          "shape": "28, 28"
         }
        },
        {
         "coloraxis": "coloraxis",
         "hovertemplate": "x: %{x}<br>y: %{y}<br>color: %{z}<extra></extra>",
         "name": "0",
         "type": "heatmap",
         "xaxis": "x30",
         "yaxis": "y30",
         "z": {
          "bdata": "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",
          "dtype": "f8",
          "shape": "28, 28"
         }
        },
        {
         "coloraxis": "coloraxis",
         "hovertemplate": "x: %{x}<br>y: %{y}<br>color: %{z}<extra></extra>",
         "name": "0",
         "type": "heatmap",
         "xaxis": "x31",
         "yaxis": "y31",
         "z": {
          "bdata": "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",
          "dtype": "f8",
          "shape": "28, 28"
         }
        },
        {
         "coloraxis": "coloraxis",
         "hovertemplate": "x: %{x}<br>y: %{y}<br>color: %{z}<extra></extra>",
         "name": "0",
         "type": "heatmap",
         "xaxis": "x32",
         "yaxis": "y32",
         "z": {
          "bdata": "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",
          "dtype": "f8",
          "shape": "28, 28"
         }
        },
        {
         "coloraxis": "coloraxis",
         "hovertemplate": "x: %{x}<br>y: %{y}<br>color: %{z}<extra></extra>",
         "name": "0",
         "type": "heatmap",
         "xaxis": "x33",
         "yaxis": "y33",
         "z": {
          "bdata": "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",
          "dtype": "f8",
          "shape": "28, 28"
         }
        }
       ],
       "layout": {
        "annotations": [
         {
          "font": {
           "size": 16
          },
          "showarrow": false,
          "text": "input",
          "x": 0.03719008264462809,
          "xanchor": "center",
          "xref": "paper",
          "y": 1,
          "yanchor": "bottom",
          "yref": "paper"
         },
         {
          "font": {
           "size": 16
          },
          "showarrow": false,
          "text": "0",
          "x": 0.12975206611570247,
          "xanchor": "center",
          "xref": "paper",
          "y": 1,
          "yanchor": "bottom",
          "yref": "paper"
         },
         {
          "font": {
           "size": 16
          },
          "showarrow": false,
          "text": "1",
          "x": 0.22231404958677686,
          "xanchor": "center",
          "xref": "paper",
          "y": 1,
          "yanchor": "bottom",
          "yref": "paper"
         },
         {
          "font": {
           "size": 16
          },
          "showarrow": false,
          "text": "2",
          "x": 0.3148760330578512,
          "xanchor": "center",
          "xref": "paper",
          "y": 1,
          "yanchor": "bottom",
          "yref": "paper"
         },
         {
          "font": {
           "size": 16
          },
          "showarrow": false,
          "text": "3",
          "x": 0.4074380165289256,
          "xanchor": "center",
          "xref": "paper",
          "y": 1,
          "yanchor": "bottom",
          "yref": "paper"
         },
         {
          "font": {
           "size": 16
          },
          "showarrow": false,
          "text": "4",
          "x": 0.5,
          "xanchor": "center",
          "xref": "paper",
          "y": 1,
          "yanchor": "bottom",
          "yref": "paper"
         },
         {
          "font": {
           "size": 16
          },
          "showarrow": false,
          "text": "5",
          "x": 0.5925619834710742,
          "xanchor": "center",
          "xref": "paper",
          "y": 1,
          "yanchor": "bottom",
          "yref": "paper"
         },
         {
          "font": {
           "size": 16
          },
          "showarrow": false,
          "text": "6",
          "x": 0.6851239669421487,
          "xanchor": "center",
          "xref": "paper",
          "y": 1,
          "yanchor": "bottom",
          "yref": "paper"
         },
         {
          "font": {
           "size": 16
          },
          "showarrow": false,
          "text": "7",
          "x": 0.7776859504132231,
          "xanchor": "center",
          "xref": "paper",
          "y": 1,
          "yanchor": "bottom",
          "yref": "paper"
         },
         {
          "font": {
           "size": 16
          },
          "showarrow": false,
          "text": "8",
          "x": 0.8702479338842974,
          "xanchor": "center",
          "xref": "paper",
          "y": 1,
          "yanchor": "bottom",
          "yref": "paper"
         },
         {
          "font": {
           "size": 16
          },
          "showarrow": false,
          "text": "9",
          "x": 0.9628099173553718,
          "xanchor": "center",
          "xref": "paper",
          "y": 1,
          "yanchor": "bottom",
          "yref": "paper"
         }
        ],
        "coloraxis": {
         "cmax": 0.1,
         "cmin": -0.1,
         "colorscale": [
          [
           0,
           "rgb(103,0,31)"
          ],
          [
           0.1,
           "rgb(178,24,43)"
          ],
          [
           0.2,
           "rgb(214,96,77)"
          ],
          [
           0.3,
           "rgb(244,165,130)"
          ],
          [
           0.4,
           "rgb(253,219,199)"
          ],
          [
           0.5,
           "rgb(247,247,247)"
          ],
          [
           0.6,
           "rgb(209,229,240)"
          ],
          [
           0.7,
           "rgb(146,197,222)"
          ],
          [
           0.8,
           "rgb(67,147,195)"
          ],
          [
           0.9,
           "rgb(33,102,172)"
          ],
          [
           1,
           "rgb(5,48,97)"
          ]
         ]
        },
        "height": 600,
        "template": {
         "data": {
          "bar": [
           {
            "error_x": {
             "color": "#2a3f5f"
            },
            "error_y": {
             "color": "#2a3f5f"
            },
            "marker": {
             "line": {
              "color": "#E5ECF6",
              "width": 0.5
             },
             "pattern": {
              "fillmode": "overlay",
              "size": 10,
              "solidity": 0.2
             }
            },
            "type": "bar"
           }
          ],
          "barpolar": [
           {
            "marker": {
             "line": {
              "color": "#E5ECF6",
              "width": 0.5
             },
             "pattern": {
              "fillmode": "overlay",
              "size": 10,
              "solidity": 0.2
             }
            },
            "type": "barpolar"
           }
          ],
          "carpet": [
           {
            "aaxis": {
             "endlinecolor": "#2a3f5f",
             "gridcolor": "white",
             "linecolor": "white",
             "minorgridcolor": "white",
             "startlinecolor": "#2a3f5f"
            },
            "baxis": {
             "endlinecolor": "#2a3f5f",
             "gridcolor": "white",
             "linecolor": "white",
             "minorgridcolor": "white",
             "startlinecolor": "#2a3f5f"
            },
            "type": "carpet"
           }
          ],
          "choropleth": [
           {
            "colorbar": {
             "outlinewidth": 0,
             "ticks": ""
            },
            "type": "choropleth"
           }
          ],
          "contour": [
           {
            "colorbar": {
             "outlinewidth": 0,
             "ticks": ""
            },
            "colorscale": [
             [
              0,
              "#0d0887"
             ],
             [
              0.1111111111111111,
              "#46039f"
             ],
             [
              0.2222222222222222,
              "#7201a8"
             ],
             [
              0.3333333333333333,
              "#9c179e"
             ],
             [
              0.4444444444444444,
              "#bd3786"
             ],
             [
              0.5555555555555556,
              "#d8576b"
             ],
             [
              0.6666666666666666,
              "#ed7953"
             ],
             [
              0.7777777777777778,
              "#fb9f3a"
             ],
             [
              0.8888888888888888,
              "#fdca26"
             ],
             [
              1,
              "#f0f921"
             ]
            ],
            "type": "contour"
           }
          ],
          "contourcarpet": [
           {
            "colorbar": {
             "outlinewidth": 0,
             "ticks": ""
            },
            "type": "contourcarpet"
           }
          ],
          "heatmap": [
           {
            "colorbar": {
             "outlinewidth": 0,
             "ticks": ""
            },
            "colorscale": [
             [
              0,
              "#0d0887"
             ],
             [
              0.1111111111111111,
              "#46039f"
             ],
             [
              0.2222222222222222,
              "#7201a8"
             ],
             [
              0.3333333333333333,
              "#9c179e"
             ],
             [
              0.4444444444444444,
              "#bd3786"
             ],
             [
              0.5555555555555556,
              "#d8576b"
             ],
             [
              0.6666666666666666,
              "#ed7953"
             ],
             [
              0.7777777777777778,
              "#fb9f3a"
             ],
             [
              0.8888888888888888,
              "#fdca26"
             ],
             [
              1,
              "#f0f921"
             ]
            ],
            "type": "heatmap"
           }
          ],
          "histogram": [
           {
            "marker": {
             "pattern": {
              "fillmode": "overlay",
              "size": 10,
              "solidity": 0.2
             }
            },
            "type": "histogram"
           }
          ],
          "histogram2d": [
           {
            "colorbar": {
             "outlinewidth": 0,
             "ticks": ""
            },
            "colorscale": [
             [
              0,
              "#0d0887"
             ],
             [
              0.1111111111111111,
              "#46039f"
             ],
             [
              0.2222222222222222,
              "#7201a8"
             ],
             [
              0.3333333333333333,
              "#9c179e"
             ],
             [
              0.4444444444444444,
              "#bd3786"
             ],
             [
              0.5555555555555556,
              "#d8576b"
             ],
             [
              0.6666666666666666,
              "#ed7953"
             ],
             [
              0.7777777777777778,
              "#fb9f3a"
             ],
             [
              0.8888888888888888,
              "#fdca26"
             ],
             [
              1,
              "#f0f921"
             ]
            ],
            "type": "histogram2d"
           }
          ],
          "histogram2dcontour": [
           {
            "colorbar": {
             "outlinewidth": 0,
             "ticks": ""
            },
            "colorscale": [
             [
              0,
              "#0d0887"
             ],
             [
              0.1111111111111111,
              "#46039f"
             ],
             [
              0.2222222222222222,
              "#7201a8"
             ],
             [
              0.3333333333333333,
              "#9c179e"
             ],
             [
              0.4444444444444444,
              "#bd3786"
             ],
             [
              0.5555555555555556,
              "#d8576b"
             ],
             [
              0.6666666666666666,
              "#ed7953"
             ],
             [
              0.7777777777777778,
              "#fb9f3a"
             ],
             [
              0.8888888888888888,
              "#fdca26"
             ],
             [
              1,
              "#f0f921"
             ]
            ],
            "type": "histogram2dcontour"
           }
          ],
          "mesh3d": [
           {
            "colorbar": {
             "outlinewidth": 0,
             "ticks": ""
            },
            "type": "mesh3d"
           }
          ],
          "parcoords": [
           {
            "line": {
             "colorbar": {
              "outlinewidth": 0,
              "ticks": ""
             }
            },
            "type": "parcoords"
           }
          ],
          "pie": [
           {
            "automargin": true,
            "type": "pie"
           }
          ],
          "scatter": [
           {
            "fillpattern": {
             "fillmode": "overlay",
             "size": 10,
             "solidity": 0.2
            },
            "type": "scatter"
           }
          ],
          "scatter3d": [
           {
            "line": {
             "colorbar": {
              "outlinewidth": 0,
              "ticks": ""
             }
            },
            "marker": {
             "colorbar": {
              "outlinewidth": 0,
              "ticks": ""
             }
            },
            "type": "scatter3d"
           }
          ],
          "scattercarpet": [
           {
            "marker": {
             "colorbar": {
              "outlinewidth": 0,
              "ticks": ""
             }
            },
            "type": "scattercarpet"
           }
          ],
          "scattergeo": [
           {
            "marker": {
             "colorbar": {
              "outlinewidth": 0,
              "ticks": ""
             }
            },
            "type": "scattergeo"
           }
          ],
          "scattergl": [
           {
            "marker": {
             "colorbar": {
              "outlinewidth": 0,
              "ticks": ""
             }
            },
            "type": "scattergl"
           }
          ],
          "scattermap": [
           {
            "marker": {
             "colorbar": {
              "outlinewidth": 0,
              "ticks": ""
             }
            },
            "type": "scattermap"
           }
          ],
          "scattermapbox": [
           {
            "marker": {
             "colorbar": {
              "outlinewidth": 0,
              "ticks": ""
             }
            },
            "type": "scattermapbox"
           }
          ],
          "scatterpolar": [
           {
            "marker": {
             "colorbar": {
              "outlinewidth": 0,
              "ticks": ""
             }
            },
            "type": "scatterpolar"
           }
          ],
          "scatterpolargl": [
           {
            "marker": {
             "colorbar": {
              "outlinewidth": 0,
              "ticks": ""
             }
            },
            "type": "scatterpolargl"
           }
          ],
          "scatterternary": [
           {
            "marker": {
             "colorbar": {
              "outlinewidth": 0,
              "ticks": ""
             }
            },
            "type": "scatterternary"
           }
          ],
          "surface": [
           {
            "colorbar": {
             "outlinewidth": 0,
             "ticks": ""
            },
            "colorscale": [
             [
              0,
              "#0d0887"
             ],
             [
              0.1111111111111111,
              "#46039f"
             ],
             [
              0.2222222222222222,
              "#7201a8"
             ],
             [
              0.3333333333333333,
              "#9c179e"
             ],
             [
              0.4444444444444444,
              "#bd3786"
             ],
             [
              0.5555555555555556,
              "#d8576b"
             ],
             [
              0.6666666666666666,
              "#ed7953"
             ],
             [
              0.7777777777777778,
              "#fb9f3a"
             ],
             [
              0.8888888888888888,
              "#fdca26"
             ],
             [
              1,
              "#f0f921"
             ]
            ],
            "type": "surface"
           }
          ],
          "table": [
           {
            "cells": {
             "fill": {
              "color": "#EBF0F8"
             },
             "line": {
              "color": "white"
             }
            },
            "header": {
             "fill": {
              "color": "#C8D4E3"
             },
             "line": {
              "color": "white"
             }
            },
            "type": "table"
           }
          ]
         },
         "layout": {
          "annotationdefaults": {
           "arrowcolor": "#2a3f5f",
           "arrowhead": 0,
           "arrowwidth": 1
          },
          "autotypenumbers": "strict",
          "coloraxis": {
           "colorbar": {
            "outlinewidth": 0,
            "ticks": ""
           }
          },
          "colorscale": {
           "diverging": [
            [
             0,
             "#8e0152"
            ],
            [
             0.1,
             "#c51b7d"
            ],
            [
             0.2,
             "#de77ae"
            ],
            [
             0.3,
             "#f1b6da"
            ],
            [
             0.4,
             "#fde0ef"
            ],
            [
             0.5,
             "#f7f7f7"
            ],
            [
             0.6,
             "#e6f5d0"
            ],
            [
             0.7,
             "#b8e186"
            ],
            [
             0.8,
             "#7fbc41"
            ],
            [
             0.9,
             "#4d9221"
            ],
            [
             1,
             "#276419"
            ]
           ],
           "sequential": [
            [
             0,
             "#0d0887"
            ],
            [
             0.1111111111111111,
             "#46039f"
            ],
            [
             0.2222222222222222,
             "#7201a8"
            ],
            [
             0.3333333333333333,
             "#9c179e"
            ],
            [
             0.4444444444444444,
             "#bd3786"
            ],
            [
             0.5555555555555556,
             "#d8576b"
            ],
            [
             0.6666666666666666,
             "#ed7953"
            ],
            [
             0.7777777777777778,
             "#fb9f3a"
            ],
            [
             0.8888888888888888,
             "#fdca26"
            ],
            [
             1,
             "#f0f921"
            ]
           ],
           "sequentialminus": [
            [
             0,
             "#0d0887"
            ],
            [
             0.1111111111111111,
             "#46039f"
            ],
            [
             0.2222222222222222,
             "#7201a8"
            ],
            [
             0.3333333333333333,
             "#9c179e"
            ],
            [
             0.4444444444444444,
             "#bd3786"
            ],
            [
             0.5555555555555556,
             "#d8576b"
            ],
            [
             0.6666666666666666,
             "#ed7953"
            ],
            [
             0.7777777777777778,
             "#fb9f3a"
            ],
            [
             0.8888888888888888,
             "#fdca26"
            ],
            [
             1,
             "#f0f921"
            ]
           ]
          },
          "colorway": [
           "#636efa",
           "#EF553B",
           "#00cc96",
           "#ab63fa",
           "#FFA15A",
           "#19d3f3",
           "#FF6692",
           "#B6E880",
           "#FF97FF",
           "#FECB52"
          ],
          "font": {
           "color": "#2a3f5f"
          },
          "geo": {
           "bgcolor": "white",
           "lakecolor": "white",
           "landcolor": "#E5ECF6",
           "showlakes": true,
           "showland": true,
           "subunitcolor": "white"
          },
          "hoverlabel": {
           "align": "left"
          },
          "hovermode": "closest",
          "mapbox": {
           "style": "light"
          },
          "paper_bgcolor": "white",
          "plot_bgcolor": "#E5ECF6",
          "polar": {
           "angularaxis": {
            "gridcolor": "white",
            "linecolor": "white",
            "ticks": ""
           },
           "bgcolor": "#E5ECF6",
           "radialaxis": {
            "gridcolor": "white",
            "linecolor": "white",
            "ticks": ""
           }
          },
          "scene": {
           "xaxis": {
            "backgroundcolor": "#E5ECF6",
            "gridcolor": "white",
            "gridwidth": 2,
            "linecolor": "white",
            "showbackground": true,
            "ticks": "",
            "zerolinecolor": "white"
           },
           "yaxis": {
            "backgroundcolor": "#E5ECF6",
            "gridcolor": "white",
            "gridwidth": 2,
            "linecolor": "white",
            "showbackground": true,
            "ticks": "",
            "zerolinecolor": "white"
           },
           "zaxis": {
            "backgroundcolor": "#E5ECF6",
            "gridcolor": "white",
            "gridwidth": 2,
            "linecolor": "white",
            "showbackground": true,
            "ticks": "",
            "zerolinecolor": "white"
           }
          },
          "shapedefaults": {
           "line": {
            "color": "#2a3f5f"
           }
          },
          "ternary": {
           "aaxis": {
            "gridcolor": "white",
            "linecolor": "white",
            "ticks": ""
           },
           "baxis": {
            "gridcolor": "white",
            "linecolor": "white",
            "ticks": ""
           },
           "bgcolor": "#E5ECF6",
           "caxis": {
            "gridcolor": "white",
            "linecolor": "white",
            "ticks": ""
           }
          },
          "title": {
           "x": 0.05
          },
          "xaxis": {
           "automargin": true,
           "gridcolor": "white",
           "linecolor": "white",
           "ticks": "",
           "title": {
            "standoff": 15
           },
           "zerolinecolor": "white",
           "zerolinewidth": 2
          },
          "yaxis": {
           "automargin": true,
           "gridcolor": "white",
           "linecolor": "white",
           "ticks": "",
           "title": {
            "standoff": 15
           },
           "zerolinecolor": "white",
           "zerolinewidth": 2
          }
         }
        },
        "width": 1500,
        "xaxis": {
         "anchor": "y",
         "domain": [
          0,
          0.07438016528925619
         ]
        },
        "xaxis10": {
         "anchor": "y10",
         "domain": [
          0.8330578512396694,
          0.9074380165289255
         ]
        },
        "xaxis11": {
         "anchor": "y11",
         "domain": [
          0.9256198347107437,
          0.9999999999999999
         ]
        },
        "xaxis12": {
         "anchor": "y12",
         "domain": [
          0,
          0.07438016528925619
         ]
        },
        "xaxis13": {
         "anchor": "y13",
         "domain": [
          0.09256198347107437,
          0.16694214876033056
         ]
        },
        "xaxis14": {
         "anchor": "y14",
         "domain": [
          0.18512396694214875,
          0.25950413223140495
         ]
        },
        "xaxis15": {
         "anchor": "y15",
         "domain": [
          0.27768595041322314,
          0.3520661157024793
         ]
        },
        "xaxis16": {
         "anchor": "y16",
         "domain": [
          0.3702479338842975,
          0.44462809917355367
         ]
        },
        "xaxis17": {
         "anchor": "y17",
         "domain": [
          0.46280991735537186,
          0.5371900826446281
         ]
        },
        "xaxis18": {
         "anchor": "y18",
         "domain": [
          0.5553719008264462,
          0.6297520661157023
         ]
        },
        "xaxis19": {
         "anchor": "y19",
         "domain": [
          0.6479338842975206,
          0.7223140495867768
         ]
        },
        "xaxis2": {
         "anchor": "y2",
         "domain": [
          0.09256198347107437,
          0.16694214876033056
         ]
        },
        "xaxis20": {
         "anchor": "y20",
         "domain": [
          0.740495867768595,
          0.8148760330578512
         ]
        },
        "xaxis21": {
         "anchor": "y21",
         "domain": [
          0.8330578512396694,
          0.9074380165289255
         ]
        },
        "xaxis22": {
         "anchor": "y22",
         "domain": [
          0.9256198347107437,
          0.9999999999999999
         ]
        },
        "xaxis23": {
         "anchor": "y23",
         "domain": [
          0,
          0.07438016528925619
         ]
        },
        "xaxis24": {
         "anchor": "y24",
         "domain": [
          0.09256198347107437,
          0.16694214876033056
         ]
        },
        "xaxis25": {
         "anchor": "y25",
         "domain": [
          0.18512396694214875,
          0.25950413223140495
         ]
        },
        "xaxis26": {
         "anchor": "y26",
         "domain": [
          0.27768595041322314,
          0.3520661157024793
         ]
        },
        "xaxis27": {
         "anchor": "y27",
         "domain": [
          0.3702479338842975,
          0.44462809917355367
         ]
        },
        "xaxis28": {
         "anchor": "y28",
         "domain": [
          0.46280991735537186,
          0.5371900826446281
         ]
        },
        "xaxis29": {
         "anchor": "y29",
         "domain": [
          0.5553719008264462,
          0.6297520661157023
         ]
        },
        "xaxis3": {
         "anchor": "y3",
         "domain": [
          0.18512396694214875,
          0.25950413223140495
         ]
        },
        "xaxis30": {
         "anchor": "y30",
         "domain": [
          0.6479338842975206,
          0.7223140495867768
         ]
        },
        "xaxis31": {
         "anchor": "y31",
         "domain": [
          0.740495867768595,
          0.8148760330578512
         ]
        },
        "xaxis32": {
         "anchor": "y32",
         "domain": [
          0.8330578512396694,
          0.9074380165289255
         ]
        },
        "xaxis33": {
         "anchor": "y33",
         "domain": [
          0.9256198347107437,
          0.9999999999999999
         ]
        },
        "xaxis4": {
         "anchor": "y4",
         "domain": [
          0.27768595041322314,
          0.3520661157024793
         ]
        },
        "xaxis5": {
         "anchor": "y5",
         "domain": [
          0.3702479338842975,
          0.44462809917355367
         ]
        },
        "xaxis6": {
         "anchor": "y6",
         "domain": [
          0.46280991735537186,
          0.5371900826446281
         ]
        },
        "xaxis7": {
         "anchor": "y7",
         "domain": [
          0.5553719008264462,
          0.6297520661157023
         ]
        },
        "xaxis8": {
         "anchor": "y8",
         "domain": [
          0.6479338842975206,
          0.7223140495867768
         ]
        },
        "xaxis9": {
         "anchor": "y9",
         "domain": [
          0.740495867768595,
          0.8148760330578512
         ]
        },
        "yaxis": {
         "anchor": "x",
         "autorange": "reversed",
         "domain": [
          0.7777777777777778,
          1
         ]
        },
        "yaxis10": {
         "anchor": "x10",
         "autorange": "reversed",
         "domain": [
          0.7777777777777778,
          1
         ]
        },
        "yaxis11": {
         "anchor": "x11",
         "autorange": "reversed",
         "domain": [
          0.7777777777777778,
          1
         ]
        },
        "yaxis12": {
         "anchor": "x12",
         "autorange": "reversed",
         "domain": [
          0.3888888888888889,
          0.6111111111111112
         ]
        },
        "yaxis13": {
         "anchor": "x13",
         "autorange": "reversed",
         "domain": [
          0.3888888888888889,
          0.6111111111111112
         ]
        },
        "yaxis14": {
         "anchor": "x14",
         "autorange": "reversed",
         "domain": [
          0.3888888888888889,
          0.6111111111111112
         ]
        },
        "yaxis15": {
         "anchor": "x15",
         "autorange": "reversed",
         "domain": [
          0.3888888888888889,
          0.6111111111111112
         ]
        },
        "yaxis16": {
         "anchor": "x16",
         "autorange": "reversed",
         "domain": [
          0.3888888888888889,
          0.6111111111111112
         ]
        },
        "yaxis17": {
         "anchor": "x17",
         "autorange": "reversed",
         "domain": [
          0.3888888888888889,
          0.6111111111111112
         ]
        },
        "yaxis18": {
         "anchor": "x18",
         "autorange": "reversed",
         "domain": [
          0.3888888888888889,
          0.6111111111111112
         ]
        },
        "yaxis19": {
         "anchor": "x19",
         "autorange": "reversed",
         "domain": [
          0.3888888888888889,
          0.6111111111111112
         ]
        },
        "yaxis2": {
         "anchor": "x2",
         "autorange": "reversed",
         "domain": [
          0.7777777777777778,
          1
         ]
        },
        "yaxis20": {
         "anchor": "x20",
         "autorange": "reversed",
         "domain": [
          0.3888888888888889,
          0.6111111111111112
         ]
        },
        "yaxis21": {
         "anchor": "x21",
         "autorange": "reversed",
         "domain": [
          0.3888888888888889,
          0.6111111111111112
         ]
        },
        "yaxis22": {
         "anchor": "x22",
         "autorange": "reversed",
         "domain": [
          0.3888888888888889,
          0.6111111111111112
         ]
        },
        "yaxis23": {
         "anchor": "x23",
         "autorange": "reversed",
         "domain": [
          0,
          0.22222222222222224
         ]
        },
        "yaxis24": {
         "anchor": "x24",
         "autorange": "reversed",
         "domain": [
          0,
          0.22222222222222224
         ]
        },
        "yaxis25": {
         "anchor": "x25",
         "autorange": "reversed",
         "domain": [
          0,
          0.22222222222222224
         ]
        },
        "yaxis26": {
         "anchor": "x26",
         "autorange": "reversed",
         "domain": [
          0,
          0.22222222222222224
         ]
        },
        "yaxis27": {
         "anchor": "x27",
         "autorange": "reversed",
         "domain": [
          0,
          0.22222222222222224
         ]
        },
        "yaxis28": {
         "anchor": "x28",
         "autorange": "reversed",
         "domain": [
          0,
          0.22222222222222224
         ]
        },
        "yaxis29": {
         "anchor": "x29",
         "autorange": "reversed",
         "domain": [
          0,
          0.22222222222222224
         ]
        },
        "yaxis3": {
         "anchor": "x3",
         "autorange": "reversed",
         "domain": [
          0.7777777777777778,
          1
         ]
        },
        "yaxis30": {
         "anchor": "x30",
         "autorange": "reversed",
         "domain": [
          0,
          0.22222222222222224
         ]
        },
        "yaxis31": {
         "anchor": "x31",
         "autorange": "reversed",
         "domain": [
          0,
          0.22222222222222224
         ]
        },
        "yaxis32": {
         "anchor": "x32",
         "autorange": "reversed",
         "domain": [
          0,
          0.22222222222222224
         ]
        },
        "yaxis33": {
         "anchor": "x33",
         "autorange": "reversed",
         "domain": [
          0,
          0.22222222222222224
         ]
        },
        "yaxis4": {
         "anchor": "x4",
         "autorange": "reversed",
         "domain": [
          0.7777777777777778,
          1
         ]
        },
        "yaxis5": {
         "anchor": "x5",
         "autorange": "reversed",
         "domain": [
          0.7777777777777778,
          1
         ]
        },
        "yaxis6": {
         "anchor": "x6",
         "autorange": "reversed",
         "domain": [
          0.7777777777777778,
          1
         ]
        },
        "yaxis7": {
         "anchor": "x7",
         "autorange": "reversed",
         "domain": [
          0.7777777777777778,
          1
         ]
        },
        "yaxis8": {
         "anchor": "x8",
         "autorange": "reversed",
         "domain": [
          0.7777777777777778,
          1
         ]
        },
        "yaxis9": {
         "anchor": "x9",
         "autorange": "reversed",
         "domain": [
          0.7777777777777778,
          1
         ]
        }
       }
      }
     },
     "metadata": {},
     "output_type": "display_data"
    }
   ],
   "source": [
    "fig = make_subplots(rows=3, cols=11, subplot_titles=[\"input\", *[str(x) for x in range(10)]])\n",
    "\n",
    "for i in range(3):\n",
    "    fig_i = px.imshow(shap_values.data[i, 0].numpy())\n",
    "    fig.add_trace(fig_i[\"data\"][0], row=i+1, col=1)\n",
    "    fig.update_yaxes(autorange=\"reversed\", row=i+1, col=1)\n",
    "\n",
    "    for j in range(0, 10):\n",
    "        fig_ij = px.imshow(shap_values.values[i, 0, :, :, j])\n",
    "        fig.add_trace(fig_ij[\"data\"][0], row=i+1, col=j+2)\n",
    "        fig.update_coloraxes(colorscale=\"Plasma\", row=i+1, col=j+2)\n",
    "        fig.update_yaxes(autorange=\"reversed\", row=i+1, col=j+2)\n",
    "\n",
    "fig.update_coloraxes(colorscale=\"RdBu\", cmin=-0.1, cmax=0.1)\n",
    "fig.update_layout(width=1500, height=600)\n",
    "fig"
   ]
  },
  {
   "cell_type": "markdown",
   "metadata": {},
   "source": [
    "### Spend your time wisely\n",
    "\n",
    "Recommend starting to solve a project by trying classical CV approached. If they prove to be unreliable, or fail to generalise well, then explore deep learning solutions.\n",
    "\n",
    "Explore existing implementations before building a custom implementation/modification of a deep learning model. Large repositories exist of models implemented from research papers, with pre-trained backbones; e.g.: https://github.com/qubvel-org/segmentation_models.pytorch\n",
    "\n",
    "To improve model performance, typically your time is better spent improving your dataset (more data, cleaner data, simplifying the problem, synthetic augmentation) than developing a custom model."
   ]
  },
  {
   "cell_type": "markdown",
   "metadata": {},
   "source": []
  }
 ],
 "metadata": {
  "kernelspec": {
   "display_name": "ml_pipelines",
   "language": "python",
   "name": "python3"
  },
  "language_info": {
   "codemirror_mode": {
    "name": "ipython",
    "version": 3
   },
   "file_extension": ".py",
   "mimetype": "text/x-python",
   "name": "python",
   "nbconvert_exporter": "python",
   "pygments_lexer": "ipython3",
   "version": "3.10.12"
  },
  "orig_nbformat": 4
 },
 "nbformat": 4,
 "nbformat_minor": 2
}
